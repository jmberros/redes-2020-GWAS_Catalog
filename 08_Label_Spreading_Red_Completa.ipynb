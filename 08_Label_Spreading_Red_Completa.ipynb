{
 "cells": [
  {
   "cell_type": "markdown",
   "metadata": {},
   "source": [
    "Vamos a intentar usar el código de la notebook `Priorizacion_con_red_chiquita` para la red completa de la notebook `05` o alguna subred interesante de ella."
   ]
  },
  {
   "cell_type": "code",
   "execution_count": 1,
   "metadata": {},
   "outputs": [
    {
     "name": "stderr",
     "output_type": "stream",
     "text": [
      "/home/juan/miniconda3/lib/python3.7/site-packages/tqdm/std.py:658: FutureWarning: The Panel class is removed from pandas. Accessing it from the top-level namespace will also be removed in the next version\n",
      "  from pandas import Panel\n"
     ]
    }
   ],
   "source": [
    "%run imports.py\n",
    "%run utils.py\n",
    "%run leer_red.py"
   ]
  },
  {
   "cell_type": "code",
   "execution_count": 2,
   "metadata": {},
   "outputs": [
    {
     "name": "stdout",
     "output_type": "stream",
     "text": [
      "37,823 nodos en la red\n",
      "226,723 enlaces en la red\n",
      "CPU times: user 19.4 s, sys: 373 ms, total: 19.8 s\n",
      "Wall time: 19.7 s\n"
     ]
    }
   ],
   "source": [
    "%%time\n",
    "\n",
    "red = leer_subred_nx() # Tarda ~20s\n",
    "red_df = leer_subred_df()\n",
    "\n",
    "print(f\"{red.number_of_nodes():,} nodos en la red\")\n",
    "print(f\"{red.number_of_edges():,} enlaces en la red\")"
   ]
  },
  {
   "cell_type": "code",
   "execution_count": 3,
   "metadata": {},
   "outputs": [
    {
     "data": {
      "text/plain": [
       "'11.44 GB'"
      ]
     },
     "execution_count": 3,
     "metadata": {},
     "output_type": "execute_result"
    }
   ],
   "source": [
    "adj_matrix = nx.adj_matrix(red).toarray()\n",
    "adj_matrix.shape"
   ]
  },
  {
   "cell_type": "code",
   "execution_count": 4,
   "metadata": {},
   "outputs": [
    {
     "data": {
      "text/plain": [
       "General cognitive ability                                                           1255\n",
       "Schizophrenia                                                                       1086\n",
       "Type 2 diabetes                                                                      938\n",
       "Breast cancer                                                                        839\n",
       "Intelligence (MTAG)                                                                  645\n",
       "Multiple sclerosis                                                                   581\n",
       "Coronary artery disease                                                              533\n",
       "Systemic lupus erythematosus                                                         445\n",
       "Crohn's disease                                                                      316\n",
       "Bipolar disorder                                                                     302\n",
       "Autism spectrum disorder or schizophrenia                                            301\n",
       "Colorectal cancer                                                                    286\n",
       "Inflammatory bowel disease                                                           238\n",
       "Cognitive ability, years of educational attainment or schizophrenia (pleiotropy)     235\n",
       "Ulcerative colitis                                                                   218\n",
       "Prostate cancer                                                                      217\n",
       "Atrial fibrillation                                                                  213\n",
       "Hypertension                                                                         206\n",
       "Psoriasis                                                                            197\n",
       "Major depressive disorder                                                            187\n",
       "Name: fenotipo, dtype: int64"
      ]
     },
     "execution_count": 4,
     "metadata": {},
     "output_type": "execute_result"
    }
   ],
   "source": [
    "red_df.fenotipo.value_counts().head(20)"
   ]
  },
  {
   "cell_type": "code",
   "execution_count": 11,
   "metadata": {},
   "outputs": [
    {
     "data": {
      "text/plain": [
       "'11.44 GB'"
      ]
     },
     "execution_count": 11,
     "metadata": {},
     "output_type": "execute_result"
    }
   ],
   "source": [
    "import sys\n",
    "from humanfriendly import format_size\n",
    "\n",
    "format_size(sys.getsizeof(adj_matrix))"
   ]
  },
  {
   "cell_type": "code",
   "execution_count": 5,
   "metadata": {},
   "outputs": [
    {
     "name": "stderr",
     "output_type": "stream",
     "text": [
      "Iteración:   4%|▍         | 38/1000 [00:03<01:32, 10.44it/s]\n"
     ]
    },
    {
     "name": "stdout",
     "output_type": "stream",
     "text": [
      "The method stopped after 39 iterations, variation=0.0009.\n"
     ]
    }
   ],
   "source": [
    "fenos_entrada = [\n",
    "    \"General cognitive ability\"\n",
    "]\n",
    "\n",
    "#\n",
    "#\n",
    "# OJO: Esto tiene un pico fuerte de uso de RAM! ~12 Gb\n",
    "#\n",
    "#\n",
    "\n",
    "TENGO_MUCHA_RAM = False\n",
    "\n",
    "if TENGO_MUCHA_RAM:\n",
    "    \n",
    "    labels = [0 if nodo in fenos_entrada else -1\n",
    "              for nodo in red.nodes()]\n",
    "\n",
    "    # En este paso la matriz original ocupa la RAM:\n",
    "    adj_matrix_t = torch.FloatTensor(adj_matrix)\n",
    "\n",
    "    # Al instanciarse LabelSpreading, normaliza la matriz y\n",
    "    # ahora hay dos matrices en memoria:\n",
    "    label_spreading = LabelSpreading(adj_matrix_t)\n",
    "\n",
    "    labels_t = torch.LongTensor(labels)\n",
    "    label_spreading.fit(labels_t, alpha=.8)\n",
    "\n",
    "    # Borramos las referencias a las dos matrices, este paso libera la RAM:\n",
    "    del adj_matrix_t\n",
    "    label_spreading.norm_adj_matrix = None"
   ]
  },
  {
   "cell_type": "code",
   "execution_count": 13,
   "metadata": {},
   "outputs": [
    {
     "name": "stderr",
     "output_type": "stream",
     "text": [
      "/home/juan/miniconda3/lib/python3.7/site-packages/pandas/core/base.py:1145: RuntimeWarning: divide by zero encountered in log10\n",
      "  new_values = map_f(values, mapper)\n"
     ]
    },
    {
     "data": {
      "text/html": [
       "<div>\n",
       "<style scoped>\n",
       "    .dataframe tbody tr th:only-of-type {\n",
       "        vertical-align: middle;\n",
       "    }\n",
       "\n",
       "    .dataframe tbody tr th {\n",
       "        vertical-align: top;\n",
       "    }\n",
       "\n",
       "    .dataframe thead th {\n",
       "        text-align: right;\n",
       "    }\n",
       "</style>\n",
       "<table border=\"1\" class=\"dataframe\">\n",
       "  <thead>\n",
       "    <tr style=\"text-align: right;\">\n",
       "      <th></th>\n",
       "      <th>nodo</th>\n",
       "      <th>prediccion</th>\n",
       "      <th>es_fenotipo</th>\n",
       "      <th>categoria_fenotipo</th>\n",
       "      <th>prediccion_log10</th>\n",
       "    </tr>\n",
       "  </thead>\n",
       "  <tbody>\n",
       "    <tr>\n",
       "      <th>27612</th>\n",
       "      <td>General cognitive ability</td>\n",
       "      <td>0.376402</td>\n",
       "      <td>True</td>\n",
       "      <td>Neuro/Cogni/Emo</td>\n",
       "      <td>-0.424348</td>\n",
       "    </tr>\n",
       "    <tr>\n",
       "      <th>28193</th>\n",
       "      <td>Intelligence (MTAG)</td>\n",
       "      <td>0.019433</td>\n",
       "      <td>True</td>\n",
       "      <td>Neuro/Cogni/Emo</td>\n",
       "      <td>-1.711455</td>\n",
       "    </tr>\n",
       "    <tr>\n",
       "      <th>36004</th>\n",
       "      <td>Cognitive ability, years of educational attainment or schizophrenia (pleiotropy)</td>\n",
       "      <td>0.002958</td>\n",
       "      <td>True</td>\n",
       "      <td>Neurological disorder</td>\n",
       "      <td>-2.529052</td>\n",
       "    </tr>\n",
       "    <tr>\n",
       "      <th>35441</th>\n",
       "      <td>Autism and educational attainment (MTAG)</td>\n",
       "      <td>0.002454</td>\n",
       "      <td>True</td>\n",
       "      <td>Neurological disorder</td>\n",
       "      <td>-2.610211</td>\n",
       "    </tr>\n",
       "    <tr>\n",
       "      <th>37213</th>\n",
       "      <td>Schizophrenia</td>\n",
       "      <td>0.001876</td>\n",
       "      <td>True</td>\n",
       "      <td>Neurological disorder</td>\n",
       "      <td>-2.726694</td>\n",
       "    </tr>\n",
       "    <tr>\n",
       "      <th>27600</th>\n",
       "      <td>Extremely high intelligence</td>\n",
       "      <td>0.001776</td>\n",
       "      <td>True</td>\n",
       "      <td>Neuro/Cogni/Emo</td>\n",
       "      <td>-2.750489</td>\n",
       "    </tr>\n",
       "    <tr>\n",
       "      <th>27503</th>\n",
       "      <td>Adventurousness</td>\n",
       "      <td>0.001438</td>\n",
       "      <td>True</td>\n",
       "      <td>Neuro/Cogni/Emo</td>\n",
       "      <td>-2.842105</td>\n",
       "    </tr>\n",
       "    <tr>\n",
       "      <th>35444</th>\n",
       "      <td>Autism and major depressive disorder (MTAG)</td>\n",
       "      <td>0.001367</td>\n",
       "      <td>True</td>\n",
       "      <td>Neurological disorder</td>\n",
       "      <td>-2.864102</td>\n",
       "    </tr>\n",
       "    <tr>\n",
       "      <th>32338</th>\n",
       "      <td>Gastroesophageal reflux disease</td>\n",
       "      <td>0.001220</td>\n",
       "      <td>True</td>\n",
       "      <td>Digestive system disorder</td>\n",
       "      <td>-2.913713</td>\n",
       "    </tr>\n",
       "    <tr>\n",
       "      <th>36132</th>\n",
       "      <td>Depressed affect</td>\n",
       "      <td>0.001196</td>\n",
       "      <td>True</td>\n",
       "      <td>Neurological disorder</td>\n",
       "      <td>-2.922256</td>\n",
       "    </tr>\n",
       "  </tbody>\n",
       "</table>\n",
       "</div>"
      ],
      "text/plain": [
       "                                                                                   nodo  \\\n",
       "27612                                                         General cognitive ability   \n",
       "28193                                                               Intelligence (MTAG)   \n",
       "36004  Cognitive ability, years of educational attainment or schizophrenia (pleiotropy)   \n",
       "35441                                          Autism and educational attainment (MTAG)   \n",
       "37213                                                                     Schizophrenia   \n",
       "27600                                                       Extremely high intelligence   \n",
       "27503                                                                   Adventurousness   \n",
       "35444                                       Autism and major depressive disorder (MTAG)   \n",
       "32338                                                   Gastroesophageal reflux disease   \n",
       "36132                                                                  Depressed affect   \n",
       "\n",
       "       prediccion  es_fenotipo         categoria_fenotipo  prediccion_log10  \n",
       "27612    0.376402         True            Neuro/Cogni/Emo         -0.424348  \n",
       "28193    0.019433         True            Neuro/Cogni/Emo         -1.711455  \n",
       "36004    0.002958         True      Neurological disorder         -2.529052  \n",
       "35441    0.002454         True      Neurological disorder         -2.610211  \n",
       "37213    0.001876         True      Neurological disorder         -2.726694  \n",
       "27600    0.001776         True            Neuro/Cogni/Emo         -2.750489  \n",
       "27503    0.001438         True            Neuro/Cogni/Emo         -2.842105  \n",
       "35444    0.001367         True      Neurological disorder         -2.864102  \n",
       "32338    0.001220         True  Digestive system disorder         -2.913713  \n",
       "36132    0.001196         True      Neurological disorder         -2.922256  "
      ]
     },
     "execution_count": 13,
     "metadata": {},
     "output_type": "execute_result"
    }
   ],
   "source": [
    "spreading = pd.DataFrame({\n",
    "    \"nodo\": red.nodes(),\n",
    "    \"prediccion\": label_spreading.flat_predictions,\n",
    "})\n",
    "\n",
    "feno_a_categoria = red_df.set_index(\"fenotipo\").categoria_fenotipo.to_dict()\n",
    "\n",
    "spreading = spreading.sort_values(by=\"prediccion\", ascending=False)\n",
    "spreading[\"es_fenotipo\"] = spreading.nodo.isin(red_df.fenotipo)\n",
    "spreading[\"categoria_fenotipo\"] = spreading.nodo.map(feno_a_categoria)\n",
    "spreading[\"prediccion_log10\"] = spreading.prediccion.map(np.log10)\n",
    "\n",
    "spreading.query(\"es_fenotipo\").head(10)"
   ]
  },
  {
   "cell_type": "code",
   "execution_count": 14,
   "metadata": {},
   "outputs": [
    {
     "name": "stderr",
     "output_type": "stream",
     "text": [
      "*c* argument looks like a single numeric RGB or RGBA sequence, which should be avoided as value-mapping will have precedence in case its length matches with *x* & *y*.  Please use the *color* keyword-argument or provide a 2-D array with a single row if you intend to specify the same RGB or RGBA value for all points.\n"
     ]
    },
    {
     "data": {
      "text/plain": [
       "[]"
      ]
     },
     "execution_count": 14,
     "metadata": {},
     "output_type": "execute_result"
    },
    {
     "data": {
      "image/png": "[encoded data removed]",
      "text/plain": [
       "<Figure size 432x288 with 1 Axes>"
      ]
     },
     "metadata": {},
     "output_type": "display_data"
    }
   ],
   "source": [
    "ax = spreading.query(\"es_fenotipo\").head(100).plot.scatter(x=\"nodo\", y=\"prediccion_log10\")\n",
    "ax.set_title(f\"Fenos entrada:\\n{fenos_entrada}\")\n",
    "ax.set_xticks([])"
   ]
  },
  {
   "cell_type": "code",
   "execution_count": null,
   "metadata": {},
   "outputs": [],
   "source": []
  },
  {
   "cell_type": "code",
   "execution_count": null,
   "metadata": {},
   "outputs": [],
   "source": []
  },
  {
   "cell_type": "code",
   "execution_count": null,
   "metadata": {},
   "outputs": [],
   "source": []
  },
  {
   "cell_type": "code",
   "execution_count": null,
   "metadata": {},
   "outputs": [],
   "source": []
  },
  {
   "cell_type": "code",
   "execution_count": null,
   "metadata": {},
   "outputs": [],
   "source": []
  },
  {
   "cell_type": "code",
   "execution_count": null,
   "metadata": {},
   "outputs": [],
   "source": []
  },
  {
   "cell_type": "code",
   "execution_count": null,
   "metadata": {},
   "outputs": [],
   "source": []
  },
  {
   "cell_type": "code",
   "execution_count": null,
   "metadata": {},
   "outputs": [],
   "source": []
  },
  {
   "cell_type": "code",
   "execution_count": null,
   "metadata": {},
   "outputs": [],
   "source": []
  },
  {
   "cell_type": "code",
   "execution_count": null,
   "metadata": {},
   "outputs": [],
   "source": []
  },
  {
   "cell_type": "code",
   "execution_count": null,
   "metadata": {},
   "outputs": [],
   "source": []
  },
  {
   "cell_type": "code",
   "execution_count": null,
   "metadata": {},
   "outputs": [],
   "source": []
  },
  {
   "cell_type": "code",
   "execution_count": null,
   "metadata": {},
   "outputs": [],
   "source": []
  },
  {
   "cell_type": "code",
   "execution_count": null,
   "metadata": {},
   "outputs": [],
   "source": []
  },
  {
   "cell_type": "code",
   "execution_count": null,
   "metadata": {},
   "outputs": [],
   "source": []
  },
  {
   "cell_type": "code",
   "execution_count": null,
   "metadata": {},
   "outputs": [],
   "source": []
  },
  {
   "cell_type": "code",
   "execution_count": null,
   "metadata": {},
   "outputs": [],
   "source": []
  },
  {
   "cell_type": "code",
   "execution_count": null,
   "metadata": {},
   "outputs": [],
   "source": []
  },
  {
   "cell_type": "code",
   "execution_count": null,
   "metadata": {},
   "outputs": [],
   "source": []
  },
  {
   "cell_type": "code",
   "execution_count": null,
   "metadata": {},
   "outputs": [],
   "source": []
  },
  {
   "cell_type": "code",
   "execution_count": null,
   "metadata": {},
   "outputs": [],
   "source": []
  }
 ],
 "metadata": {
  "kernelspec": {
   "display_name": "Python 3",
   "language": "python",
   "name": "python3"
  },
  "language_info": {
   "codemirror_mode": {
    "name": "ipython",
    "version": 3
   },
   "file_extension": ".py",
   "mimetype": "text/x-python",
   "name": "python",
   "nbconvert_exporter": "python",
   "pygments_lexer": "ipython3",
   "version": "3.7.6"
  }
 },
 "nbformat": 4,
 "nbformat_minor": 4
}
