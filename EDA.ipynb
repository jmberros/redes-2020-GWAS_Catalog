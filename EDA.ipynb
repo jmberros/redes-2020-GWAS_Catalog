{
 "cells": [
  {
   "cell_type": "code",
   "execution_count": 1,
   "metadata": {},
   "outputs": [],
   "source": [
    "import pandas as pd\n",
    "import numpy as np\n",
    "import matplotlib.pyplot as plt\n",
    "import seaborn as sns\n",
    "sns.set()"
   ]
  },
  {
   "cell_type": "code",
   "execution_count": 2,
   "metadata": {},
   "outputs": [],
   "source": [
    "data_dir = 'results/'"
   ]
  },
  {
   "cell_type": "code",
   "execution_count": 3,
   "metadata": {},
   "outputs": [],
   "source": [
    "data = pd.read_csv(data_dir + 'GwasCat_associations.r2020-05-03.parsed.csv.gz')"
   ]
  },
  {
   "cell_type": "code",
   "execution_count": 4,
   "metadata": {},
   "outputs": [
    {
     "data": {
      "text/html": [
       "<div>\n",
       "<style scoped>\n",
       "    .dataframe tbody tr th:only-of-type {\n",
       "        vertical-align: middle;\n",
       "    }\n",
       "\n",
       "    .dataframe tbody tr th {\n",
       "        vertical-align: top;\n",
       "    }\n",
       "\n",
       "    .dataframe thead th {\n",
       "        text-align: right;\n",
       "    }\n",
       "</style>\n",
       "<table border=\"1\" class=\"dataframe\">\n",
       "  <thead>\n",
       "    <tr style=\"text-align: right;\">\n",
       "      <th></th>\n",
       "      <th>categoria_fenotipo</th>\n",
       "      <th>fenotipo</th>\n",
       "      <th>crom</th>\n",
       "      <th>pos</th>\n",
       "      <th>genes_reportados</th>\n",
       "      <th>genes_mapeados</th>\n",
       "      <th>alelo_riesgo</th>\n",
       "      <th>contexto</th>\n",
       "      <th>es_intergenico</th>\n",
       "      <th>frec_alelo_riesgo</th>\n",
       "      <th>p_value</th>\n",
       "      <th>OR_or_beta</th>\n",
       "      <th>conf_int_95</th>\n",
       "      <th>EFO_URI</th>\n",
       "    </tr>\n",
       "  </thead>\n",
       "  <tbody>\n",
       "    <tr>\n",
       "      <th>0</th>\n",
       "      <td>Digestive system disorder</td>\n",
       "      <td>Crohn's disease</td>\n",
       "      <td>10</td>\n",
       "      <td>6060049</td>\n",
       "      <td>IL2RA</td>\n",
       "      <td>IL2RA</td>\n",
       "      <td>rs12722489-C</td>\n",
       "      <td>intron_variant</td>\n",
       "      <td>False</td>\n",
       "      <td>0.852</td>\n",
       "      <td>3E-9</td>\n",
       "      <td>1.11</td>\n",
       "      <td>[1.05-1.16]</td>\n",
       "      <td>http://www.ebi.ac.uk/efo/EFO_0000384</td>\n",
       "    </tr>\n",
       "    <tr>\n",
       "      <th>1</th>\n",
       "      <td>Digestive system disorder</td>\n",
       "      <td>Crohn's disease</td>\n",
       "      <td>16</td>\n",
       "      <td>28479196</td>\n",
       "      <td>IL27, SH2B1, EIF3C, LAT, CD19</td>\n",
       "      <td>CLN3, AC138894.1</td>\n",
       "      <td>rs151181-G</td>\n",
       "      <td>intron_variant</td>\n",
       "      <td>False</td>\n",
       "      <td>0.386</td>\n",
       "      <td>2E-11</td>\n",
       "      <td>1.07</td>\n",
       "      <td>[1.03-1.12]</td>\n",
       "      <td>http://www.ebi.ac.uk/efo/EFO_0000384</td>\n",
       "    </tr>\n",
       "    <tr>\n",
       "      <th>2</th>\n",
       "      <td>Digestive system disorder</td>\n",
       "      <td>Crohn's disease</td>\n",
       "      <td>1</td>\n",
       "      <td>67240275</td>\n",
       "      <td>IL23R</td>\n",
       "      <td>IL23R</td>\n",
       "      <td>rs11209026-G</td>\n",
       "      <td>missense_variant</td>\n",
       "      <td>False</td>\n",
       "      <td>0.932</td>\n",
       "      <td>1E-64</td>\n",
       "      <td>2.66</td>\n",
       "      <td>[2.36-3.00]</td>\n",
       "      <td>http://www.ebi.ac.uk/efo/EFO_0000384</td>\n",
       "    </tr>\n",
       "    <tr>\n",
       "      <th>3</th>\n",
       "      <td>Digestive system disorder</td>\n",
       "      <td>Crohn's disease</td>\n",
       "      <td>2</td>\n",
       "      <td>102437989</td>\n",
       "      <td>IL12RL2, IL18R1, IL1RL1, IL18RAP</td>\n",
       "      <td>IL18RAP</td>\n",
       "      <td>rs2058660-G</td>\n",
       "      <td>intron_variant</td>\n",
       "      <td>False</td>\n",
       "      <td>0.231</td>\n",
       "      <td>2E-12</td>\n",
       "      <td>1.19</td>\n",
       "      <td>[1.14-1.26]</td>\n",
       "      <td>http://www.ebi.ac.uk/efo/EFO_0000384</td>\n",
       "    </tr>\n",
       "    <tr>\n",
       "      <th>4</th>\n",
       "      <td>Digestive system disorder</td>\n",
       "      <td>Crohn's disease</td>\n",
       "      <td>5</td>\n",
       "      <td>159360377</td>\n",
       "      <td>IL12B</td>\n",
       "      <td>AC008691.1</td>\n",
       "      <td>rs6556412-A</td>\n",
       "      <td>intron_variant</td>\n",
       "      <td>False</td>\n",
       "      <td>0.332</td>\n",
       "      <td>5E-14</td>\n",
       "      <td>1.18</td>\n",
       "      <td>[1.13-1.24]</td>\n",
       "      <td>http://www.ebi.ac.uk/efo/EFO_0000384</td>\n",
       "    </tr>\n",
       "  </tbody>\n",
       "</table>\n",
       "</div>"
      ],
      "text/plain": [
       "          categoria_fenotipo         fenotipo crom        pos  \\\n",
       "0  Digestive system disorder  Crohn's disease   10    6060049   \n",
       "1  Digestive system disorder  Crohn's disease   16   28479196   \n",
       "2  Digestive system disorder  Crohn's disease    1   67240275   \n",
       "3  Digestive system disorder  Crohn's disease    2  102437989   \n",
       "4  Digestive system disorder  Crohn's disease    5  159360377   \n",
       "\n",
       "                   genes_reportados    genes_mapeados  alelo_riesgo  \\\n",
       "0                             IL2RA             IL2RA  rs12722489-C   \n",
       "1     IL27, SH2B1, EIF3C, LAT, CD19  CLN3, AC138894.1    rs151181-G   \n",
       "2                             IL23R             IL23R  rs11209026-G   \n",
       "3  IL12RL2, IL18R1, IL1RL1, IL18RAP           IL18RAP   rs2058660-G   \n",
       "4                             IL12B        AC008691.1   rs6556412-A   \n",
       "\n",
       "           contexto  es_intergenico frec_alelo_riesgo p_value  OR_or_beta  \\\n",
       "0    intron_variant           False             0.852    3E-9        1.11   \n",
       "1    intron_variant           False             0.386   2E-11        1.07   \n",
       "2  missense_variant           False             0.932   1E-64        2.66   \n",
       "3    intron_variant           False             0.231   2E-12        1.19   \n",
       "4    intron_variant           False             0.332   5E-14        1.18   \n",
       "\n",
       "   conf_int_95                               EFO_URI  \n",
       "0  [1.05-1.16]  http://www.ebi.ac.uk/efo/EFO_0000384  \n",
       "1  [1.03-1.12]  http://www.ebi.ac.uk/efo/EFO_0000384  \n",
       "2  [2.36-3.00]  http://www.ebi.ac.uk/efo/EFO_0000384  \n",
       "3  [1.14-1.26]  http://www.ebi.ac.uk/efo/EFO_0000384  \n",
       "4  [1.13-1.24]  http://www.ebi.ac.uk/efo/EFO_0000384  "
      ]
     },
     "execution_count": 4,
     "metadata": {},
     "output_type": "execute_result"
    }
   ],
   "source": [
    "data.head()"
   ]
  },
  {
   "cell_type": "code",
   "execution_count": 5,
   "metadata": {},
   "outputs": [
    {
     "data": {
      "text/plain": [
       "(185724, 14)"
      ]
     },
     "execution_count": 5,
     "metadata": {},
     "output_type": "execute_result"
    }
   ],
   "source": [
    "data.shape"
   ]
  },
  {
   "cell_type": "markdown",
   "metadata": {},
   "source": [
    "Seleccionamos aquellas instancias que tienen en la columna `alelo_riesgo` un SNP."
   ]
  },
  {
   "cell_type": "code",
   "execution_count": 6,
   "metadata": {},
   "outputs": [
    {
     "data": {
      "text/plain": [
       "(177917, 14)"
      ]
     },
     "execution_count": 6,
     "metadata": {},
     "output_type": "execute_result"
    }
   ],
   "source": [
    "mask_snps = data.alelo_riesgo.str.match(\"^rs[0-9]+-[ATCG\\?]$\")\n",
    "data = data[mask_snps]\n",
    "data.shape"
   ]
  },
  {
   "cell_type": "markdown",
   "metadata": {},
   "source": [
    "Miramos y descartamos valores faltantes"
   ]
  },
  {
   "cell_type": "code",
   "execution_count": 7,
   "metadata": {},
   "outputs": [
    {
     "data": {
      "text/plain": [
       "categoria_fenotipo       65\n",
       "fenotipo                  0\n",
       "crom                   2558\n",
       "pos                    2558\n",
       "genes_reportados      20581\n",
       "genes_mapeados         2558\n",
       "alelo_riesgo              0\n",
       "contexto               2548\n",
       "es_intergenico            0\n",
       "frec_alelo_riesgo     10608\n",
       "p_value                   0\n",
       "OR_or_beta            38474\n",
       "conf_int_95           41123\n",
       "EFO_URI                  65\n",
       "dtype: int64"
      ]
     },
     "execution_count": 7,
     "metadata": {},
     "output_type": "execute_result"
    }
   ],
   "source": [
    "data.isna().sum()"
   ]
  },
  {
   "cell_type": "code",
   "execution_count": 8,
   "metadata": {},
   "outputs": [
    {
     "data": {
      "text/plain": [
       "(139443, 14)"
      ]
     },
     "execution_count": 8,
     "metadata": {},
     "output_type": "execute_result"
    }
   ],
   "source": [
    "# data.isna().sum()\n",
    "data.dropna(subset = ['OR_or_beta'], inplace = True)\n",
    "data.shape"
   ]
  },
  {
   "cell_type": "code",
   "execution_count": 9,
   "metadata": {},
   "outputs": [
    {
     "data": {
      "text/plain": [
       "categoria_fenotipo      65\n",
       "fenotipo                 0\n",
       "crom                  2061\n",
       "pos                   2061\n",
       "genes_reportados      6457\n",
       "genes_mapeados        2061\n",
       "alelo_riesgo             0\n",
       "contexto              2056\n",
       "es_intergenico           0\n",
       "frec_alelo_riesgo     5905\n",
       "p_value                  0\n",
       "OR_or_beta               0\n",
       "conf_int_95           2917\n",
       "EFO_URI                 65\n",
       "dtype: int64"
      ]
     },
     "execution_count": 9,
     "metadata": {},
     "output_type": "execute_result"
    }
   ],
   "source": [
    "data.isna().sum()"
   ]
  },
  {
   "cell_type": "code",
   "execution_count": 38,
   "metadata": {},
   "outputs": [
    {
     "name": "stdout",
     "output_type": "stream",
     "text": [
      "categoria_fenotipo\n",
      "17\n",
      "Other measurement                   63834\n",
      "Lipid or lipoprotein measurement     8456\n",
      "Hematological measurement            8144\n",
      "Biological process                   8038\n",
      "Body measurement                     7638\n",
      "Neurological disorder                6798\n",
      "Cancer                               6316\n",
      "Other trait                          4832\n",
      "Other disease                        4282\n",
      "Cardiovascular measurement           3685\n",
      "Immune system disorder               3649\n",
      "Response to drug                     3505\n",
      "Cardiovascular disease               3448\n",
      "Metabolic disorder                   3006\n",
      "Digestive system disorder            1904\n",
      "Inflammatory measurement             1519\n",
      "Liver enzyme measurement              322\n",
      "Name: categoria_fenotipo, dtype: int64\n",
      "fenotipo\n",
      "3572\n",
      "Blood protein levels                                    6378\n",
      "Body mass index                                         3399\n",
      "Heel bone mineral density                               3288\n",
      "Metabolite levels                                       2320\n",
      "Height                                                  2283\n",
      "                                                        ... \n",
      "Plasma cystastin c levels in acute coronary syndrome       1\n",
      "Osteonecrosis of the jaw                                   1\n",
      "Plantar fascial disorders                                  1\n",
      "Appendicitis                                               1\n",
      "Lobar intracerebral hemorrhage                             1\n",
      "Name: fenotipo, Length: 3572, dtype: int64\n",
      "crom\n",
      "23\n",
      "2     11942\n",
      "1     11902\n",
      "6     11472\n",
      "3      8617\n",
      "11     8304\n",
      "5      7381\n",
      "4      7106\n",
      "7      6898\n",
      "12     6440\n",
      "17     6395\n",
      "8      6372\n",
      "10     5754\n",
      "19     5645\n",
      "9      5518\n",
      "16     5469\n",
      "15     4915\n",
      "14     3728\n",
      "20     3382\n",
      "18     3139\n",
      "13     2956\n",
      "22     2238\n",
      "21     1111\n",
      "X       696\n",
      "Name: crom, dtype: int64\n",
      "pos\n",
      "85464\n",
      "28367840     712\n",
      "28376663     557\n",
      "27508073     237\n",
      "116778201    126\n",
      "44908822     119\n",
      "            ... \n",
      "12977946       1\n",
      "772701         1\n",
      "96510897       1\n",
      "175727181      1\n",
      "20389247       1\n",
      "Name: pos, Length: 85464, dtype: int64\n",
      "genes_reportados\n",
      "23960\n",
      "NR              30853\n",
      "Intergenic       8505\n",
      "intergenic       5228\n",
      "VTN              1262\n",
      "NLRP12            406\n",
      "                ...  \n",
      "LOC340073           1\n",
      "LOC645324           1\n",
      "DEFB128             1\n",
      "ANKRD60             1\n",
      "RP11-332M4.1        1\n",
      "Name: genes_reportados, Length: 23960, dtype: int64\n",
      "genes_mapeados\n",
      "27441\n",
      "AC002094.1, VTN, AC002094.3, SARM1    712\n",
      "AC002094.1, SARM1                     558\n",
      "GCKR                                  385\n",
      "NLRP12                                344\n",
      "HERPUD1 - CETP                        306\n",
      "                                     ... \n",
      "AC245123.1                              1\n",
      "ENPP1                                   1\n",
      "AL035461.3, CRLS1                       1\n",
      "FRMD3 - RNU4-15P                        1\n",
      "AL132712.1                              1\n",
      "Name: genes_mapeados, Length: 27441, dtype: int64\n",
      "alelo_riesgo\n",
      "95791\n",
      "rs704-A          708\n",
      "rs7212510-A      557\n",
      "rs62143197-A     102\n",
      "rs1260326-?       97\n",
      "rs1260326-T       91\n",
      "                ... \n",
      "rs11088458-?       1\n",
      "rs113714691-T      1\n",
      "rs7073802-A        1\n",
      "rs11465506-A       1\n",
      "rs11838830-G       1\n",
      "Name: alelo_riesgo, Length: 95791, dtype: int64\n",
      "contexto\n",
      "21\n",
      "intron_variant                        78320\n",
      "intergenic_variant                    31055\n",
      "regulatory_region_variant              8237\n",
      "missense_variant                       7084\n",
      "non_coding_transcript_exon_variant     4352\n",
      "3_prime_UTR_variant                    4099\n",
      "5_prime_UTR_variant                    1190\n",
      "TF_binding_site_variant                1157\n",
      "synonymous_variant                     1137\n",
      "splice_region_variant                   423\n",
      "stop_gained                             180\n",
      "splice_donor_variant                     49\n",
      "splice_acceptor_variant                  45\n",
      "frameshift_variant                       25\n",
      "stop_lost                                11\n",
      "start_lost                                6\n",
      "inframe_deletion                          6\n",
      "mature_miRNA_variant                      5\n",
      "inframe_insertion                         2\n",
      "coding_sequence_variant                   1\n",
      "protein_altering_variant                  1\n",
      "Name: contexto, dtype: int64\n",
      "es_intergenico\n",
      "2\n",
      "False    96802\n",
      "True     42639\n",
      "Name: es_intergenico, dtype: int64\n",
      "frec_alelo_riesgo\n",
      "20804\n",
      "NR            38072\n",
      "0.51203125      587\n",
      "0.55078125      555\n",
      "0.01            432\n",
      "0.22            389\n",
      "              ...  \n",
      "0.934279          1\n",
      "0.563166          1\n",
      "0.0761934         1\n",
      "0.99934           1\n",
      "0.845141          1\n",
      "Name: frec_alelo_riesgo, Length: 20804, dtype: int64\n",
      "p_value\n",
      "1994\n",
      "2E-6      5483\n",
      "3E-6      4454\n",
      "2E-8      4142\n",
      "4E-6      3986\n",
      "1E-6      3976\n",
      "          ... \n",
      "4E-315       1\n",
      "5E-343       1\n",
      "5E-114       1\n",
      "7E-96        1\n",
      "7E-251       1\n",
      "Name: p_value, Length: 1994, dtype: int64\n",
      "OR_or_beta\n",
      "51967\n",
      "0.030000    1031\n",
      "1.060000     708\n",
      "1.070000     659\n",
      "0.040000     604\n",
      "1.080000     571\n",
      "            ... \n",
      "0.034419       1\n",
      "0.030395       1\n",
      "0.175472       1\n",
      "1.719600       1\n",
      "0.014656       1\n",
      "Name: OR_or_beta, Length: 51967, dtype: int64\n",
      "conf_int_95\n",
      "37653\n",
      "unit increase                        4740\n",
      "unit decrease                        4013\n",
      "[NR]                                 3755\n",
      "[NR] unit decrease                   3196\n",
      "NR unit increase                     2885\n",
      "                                     ... \n",
      "[0.083-0.121] unit decrease novel       1\n",
      "[1.035-1.06]                            1\n",
      "[1.07-1.28]                             1\n",
      "[1-1.48] unit increase                  1\n",
      "[0.17-0.08] unit decrease               1\n",
      "Name: conf_int_95, Length: 37653, dtype: int64\n",
      "EFO_URI\n",
      "1688\n",
      "http://www.ebi.ac.uk/efo/EFO_0008321         6378\n",
      "http://www.ebi.ac.uk/efo/EFO_0008002         5140\n",
      "http://www.ebi.ac.uk/efo/EFO_0009270         3305\n",
      "http://www.ebi.ac.uk/efo/EFO_0004784         3274\n",
      "http://www.ebi.ac.uk/efo/EFO_0004875         2743\n",
      "                                             ... \n",
      "http://www.ebi.ac.uk/efo/EFO_0009773            1\n",
      "http://purl.obolibrary.org/obo/HP_0000989       1\n",
      "http://www.ebi.ac.uk/efo/EFO_0010271            1\n",
      "http://www.ebi.ac.uk/efo/EFO_0009766            1\n",
      "http://www.ebi.ac.uk/efo/EFO_0007949            1\n",
      "Name: EFO_URI, Length: 1688, dtype: int64\n"
     ]
    }
   ],
   "source": [
    "for column in data.columns:\n",
    "    print(column)\n",
    "    print(len(data[column].value_counts()))\n",
    "    print(data[column].value_counts())"
   ]
  },
  {
   "cell_type": "code",
   "execution_count": 22,
   "metadata": {},
   "outputs": [],
   "source": [
    "genes_reportados_counts = data.genes_reportados.value_counts()[3:100]"
   ]
  },
  {
   "cell_type": "code",
   "execution_count": null,
   "metadata": {},
   "outputs": [],
   "source": [
    "plt.figure(figsize = (15,4))\n",
    "sns.barplot(genes_reportados_counts.index, genes_reportados_counts.values)\n",
    "\n",
    "plt.xticks(rotation = 90)"
   ]
  },
  {
   "cell_type": "code",
   "execution_count": 21,
   "metadata": {},
   "outputs": [
    {
     "data": {
      "text/plain": [
       "HERPUD1 - CETP            306\n",
       "LPL - AC100802.1          270\n",
       "IGFL1P2 - HIF3A           206\n",
       "ABO - Y_RNA               175\n",
       "HLA-DRB1 - HLA-DQA1       174\n",
       "AC093326.1 - TMEM18       146\n",
       "CELSR2 - PSRC1            130\n",
       "PRDM8 - FGF5              129\n",
       "AC062015.1 - MIR5702      124\n",
       "HLA-DQB1 - MTCO3P1        110\n",
       "APOC1 - APOC1P1           100\n",
       "VEGFA - AL157371.2         96\n",
       "APOB - AC010872.2          94\n",
       "CASC20 - LINC01713         88\n",
       "AC108467.1 - THAP12P9      86\n",
       "LINC02702 - BUD13          82\n",
       "DRD2 - TMPRSS5             80\n",
       "LINC02850 - AC115619.1     78\n",
       "RNU4-17P - AC090771.1      73\n",
       "NLRP12 - AC008440.1        69\n",
       "Name: genes_mapeados, dtype: int64"
      ]
     },
     "execution_count": 21,
     "metadata": {},
     "output_type": "execute_result"
    }
   ],
   "source": [
    "data.genes_mapeados[data.es_intergenico].value_counts()[:20]"
   ]
  },
  {
   "cell_type": "markdown",
   "metadata": {},
   "source": [
    "#### Columna `OR_or_beta`"
   ]
  },
  {
   "cell_type": "code",
   "execution_count": null,
   "metadata": {},
   "outputs": [],
   "source": []
  },
  {
   "cell_type": "code",
   "execution_count": 18,
   "metadata": {},
   "outputs": [
    {
     "name": "stdout",
     "output_type": "stream",
     "text": [
      "(139443, 14)\n",
      "(139441, 14)\n"
     ]
    }
   ],
   "source": [
    "mask_OR_or_beta_inf = data.OR_or_beta == np.inf\n",
    "print(data.shape)\n",
    "data = data[~mask_OR_or_beta_inf]\n",
    "print(data.shape)"
   ]
  },
  {
   "cell_type": "code",
   "execution_count": 37,
   "metadata": {},
   "outputs": [
    {
     "data": {
      "text/plain": [
       "<matplotlib.axes._subplots.AxesSubplot at 0x7f3433e625b0>"
      ]
     },
     "execution_count": 37,
     "metadata": {},
     "output_type": "execute_result"
    },
    {
     "data": {
      "image/png": "[encoded data removed]",
      "text/plain": [
       "<Figure size 432x288 with 1 Axes>"
      ]
     },
     "metadata": {},
     "output_type": "display_data"
    }
   ],
   "source": [
    "sns.distplot(data.OR_or_beta[(data.OR_or_beta>1) & (data.OR_or_beta<8)])"
   ]
  },
  {
   "cell_type": "markdown",
   "metadata": {},
   "source": [
    "### Por fenotipo\n",
    "\n",
    "Seleccionamos un fenotipo particular y vemos como son sus distribuciones\n",
    "\n",
    "\n"
   ]
  },
  {
   "cell_type": "code",
   "execution_count": 39,
   "metadata": {},
   "outputs": [
    {
     "data": {
      "text/plain": [
       "(3399, 14)"
      ]
     },
     "execution_count": 39,
     "metadata": {},
     "output_type": "execute_result"
    }
   ],
   "source": [
    "data_fenotipo = data[data.fenotipo == 'Body mass index']\n",
    "data_fenotipo.shape"
   ]
  },
  {
   "cell_type": "code",
   "execution_count": 53,
   "metadata": {},
   "outputs": [
    {
     "data": {
      "text/plain": [
       "<matplotlib.axes._subplots.AxesSubplot at 0x7f3430214310>"
      ]
     },
     "execution_count": 53,
     "metadata": {},
     "output_type": "execute_result"
    },
    {
     "data": {
      "image/png": "[encoded data removed]",
      "text/plain": [
       "<Figure size 432x288 with 1 Axes>"
      ]
     },
     "metadata": {},
     "output_type": "display_data"
    }
   ],
   "source": [
    "# sns.distplot(data.OR_or_beta[(data.OR_or_beta>1) & (data.OR_or_beta<8)])\n",
    "# sns.distplot(np.log(data_fenotipo.OR_or_beta[data_fenotipo.OR_or_beta<1]))\n",
    "# sns.distplot(np.log(data_fenotipo.OR_or_beta[(data_fenotipo.OR_or_beta>=0) & (data_fenotipo.OR_or_beta<8)]), kde = False)\n",
    "sns.distplot(np.log(data_fenotipo.OR_or_beta), kde = False)"
   ]
  },
  {
   "cell_type": "markdown",
   "metadata": {},
   "source": [
    "Hipótesis:\n",
    "\n",
    "Dado un fenotipo, si OR_or_beta solo toma valores mayores a 1, asumimos que ese fenotipo solo tiene ORs.  (ya que es raro reportar OR <1, pero no son raros los betas mayores a 1)\n",
    "\n",
    "Si no, son betas. No hay mezclados, asumimos criterios de reporte homogéneos, ya que tiene que ver con la naturaleza del fenotipo descripto (existen enfermedades que se tienen o no, mientras que otros fenotipos son continuos). \n",
    "\n",
    "Confirmar este criterio mirando un fenotipo que sepamos es binario. ¿Alguna evidencia de que es válido (más de allá mirar un fenotipo)?\n",
    "\n",
    "Mirar en GWAS catalog si hay alguna descripción.\n",
    "\n",
    "\n"
   ]
  }
 ],
 "metadata": {
  "kernelspec": {
   "display_name": "Python 3",
   "language": "python",
   "name": "python3"
  },
  "language_info": {
   "codemirror_mode": {
    "name": "ipython",
    "version": 3
   },
   "file_extension": ".py",
   "mimetype": "text/x-python",
   "name": "python",
   "nbconvert_exporter": "python",
   "pygments_lexer": "ipython3",
   "version": "3.8.2"
  }
 },
 "nbformat": 4,
 "nbformat_minor": 4
}
