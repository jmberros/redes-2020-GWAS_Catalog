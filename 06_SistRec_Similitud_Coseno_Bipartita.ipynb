{
 "cells": [
  {
   "cell_type": "markdown",
   "metadata": {},
   "source": [
    "## 1. Carga de datos y limpieza inicial"
   ]
  },
  {
   "cell_type": "code",
   "execution_count": 1,
   "metadata": {},
   "outputs": [],
   "source": [
    "import pandas as pd\n",
    "import numpy as np\n",
    "import matplotlib.pyplot as plt\n",
    "import seaborn as sns\n",
    "sns.set()"
   ]
  },
  {
   "cell_type": "code",
   "execution_count": 2,
   "metadata": {},
   "outputs": [],
   "source": [
    "data_dir = 'results/'"
   ]
  },
  {
   "cell_type": "code",
   "execution_count": 3,
   "metadata": {},
   "outputs": [],
   "source": [
    "#data = pd.read_csv(data_dir + 'GwasCat_associations.r2020-05-03.parsed.csv.gz')\n",
    "data = pd.read_table(data_dir + 'gwas_cat.filtrado.tsv.gz')"
   ]
  },
  {
   "cell_type": "code",
   "execution_count": 4,
   "metadata": {},
   "outputs": [
    {
     "data": {
      "text/html": [
       "<div>\n",
       "<style scoped>\n",
       "    .dataframe tbody tr th:only-of-type {\n",
       "        vertical-align: middle;\n",
       "    }\n",
       "\n",
       "    .dataframe tbody tr th {\n",
       "        vertical-align: top;\n",
       "    }\n",
       "\n",
       "    .dataframe thead th {\n",
       "        text-align: right;\n",
       "    }\n",
       "</style>\n",
       "<table border=\"1\" class=\"dataframe\">\n",
       "  <thead>\n",
       "    <tr style=\"text-align: right;\">\n",
       "      <th></th>\n",
       "      <th>fenotipo</th>\n",
       "      <th>alelo_riesgo</th>\n",
       "      <th>categoria_fenotipo</th>\n",
       "      <th>genes_reportados</th>\n",
       "      <th>genes_mapeados</th>\n",
       "      <th>contexto</th>\n",
       "      <th>OR_or_beta</th>\n",
       "      <th>gen_mapeado_elegido</th>\n",
       "      <th>EFO_URI</th>\n",
       "    </tr>\n",
       "  </thead>\n",
       "  <tbody>\n",
       "    <tr>\n",
       "      <th>0</th>\n",
       "      <td>Crohn's disease</td>\n",
       "      <td>rs12722489-C</td>\n",
       "      <td>Digestive system disorder</td>\n",
       "      <td>IL2RA</td>\n",
       "      <td>IL2RA</td>\n",
       "      <td>intron</td>\n",
       "      <td>1.11</td>\n",
       "      <td>IL2RA</td>\n",
       "      <td>http://www.ebi.ac.uk/efo/EFO_0000384</td>\n",
       "    </tr>\n",
       "    <tr>\n",
       "      <th>1</th>\n",
       "      <td>Crohn's disease</td>\n",
       "      <td>rs151181-G</td>\n",
       "      <td>Digestive system disorder</td>\n",
       "      <td>IL27 | SH2B1 | EIF3C | LAT | CD19</td>\n",
       "      <td>CLN3 | AC138894.1</td>\n",
       "      <td>intron</td>\n",
       "      <td>1.07</td>\n",
       "      <td>CLN3</td>\n",
       "      <td>http://www.ebi.ac.uk/efo/EFO_0000384</td>\n",
       "    </tr>\n",
       "    <tr>\n",
       "      <th>2</th>\n",
       "      <td>Crohn's disease</td>\n",
       "      <td>rs2058660-G</td>\n",
       "      <td>Digestive system disorder</td>\n",
       "      <td>IL12RL2 | IL18R1 | IL1RL1 | IL18RAP</td>\n",
       "      <td>IL18RAP</td>\n",
       "      <td>intron</td>\n",
       "      <td>1.19</td>\n",
       "      <td>IL18RAP</td>\n",
       "      <td>http://www.ebi.ac.uk/efo/EFO_0000384</td>\n",
       "    </tr>\n",
       "    <tr>\n",
       "      <th>3</th>\n",
       "      <td>Crohn's disease</td>\n",
       "      <td>rs6556412-A</td>\n",
       "      <td>Digestive system disorder</td>\n",
       "      <td>IL12B</td>\n",
       "      <td>AC008691.1</td>\n",
       "      <td>intron</td>\n",
       "      <td>1.18</td>\n",
       "      <td>NaN</td>\n",
       "      <td>http://www.ebi.ac.uk/efo/EFO_0000384</td>\n",
       "    </tr>\n",
       "    <tr>\n",
       "      <th>4</th>\n",
       "      <td>Crohn's disease</td>\n",
       "      <td>rs2797685-A</td>\n",
       "      <td>Digestive system disorder</td>\n",
       "      <td>VAMP3</td>\n",
       "      <td>PER3 | Z98884.1</td>\n",
       "      <td>intron</td>\n",
       "      <td>1.05</td>\n",
       "      <td>PER3</td>\n",
       "      <td>http://www.ebi.ac.uk/efo/EFO_0000384</td>\n",
       "    </tr>\n",
       "  </tbody>\n",
       "</table>\n",
       "</div>"
      ],
      "text/plain": [
       "          fenotipo  alelo_riesgo         categoria_fenotipo  \\\n",
       "0  Crohn's disease  rs12722489-C  Digestive system disorder   \n",
       "1  Crohn's disease    rs151181-G  Digestive system disorder   \n",
       "2  Crohn's disease   rs2058660-G  Digestive system disorder   \n",
       "3  Crohn's disease   rs6556412-A  Digestive system disorder   \n",
       "4  Crohn's disease   rs2797685-A  Digestive system disorder   \n",
       "\n",
       "                      genes_reportados     genes_mapeados contexto  \\\n",
       "0                                IL2RA              IL2RA   intron   \n",
       "1    IL27 | SH2B1 | EIF3C | LAT | CD19  CLN3 | AC138894.1   intron   \n",
       "2  IL12RL2 | IL18R1 | IL1RL1 | IL18RAP            IL18RAP   intron   \n",
       "3                                IL12B         AC008691.1   intron   \n",
       "4                                VAMP3    PER3 | Z98884.1   intron   \n",
       "\n",
       "   OR_or_beta gen_mapeado_elegido                               EFO_URI  \n",
       "0        1.11               IL2RA  http://www.ebi.ac.uk/efo/EFO_0000384  \n",
       "1        1.07                CLN3  http://www.ebi.ac.uk/efo/EFO_0000384  \n",
       "2        1.19             IL18RAP  http://www.ebi.ac.uk/efo/EFO_0000384  \n",
       "3        1.18                 NaN  http://www.ebi.ac.uk/efo/EFO_0000384  \n",
       "4        1.05                PER3  http://www.ebi.ac.uk/efo/EFO_0000384  "
      ]
     },
     "execution_count": 4,
     "metadata": {},
     "output_type": "execute_result"
    }
   ],
   "source": [
    "data.head()"
   ]
  },
  {
   "cell_type": "code",
   "execution_count": 5,
   "metadata": {},
   "outputs": [
    {
     "data": {
      "text/plain": [
       "(112626, 9)"
      ]
     },
     "execution_count": 5,
     "metadata": {},
     "output_type": "execute_result"
    }
   ],
   "source": [
    "data.shape"
   ]
  },
  {
   "cell_type": "markdown",
   "metadata": {},
   "source": [
    "Seleccionamos aquellas instancias que tienen en la columna `alelo_riesgo` un SNP."
   ]
  },
  {
   "cell_type": "code",
   "execution_count": 6,
   "metadata": {},
   "outputs": [
    {
     "data": {
      "text/plain": [
       "(108556, 9)"
      ]
     },
     "execution_count": 6,
     "metadata": {},
     "output_type": "execute_result"
    }
   ],
   "source": [
    "mask_snps = data.alelo_riesgo.str.match(\"^rs[0-9]+-[ATCG\\?]$\")\n",
    "data = data[mask_snps]\n",
    "data.shape"
   ]
  },
  {
   "cell_type": "markdown",
   "metadata": {},
   "source": [
    "Miramos y descartamos valores faltantes"
   ]
  },
  {
   "cell_type": "code",
   "execution_count": 7,
   "metadata": {},
   "outputs": [
    {
     "data": {
      "text/plain": [
       "fenotipo                   0\n",
       "alelo_riesgo               0\n",
       "categoria_fenotipo        65\n",
       "genes_reportados       42935\n",
       "genes_mapeados          1727\n",
       "contexto                1722\n",
       "OR_or_beta                 0\n",
       "gen_mapeado_elegido    46056\n",
       "EFO_URI                   65\n",
       "dtype: int64"
      ]
     },
     "execution_count": 7,
     "metadata": {},
     "output_type": "execute_result"
    }
   ],
   "source": [
    "data.isna().sum()"
   ]
  },
  {
   "cell_type": "markdown",
   "metadata": {},
   "source": [
    "No nos interesan aquellas instancias que tienen valore faltantes en la columna `OR_or_beta`"
   ]
  },
  {
   "cell_type": "code",
   "execution_count": 8,
   "metadata": {},
   "outputs": [
    {
     "data": {
      "text/plain": [
       "(108556, 9)"
      ]
     },
     "execution_count": 8,
     "metadata": {},
     "output_type": "execute_result"
    }
   ],
   "source": [
    "data.dropna(subset = ['OR_or_beta'], inplace = True)\n",
    "data.shape"
   ]
  },
  {
   "cell_type": "code",
   "execution_count": 9,
   "metadata": {},
   "outputs": [
    {
     "data": {
      "text/plain": [
       "fenotipo                   0\n",
       "alelo_riesgo               0\n",
       "categoria_fenotipo        65\n",
       "genes_reportados       42935\n",
       "genes_mapeados          1727\n",
       "contexto                1722\n",
       "OR_or_beta                 0\n",
       "gen_mapeado_elegido    46056\n",
       "EFO_URI                   65\n",
       "dtype: int64"
      ]
     },
     "execution_count": 9,
     "metadata": {},
     "output_type": "execute_result"
    }
   ],
   "source": [
    "data.isna().sum()"
   ]
  },
  {
   "cell_type": "markdown",
   "metadata": {},
   "source": [
    "**Opcional 1**: sacamos aquellos alelos que aparezcan una sola vez. Sirve más que nada para achicar la base de datos."
   ]
  },
  {
   "cell_type": "code",
   "execution_count": 10,
   "metadata": {},
   "outputs": [],
   "source": [
    "if False:\n",
    "    umbral = 1\n",
    "    mask_alelos_poca_frecuencia = data.alelo_riesgo.value_counts() <=1\n",
    "    mask_alelos_poca_frecuencia.head()\n",
    "\n",
    "    alelos_poca_frecuencia = list(mask_alelos_poca_frecuencia.index[mask_alelos_poca_frecuencia.values])\n",
    "    print(len(alelos_poca_frecuencia))\n",
    "\n",
    "    mask_descartables = data.alelo_riesgo.isin(alelos_poca_frecuencia)\n",
    "    mask_descartables\n",
    "\n",
    "    print(data.shape)\n",
    "    data = data[~mask_descartables]\n",
    "    print(data.shape)"
   ]
  },
  {
   "cell_type": "markdown",
   "metadata": {},
   "source": [
    "**Opcional 2:** Sacamos aquellos fenotipos que aparecen una sola vez:"
   ]
  },
  {
   "cell_type": "code",
   "execution_count": 11,
   "metadata": {},
   "outputs": [],
   "source": [
    "if False:\n",
    "    umbral = 1\n",
    "    mask_fenotipos_poca_frecuencia = data.fenotipo.value_counts() <=1\n",
    "    mask_fenotipos_poca_frecuencia.head()\n",
    "    fenotipos_poca_frecuencia = list(mask_fenotipos_poca_frecuencia.index[mask_fenotipos_poca_frecuencia.values])\n",
    "    print(len(fenotipos_poca_frecuencia))\n",
    "    mask_descartables = data.fenotipo.isin(fenotipos_poca_frecuencia)\n",
    "    # mask_descartables\n",
    "    print(data.shape)\n",
    "    data = data[~mask_descartables]\n",
    "    print(data.shape)"
   ]
  },
  {
   "cell_type": "markdown",
   "metadata": {},
   "source": [
    "## 2. Tripletes `alelo_riesgo`, `fenotipo` y `OR_or_beta`"
   ]
  },
  {
   "cell_type": "code",
   "execution_count": 12,
   "metadata": {},
   "outputs": [
    {
     "name": "stdout",
     "output_type": "stream",
     "text": [
      "(108556, 3)\n"
     ]
    },
    {
     "data": {
      "text/html": [
       "<div>\n",
       "<style scoped>\n",
       "    .dataframe tbody tr th:only-of-type {\n",
       "        vertical-align: middle;\n",
       "    }\n",
       "\n",
       "    .dataframe tbody tr th {\n",
       "        vertical-align: top;\n",
       "    }\n",
       "\n",
       "    .dataframe thead th {\n",
       "        text-align: right;\n",
       "    }\n",
       "</style>\n",
       "<table border=\"1\" class=\"dataframe\">\n",
       "  <thead>\n",
       "    <tr style=\"text-align: right;\">\n",
       "      <th></th>\n",
       "      <th>alelo_riesgo</th>\n",
       "      <th>fenotipo</th>\n",
       "      <th>OR_or_beta</th>\n",
       "    </tr>\n",
       "  </thead>\n",
       "  <tbody>\n",
       "    <tr>\n",
       "      <th>0</th>\n",
       "      <td>rs12722489-C</td>\n",
       "      <td>Crohn's disease</td>\n",
       "      <td>1.11</td>\n",
       "    </tr>\n",
       "    <tr>\n",
       "      <th>1</th>\n",
       "      <td>rs151181-G</td>\n",
       "      <td>Crohn's disease</td>\n",
       "      <td>1.07</td>\n",
       "    </tr>\n",
       "    <tr>\n",
       "      <th>2</th>\n",
       "      <td>rs2058660-G</td>\n",
       "      <td>Crohn's disease</td>\n",
       "      <td>1.19</td>\n",
       "    </tr>\n",
       "    <tr>\n",
       "      <th>3</th>\n",
       "      <td>rs6556412-A</td>\n",
       "      <td>Crohn's disease</td>\n",
       "      <td>1.18</td>\n",
       "    </tr>\n",
       "    <tr>\n",
       "      <th>4</th>\n",
       "      <td>rs2797685-A</td>\n",
       "      <td>Crohn's disease</td>\n",
       "      <td>1.05</td>\n",
       "    </tr>\n",
       "  </tbody>\n",
       "</table>\n",
       "</div>"
      ],
      "text/plain": [
       "   alelo_riesgo         fenotipo  OR_or_beta\n",
       "0  rs12722489-C  Crohn's disease        1.11\n",
       "1    rs151181-G  Crohn's disease        1.07\n",
       "2   rs2058660-G  Crohn's disease        1.19\n",
       "3   rs6556412-A  Crohn's disease        1.18\n",
       "4   rs2797685-A  Crohn's disease        1.05"
      ]
     },
     "execution_count": 12,
     "metadata": {},
     "output_type": "execute_result"
    }
   ],
   "source": [
    "data_tripletes = data[['alelo_riesgo', 'fenotipo', 'OR_or_beta']]\n",
    "print(data_tripletes.shape)\n",
    "data_tripletes.head()"
   ]
  },
  {
   "cell_type": "markdown",
   "metadata": {},
   "source": [
    "## 3. Train test split y componente gigante\n",
    "\n",
    "Hay más de una forma de hacer una separación de datos de entrenamiento y testeo. Vamos a tomar algunos elementos de la matriz de incidencia al azar y sacarlos, asegurándonos que:\n",
    "1. La red resultante tenga una única componente gigante.\n",
    "2. Cada fenotipo y alelo separado en el conjunto de test siga apareciendo en el conjunto de train.\n",
    "\n",
    "Primero chequeamos que la red así como está tenga una única componente gigante. Sino, seleccionamos la componente gigante."
   ]
  },
  {
   "cell_type": "code",
   "execution_count": 13,
   "metadata": {},
   "outputs": [],
   "source": [
    "import networkx as nx"
   ]
  },
  {
   "cell_type": "code",
   "execution_count": 14,
   "metadata": {},
   "outputs": [
    {
     "name": "stdout",
     "output_type": "stream",
     "text": [
      "Tiene una unica componente gigante: False\n"
     ]
    }
   ],
   "source": [
    "red = nx.Graph()\n",
    "red.add_edges_from(data_tripletes[['alelo_riesgo', 'fenotipo']].values)\n",
    "print(f'Tiene una unica componente gigante: {nx.is_connected(red)}')"
   ]
  },
  {
   "cell_type": "markdown",
   "metadata": {},
   "source": [
    "Veamos cómo son las componentes:"
   ]
  },
  {
   "cell_type": "code",
   "execution_count": 15,
   "metadata": {},
   "outputs": [
    {
     "name": "stdout",
     "output_type": "stream",
     "text": [
      "En total hay 1749 componentes en la red\n"
     ]
    }
   ],
   "source": [
    "# Devuelve conjuntos de nodos, agrupados por componente\n",
    "Componentes = nx.connected_components(red)\n",
    "print(f'En total hay {len(list(Componentes))} componentes en la red')"
   ]
  },
  {
   "cell_type": "code",
   "execution_count": 16,
   "metadata": {},
   "outputs": [
    {
     "name": "stdout",
     "output_type": "stream",
     "text": [
      "[94093, 481, 383, 143, 137, 97, 96, 92, 87, 81, 74, 70, 68, 68, 68, 65, 62, 56, 61, 56]\n"
     ]
    }
   ],
   "source": [
    "# Armo una lista de componentes, ordenadas por tamaño\n",
    "lista_redes_componentes=[red.subgraph(componente) for componente in sorted(nx.connected_components(red), key=len, reverse=True)]\n",
    "n_elementos_redes_componentes=[componente.number_of_edges() for componente in lista_redes_componentes]\n",
    "print(n_elementos_redes_componentes[:20])\n",
    "componente_gigante = lista_redes_componentes[0]\n",
    "nodos_componente_gigante = list(componente_gigante.nodes())"
   ]
  },
  {
   "cell_type": "markdown",
   "metadata": {},
   "source": [
    "Chusmeamos cómo son las redes que no están en la componente gigante:"
   ]
  },
  {
   "cell_type": "code",
   "execution_count": 17,
   "metadata": {},
   "outputs": [
    {
     "name": "stdout",
     "output_type": "stream",
     "text": [
      "['rs6414928-A', 'rs2390357-G', 'rs75870422-C', 'rs80107998-T', 'rs116711337-C', 'rs4291556-C', 'rs36106334-G', 'rs6123683-G', 'rs4744531-A', 'rs141606281-T', 'rs7117543-C', 'rs1404872-A', 'rs12565500-A', 'rs17133277-G', 'Facial morphology (factor 5, width of mouth relative to central midface)', 'rs112079675-C']\n"
     ]
    }
   ],
   "source": [
    "if True:\n",
    "    print(lista_redes_componentes[-1500].nodes())"
   ]
  },
  {
   "cell_type": "markdown",
   "metadata": {},
   "source": [
    "Descartamos de `data_tripletes` los enlaces que no estén en la componente gigante."
   ]
  },
  {
   "cell_type": "code",
   "execution_count": 18,
   "metadata": {},
   "outputs": [
    {
     "name": "stdout",
     "output_type": "stream",
     "text": [
      "(108556, 3)\n",
      "(94093, 3)\n"
     ]
    }
   ],
   "source": [
    "mask_componente_gigante = data_tripletes.fenotipo.isin(nodos_componente_gigante)\n",
    "print(data_tripletes.shape)\n",
    "data_tripletes = data_tripletes[mask_componente_gigante]\n",
    "print(data_tripletes.shape)"
   ]
  },
  {
   "cell_type": "code",
   "execution_count": 19,
   "metadata": {},
   "outputs": [
    {
     "data": {
      "text/html": [
       "<div>\n",
       "<style scoped>\n",
       "    .dataframe tbody tr th:only-of-type {\n",
       "        vertical-align: middle;\n",
       "    }\n",
       "\n",
       "    .dataframe tbody tr th {\n",
       "        vertical-align: top;\n",
       "    }\n",
       "\n",
       "    .dataframe thead th {\n",
       "        text-align: right;\n",
       "    }\n",
       "</style>\n",
       "<table border=\"1\" class=\"dataframe\">\n",
       "  <thead>\n",
       "    <tr style=\"text-align: right;\">\n",
       "      <th></th>\n",
       "      <th>alelo_riesgo</th>\n",
       "      <th>fenotipo</th>\n",
       "      <th>OR_or_beta</th>\n",
       "    </tr>\n",
       "  </thead>\n",
       "  <tbody>\n",
       "    <tr>\n",
       "      <th>0</th>\n",
       "      <td>rs12722489-C</td>\n",
       "      <td>Crohn's disease</td>\n",
       "      <td>1.11</td>\n",
       "    </tr>\n",
       "    <tr>\n",
       "      <th>1</th>\n",
       "      <td>rs151181-G</td>\n",
       "      <td>Crohn's disease</td>\n",
       "      <td>1.07</td>\n",
       "    </tr>\n",
       "    <tr>\n",
       "      <th>2</th>\n",
       "      <td>rs2058660-G</td>\n",
       "      <td>Crohn's disease</td>\n",
       "      <td>1.19</td>\n",
       "    </tr>\n",
       "    <tr>\n",
       "      <th>3</th>\n",
       "      <td>rs6556412-A</td>\n",
       "      <td>Crohn's disease</td>\n",
       "      <td>1.18</td>\n",
       "    </tr>\n",
       "    <tr>\n",
       "      <th>4</th>\n",
       "      <td>rs2797685-A</td>\n",
       "      <td>Crohn's disease</td>\n",
       "      <td>1.05</td>\n",
       "    </tr>\n",
       "  </tbody>\n",
       "</table>\n",
       "</div>"
      ],
      "text/plain": [
       "   alelo_riesgo         fenotipo  OR_or_beta\n",
       "0  rs12722489-C  Crohn's disease        1.11\n",
       "1    rs151181-G  Crohn's disease        1.07\n",
       "2   rs2058660-G  Crohn's disease        1.19\n",
       "3   rs6556412-A  Crohn's disease        1.18\n",
       "4   rs2797685-A  Crohn's disease        1.05"
      ]
     },
     "execution_count": 19,
     "metadata": {},
     "output_type": "execute_result"
    }
   ],
   "source": [
    "data_tripletes.reset_index(inplace = True, drop = True)\n",
    "data_tripletes.head()"
   ]
  },
  {
   "cell_type": "code",
   "execution_count": 20,
   "metadata": {},
   "outputs": [
    {
     "name": "stdout",
     "output_type": "stream",
     "text": [
      "Hay 75848 alelo unicos y 1588 fenotipos unicos\n"
     ]
    }
   ],
   "source": [
    "n_alelos = data_tripletes.alelo_riesgo.nunique()\n",
    "n_fenotipos = data_tripletes.fenotipo.nunique()\n",
    "print(f'Hay {n_alelos} alelo unicos y {n_fenotipos} fenotipos unicos')"
   ]
  },
  {
   "cell_type": "markdown",
   "metadata": {},
   "source": [
    "#### Train/Test split\n",
    "\n",
    "Vamos a seleccionar `n_test` filas al azar de `data_tripletes` y ver si se cumple lo que pedimos más arriba.\n",
    "\n",
    "Sacar al azar sin tener en cuenta el grado de cada nodo no funcionó, por lo que debemos hacerlo de forma más ordenada.\n",
    "\n",
    "Primero seleccionamos aquellos alelos que aparezcan más de `umbral_alelo` veces."
   ]
  },
  {
   "cell_type": "code",
   "execution_count": 21,
   "metadata": {},
   "outputs": [
    {
     "name": "stdout",
     "output_type": "stream",
     "text": [
      "1474\n"
     ]
    }
   ],
   "source": [
    "umbral_alelo = 4\n",
    "mask_alelos = data_tripletes.alelo_riesgo.value_counts() >= umbral_alelo\n",
    "alelos_a_considerar = list((data_tripletes.alelo_riesgo.value_counts()[mask_alelos]).index)\n",
    "print(len(alelos_a_considerar))"
   ]
  },
  {
   "cell_type": "code",
   "execution_count": 22,
   "metadata": {},
   "outputs": [
    {
     "name": "stdout",
     "output_type": "stream",
     "text": [
      "1307\n"
     ]
    }
   ],
   "source": [
    "umbral_fenotipo = 4\n",
    "mask_fenotipos = data_tripletes.fenotipo.value_counts() >= umbral_fenotipo\n",
    "fenotipos_a_considerar = list((data_tripletes.fenotipo.value_counts()[mask_fenotipos]).index)\n",
    "print(len(fenotipos_a_considerar))"
   ]
  },
  {
   "cell_type": "code",
   "execution_count": 23,
   "metadata": {},
   "outputs": [
    {
     "name": "stdout",
     "output_type": "stream",
     "text": [
      "3\n",
      "6\n",
      "10\n",
      "5\n",
      "10\n",
      "3\n",
      "1\n",
      "Exito: 6\n"
     ]
    }
   ],
   "source": [
    "n_test = 500\n",
    "\n",
    "mask_alelos_y_fenotipos = np.logical_and(data_tripletes.alelo_riesgo.isin(alelos_a_considerar), data_tripletes.fenotipo.isin(fenotipos_a_considerar))\n",
    "indices_a_considerar = list(data_tripletes[mask_alelos_y_fenotipos].index)\n",
    "todos_indices = list(data_tripletes.index)\n",
    "for i in range(0,10):\n",
    "    np.random.seed(i)\n",
    "    idx_test = np.random.choice(indices_a_considerar, size = n_test, replace = False)\n",
    "    data_tripletes_test = data_tripletes.iloc[idx_test, :]\n",
    "    idx_train = list(set(todos_indices) - set(idx_test))\n",
    "    data_tripletes_train = data_tripletes.iloc[idx_train, :]\n",
    "    if data_tripletes_train.alelo_riesgo.nunique() == n_alelos:\n",
    "        if data_tripletes_train.fenotipo.nunique() == n_fenotipos:\n",
    "            red_train = nx.Graph()\n",
    "            red_train.add_edges_from(data_tripletes_train[['alelo_riesgo', 'fenotipo']].values)\n",
    "            lista_redes_componentes_train=[red_train.subgraph(componente) for componente in sorted(nx.connected_components(red_train), key=len, reverse=True)]\n",
    "            print(len(lista_redes_componentes_train))\n",
    "            if len(lista_redes_componentes_train) == 1:\n",
    "                print(f'Exito: {i}')\n",
    "                break"
   ]
  },
  {
   "cell_type": "code",
   "execution_count": 24,
   "metadata": {},
   "outputs": [
    {
     "name": "stdout",
     "output_type": "stream",
     "text": [
      "75848\n",
      "1588\n"
     ]
    }
   ],
   "source": [
    "print(data_tripletes_train.alelo_riesgo.nunique())\n",
    "print(data_tripletes_train.fenotipo.nunique())"
   ]
  },
  {
   "cell_type": "code",
   "execution_count": 25,
   "metadata": {},
   "outputs": [
    {
     "name": "stdout",
     "output_type": "stream",
     "text": [
      "429\n",
      "225\n"
     ]
    }
   ],
   "source": [
    "print(data_tripletes_test.alelo_riesgo.nunique())\n",
    "print(data_tripletes_test.fenotipo.nunique())"
   ]
  },
  {
   "cell_type": "markdown",
   "metadata": {},
   "source": [
    "#### Otra Separación 1 - Alelos \"nuevos\"\n",
    "\n",
    "Tomamos alelos al azar y los sacamos de la matriz de utilidad. De esta forma, no aportarán a las similitudes de los fenotipos.\n",
    "\n",
    "Vamos a sacar alelos que tengan al menos grado 3 y como máximo grado 5 "
   ]
  },
  {
   "cell_type": "code",
   "execution_count": 26,
   "metadata": {},
   "outputs": [],
   "source": [
    "if False:\n",
    "    np.random.seed(42)\n",
    "    n_alelos_a_sacar = 100\n",
    "    alelos_a_sacar = []\n",
    "\n",
    "    lista_alelos_desordenada = list(dict_id_to_alelo.keys())\n",
    "    lista_alelos_desordenada = np.random.choice(lista_alelos_desordenada,len(lista_alelos_desordenada), replace = False)\n",
    "\n",
    "    grados = data_bipartita.sum(axis = 1)\n",
    "    for alelo in lista_alelos_desordenada:\n",
    "    #     pass\n",
    "        grado = grados.iloc[alelo]\n",
    "\n",
    "        if grado >=3 and grado <=5:\n",
    "            alelos_a_sacar.append(alelo)\n",
    "\n",
    "        if len(alelos_a_sacar) == n_alelos_a_sacar:\n",
    "            break\n",
    "\n",
    "    data_bipartita_test_1 = data_bipartita.iloc[alelos_a_sacar,:]\n",
    "    print(data_bipartita_test_1.shape)\n",
    "    print(data_bipartita_test_1.sum().sum())\n",
    "\n",
    "    data_bipartita_train = data_bipartita.drop(alelos_a_sacar)\n",
    "    print(data_bipartita_train.shape)\n",
    "\n",
    "    #### ESTO SE PUEDE MEJORAR, PERO POR AHORA CHEQUEAMOS QUE NO QUEDE UN FENOTIPO DE GRADO 1\n",
    "#     Nuevamente, lo mejor sería que el conjunto de train tenga una única componente.\n",
    "\n",
    "    data_bipartita_train.sum().min()\n",
    "\n",
    "#     Sacamos del conjunto de test algunos fenotipos conocidos, hasta que quede un solo fenotipo conocido. ¿ESTUDIAR EN FUNCION DE ESTE HIPERPARÁMETRO?\n",
    "\n",
    "    np.random.seed(42)\n",
    "    n_fenotipos_a_dejar = 1\n",
    "\n",
    "    for idx, row in data_bipartita_test_1.iterrows():\n",
    "\n",
    "        fenotipos_asociados = list(row[row == 1].index)\n",
    "        fenotipos_asociados = np.random.choice(fenotipos_asociados, len(fenotipos_asociados), replace = False)\n",
    "        contador = 0\n",
    "        for fenotipo in fenotipos_asociados:\n",
    "            data_bipartita_test_1.loc[idx, fenotipo] = 0\n",
    "            contador +=1\n",
    "            if contador == len(fenotipos_asociados) - n_fenotipos_a_dejar:\n",
    "                break\n",
    "                \n",
    "    data_bipartita_test_1.sum().sum()"
   ]
  },
  {
   "cell_type": "markdown",
   "metadata": {},
   "source": [
    "## 4. Matriz de Incidencia\n",
    "\n",
    "\n",
    "MEJORAR PARA QUE EN EL INDICE APAREZCA EL ALELO Y SCARASE DE ENCIMA EL DICCIONARIO"
   ]
  },
  {
   "cell_type": "code",
   "execution_count": 27,
   "metadata": {},
   "outputs": [],
   "source": [
    "def crear_matriz_de_incidencia(data_tripletes):\n",
    "    alelos = data_tripletes.alelo_riesgo.unique()\n",
    "    fenotipos = data_tripletes.fenotipo.unique()\n",
    "    n_alelos = data_tripletes.alelo_riesgo.nunique()\n",
    "    n_fenotipos = data_tripletes.fenotipo.nunique()\n",
    "    \n",
    "    matriz_incidencia = pd.DataFrame(np.zeros((n_alelos, n_fenotipos)), columns = fenotipos, index = alelos, dtype = np.int8)\n",
    "    \n",
    "    for _, row in data_tripletes.iterrows():\n",
    "        alelo_row = row.alelo_riesgo\n",
    "        fenotipo_row = row.fenotipo\n",
    "#         id_alelo = dict_alelo_to_id[alelo_row]\n",
    "        matriz_incidencia.loc[alelo_row, fenotipo_row] = 1\n",
    "        \n",
    "    return matriz_incidencia"
   ]
  },
  {
   "cell_type": "code",
   "execution_count": 28,
   "metadata": {},
   "outputs": [
    {
     "data": {
      "text/html": [
       "<div>\n",
       "<style scoped>\n",
       "    .dataframe tbody tr th:only-of-type {\n",
       "        vertical-align: middle;\n",
       "    }\n",
       "\n",
       "    .dataframe tbody tr th {\n",
       "        vertical-align: top;\n",
       "    }\n",
       "\n",
       "    .dataframe thead th {\n",
       "        text-align: right;\n",
       "    }\n",
       "</style>\n",
       "<table border=\"1\" class=\"dataframe\">\n",
       "  <thead>\n",
       "    <tr style=\"text-align: right;\">\n",
       "      <th></th>\n",
       "      <th>Crohn's disease</th>\n",
       "      <th>Obesity (early onset extreme)</th>\n",
       "      <th>Soluble levels of adhesion molecules</th>\n",
       "      <th>Multiple sclerosis</th>\n",
       "      <th>Alcohol consumption (transferrin glycosylation)</th>\n",
       "      <th>Colorectal cancer</th>\n",
       "      <th>Ulcerative colitis</th>\n",
       "      <th>Psoriasis</th>\n",
       "      <th>Nicotine dependence</th>\n",
       "      <th>Pulmonary function</th>\n",
       "      <th>...</th>\n",
       "      <th>Lumbar spine bone mineral density (integral)</th>\n",
       "      <th>Lumbar spine bone mineral density (trabecular)</th>\n",
       "      <th>Age of smoking initiation (MTAG)</th>\n",
       "      <th>Cigarettes smoked per day (MTAG)</th>\n",
       "      <th>Cognitive performance</th>\n",
       "      <th>Self-reported math ability (MTAG)</th>\n",
       "      <th>Highest math class taken</th>\n",
       "      <th>Highest math class taken (MTAG)</th>\n",
       "      <th>Cognitive performance (MTAG)</th>\n",
       "      <th>Self-reported math ability</th>\n",
       "    </tr>\n",
       "  </thead>\n",
       "  <tbody>\n",
       "    <tr>\n",
       "      <th>rs12722489-C</th>\n",
       "      <td>1</td>\n",
       "      <td>0</td>\n",
       "      <td>0</td>\n",
       "      <td>0</td>\n",
       "      <td>0</td>\n",
       "      <td>0</td>\n",
       "      <td>0</td>\n",
       "      <td>0</td>\n",
       "      <td>0</td>\n",
       "      <td>0</td>\n",
       "      <td>...</td>\n",
       "      <td>0</td>\n",
       "      <td>0</td>\n",
       "      <td>0</td>\n",
       "      <td>0</td>\n",
       "      <td>0</td>\n",
       "      <td>0</td>\n",
       "      <td>0</td>\n",
       "      <td>0</td>\n",
       "      <td>0</td>\n",
       "      <td>0</td>\n",
       "    </tr>\n",
       "    <tr>\n",
       "      <th>rs151181-G</th>\n",
       "      <td>1</td>\n",
       "      <td>0</td>\n",
       "      <td>0</td>\n",
       "      <td>0</td>\n",
       "      <td>0</td>\n",
       "      <td>0</td>\n",
       "      <td>0</td>\n",
       "      <td>0</td>\n",
       "      <td>0</td>\n",
       "      <td>0</td>\n",
       "      <td>...</td>\n",
       "      <td>0</td>\n",
       "      <td>0</td>\n",
       "      <td>0</td>\n",
       "      <td>0</td>\n",
       "      <td>0</td>\n",
       "      <td>0</td>\n",
       "      <td>0</td>\n",
       "      <td>0</td>\n",
       "      <td>0</td>\n",
       "      <td>0</td>\n",
       "    </tr>\n",
       "    <tr>\n",
       "      <th>rs2058660-G</th>\n",
       "      <td>1</td>\n",
       "      <td>0</td>\n",
       "      <td>0</td>\n",
       "      <td>0</td>\n",
       "      <td>0</td>\n",
       "      <td>0</td>\n",
       "      <td>0</td>\n",
       "      <td>0</td>\n",
       "      <td>0</td>\n",
       "      <td>0</td>\n",
       "      <td>...</td>\n",
       "      <td>0</td>\n",
       "      <td>0</td>\n",
       "      <td>0</td>\n",
       "      <td>0</td>\n",
       "      <td>0</td>\n",
       "      <td>0</td>\n",
       "      <td>0</td>\n",
       "      <td>0</td>\n",
       "      <td>0</td>\n",
       "      <td>0</td>\n",
       "    </tr>\n",
       "    <tr>\n",
       "      <th>rs6556412-A</th>\n",
       "      <td>1</td>\n",
       "      <td>0</td>\n",
       "      <td>0</td>\n",
       "      <td>0</td>\n",
       "      <td>0</td>\n",
       "      <td>0</td>\n",
       "      <td>0</td>\n",
       "      <td>0</td>\n",
       "      <td>0</td>\n",
       "      <td>0</td>\n",
       "      <td>...</td>\n",
       "      <td>0</td>\n",
       "      <td>0</td>\n",
       "      <td>0</td>\n",
       "      <td>0</td>\n",
       "      <td>0</td>\n",
       "      <td>0</td>\n",
       "      <td>0</td>\n",
       "      <td>0</td>\n",
       "      <td>0</td>\n",
       "      <td>0</td>\n",
       "    </tr>\n",
       "    <tr>\n",
       "      <th>rs2797685-A</th>\n",
       "      <td>1</td>\n",
       "      <td>0</td>\n",
       "      <td>0</td>\n",
       "      <td>0</td>\n",
       "      <td>0</td>\n",
       "      <td>0</td>\n",
       "      <td>0</td>\n",
       "      <td>0</td>\n",
       "      <td>0</td>\n",
       "      <td>0</td>\n",
       "      <td>...</td>\n",
       "      <td>0</td>\n",
       "      <td>0</td>\n",
       "      <td>0</td>\n",
       "      <td>0</td>\n",
       "      <td>0</td>\n",
       "      <td>0</td>\n",
       "      <td>0</td>\n",
       "      <td>0</td>\n",
       "      <td>0</td>\n",
       "      <td>0</td>\n",
       "    </tr>\n",
       "  </tbody>\n",
       "</table>\n",
       "<p>5 rows × 1588 columns</p>\n",
       "</div>"
      ],
      "text/plain": [
       "              Crohn's disease  Obesity (early onset extreme)  \\\n",
       "rs12722489-C                1                              0   \n",
       "rs151181-G                  1                              0   \n",
       "rs2058660-G                 1                              0   \n",
       "rs6556412-A                 1                              0   \n",
       "rs2797685-A                 1                              0   \n",
       "\n",
       "              Soluble levels of adhesion molecules  Multiple sclerosis  \\\n",
       "rs12722489-C                                     0                   0   \n",
       "rs151181-G                                       0                   0   \n",
       "rs2058660-G                                      0                   0   \n",
       "rs6556412-A                                      0                   0   \n",
       "rs2797685-A                                      0                   0   \n",
       "\n",
       "              Alcohol consumption (transferrin glycosylation)  \\\n",
       "rs12722489-C                                                0   \n",
       "rs151181-G                                                  0   \n",
       "rs2058660-G                                                 0   \n",
       "rs6556412-A                                                 0   \n",
       "rs2797685-A                                                 0   \n",
       "\n",
       "              Colorectal cancer  Ulcerative colitis  Psoriasis  \\\n",
       "rs12722489-C                  0                   0          0   \n",
       "rs151181-G                    0                   0          0   \n",
       "rs2058660-G                   0                   0          0   \n",
       "rs6556412-A                   0                   0          0   \n",
       "rs2797685-A                   0                   0          0   \n",
       "\n",
       "              Nicotine dependence  Pulmonary function  ...  \\\n",
       "rs12722489-C                    0                   0  ...   \n",
       "rs151181-G                      0                   0  ...   \n",
       "rs2058660-G                     0                   0  ...   \n",
       "rs6556412-A                     0                   0  ...   \n",
       "rs2797685-A                     0                   0  ...   \n",
       "\n",
       "              Lumbar spine bone mineral density (integral)  \\\n",
       "rs12722489-C                                             0   \n",
       "rs151181-G                                               0   \n",
       "rs2058660-G                                              0   \n",
       "rs6556412-A                                              0   \n",
       "rs2797685-A                                              0   \n",
       "\n",
       "              Lumbar spine bone mineral density (trabecular)  \\\n",
       "rs12722489-C                                               0   \n",
       "rs151181-G                                                 0   \n",
       "rs2058660-G                                                0   \n",
       "rs6556412-A                                                0   \n",
       "rs2797685-A                                                0   \n",
       "\n",
       "              Age of smoking initiation (MTAG)  \\\n",
       "rs12722489-C                                 0   \n",
       "rs151181-G                                   0   \n",
       "rs2058660-G                                  0   \n",
       "rs6556412-A                                  0   \n",
       "rs2797685-A                                  0   \n",
       "\n",
       "              Cigarettes smoked per day (MTAG)  Cognitive performance  \\\n",
       "rs12722489-C                                 0                      0   \n",
       "rs151181-G                                   0                      0   \n",
       "rs2058660-G                                  0                      0   \n",
       "rs6556412-A                                  0                      0   \n",
       "rs2797685-A                                  0                      0   \n",
       "\n",
       "              Self-reported math ability (MTAG)  Highest math class taken  \\\n",
       "rs12722489-C                                  0                         0   \n",
       "rs151181-G                                    0                         0   \n",
       "rs2058660-G                                   0                         0   \n",
       "rs6556412-A                                   0                         0   \n",
       "rs2797685-A                                   0                         0   \n",
       "\n",
       "              Highest math class taken (MTAG)  Cognitive performance (MTAG)  \\\n",
       "rs12722489-C                                0                             0   \n",
       "rs151181-G                                  0                             0   \n",
       "rs2058660-G                                 0                             0   \n",
       "rs6556412-A                                 0                             0   \n",
       "rs2797685-A                                 0                             0   \n",
       "\n",
       "              Self-reported math ability  \n",
       "rs12722489-C                           0  \n",
       "rs151181-G                             0  \n",
       "rs2058660-G                            0  \n",
       "rs6556412-A                            0  \n",
       "rs2797685-A                            0  \n",
       "\n",
       "[5 rows x 1588 columns]"
      ]
     },
     "execution_count": 28,
     "metadata": {},
     "output_type": "execute_result"
    }
   ],
   "source": [
    "matriz_incidencia_train = crear_matriz_de_incidencia(data_tripletes_train)\n",
    "matriz_incidencia_train.head()"
   ]
  },
  {
   "cell_type": "markdown",
   "metadata": {},
   "source": [
    "**Chequeos**\n",
    "\n",
    "La suma de todos los elementos de `matriz_incidencia` debe dar la cantidad de filas en `data_tripletes`"
   ]
  },
  {
   "cell_type": "code",
   "execution_count": 29,
   "metadata": {},
   "outputs": [
    {
     "data": {
      "text/plain": [
       "True"
      ]
     },
     "execution_count": 29,
     "metadata": {},
     "output_type": "execute_result"
    }
   ],
   "source": [
    "matriz_incidencia_train.sum().sum() == data_tripletes_train.shape[0]"
   ]
  },
  {
   "cell_type": "markdown",
   "metadata": {},
   "source": [
    "La suma por columnas del `value_counts()` de `data_tripletes.fenotipo`"
   ]
  },
  {
   "cell_type": "code",
   "execution_count": 30,
   "metadata": {},
   "outputs": [
    {
     "data": {
      "text/plain": [
       "True"
      ]
     },
     "execution_count": 30,
     "metadata": {},
     "output_type": "execute_result"
    }
   ],
   "source": [
    "(data_tripletes_train.fenotipo.value_counts().values == matriz_incidencia_train.sum().sort_values(ascending = False).values).all()"
   ]
  },
  {
   "cell_type": "markdown",
   "metadata": {},
   "source": [
    "La suma por filas el `value_counts()` de `data_tripletes.alelo_riesgo`"
   ]
  },
  {
   "cell_type": "code",
   "execution_count": 31,
   "metadata": {},
   "outputs": [
    {
     "data": {
      "text/plain": [
       "True"
      ]
     },
     "execution_count": 31,
     "metadata": {},
     "output_type": "execute_result"
    }
   ],
   "source": [
    "(data_tripletes_train.alelo_riesgo.value_counts().values == matriz_incidencia_train.sum(axis = 1).sort_values(ascending = False).values).all()"
   ]
  },
  {
   "cell_type": "markdown",
   "metadata": {},
   "source": [
    "**Distribución de grado para fenotipos**"
   ]
  },
  {
   "cell_type": "code",
   "execution_count": 32,
   "metadata": {},
   "outputs": [
    {
     "data": {
      "text/plain": [
       "(array([208., 170., 301., 327., 260., 142., 113.,  39.,  19.,   9.]),\n",
       " array([0.        , 0.79094895, 1.5818979 , 2.37284685, 3.1637958 ,\n",
       "        3.95474475, 4.7456937 , 5.53664264, 6.32759159, 7.11854054,\n",
       "        7.90948949]),\n",
       " <a list of 10 Patch objects>)"
      ]
     },
     "execution_count": 32,
     "metadata": {},
     "output_type": "execute_result"
    },
    {
     "data": {
      "image/png": "[encoded data removed]",
      "text/plain": [
       "<Figure size 432x288 with 1 Axes>"
      ]
     },
     "metadata": {},
     "output_type": "display_data"
    }
   ],
   "source": [
    "plt.hist(np.log(matriz_incidencia_train.sum()))"
   ]
  },
  {
   "cell_type": "markdown",
   "metadata": {},
   "source": [
    "**Distribución de grado para alelos**"
   ]
  },
  {
   "cell_type": "code",
   "execution_count": 33,
   "metadata": {},
   "outputs": [
    {
     "data": {
      "text/plain": [
       "(array([7.5199e+04, 5.2600e+02, 6.8000e+01, 4.1000e+01, 6.0000e+00,\n",
       "        2.0000e+00, 3.0000e+00, 2.0000e+00, 0.0000e+00, 1.0000e+00]),\n",
       " array([ 1. ,  4.3,  7.6, 10.9, 14.2, 17.5, 20.8, 24.1, 27.4, 30.7, 34. ]),\n",
       " <a list of 10 Patch objects>)"
      ]
     },
     "execution_count": 33,
     "metadata": {},
     "output_type": "execute_result"
    },
    {
     "data": {
      "image/png": "[encoded data removed]",
      "text/plain": [
       "<Figure size 432x288 with 1 Axes>"
      ]
     },
     "metadata": {},
     "output_type": "display_data"
    }
   ],
   "source": [
    "plt.hist(matriz_incidencia_train.sum(axis = 1), log=True)"
   ]
  },
  {
   "cell_type": "markdown",
   "metadata": {},
   "source": [
    "¿VALE LA PENA ESTUDIAR ESTAS DISTRIBUCIONES?"
   ]
  },
  {
   "cell_type": "markdown",
   "metadata": {},
   "source": [
    "### 4. Filtro Colaborativo Implícito\n",
    "\n",
    "https://medium.com/radon-dev/item-item-collaborative-filtering-with-binary-or-unary-data-e8f0b465b2c3"
   ]
  },
  {
   "cell_type": "code",
   "execution_count": 34,
   "metadata": {},
   "outputs": [],
   "source": [
    "from sklearn.metrics.pairwise import cosine_similarity\n",
    "from scipy import sparse"
   ]
  },
  {
   "cell_type": "markdown",
   "metadata": {},
   "source": [
    "En primer lugar, normalizamos con respecto a la cantidad de enlaces que tiene cada alelo. En las películas, esto se justifica como \n",
    "\n",
    "> *This is the idea of normalizing the user vectors so that a user with many ratings contributes less to any individual rating. This is to say that a like from a user who has only liked 10 items is more valuable to us than a like from someone who likes everything she comes across.*"
   ]
  },
  {
   "cell_type": "code",
   "execution_count": 35,
   "metadata": {},
   "outputs": [
    {
     "data": {
      "text/html": [
       "<div>\n",
       "<style scoped>\n",
       "    .dataframe tbody tr th:only-of-type {\n",
       "        vertical-align: middle;\n",
       "    }\n",
       "\n",
       "    .dataframe tbody tr th {\n",
       "        vertical-align: top;\n",
       "    }\n",
       "\n",
       "    .dataframe thead th {\n",
       "        text-align: right;\n",
       "    }\n",
       "</style>\n",
       "<table border=\"1\" class=\"dataframe\">\n",
       "  <thead>\n",
       "    <tr style=\"text-align: right;\">\n",
       "      <th></th>\n",
       "      <th>Crohn's disease</th>\n",
       "      <th>Obesity (early onset extreme)</th>\n",
       "      <th>Soluble levels of adhesion molecules</th>\n",
       "      <th>Multiple sclerosis</th>\n",
       "      <th>Alcohol consumption (transferrin glycosylation)</th>\n",
       "      <th>Colorectal cancer</th>\n",
       "      <th>Ulcerative colitis</th>\n",
       "      <th>Psoriasis</th>\n",
       "      <th>Nicotine dependence</th>\n",
       "      <th>Pulmonary function</th>\n",
       "      <th>...</th>\n",
       "      <th>Lumbar spine bone mineral density (integral)</th>\n",
       "      <th>Lumbar spine bone mineral density (trabecular)</th>\n",
       "      <th>Age of smoking initiation (MTAG)</th>\n",
       "      <th>Cigarettes smoked per day (MTAG)</th>\n",
       "      <th>Cognitive performance</th>\n",
       "      <th>Self-reported math ability (MTAG)</th>\n",
       "      <th>Highest math class taken</th>\n",
       "      <th>Highest math class taken (MTAG)</th>\n",
       "      <th>Cognitive performance (MTAG)</th>\n",
       "      <th>Self-reported math ability</th>\n",
       "    </tr>\n",
       "  </thead>\n",
       "  <tbody>\n",
       "    <tr>\n",
       "      <th>rs12722489-C</th>\n",
       "      <td>1.000000</td>\n",
       "      <td>0.0</td>\n",
       "      <td>0.0</td>\n",
       "      <td>0.0</td>\n",
       "      <td>0.0</td>\n",
       "      <td>0.0</td>\n",
       "      <td>0.0</td>\n",
       "      <td>0.0</td>\n",
       "      <td>0.0</td>\n",
       "      <td>0.0</td>\n",
       "      <td>...</td>\n",
       "      <td>0.0</td>\n",
       "      <td>0.0</td>\n",
       "      <td>0.0</td>\n",
       "      <td>0.0</td>\n",
       "      <td>0.0</td>\n",
       "      <td>0.0</td>\n",
       "      <td>0.0</td>\n",
       "      <td>0.0</td>\n",
       "      <td>0.0</td>\n",
       "      <td>0.0</td>\n",
       "    </tr>\n",
       "    <tr>\n",
       "      <th>rs151181-G</th>\n",
       "      <td>1.000000</td>\n",
       "      <td>0.0</td>\n",
       "      <td>0.0</td>\n",
       "      <td>0.0</td>\n",
       "      <td>0.0</td>\n",
       "      <td>0.0</td>\n",
       "      <td>0.0</td>\n",
       "      <td>0.0</td>\n",
       "      <td>0.0</td>\n",
       "      <td>0.0</td>\n",
       "      <td>...</td>\n",
       "      <td>0.0</td>\n",
       "      <td>0.0</td>\n",
       "      <td>0.0</td>\n",
       "      <td>0.0</td>\n",
       "      <td>0.0</td>\n",
       "      <td>0.0</td>\n",
       "      <td>0.0</td>\n",
       "      <td>0.0</td>\n",
       "      <td>0.0</td>\n",
       "      <td>0.0</td>\n",
       "    </tr>\n",
       "    <tr>\n",
       "      <th>rs2058660-G</th>\n",
       "      <td>1.000000</td>\n",
       "      <td>0.0</td>\n",
       "      <td>0.0</td>\n",
       "      <td>0.0</td>\n",
       "      <td>0.0</td>\n",
       "      <td>0.0</td>\n",
       "      <td>0.0</td>\n",
       "      <td>0.0</td>\n",
       "      <td>0.0</td>\n",
       "      <td>0.0</td>\n",
       "      <td>...</td>\n",
       "      <td>0.0</td>\n",
       "      <td>0.0</td>\n",
       "      <td>0.0</td>\n",
       "      <td>0.0</td>\n",
       "      <td>0.0</td>\n",
       "      <td>0.0</td>\n",
       "      <td>0.0</td>\n",
       "      <td>0.0</td>\n",
       "      <td>0.0</td>\n",
       "      <td>0.0</td>\n",
       "    </tr>\n",
       "    <tr>\n",
       "      <th>rs6556412-A</th>\n",
       "      <td>0.707107</td>\n",
       "      <td>0.0</td>\n",
       "      <td>0.0</td>\n",
       "      <td>0.0</td>\n",
       "      <td>0.0</td>\n",
       "      <td>0.0</td>\n",
       "      <td>0.0</td>\n",
       "      <td>0.0</td>\n",
       "      <td>0.0</td>\n",
       "      <td>0.0</td>\n",
       "      <td>...</td>\n",
       "      <td>0.0</td>\n",
       "      <td>0.0</td>\n",
       "      <td>0.0</td>\n",
       "      <td>0.0</td>\n",
       "      <td>0.0</td>\n",
       "      <td>0.0</td>\n",
       "      <td>0.0</td>\n",
       "      <td>0.0</td>\n",
       "      <td>0.0</td>\n",
       "      <td>0.0</td>\n",
       "    </tr>\n",
       "    <tr>\n",
       "      <th>rs2797685-A</th>\n",
       "      <td>1.000000</td>\n",
       "      <td>0.0</td>\n",
       "      <td>0.0</td>\n",
       "      <td>0.0</td>\n",
       "      <td>0.0</td>\n",
       "      <td>0.0</td>\n",
       "      <td>0.0</td>\n",
       "      <td>0.0</td>\n",
       "      <td>0.0</td>\n",
       "      <td>0.0</td>\n",
       "      <td>...</td>\n",
       "      <td>0.0</td>\n",
       "      <td>0.0</td>\n",
       "      <td>0.0</td>\n",
       "      <td>0.0</td>\n",
       "      <td>0.0</td>\n",
       "      <td>0.0</td>\n",
       "      <td>0.0</td>\n",
       "      <td>0.0</td>\n",
       "      <td>0.0</td>\n",
       "      <td>0.0</td>\n",
       "    </tr>\n",
       "    <tr>\n",
       "      <th>...</th>\n",
       "      <td>...</td>\n",
       "      <td>...</td>\n",
       "      <td>...</td>\n",
       "      <td>...</td>\n",
       "      <td>...</td>\n",
       "      <td>...</td>\n",
       "      <td>...</td>\n",
       "      <td>...</td>\n",
       "      <td>...</td>\n",
       "      <td>...</td>\n",
       "      <td>...</td>\n",
       "      <td>...</td>\n",
       "      <td>...</td>\n",
       "      <td>...</td>\n",
       "      <td>...</td>\n",
       "      <td>...</td>\n",
       "      <td>...</td>\n",
       "      <td>...</td>\n",
       "      <td>...</td>\n",
       "      <td>...</td>\n",
       "      <td>...</td>\n",
       "    </tr>\n",
       "    <tr>\n",
       "      <th>rs943262-C</th>\n",
       "      <td>0.000000</td>\n",
       "      <td>0.0</td>\n",
       "      <td>0.0</td>\n",
       "      <td>0.0</td>\n",
       "      <td>0.0</td>\n",
       "      <td>0.0</td>\n",
       "      <td>0.0</td>\n",
       "      <td>0.0</td>\n",
       "      <td>0.0</td>\n",
       "      <td>0.0</td>\n",
       "      <td>...</td>\n",
       "      <td>0.0</td>\n",
       "      <td>0.0</td>\n",
       "      <td>0.0</td>\n",
       "      <td>0.0</td>\n",
       "      <td>0.0</td>\n",
       "      <td>0.0</td>\n",
       "      <td>0.0</td>\n",
       "      <td>1.0</td>\n",
       "      <td>0.0</td>\n",
       "      <td>0.0</td>\n",
       "    </tr>\n",
       "    <tr>\n",
       "      <th>rs880082-A</th>\n",
       "      <td>0.000000</td>\n",
       "      <td>0.0</td>\n",
       "      <td>0.0</td>\n",
       "      <td>0.0</td>\n",
       "      <td>0.0</td>\n",
       "      <td>0.0</td>\n",
       "      <td>0.0</td>\n",
       "      <td>0.0</td>\n",
       "      <td>0.0</td>\n",
       "      <td>0.0</td>\n",
       "      <td>...</td>\n",
       "      <td>0.0</td>\n",
       "      <td>0.0</td>\n",
       "      <td>0.0</td>\n",
       "      <td>0.0</td>\n",
       "      <td>0.0</td>\n",
       "      <td>0.0</td>\n",
       "      <td>0.0</td>\n",
       "      <td>1.0</td>\n",
       "      <td>0.0</td>\n",
       "      <td>0.0</td>\n",
       "    </tr>\n",
       "    <tr>\n",
       "      <th>rs902627-A</th>\n",
       "      <td>0.000000</td>\n",
       "      <td>0.0</td>\n",
       "      <td>0.0</td>\n",
       "      <td>0.0</td>\n",
       "      <td>0.0</td>\n",
       "      <td>0.0</td>\n",
       "      <td>0.0</td>\n",
       "      <td>0.0</td>\n",
       "      <td>0.0</td>\n",
       "      <td>0.0</td>\n",
       "      <td>...</td>\n",
       "      <td>0.0</td>\n",
       "      <td>0.0</td>\n",
       "      <td>0.0</td>\n",
       "      <td>0.0</td>\n",
       "      <td>0.0</td>\n",
       "      <td>0.0</td>\n",
       "      <td>0.0</td>\n",
       "      <td>1.0</td>\n",
       "      <td>0.0</td>\n",
       "      <td>0.0</td>\n",
       "    </tr>\n",
       "    <tr>\n",
       "      <th>rs31489-C</th>\n",
       "      <td>0.000000</td>\n",
       "      <td>0.0</td>\n",
       "      <td>0.0</td>\n",
       "      <td>0.0</td>\n",
       "      <td>0.0</td>\n",
       "      <td>0.0</td>\n",
       "      <td>0.0</td>\n",
       "      <td>0.0</td>\n",
       "      <td>0.0</td>\n",
       "      <td>0.0</td>\n",
       "      <td>...</td>\n",
       "      <td>0.0</td>\n",
       "      <td>0.0</td>\n",
       "      <td>0.0</td>\n",
       "      <td>0.0</td>\n",
       "      <td>0.0</td>\n",
       "      <td>0.0</td>\n",
       "      <td>0.0</td>\n",
       "      <td>0.0</td>\n",
       "      <td>0.0</td>\n",
       "      <td>0.0</td>\n",
       "    </tr>\n",
       "    <tr>\n",
       "      <th>rs4324798-A</th>\n",
       "      <td>0.000000</td>\n",
       "      <td>0.0</td>\n",
       "      <td>0.0</td>\n",
       "      <td>0.0</td>\n",
       "      <td>0.0</td>\n",
       "      <td>0.0</td>\n",
       "      <td>0.0</td>\n",
       "      <td>0.0</td>\n",
       "      <td>0.0</td>\n",
       "      <td>0.0</td>\n",
       "      <td>...</td>\n",
       "      <td>0.0</td>\n",
       "      <td>0.0</td>\n",
       "      <td>0.0</td>\n",
       "      <td>0.0</td>\n",
       "      <td>0.0</td>\n",
       "      <td>0.0</td>\n",
       "      <td>0.0</td>\n",
       "      <td>0.0</td>\n",
       "      <td>0.0</td>\n",
       "      <td>0.0</td>\n",
       "    </tr>\n",
       "  </tbody>\n",
       "</table>\n",
       "<p>75848 rows × 1588 columns</p>\n",
       "</div>"
      ],
      "text/plain": [
       "              Crohn's disease  Obesity (early onset extreme)  \\\n",
       "rs12722489-C         1.000000                            0.0   \n",
       "rs151181-G           1.000000                            0.0   \n",
       "rs2058660-G          1.000000                            0.0   \n",
       "rs6556412-A          0.707107                            0.0   \n",
       "rs2797685-A          1.000000                            0.0   \n",
       "...                       ...                            ...   \n",
       "rs943262-C           0.000000                            0.0   \n",
       "rs880082-A           0.000000                            0.0   \n",
       "rs902627-A           0.000000                            0.0   \n",
       "rs31489-C            0.000000                            0.0   \n",
       "rs4324798-A          0.000000                            0.0   \n",
       "\n",
       "              Soluble levels of adhesion molecules  Multiple sclerosis  \\\n",
       "rs12722489-C                                   0.0                 0.0   \n",
       "rs151181-G                                     0.0                 0.0   \n",
       "rs2058660-G                                    0.0                 0.0   \n",
       "rs6556412-A                                    0.0                 0.0   \n",
       "rs2797685-A                                    0.0                 0.0   \n",
       "...                                            ...                 ...   \n",
       "rs943262-C                                     0.0                 0.0   \n",
       "rs880082-A                                     0.0                 0.0   \n",
       "rs902627-A                                     0.0                 0.0   \n",
       "rs31489-C                                      0.0                 0.0   \n",
       "rs4324798-A                                    0.0                 0.0   \n",
       "\n",
       "              Alcohol consumption (transferrin glycosylation)  \\\n",
       "rs12722489-C                                              0.0   \n",
       "rs151181-G                                                0.0   \n",
       "rs2058660-G                                               0.0   \n",
       "rs6556412-A                                               0.0   \n",
       "rs2797685-A                                               0.0   \n",
       "...                                                       ...   \n",
       "rs943262-C                                                0.0   \n",
       "rs880082-A                                                0.0   \n",
       "rs902627-A                                                0.0   \n",
       "rs31489-C                                                 0.0   \n",
       "rs4324798-A                                               0.0   \n",
       "\n",
       "              Colorectal cancer  Ulcerative colitis  Psoriasis  \\\n",
       "rs12722489-C                0.0                 0.0        0.0   \n",
       "rs151181-G                  0.0                 0.0        0.0   \n",
       "rs2058660-G                 0.0                 0.0        0.0   \n",
       "rs6556412-A                 0.0                 0.0        0.0   \n",
       "rs2797685-A                 0.0                 0.0        0.0   \n",
       "...                         ...                 ...        ...   \n",
       "rs943262-C                  0.0                 0.0        0.0   \n",
       "rs880082-A                  0.0                 0.0        0.0   \n",
       "rs902627-A                  0.0                 0.0        0.0   \n",
       "rs31489-C                   0.0                 0.0        0.0   \n",
       "rs4324798-A                 0.0                 0.0        0.0   \n",
       "\n",
       "              Nicotine dependence  Pulmonary function  ...  \\\n",
       "rs12722489-C                  0.0                 0.0  ...   \n",
       "rs151181-G                    0.0                 0.0  ...   \n",
       "rs2058660-G                   0.0                 0.0  ...   \n",
       "rs6556412-A                   0.0                 0.0  ...   \n",
       "rs2797685-A                   0.0                 0.0  ...   \n",
       "...                           ...                 ...  ...   \n",
       "rs943262-C                    0.0                 0.0  ...   \n",
       "rs880082-A                    0.0                 0.0  ...   \n",
       "rs902627-A                    0.0                 0.0  ...   \n",
       "rs31489-C                     0.0                 0.0  ...   \n",
       "rs4324798-A                   0.0                 0.0  ...   \n",
       "\n",
       "              Lumbar spine bone mineral density (integral)  \\\n",
       "rs12722489-C                                           0.0   \n",
       "rs151181-G                                             0.0   \n",
       "rs2058660-G                                            0.0   \n",
       "rs6556412-A                                            0.0   \n",
       "rs2797685-A                                            0.0   \n",
       "...                                                    ...   \n",
       "rs943262-C                                             0.0   \n",
       "rs880082-A                                             0.0   \n",
       "rs902627-A                                             0.0   \n",
       "rs31489-C                                              0.0   \n",
       "rs4324798-A                                            0.0   \n",
       "\n",
       "              Lumbar spine bone mineral density (trabecular)  \\\n",
       "rs12722489-C                                             0.0   \n",
       "rs151181-G                                               0.0   \n",
       "rs2058660-G                                              0.0   \n",
       "rs6556412-A                                              0.0   \n",
       "rs2797685-A                                              0.0   \n",
       "...                                                      ...   \n",
       "rs943262-C                                               0.0   \n",
       "rs880082-A                                               0.0   \n",
       "rs902627-A                                               0.0   \n",
       "rs31489-C                                                0.0   \n",
       "rs4324798-A                                              0.0   \n",
       "\n",
       "              Age of smoking initiation (MTAG)  \\\n",
       "rs12722489-C                               0.0   \n",
       "rs151181-G                                 0.0   \n",
       "rs2058660-G                                0.0   \n",
       "rs6556412-A                                0.0   \n",
       "rs2797685-A                                0.0   \n",
       "...                                        ...   \n",
       "rs943262-C                                 0.0   \n",
       "rs880082-A                                 0.0   \n",
       "rs902627-A                                 0.0   \n",
       "rs31489-C                                  0.0   \n",
       "rs4324798-A                                0.0   \n",
       "\n",
       "              Cigarettes smoked per day (MTAG)  Cognitive performance  \\\n",
       "rs12722489-C                               0.0                    0.0   \n",
       "rs151181-G                                 0.0                    0.0   \n",
       "rs2058660-G                                0.0                    0.0   \n",
       "rs6556412-A                                0.0                    0.0   \n",
       "rs2797685-A                                0.0                    0.0   \n",
       "...                                        ...                    ...   \n",
       "rs943262-C                                 0.0                    0.0   \n",
       "rs880082-A                                 0.0                    0.0   \n",
       "rs902627-A                                 0.0                    0.0   \n",
       "rs31489-C                                  0.0                    0.0   \n",
       "rs4324798-A                                0.0                    0.0   \n",
       "\n",
       "              Self-reported math ability (MTAG)  Highest math class taken  \\\n",
       "rs12722489-C                                0.0                       0.0   \n",
       "rs151181-G                                  0.0                       0.0   \n",
       "rs2058660-G                                 0.0                       0.0   \n",
       "rs6556412-A                                 0.0                       0.0   \n",
       "rs2797685-A                                 0.0                       0.0   \n",
       "...                                         ...                       ...   \n",
       "rs943262-C                                  0.0                       0.0   \n",
       "rs880082-A                                  0.0                       0.0   \n",
       "rs902627-A                                  0.0                       0.0   \n",
       "rs31489-C                                   0.0                       0.0   \n",
       "rs4324798-A                                 0.0                       0.0   \n",
       "\n",
       "              Highest math class taken (MTAG)  Cognitive performance (MTAG)  \\\n",
       "rs12722489-C                              0.0                           0.0   \n",
       "rs151181-G                                0.0                           0.0   \n",
       "rs2058660-G                               0.0                           0.0   \n",
       "rs6556412-A                               0.0                           0.0   \n",
       "rs2797685-A                               0.0                           0.0   \n",
       "...                                       ...                           ...   \n",
       "rs943262-C                                1.0                           0.0   \n",
       "rs880082-A                                1.0                           0.0   \n",
       "rs902627-A                                1.0                           0.0   \n",
       "rs31489-C                                 0.0                           0.0   \n",
       "rs4324798-A                               0.0                           0.0   \n",
       "\n",
       "              Self-reported math ability  \n",
       "rs12722489-C                         0.0  \n",
       "rs151181-G                           0.0  \n",
       "rs2058660-G                          0.0  \n",
       "rs6556412-A                          0.0  \n",
       "rs2797685-A                          0.0  \n",
       "...                                  ...  \n",
       "rs943262-C                           0.0  \n",
       "rs880082-A                           0.0  \n",
       "rs902627-A                           0.0  \n",
       "rs31489-C                            0.0  \n",
       "rs4324798-A                          0.0  \n",
       "\n",
       "[75848 rows x 1588 columns]"
      ]
     },
     "execution_count": 35,
     "metadata": {},
     "output_type": "execute_result"
    }
   ],
   "source": [
    "#------------------------\n",
    "# ITEM-ITEM CALCULATIONS\n",
    "#------------------------\n",
    "\n",
    "# As a first step we normalize the user vectors to unit vectors.\n",
    "\n",
    "# magnitude = sqrt(x2 + y2 + z2 + ...)\n",
    "magnitude = np.sqrt(np.square(matriz_incidencia_train).sum(axis=1))\n",
    "\n",
    "# # unitvector = (x / magnitude, y / magnitude, z / magnitude, ...)\n",
    "data_bipartita_normalizada = matriz_incidencia_train.divide(magnitude, axis='index')\n",
    "data_bipartita_normalizada"
   ]
  },
  {
   "cell_type": "markdown",
   "metadata": {},
   "source": [
    "Luego,calculamos la similaridad coseno para cada columna, obteniendo así qué fenotipos son parecidos."
   ]
  },
  {
   "cell_type": "code",
   "execution_count": 36,
   "metadata": {},
   "outputs": [
    {
     "data": {
      "text/html": [
       "<div>\n",
       "<style scoped>\n",
       "    .dataframe tbody tr th:only-of-type {\n",
       "        vertical-align: middle;\n",
       "    }\n",
       "\n",
       "    .dataframe tbody tr th {\n",
       "        vertical-align: top;\n",
       "    }\n",
       "\n",
       "    .dataframe thead th {\n",
       "        text-align: right;\n",
       "    }\n",
       "</style>\n",
       "<table border=\"1\" class=\"dataframe\">\n",
       "  <thead>\n",
       "    <tr style=\"text-align: right;\">\n",
       "      <th></th>\n",
       "      <th>Crohn's disease</th>\n",
       "      <th>Obesity (early onset extreme)</th>\n",
       "      <th>Soluble levels of adhesion molecules</th>\n",
       "      <th>Multiple sclerosis</th>\n",
       "      <th>Alcohol consumption (transferrin glycosylation)</th>\n",
       "      <th>Colorectal cancer</th>\n",
       "      <th>Ulcerative colitis</th>\n",
       "      <th>Psoriasis</th>\n",
       "      <th>Nicotine dependence</th>\n",
       "      <th>Pulmonary function</th>\n",
       "      <th>...</th>\n",
       "      <th>Lumbar spine bone mineral density (integral)</th>\n",
       "      <th>Lumbar spine bone mineral density (trabecular)</th>\n",
       "      <th>Age of smoking initiation (MTAG)</th>\n",
       "      <th>Cigarettes smoked per day (MTAG)</th>\n",
       "      <th>Cognitive performance</th>\n",
       "      <th>Self-reported math ability (MTAG)</th>\n",
       "      <th>Highest math class taken</th>\n",
       "      <th>Highest math class taken (MTAG)</th>\n",
       "      <th>Cognitive performance (MTAG)</th>\n",
       "      <th>Self-reported math ability</th>\n",
       "    </tr>\n",
       "  </thead>\n",
       "  <tbody>\n",
       "    <tr>\n",
       "      <th>Crohn's disease</th>\n",
       "      <td>1.00000</td>\n",
       "      <td>0.0</td>\n",
       "      <td>0.0</td>\n",
       "      <td>0.00727</td>\n",
       "      <td>0.0</td>\n",
       "      <td>0.0</td>\n",
       "      <td>0.128794</td>\n",
       "      <td>0.001929</td>\n",
       "      <td>0.0</td>\n",
       "      <td>0.0</td>\n",
       "      <td>...</td>\n",
       "      <td>0.0</td>\n",
       "      <td>0.0</td>\n",
       "      <td>0.0</td>\n",
       "      <td>0.0</td>\n",
       "      <td>0.0</td>\n",
       "      <td>0.0</td>\n",
       "      <td>0.0</td>\n",
       "      <td>0.0</td>\n",
       "      <td>0.0</td>\n",
       "      <td>0.0</td>\n",
       "    </tr>\n",
       "    <tr>\n",
       "      <th>Obesity (early onset extreme)</th>\n",
       "      <td>0.00000</td>\n",
       "      <td>1.0</td>\n",
       "      <td>0.0</td>\n",
       "      <td>0.00000</td>\n",
       "      <td>0.0</td>\n",
       "      <td>0.0</td>\n",
       "      <td>0.000000</td>\n",
       "      <td>0.000000</td>\n",
       "      <td>0.0</td>\n",
       "      <td>0.0</td>\n",
       "      <td>...</td>\n",
       "      <td>0.0</td>\n",
       "      <td>0.0</td>\n",
       "      <td>0.0</td>\n",
       "      <td>0.0</td>\n",
       "      <td>0.0</td>\n",
       "      <td>0.0</td>\n",
       "      <td>0.0</td>\n",
       "      <td>0.0</td>\n",
       "      <td>0.0</td>\n",
       "      <td>0.0</td>\n",
       "    </tr>\n",
       "    <tr>\n",
       "      <th>Soluble levels of adhesion molecules</th>\n",
       "      <td>0.00000</td>\n",
       "      <td>0.0</td>\n",
       "      <td>1.0</td>\n",
       "      <td>0.00000</td>\n",
       "      <td>0.0</td>\n",
       "      <td>0.0</td>\n",
       "      <td>0.000000</td>\n",
       "      <td>0.000000</td>\n",
       "      <td>0.0</td>\n",
       "      <td>0.0</td>\n",
       "      <td>...</td>\n",
       "      <td>0.0</td>\n",
       "      <td>0.0</td>\n",
       "      <td>0.0</td>\n",
       "      <td>0.0</td>\n",
       "      <td>0.0</td>\n",
       "      <td>0.0</td>\n",
       "      <td>0.0</td>\n",
       "      <td>0.0</td>\n",
       "      <td>0.0</td>\n",
       "      <td>0.0</td>\n",
       "    </tr>\n",
       "    <tr>\n",
       "      <th>Multiple sclerosis</th>\n",
       "      <td>0.00727</td>\n",
       "      <td>0.0</td>\n",
       "      <td>0.0</td>\n",
       "      <td>1.00000</td>\n",
       "      <td>0.0</td>\n",
       "      <td>0.0</td>\n",
       "      <td>0.001775</td>\n",
       "      <td>0.001868</td>\n",
       "      <td>0.0</td>\n",
       "      <td>0.0</td>\n",
       "      <td>...</td>\n",
       "      <td>0.0</td>\n",
       "      <td>0.0</td>\n",
       "      <td>0.0</td>\n",
       "      <td>0.0</td>\n",
       "      <td>0.0</td>\n",
       "      <td>0.0</td>\n",
       "      <td>0.0</td>\n",
       "      <td>0.0</td>\n",
       "      <td>0.0</td>\n",
       "      <td>0.0</td>\n",
       "    </tr>\n",
       "    <tr>\n",
       "      <th>Alcohol consumption (transferrin glycosylation)</th>\n",
       "      <td>0.00000</td>\n",
       "      <td>0.0</td>\n",
       "      <td>0.0</td>\n",
       "      <td>0.00000</td>\n",
       "      <td>1.0</td>\n",
       "      <td>0.0</td>\n",
       "      <td>0.000000</td>\n",
       "      <td>0.000000</td>\n",
       "      <td>0.0</td>\n",
       "      <td>0.0</td>\n",
       "      <td>...</td>\n",
       "      <td>0.0</td>\n",
       "      <td>0.0</td>\n",
       "      <td>0.0</td>\n",
       "      <td>0.0</td>\n",
       "      <td>0.0</td>\n",
       "      <td>0.0</td>\n",
       "      <td>0.0</td>\n",
       "      <td>0.0</td>\n",
       "      <td>0.0</td>\n",
       "      <td>0.0</td>\n",
       "    </tr>\n",
       "  </tbody>\n",
       "</table>\n",
       "<p>5 rows × 1588 columns</p>\n",
       "</div>"
      ],
      "text/plain": [
       "                                                 Crohn's disease  \\\n",
       "Crohn's disease                                          1.00000   \n",
       "Obesity (early onset extreme)                            0.00000   \n",
       "Soluble levels of adhesion molecules                     0.00000   \n",
       "Multiple sclerosis                                       0.00727   \n",
       "Alcohol consumption (transferrin glycosylation)          0.00000   \n",
       "\n",
       "                                                 Obesity (early onset extreme)  \\\n",
       "Crohn's disease                                                            0.0   \n",
       "Obesity (early onset extreme)                                              1.0   \n",
       "Soluble levels of adhesion molecules                                       0.0   \n",
       "Multiple sclerosis                                                         0.0   \n",
       "Alcohol consumption (transferrin glycosylation)                            0.0   \n",
       "\n",
       "                                                 Soluble levels of adhesion molecules  \\\n",
       "Crohn's disease                                                                   0.0   \n",
       "Obesity (early onset extreme)                                                     0.0   \n",
       "Soluble levels of adhesion molecules                                              1.0   \n",
       "Multiple sclerosis                                                                0.0   \n",
       "Alcohol consumption (transferrin glycosylation)                                   0.0   \n",
       "\n",
       "                                                 Multiple sclerosis  \\\n",
       "Crohn's disease                                             0.00727   \n",
       "Obesity (early onset extreme)                               0.00000   \n",
       "Soluble levels of adhesion molecules                        0.00000   \n",
       "Multiple sclerosis                                          1.00000   \n",
       "Alcohol consumption (transferrin glycosylation)             0.00000   \n",
       "\n",
       "                                                 Alcohol consumption (transferrin glycosylation)  \\\n",
       "Crohn's disease                                                                              0.0   \n",
       "Obesity (early onset extreme)                                                                0.0   \n",
       "Soluble levels of adhesion molecules                                                         0.0   \n",
       "Multiple sclerosis                                                                           0.0   \n",
       "Alcohol consumption (transferrin glycosylation)                                              1.0   \n",
       "\n",
       "                                                 Colorectal cancer  \\\n",
       "Crohn's disease                                                0.0   \n",
       "Obesity (early onset extreme)                                  0.0   \n",
       "Soluble levels of adhesion molecules                           0.0   \n",
       "Multiple sclerosis                                             0.0   \n",
       "Alcohol consumption (transferrin glycosylation)                0.0   \n",
       "\n",
       "                                                 Ulcerative colitis  \\\n",
       "Crohn's disease                                            0.128794   \n",
       "Obesity (early onset extreme)                              0.000000   \n",
       "Soluble levels of adhesion molecules                       0.000000   \n",
       "Multiple sclerosis                                         0.001775   \n",
       "Alcohol consumption (transferrin glycosylation)            0.000000   \n",
       "\n",
       "                                                 Psoriasis  \\\n",
       "Crohn's disease                                   0.001929   \n",
       "Obesity (early onset extreme)                     0.000000   \n",
       "Soluble levels of adhesion molecules              0.000000   \n",
       "Multiple sclerosis                                0.001868   \n",
       "Alcohol consumption (transferrin glycosylation)   0.000000   \n",
       "\n",
       "                                                 Nicotine dependence  \\\n",
       "Crohn's disease                                                  0.0   \n",
       "Obesity (early onset extreme)                                    0.0   \n",
       "Soluble levels of adhesion molecules                             0.0   \n",
       "Multiple sclerosis                                               0.0   \n",
       "Alcohol consumption (transferrin glycosylation)                  0.0   \n",
       "\n",
       "                                                 Pulmonary function  ...  \\\n",
       "Crohn's disease                                                 0.0  ...   \n",
       "Obesity (early onset extreme)                                   0.0  ...   \n",
       "Soluble levels of adhesion molecules                            0.0  ...   \n",
       "Multiple sclerosis                                              0.0  ...   \n",
       "Alcohol consumption (transferrin glycosylation)                 0.0  ...   \n",
       "\n",
       "                                                 Lumbar spine bone mineral density (integral)  \\\n",
       "Crohn's disease                                                                           0.0   \n",
       "Obesity (early onset extreme)                                                             0.0   \n",
       "Soluble levels of adhesion molecules                                                      0.0   \n",
       "Multiple sclerosis                                                                        0.0   \n",
       "Alcohol consumption (transferrin glycosylation)                                           0.0   \n",
       "\n",
       "                                                 Lumbar spine bone mineral density (trabecular)  \\\n",
       "Crohn's disease                                                                             0.0   \n",
       "Obesity (early onset extreme)                                                               0.0   \n",
       "Soluble levels of adhesion molecules                                                        0.0   \n",
       "Multiple sclerosis                                                                          0.0   \n",
       "Alcohol consumption (transferrin glycosylation)                                             0.0   \n",
       "\n",
       "                                                 Age of smoking initiation (MTAG)  \\\n",
       "Crohn's disease                                                               0.0   \n",
       "Obesity (early onset extreme)                                                 0.0   \n",
       "Soluble levels of adhesion molecules                                          0.0   \n",
       "Multiple sclerosis                                                            0.0   \n",
       "Alcohol consumption (transferrin glycosylation)                               0.0   \n",
       "\n",
       "                                                 Cigarettes smoked per day (MTAG)  \\\n",
       "Crohn's disease                                                               0.0   \n",
       "Obesity (early onset extreme)                                                 0.0   \n",
       "Soluble levels of adhesion molecules                                          0.0   \n",
       "Multiple sclerosis                                                            0.0   \n",
       "Alcohol consumption (transferrin glycosylation)                               0.0   \n",
       "\n",
       "                                                 Cognitive performance  \\\n",
       "Crohn's disease                                                    0.0   \n",
       "Obesity (early onset extreme)                                      0.0   \n",
       "Soluble levels of adhesion molecules                               0.0   \n",
       "Multiple sclerosis                                                 0.0   \n",
       "Alcohol consumption (transferrin glycosylation)                    0.0   \n",
       "\n",
       "                                                 Self-reported math ability (MTAG)  \\\n",
       "Crohn's disease                                                                0.0   \n",
       "Obesity (early onset extreme)                                                  0.0   \n",
       "Soluble levels of adhesion molecules                                           0.0   \n",
       "Multiple sclerosis                                                             0.0   \n",
       "Alcohol consumption (transferrin glycosylation)                                0.0   \n",
       "\n",
       "                                                 Highest math class taken  \\\n",
       "Crohn's disease                                                       0.0   \n",
       "Obesity (early onset extreme)                                         0.0   \n",
       "Soluble levels of adhesion molecules                                  0.0   \n",
       "Multiple sclerosis                                                    0.0   \n",
       "Alcohol consumption (transferrin glycosylation)                       0.0   \n",
       "\n",
       "                                                 Highest math class taken (MTAG)  \\\n",
       "Crohn's disease                                                              0.0   \n",
       "Obesity (early onset extreme)                                                0.0   \n",
       "Soluble levels of adhesion molecules                                         0.0   \n",
       "Multiple sclerosis                                                           0.0   \n",
       "Alcohol consumption (transferrin glycosylation)                              0.0   \n",
       "\n",
       "                                                 Cognitive performance (MTAG)  \\\n",
       "Crohn's disease                                                           0.0   \n",
       "Obesity (early onset extreme)                                             0.0   \n",
       "Soluble levels of adhesion molecules                                      0.0   \n",
       "Multiple sclerosis                                                        0.0   \n",
       "Alcohol consumption (transferrin glycosylation)                           0.0   \n",
       "\n",
       "                                                 Self-reported math ability  \n",
       "Crohn's disease                                                         0.0  \n",
       "Obesity (early onset extreme)                                           0.0  \n",
       "Soluble levels of adhesion molecules                                    0.0  \n",
       "Multiple sclerosis                                                      0.0  \n",
       "Alcohol consumption (transferrin glycosylation)                         0.0  \n",
       "\n",
       "[5 rows x 1588 columns]"
      ]
     },
     "execution_count": 36,
     "metadata": {},
     "output_type": "execute_result"
    }
   ],
   "source": [
    "def calculate_similarity(data_items):\n",
    "    \"\"\"Calculate the column-wise cosine similarity for a sparse\n",
    "    matrix. Return a new dataframe matrix with similarities.\n",
    "    \"\"\"\n",
    "    data_sparse = sparse.csr_matrix(data_items)\n",
    "    similarities = cosine_similarity(data_sparse.transpose())\n",
    "    sim = pd.DataFrame(data=similarities, index= data_items.columns, columns= data_items.columns)\n",
    "    return sim\n",
    "\n",
    "# Build the similarity matrix\n",
    "data_matrix = calculate_similarity(data_bipartita_normalizada)\n",
    "data_matrix.head()"
   ]
  },
  {
   "cell_type": "markdown",
   "metadata": {},
   "source": [
    "Veamos similaridades"
   ]
  },
  {
   "cell_type": "code",
   "execution_count": 37,
   "metadata": {},
   "outputs": [
    {
     "name": "stdout",
     "output_type": "stream",
     "text": [
      "Educational attainment (MTAG)                                                      1.000000\n",
      "Educational attainment (years of education)                                        0.283334\n",
      "Highest math class taken (MTAG)                                                    0.146236\n",
      "Cognitive performance (MTAG)                                                       0.061917\n",
      "Attention deficit hyperactivity disorder or caudate nucleus volume (pleiotropy)    0.020097\n",
      "Self-reported math ability (MTAG)                                                  0.019937\n",
      "Intelligence (MTAG)                                                                0.011527\n",
      "Household income (MTAG)                                                            0.010223\n",
      "Intelligence                                                                       0.007085\n",
      "Cognitive performance                                                              0.006591\n",
      "Highest math class taken                                                           0.005902\n",
      "Urea levels                                                                        0.004790\n",
      "General cognitive ability                                                          0.004152\n",
      "Self-reported math ability                                                         0.003945\n",
      "Smoking initiation (ever regular vs never regular) (MTAG)                          0.003771\n",
      "Neuroticism (MTAG)                                                                 0.003515\n",
      "Smoking cessation (MTAG)                                                           0.003379\n",
      "Age-related cognitive decline (attention/processing speed) (slope of z-scores)     0.003178\n",
      "Household income                                                                   0.003135\n",
      "Non-glioblastoma glioma                                                            0.003065\n",
      "Glioblastoma                                                                       0.002928\n",
      "IgG N-glycosylation phenotypes (multivariate analysis)                             0.002787\n",
      "Visceral fat                                                                       0.002624\n",
      "Parental longevity (father's age at death)                                         0.002278\n",
      "Educational attainment (college completion)                                        0.002240\n",
      "Age of smoking initiation (MTAG)                                                   0.002223\n",
      "Multisite chronic pain                                                             0.002035\n",
      "Medication use (glucocorticoids)                                                   0.002005\n",
      "BMI in non-smokers                                                                 0.001993\n",
      "Smoking initiation (ever regular vs never regular)                                 0.001952\n",
      "Name: Educational attainment (MTAG), dtype: float64\n"
     ]
    }
   ],
   "source": [
    "# print(data_matrix.loc['Drinking behavior'].nlargest(25))\n",
    "print(data_matrix.loc['Educational attainment (MTAG)'].nlargest(30))"
   ]
  },
  {
   "cell_type": "markdown",
   "metadata": {},
   "source": [
    "Construimos una nueva matriz, con los `n_neighbours` de cada fenotipo. Vendrían a ser los `n_neighbours` fenotipos más cercanos a cada fenotipos."
   ]
  },
  {
   "cell_type": "code",
   "execution_count": 38,
   "metadata": {},
   "outputs": [
    {
     "data": {
      "text/html": [
       "<div>\n",
       "<style scoped>\n",
       "    .dataframe tbody tr th:only-of-type {\n",
       "        vertical-align: middle;\n",
       "    }\n",
       "\n",
       "    .dataframe tbody tr th {\n",
       "        vertical-align: top;\n",
       "    }\n",
       "\n",
       "    .dataframe thead th {\n",
       "        text-align: right;\n",
       "    }\n",
       "</style>\n",
       "<table border=\"1\" class=\"dataframe\">\n",
       "  <thead>\n",
       "    <tr style=\"text-align: right;\">\n",
       "      <th></th>\n",
       "      <th>1</th>\n",
       "      <th>2</th>\n",
       "      <th>3</th>\n",
       "      <th>4</th>\n",
       "      <th>5</th>\n",
       "      <th>6</th>\n",
       "      <th>7</th>\n",
       "      <th>8</th>\n",
       "      <th>9</th>\n",
       "      <th>10</th>\n",
       "      <th>11</th>\n",
       "      <th>12</th>\n",
       "      <th>13</th>\n",
       "      <th>14</th>\n",
       "      <th>15</th>\n",
       "      <th>16</th>\n",
       "      <th>17</th>\n",
       "      <th>18</th>\n",
       "      <th>19</th>\n",
       "      <th>20</th>\n",
       "    </tr>\n",
       "  </thead>\n",
       "  <tbody>\n",
       "    <tr>\n",
       "      <th>Crohn's disease</th>\n",
       "      <td>Crohn's disease</td>\n",
       "      <td>Inflammatory bowel disease</td>\n",
       "      <td>Ulcerative colitis</td>\n",
       "      <td>Gut microbiota (functional units)</td>\n",
       "      <td>Multiple sclerosis</td>\n",
       "      <td>Sarcoidosis</td>\n",
       "      <td>Sjögren's syndrome</td>\n",
       "      <td>Ankylosing spondylitis</td>\n",
       "      <td>Allergic rhinitis</td>\n",
       "      <td>Eosinophilic esophagitis</td>\n",
       "      <td>Atopic dermatitis</td>\n",
       "      <td>Stearic acid (18:0) levels</td>\n",
       "      <td>Disease progression in age-related macular deg...</td>\n",
       "      <td>Monokine induced by gamma interferon levels</td>\n",
       "      <td>Phosphatidylcholine levels</td>\n",
       "      <td>Palmitoleic acid (16:1n-7) levels</td>\n",
       "      <td>Liver enzyme levels (gamma-glutamyl transferase)</td>\n",
       "      <td>Keratinocyte cancer (MTAG)</td>\n",
       "      <td>Plasma omega-6 polyunsaturated fatty acid leve...</td>\n",
       "      <td>Hay fever and/or eczema</td>\n",
       "    </tr>\n",
       "    <tr>\n",
       "      <th>Obesity (early onset extreme)</th>\n",
       "      <td>Obesity (early onset extreme)</td>\n",
       "      <td>Height adjusted BMI</td>\n",
       "      <td>Age at adiposity rebound</td>\n",
       "      <td>Obesity</td>\n",
       "      <td>Childhood body mass index</td>\n",
       "      <td>Glycated hemoglobin levels</td>\n",
       "      <td>Body mass index</td>\n",
       "      <td>Medication use (HMG CoA reductase inhibitors)</td>\n",
       "      <td>Hip circumference</td>\n",
       "      <td>Weight</td>\n",
       "      <td>Hand grip strength</td>\n",
       "      <td>Morning person</td>\n",
       "      <td>Chronotype</td>\n",
       "      <td>C-reactive protein levels</td>\n",
       "      <td>Contrast sensitivity</td>\n",
       "      <td>Symmetrical dimethylarginine levels</td>\n",
       "      <td>B-type natriuretic peptide levels</td>\n",
       "      <td>Alcohol consumption (max-drinks)</td>\n",
       "      <td>L-arginine levels</td>\n",
       "      <td>Asymmetrical dimethylarginine levels</td>\n",
       "    </tr>\n",
       "    <tr>\n",
       "      <th>Soluble levels of adhesion molecules</th>\n",
       "      <td>Soluble levels of adhesion molecules</td>\n",
       "      <td>Blood metabolite ratios</td>\n",
       "      <td>Liver enzyme levels (alkaline phosphatase)</td>\n",
       "      <td>Red blood cell traits</td>\n",
       "      <td>Blood protein levels</td>\n",
       "      <td>Red blood cell count</td>\n",
       "      <td>Asymmetrical dimethylarginine levels</td>\n",
       "      <td>Alzheimer's disease (age of onset)</td>\n",
       "      <td>Acne (severe)</td>\n",
       "      <td>Urinary uromodulin levels</td>\n",
       "      <td>Bipolar disorder with mood-incongruent psychosis</td>\n",
       "      <td>B-type natriuretic peptide levels</td>\n",
       "      <td>Contrast sensitivity</td>\n",
       "      <td>Response to alcohol consumption (flushing resp...</td>\n",
       "      <td>Alcohol consumption (max-drinks)</td>\n",
       "      <td>L-arginine levels</td>\n",
       "      <td>Red blood cell fatty acid levels</td>\n",
       "      <td>Symmetrical dimethylarginine levels</td>\n",
       "      <td>Glucose homeostasis traits</td>\n",
       "      <td>Birth length</td>\n",
       "    </tr>\n",
       "    <tr>\n",
       "      <th>Multiple sclerosis</th>\n",
       "      <td>Multiple sclerosis</td>\n",
       "      <td>Systolic blood pressure response to thiazide a...</td>\n",
       "      <td>Heavy menstrual bleeding</td>\n",
       "      <td>Primary biliary cirrhosis</td>\n",
       "      <td>Crohn's disease</td>\n",
       "      <td>Inflammatory bowel disease</td>\n",
       "      <td>Primary central nervous system lymphoma</td>\n",
       "      <td>Rheumatoid arthritis (ACPA-positive)</td>\n",
       "      <td>Alopecia areata</td>\n",
       "      <td>Uterine fibroids and heavy menstrual bleeding</td>\n",
       "      <td>Primary sclerosing cholangitis</td>\n",
       "      <td>Systemic lupus erythematosus</td>\n",
       "      <td>Autoimmune thyroid diseases (Graves disease or...</td>\n",
       "      <td>Follicular lymphoma</td>\n",
       "      <td>Medication use (thyroid preparations)</td>\n",
       "      <td>Renal cell carcinoma</td>\n",
       "      <td>Glioblastoma</td>\n",
       "      <td>Plasma free amino acid levels</td>\n",
       "      <td>Multiple myeloma</td>\n",
       "      <td>Plasma free amino acid levels (adjusted for tw...</td>\n",
       "    </tr>\n",
       "    <tr>\n",
       "      <th>Alcohol consumption (transferrin glycosylation)</th>\n",
       "      <td>Alcohol consumption (transferrin glycosylation)</td>\n",
       "      <td>Iron status biomarkers (transferrin levels)</td>\n",
       "      <td>Hematological parameters</td>\n",
       "      <td>Hematology traits</td>\n",
       "      <td>Iron status biomarkers (ferritin levels)</td>\n",
       "      <td>Cardiovascular disease risk factors</td>\n",
       "      <td>Iron status biomarkers (iron levels)</td>\n",
       "      <td>Iron status biomarkers (transferrin saturation)</td>\n",
       "      <td>Hematocrit</td>\n",
       "      <td>Red blood cell count</td>\n",
       "      <td>Mean corpuscular hemoglobin</td>\n",
       "      <td>Diastolic blood pressure</td>\n",
       "      <td>Osteoarthritis (hip)</td>\n",
       "      <td>Conscientiousness</td>\n",
       "      <td>Response to alcohol consumption (flushing resp...</td>\n",
       "      <td>Alcohol consumption (max-drinks)</td>\n",
       "      <td>L-arginine levels</td>\n",
       "      <td>Asymmetrical dimethylarginine levels</td>\n",
       "      <td>Symmetrical dimethylarginine levels</td>\n",
       "      <td>Glucose homeostasis traits</td>\n",
       "    </tr>\n",
       "  </tbody>\n",
       "</table>\n",
       "</div>"
      ],
      "text/plain": [
       "                                                                                               1  \\\n",
       "Crohn's disease                                                                  Crohn's disease   \n",
       "Obesity (early onset extreme)                                      Obesity (early onset extreme)   \n",
       "Soluble levels of adhesion molecules                        Soluble levels of adhesion molecules   \n",
       "Multiple sclerosis                                                            Multiple sclerosis   \n",
       "Alcohol consumption (transferrin glycosylation)  Alcohol consumption (transferrin glycosylation)   \n",
       "\n",
       "                                                                                                 2  \\\n",
       "Crohn's disease                                                         Inflammatory bowel disease   \n",
       "Obesity (early onset extreme)                                                  Height adjusted BMI   \n",
       "Soluble levels of adhesion molecules                                       Blood metabolite ratios   \n",
       "Multiple sclerosis                               Systolic blood pressure response to thiazide a...   \n",
       "Alcohol consumption (transferrin glycosylation)        Iron status biomarkers (transferrin levels)   \n",
       "\n",
       "                                                                                          3  \\\n",
       "Crohn's disease                                                          Ulcerative colitis   \n",
       "Obesity (early onset extreme)                                      Age at adiposity rebound   \n",
       "Soluble levels of adhesion molecules             Liver enzyme levels (alkaline phosphatase)   \n",
       "Multiple sclerosis                                                 Heavy menstrual bleeding   \n",
       "Alcohol consumption (transferrin glycosylation)                    Hematological parameters   \n",
       "\n",
       "                                                                                 4  \\\n",
       "Crohn's disease                                  Gut microbiota (functional units)   \n",
       "Obesity (early onset extreme)                                              Obesity   \n",
       "Soluble levels of adhesion molecules                         Red blood cell traits   \n",
       "Multiple sclerosis                                       Primary biliary cirrhosis   \n",
       "Alcohol consumption (transferrin glycosylation)                  Hematology traits   \n",
       "\n",
       "                                                                                        5  \\\n",
       "Crohn's disease                                                        Multiple sclerosis   \n",
       "Obesity (early onset extreme)                                   Childhood body mass index   \n",
       "Soluble levels of adhesion molecules                                 Blood protein levels   \n",
       "Multiple sclerosis                                                        Crohn's disease   \n",
       "Alcohol consumption (transferrin glycosylation)  Iron status biomarkers (ferritin levels)   \n",
       "\n",
       "                                                                                   6  \\\n",
       "Crohn's disease                                                          Sarcoidosis   \n",
       "Obesity (early onset extreme)                             Glycated hemoglobin levels   \n",
       "Soluble levels of adhesion molecules                            Red blood cell count   \n",
       "Multiple sclerosis                                        Inflammatory bowel disease   \n",
       "Alcohol consumption (transferrin glycosylation)  Cardiovascular disease risk factors   \n",
       "\n",
       "                                                                                       7  \\\n",
       "Crohn's disease                                                       Sjögren's syndrome   \n",
       "Obesity (early onset extreme)                                            Body mass index   \n",
       "Soluble levels of adhesion molecules                Asymmetrical dimethylarginine levels   \n",
       "Multiple sclerosis                               Primary central nervous system lymphoma   \n",
       "Alcohol consumption (transferrin glycosylation)     Iron status biomarkers (iron levels)   \n",
       "\n",
       "                                                                                               8  \\\n",
       "Crohn's disease                                                           Ankylosing spondylitis   \n",
       "Obesity (early onset extreme)                      Medication use (HMG CoA reductase inhibitors)   \n",
       "Soluble levels of adhesion molecules                          Alzheimer's disease (age of onset)   \n",
       "Multiple sclerosis                                          Rheumatoid arthritis (ACPA-positive)   \n",
       "Alcohol consumption (transferrin glycosylation)  Iron status biomarkers (transferrin saturation)   \n",
       "\n",
       "                                                                 9  \\\n",
       "Crohn's disease                                  Allergic rhinitis   \n",
       "Obesity (early onset extreme)                    Hip circumference   \n",
       "Soluble levels of adhesion molecules                 Acne (severe)   \n",
       "Multiple sclerosis                                 Alopecia areata   \n",
       "Alcohol consumption (transferrin glycosylation)         Hematocrit   \n",
       "\n",
       "                                                                                            10  \\\n",
       "Crohn's disease                                                       Eosinophilic esophagitis   \n",
       "Obesity (early onset extreme)                                                           Weight   \n",
       "Soluble levels of adhesion molecules                                 Urinary uromodulin levels   \n",
       "Multiple sclerosis                               Uterine fibroids and heavy menstrual bleeding   \n",
       "Alcohol consumption (transferrin glycosylation)                           Red blood cell count   \n",
       "\n",
       "                                                                                               11  \\\n",
       "Crohn's disease                                                                 Atopic dermatitis   \n",
       "Obesity (early onset extreme)                                                  Hand grip strength   \n",
       "Soluble levels of adhesion molecules             Bipolar disorder with mood-incongruent psychosis   \n",
       "Multiple sclerosis                                                 Primary sclerosing cholangitis   \n",
       "Alcohol consumption (transferrin glycosylation)                       Mean corpuscular hemoglobin   \n",
       "\n",
       "                                                                                12  \\\n",
       "Crohn's disease                                         Stearic acid (18:0) levels   \n",
       "Obesity (early onset extreme)                                       Morning person   \n",
       "Soluble levels of adhesion molecules             B-type natriuretic peptide levels   \n",
       "Multiple sclerosis                                    Systemic lupus erythematosus   \n",
       "Alcohol consumption (transferrin glycosylation)           Diastolic blood pressure   \n",
       "\n",
       "                                                                                                13  \\\n",
       "Crohn's disease                                  Disease progression in age-related macular deg...   \n",
       "Obesity (early onset extreme)                                                           Chronotype   \n",
       "Soluble levels of adhesion molecules                                          Contrast sensitivity   \n",
       "Multiple sclerosis                               Autoimmune thyroid diseases (Graves disease or...   \n",
       "Alcohol consumption (transferrin glycosylation)                               Osteoarthritis (hip)   \n",
       "\n",
       "                                                                                                14  \\\n",
       "Crohn's disease                                        Monokine induced by gamma interferon levels   \n",
       "Obesity (early onset extreme)                                            C-reactive protein levels   \n",
       "Soluble levels of adhesion molecules             Response to alcohol consumption (flushing resp...   \n",
       "Multiple sclerosis                                                             Follicular lymphoma   \n",
       "Alcohol consumption (transferrin glycosylation)                                  Conscientiousness   \n",
       "\n",
       "                                                                                                15  \\\n",
       "Crohn's disease                                                         Phosphatidylcholine levels   \n",
       "Obesity (early onset extreme)                                                 Contrast sensitivity   \n",
       "Soluble levels of adhesion molecules                              Alcohol consumption (max-drinks)   \n",
       "Multiple sclerosis                                           Medication use (thyroid preparations)   \n",
       "Alcohol consumption (transferrin glycosylation)  Response to alcohol consumption (flushing resp...   \n",
       "\n",
       "                                                                                  16  \\\n",
       "Crohn's disease                                    Palmitoleic acid (16:1n-7) levels   \n",
       "Obesity (early onset extreme)                    Symmetrical dimethylarginine levels   \n",
       "Soluble levels of adhesion molecules                               L-arginine levels   \n",
       "Multiple sclerosis                                              Renal cell carcinoma   \n",
       "Alcohol consumption (transferrin glycosylation)     Alcohol consumption (max-drinks)   \n",
       "\n",
       "                                                                                               17  \\\n",
       "Crohn's disease                                  Liver enzyme levels (gamma-glutamyl transferase)   \n",
       "Obesity (early onset extreme)                                   B-type natriuretic peptide levels   \n",
       "Soluble levels of adhesion molecules                             Red blood cell fatty acid levels   \n",
       "Multiple sclerosis                                                                   Glioblastoma   \n",
       "Alcohol consumption (transferrin glycosylation)                                 L-arginine levels   \n",
       "\n",
       "                                                                                   18  \\\n",
       "Crohn's disease                                            Keratinocyte cancer (MTAG)   \n",
       "Obesity (early onset extreme)                        Alcohol consumption (max-drinks)   \n",
       "Soluble levels of adhesion molecules              Symmetrical dimethylarginine levels   \n",
       "Multiple sclerosis                                      Plasma free amino acid levels   \n",
       "Alcohol consumption (transferrin glycosylation)  Asymmetrical dimethylarginine levels   \n",
       "\n",
       "                                                                                                19  \\\n",
       "Crohn's disease                                  Plasma omega-6 polyunsaturated fatty acid leve...   \n",
       "Obesity (early onset extreme)                                                    L-arginine levels   \n",
       "Soluble levels of adhesion molecules                                    Glucose homeostasis traits   \n",
       "Multiple sclerosis                                                                Multiple myeloma   \n",
       "Alcohol consumption (transferrin glycosylation)                Symmetrical dimethylarginine levels   \n",
       "\n",
       "                                                                                                20  \n",
       "Crohn's disease                                                            Hay fever and/or eczema  \n",
       "Obesity (early onset extreme)                                 Asymmetrical dimethylarginine levels  \n",
       "Soluble levels of adhesion molecules                                                  Birth length  \n",
       "Multiple sclerosis                               Plasma free amino acid levels (adjusted for tw...  \n",
       "Alcohol consumption (transferrin glycosylation)                         Glucose homeostasis traits  "
      ]
     },
     "execution_count": 38,
     "metadata": {},
     "output_type": "execute_result"
    }
   ],
   "source": [
    "n_neighbours = 20\n",
    "data_neighbours = pd.DataFrame(index=data_matrix.columns, columns=range(1,n_neighbours+1))\n",
    "for i in range(0, len(data_matrix.columns)):\n",
    "    data_neighbours.iloc[i,:n_neighbours] = data_matrix.iloc[0:,i].sort_values(ascending=False)[:n_neighbours].index\n",
    "data_neighbours.head()"
   ]
  },
  {
   "cell_type": "markdown",
   "metadata": {},
   "source": [
    "Elegimos un alelo dentro del conjunto de entrenamiento"
   ]
  },
  {
   "cell_type": "code",
   "execution_count": 39,
   "metadata": {},
   "outputs": [
    {
     "name": "stdout",
     "output_type": "stream",
     "text": [
      "Alelo de prueba: rs61753147-A\n",
      "Fenotipos asociados al alelo: ['Atypical femoral fracture in phosphonate treatment']\n"
     ]
    }
   ],
   "source": [
    "# np.random.seed(43)\n",
    "alelo_prueba = np.random.choice(data_tripletes_train.alelo_riesgo.unique())\n",
    "# alelo_prueba = 'rs6739779-C'\n",
    "# alelo_prueba = 'rs4549631-C'\n",
    "print(f'Alelo de prueba: {alelo_prueba}')\n",
    "\n",
    "\n",
    "known_alelo_fenotipos = data_bipartita_normalizada.loc[alelo_prueba,:]\n",
    "known_alelo_fenotipos = known_alelo_fenotipos[known_alelo_fenotipos >0].index.values\n",
    "print(f'Fenotipos asociados al alelo: {known_alelo_fenotipos}')"
   ]
  },
  {
   "cell_type": "markdown",
   "metadata": {},
   "source": [
    "Dado esos fenotipos, seleccionamos los similares a partir de `data_neighbours`"
   ]
  },
  {
   "cell_type": "code",
   "execution_count": 40,
   "metadata": {},
   "outputs": [
    {
     "name": "stdout",
     "output_type": "stream",
     "text": [
      "Fenotipos similares, sin rankear: ['Atypical femoral fracture in phosphonate treatment', \"Alzheimer's disease (age of onset)\", 'L-arginine levels', 'Alcohol consumption (max-drinks)', 'Bipolar disorder', 'Asymmetrical dimethylarginine levels', 'Bisphosphonate-associated atypical femoral fracture', 'B-type natriuretic peptide levels', 'Bipolar disorder with mood-incongruent psychosis', 'Birth length', 'Symmetrical dimethylarginine levels', 'Glucose homeostasis traits', 'Esophageal squamous cell carcinoma', 'Contrast sensitivity', 'Red blood cell fatty acid levels', 'Response to alcohol consumption (flushing response)', 'Urinary uromodulin levels', 'Self-reported math ability', 'Lung function (forced expiratory volume in 1 second)', 'Acne (severe)']\n"
     ]
    }
   ],
   "source": [
    "# Construct the neighbourhood from the most similar items to the\n",
    "# ones our alelo it's related\n",
    "most_similar_fenotipos = data_neighbours.loc[known_alelo_fenotipos]\n",
    "# most_similar_fenotipos\n",
    "similar_list = most_similar_fenotipos.values.tolist()\n",
    "similar_list = list(set([item for sublist in similar_list for item in sublist]))\n",
    "print(f'Fenotipos similares, sin rankear: {similar_list}')"
   ]
  },
  {
   "cell_type": "markdown",
   "metadata": {},
   "source": [
    "Seleccionamos, dentro de la matriz de similaridades, los valores para los fenotipos similares"
   ]
  },
  {
   "cell_type": "code",
   "execution_count": 41,
   "metadata": {},
   "outputs": [
    {
     "data": {
      "text/plain": [
       "(20, 20)"
      ]
     },
     "execution_count": 41,
     "metadata": {},
     "output_type": "execute_result"
    }
   ],
   "source": [
    "neighbourhood = data_matrix[similar_list].loc[similar_list]\n",
    "neighbourhood.shape"
   ]
  },
  {
   "cell_type": "markdown",
   "metadata": {},
   "source": [
    "Creamos un vector que tiene los fenotipos similares, incluyendo los conocidos, y su *rating* (1 o 0)."
   ]
  },
  {
   "cell_type": "code",
   "execution_count": 42,
   "metadata": {},
   "outputs": [
    {
     "data": {
      "text/plain": [
       "Atypical femoral fracture in phosphonate treatment      1.0\n",
       "Alzheimer's disease (age of onset)                      0.0\n",
       "L-arginine levels                                       0.0\n",
       "Alcohol consumption (max-drinks)                        0.0\n",
       "Bipolar disorder                                        0.0\n",
       "Asymmetrical dimethylarginine levels                    0.0\n",
       "Bisphosphonate-associated atypical femoral fracture     0.0\n",
       "B-type natriuretic peptide levels                       0.0\n",
       "Bipolar disorder with mood-incongruent psychosis        0.0\n",
       "Birth length                                            0.0\n",
       "Symmetrical dimethylarginine levels                     0.0\n",
       "Glucose homeostasis traits                              0.0\n",
       "Esophageal squamous cell carcinoma                      0.0\n",
       "Contrast sensitivity                                    0.0\n",
       "Red blood cell fatty acid levels                        0.0\n",
       "Response to alcohol consumption (flushing response)     0.0\n",
       "Urinary uromodulin levels                               0.0\n",
       "Self-reported math ability                              0.0\n",
       "Lung function (forced expiratory volume in 1 second)    0.0\n",
       "Acne (severe)                                           0.0\n",
       "Name: rs61753147-A, dtype: float64"
      ]
     },
     "execution_count": 42,
     "metadata": {},
     "output_type": "execute_result"
    }
   ],
   "source": [
    "# A user vector containing only the neighbourhood items and\n",
    "# the known user likes.\n",
    "fenotipos_probables = data_bipartita_normalizada.loc[alelo_prueba,:].loc[similar_list]\n",
    "fenotipos_probables"
   ]
  },
  {
   "cell_type": "markdown",
   "metadata": {},
   "source": [
    "Calculamos los scores y ordenamos."
   ]
  },
  {
   "cell_type": "code",
   "execution_count": 43,
   "metadata": {},
   "outputs": [],
   "source": [
    "# Calculate the score.\n",
    "score = neighbourhood.dot(fenotipos_probables).div(neighbourhood.sum(axis=1))\n",
    "# score\n",
    "score.sort_values(ascending = False, inplace = True)\n",
    "# score"
   ]
  },
  {
   "cell_type": "markdown",
   "metadata": {},
   "source": [
    "E imprimimos los fenotipos conocidos y el ranking"
   ]
  },
  {
   "cell_type": "code",
   "execution_count": 44,
   "metadata": {},
   "outputs": [
    {
     "name": "stdout",
     "output_type": "stream",
     "text": [
      "['Atypical femoral fracture in phosphonate treatment']\n",
      "Atypical femoral fracture in phosphonate treatment      0.968438\n",
      "Bisphosphonate-associated atypical femoral fracture     0.023399\n",
      "Bipolar disorder                                        0.008491\n",
      "Lung function (forced expiratory volume in 1 second)    0.000000\n",
      "Alzheimer's disease (age of onset)                      0.000000\n",
      "L-arginine levels                                       0.000000\n",
      "Alcohol consumption (max-drinks)                        0.000000\n",
      "Asymmetrical dimethylarginine levels                    0.000000\n",
      "B-type natriuretic peptide levels                       0.000000\n",
      "Bipolar disorder with mood-incongruent psychosis        0.000000\n",
      "Acne (severe)                                           0.000000\n",
      "Symmetrical dimethylarginine levels                     0.000000\n",
      "Glucose homeostasis traits                              0.000000\n",
      "Esophageal squamous cell carcinoma                      0.000000\n",
      "Contrast sensitivity                                    0.000000\n",
      "Red blood cell fatty acid levels                        0.000000\n",
      "Response to alcohol consumption (flushing response)     0.000000\n",
      "Urinary uromodulin levels                               0.000000\n",
      "Self-reported math ability                              0.000000\n",
      "Birth length                                            0.000000\n",
      "dtype: float64\n"
     ]
    }
   ],
   "source": [
    "print(known_alelo_fenotipos)\n",
    "print(score)"
   ]
  },
  {
   "cell_type": "code",
   "execution_count": 45,
   "metadata": {},
   "outputs": [
    {
     "data": {
      "image/png": "[encoded data removed]",
      "text/plain": [
       "<Figure size 720x288 with 1 Axes>"
      ]
     },
     "metadata": {},
     "output_type": "display_data"
    }
   ],
   "source": [
    "# sns.barplot(score.index, score.values)\n",
    "plt.figure(figsize = (10,4))\n",
    "plt.scatter(score.index, score.values)\n",
    "plt.xticks(rotation = 90)\n",
    "plt.show()"
   ]
  },
  {
   "cell_type": "code",
   "execution_count": 46,
   "metadata": {},
   "outputs": [],
   "source": [
    "def recomendaciones_alelo(alelo_index, data_bipartita_normalizada, data_neighbours, data_matrix):\n",
    "    known_alelo_fenotipos = data_bipartita_normalizada.iloc[alelo_index]\n",
    "    known_alelo_fenotipos = known_alelo_fenotipos[known_alelo_fenotipos >0].index.values\n",
    "\n",
    "    most_similar_fenotipos = data_neighbours.loc[known_alelo_fenotipos]\n",
    "\n",
    "    similar_list = most_similar_fenotipos.values.tolist()\n",
    "    similar_list = list(set([item for sublist in similar_list for item in sublist]))\n",
    "\n",
    "    neighbourhood = data_matrix[similar_list].loc[similar_list]\n",
    "\n",
    "    fenotipos_probables = data_bipartita_normalizada.iloc[alelo_prueba_index].loc[similar_list]\n",
    "\n",
    "    score = neighbourhood.dot(fenotipos_probables).div(neighbourhood.sum(axis=1))\n",
    "    score.sort_values(ascending = False, inplace = True)\n",
    "\n",
    "    return score"
   ]
  },
  {
   "cell_type": "code",
   "execution_count": 47,
   "metadata": {},
   "outputs": [
    {
     "ename": "NameError",
     "evalue": "name 'alelo_prueba_index' is not defined",
     "output_type": "error",
     "traceback": [
      "\u001b[0;31m---------------------------------------------------------------------------\u001b[0m",
      "\u001b[0;31mNameError\u001b[0m                                 Traceback (most recent call last)",
      "\u001b[0;32m<ipython-input-47-46fadf4b8a25>\u001b[0m in \u001b[0;36m<module>\u001b[0;34m\u001b[0m\n\u001b[0;32m----> 1\u001b[0;31m \u001b[0mscore\u001b[0m \u001b[0;34m=\u001b[0m \u001b[0mrecomendaciones_alelo\u001b[0m\u001b[0;34m(\u001b[0m\u001b[0malelo_prueba_index\u001b[0m\u001b[0;34m,\u001b[0m \u001b[0mdata_bipartita_normalizada\u001b[0m\u001b[0;34m,\u001b[0m \u001b[0mdata_neighbours\u001b[0m\u001b[0;34m,\u001b[0m \u001b[0mdata_matrix\u001b[0m\u001b[0;34m)\u001b[0m\u001b[0;34m\u001b[0m\u001b[0;34m\u001b[0m\u001b[0m\n\u001b[0m",
      "\u001b[0;31mNameError\u001b[0m: name 'alelo_prueba_index' is not defined"
     ]
    }
   ],
   "source": [
    "score = recomendaciones_alelo(alelo_prueba_index, data_bipartita_normalizada, data_neighbours, data_matrix)"
   ]
  },
  {
   "cell_type": "code",
   "execution_count": null,
   "metadata": {},
   "outputs": [],
   "source": [
    "plt.scatter(score.index, score.values)\n",
    "plt.xticks(rotation = 90)"
   ]
  },
  {
   "cell_type": "markdown",
   "metadata": {},
   "source": [
    "### Sobre Conjunto de Test\n",
    "\n",
    "\"A mano\" por ahora"
   ]
  },
  {
   "cell_type": "code",
   "execution_count": 48,
   "metadata": {},
   "outputs": [
    {
     "name": "stdout",
     "output_type": "stream",
     "text": [
      "Alelo a probar: rs1535-A\n",
      "Todos fenotipos asociados al alelo: ['Plasma omega-3 polyunsaturated fatty acid levels (alphalinolenic acid)'\n",
      " 'Plasma omega-3 polyunsaturated fatty acid levels (docosapentaenoic acid)'\n",
      " 'Trans fatty acid levels' 'Total cholesterol levels'\n",
      " 'HDL cholesterol levels' 'Triglyceride levels' 'Colorectal cancer']\n",
      "Fenotipos en Test: ['Plasma omega-3 polyunsaturated fatty acid levels (docosapentaenoic acid)']\n",
      "Fenotipos en Train: ['Colorectal cancer' 'HDL cholesterol levels'\n",
      " 'Plasma omega-3 polyunsaturated fatty acid levels (alphalinolenic acid)'\n",
      " 'Triglyceride levels' 'Trans fatty acid levels'\n",
      " 'Total cholesterol levels']\n"
     ]
    }
   ],
   "source": [
    "# np.random.seed(50)\n",
    "alelo_prueba = np.random.choice(data_tripletes_test.alelo_riesgo)\n",
    "print(f'Alelo a probar: {alelo_prueba}')\n",
    "\n",
    "todos_fenotipos_asociados = data_tripletes[data_tripletes.alelo_riesgo == alelo_prueba].fenotipo.values\n",
    "fenotipos_en_test = data_tripletes_test[data_tripletes_test.alelo_riesgo == alelo_prueba].fenotipo.values\n",
    "# known_alelo_fenotipos = known_alelo_fenotipos[known_alelo_fenotipos >0].index.values\n",
    "print(f'Todos fenotipos asociados al alelo: {todos_fenotipos_asociados}')\n",
    "print(f'Fenotipos en Test: {fenotipos_en_test}')\n",
    "\n",
    "fenotipos_en_train = data_bipartita_normalizada.loc[alelo_prueba]\n",
    "fenotipos_en_train = fenotipos_en_train[fenotipos_en_train >0].index.values\n",
    "print(f'Fenotipos en Train: {fenotipos_en_train}')"
   ]
  },
  {
   "cell_type": "code",
   "execution_count": 49,
   "metadata": {},
   "outputs": [],
   "source": [
    "most_similar_fenotipos = data_neighbours.loc[fenotipos_en_test]\n",
    "similar_list = most_similar_fenotipos.values.tolist()\n",
    "similar_list = list(set([item for sublist in similar_list for item in sublist]))\n",
    "neighbourhood = data_matrix[similar_list].loc[similar_list]"
   ]
  },
  {
   "cell_type": "code",
   "execution_count": 50,
   "metadata": {},
   "outputs": [],
   "source": [
    "fenotipos_probables = data_bipartita_normalizada.loc[alelo_prueba].loc[similar_list]\n",
    "# fenotipos_probables"
   ]
  },
  {
   "cell_type": "code",
   "execution_count": 51,
   "metadata": {},
   "outputs": [
    {
     "name": "stdout",
     "output_type": "stream",
     "text": [
      "Fenotipos en Train: ['Colorectal cancer' 'HDL cholesterol levels'\n",
      " 'Plasma omega-3 polyunsaturated fatty acid levels (alphalinolenic acid)'\n",
      " 'Triglyceride levels' 'Trans fatty acid levels'\n",
      " 'Total cholesterol levels']\n",
      "Fenotipos en Test: ['Plasma omega-3 polyunsaturated fatty acid levels (docosapentaenoic acid)']\n",
      "Trans fatty acid levels                                                     0.378260\n",
      "Plasma omega-3 polyunsaturated fatty acid levels (alphalinolenic acid)      0.347374\n",
      "Plasma omega-3 polyunsaturated fatty acid levels (docosapentaenoic acid)    0.035953\n",
      "Plasma omega-3 polyunsaturated fatty acid level (eicosapentaenoic acid)     0.025426\n",
      "Plasma omega-6 polyunsaturated fatty acid levels (gamma-linolenic acid)     0.008249\n",
      "Palmitoleic acid (16:1n-7) levels                                           0.007986\n",
      "Irritable mood                                                              0.003867\n",
      "Nasal polyps                                                                0.002253\n",
      "Inflammatory bowel disease                                                  0.001999\n",
      "Platelet count                                                              0.001350\n",
      "Metabolite levels                                                           0.001059\n",
      "Asthma (adult onset)                                                        0.001041\n",
      "Height                                                                      0.000579\n",
      "Asthma                                                                      0.000383\n",
      "Symmetrical dimethylarginine levels                                         0.000000\n",
      "Post bronchodilator FEV1/FVC ratio                                          0.000000\n",
      "Urinary albumin-to-creatinine ratio in diabetes                             0.000000\n",
      "Asymmetrical dimethylarginine levels                                        0.000000\n",
      "Plasma omega-3 polyunsaturated fatty acid levels (docosahexaenoic acid)     0.000000\n",
      "L-arginine levels                                                           0.000000\n",
      "dtype: float64\n"
     ]
    }
   ],
   "source": [
    "score = neighbourhood.dot(fenotipos_probables).div(neighbourhood.sum(axis=1))\n",
    "score.sort_values(ascending = False, inplace = True)\n",
    "print(f'Fenotipos en Train: {fenotipos_en_train}')\n",
    "print(f'Fenotipos en Test: {fenotipos_en_test}')\n",
    "print(score.nlargest(50))"
   ]
  },
  {
   "cell_type": "code",
   "execution_count": 52,
   "metadata": {},
   "outputs": [
    {
     "data": {
      "image/png": "[encoded data removed]",
      "text/plain": [
       "<Figure size 432x288 with 1 Axes>"
      ]
     },
     "metadata": {},
     "output_type": "display_data"
    }
   ],
   "source": [
    "plt.scatter(score.index, score.values)\n",
    "plt.xticks(rotation = 90)\n",
    "plt.show()"
   ]
  },
  {
   "cell_type": "markdown",
   "metadata": {},
   "source": [
    "1. grafico de fenotipos vs score\n",
    "1. capacidad de priorizar dado \n",
    "1. Usar el paper de zhou\n",
    "\n",
    "\n",
    "MARTES - 5 min\n",
    "dimensión de los datos\n",
    "encuadrar el problema biológico o metodológico\n",
    "\n"
   ]
  },
  {
   "cell_type": "code",
   "execution_count": 53,
   "metadata": {},
   "outputs": [],
   "source": [
    "def indices_aciertos(fenotipos_recomendados, fenotipos_a_evaluar):\n",
    "    indices = []\n",
    "    for fenotipo in fenotipos_a_evaluar:\n",
    "        if fenotipo in fenotipos_recomendados:\n",
    "            indices.append(fenotipos_recomendados.index(fenotipo))\n",
    "        else:\n",
    "            indices.append(-1)\n",
    "    return indices"
   ]
  },
  {
   "cell_type": "code",
   "execution_count": 57,
   "metadata": {},
   "outputs": [
    {
     "data": {
      "text/plain": [
       "[1, 2, 0, -1, -1, -1, -1]"
      ]
     },
     "execution_count": 57,
     "metadata": {},
     "output_type": "execute_result"
    }
   ],
   "source": [
    "n = 100\n",
    "fenotipos_recomendados = list(score.index)\n",
    "# fenotipos_recomendados = [x for x in fenotipos_recomendados if x not in fenotipos_train]\n",
    "\n",
    "\n",
    "\n",
    "indices_aciertos(fenotipos_recomendados, todos_fenotipos_asociados)"
   ]
  },
  {
   "cell_type": "code",
   "execution_count": null,
   "metadata": {},
   "outputs": [],
   "source": []
  },
  {
   "cell_type": "code",
   "execution_count": null,
   "metadata": {},
   "outputs": [],
   "source": [
    "n = 10\n",
    "\n",
    "resultados = []\n",
    "\n",
    "for alelo_prueba_index in data_bipartita_test_1.index:\n",
    "#     print(alelo_prueba_index)\n",
    "    alelo_prueba = dict_id_to_alelo[alelo_prueba_index]\n",
    "    known_alelo_fenotipos = data_bipartita_test_1.loc[alelo_prueba_index]\n",
    "    known_alelo_fenotipos = known_alelo_fenotipos[known_alelo_fenotipos >0].index.values\n",
    "#     print(f'Fenotipos asociados al alelo para generar recomendaciones: {known_alelo_fenotipos}')\n",
    "    \n",
    "    fenotipos_reportados_alelo = data_bipartita.loc[alelo_prueba_index]\n",
    "    fenotipos_reportados_alelo = fenotipos_reportados_alelo[fenotipos_reportados_alelo >0].index.values\n",
    "#     print(f'Todos fenotipos asociados al alelo: {fenotipos_reportados_alelo}')\n",
    "    \n",
    "    most_similar_fenotipos = data_neighbours.loc[known_alelo_fenotipos]\n",
    "    similar_list = most_similar_fenotipos.values.tolist()\n",
    "    similar_list = list(set([item for sublist in similar_list for item in sublist]))\n",
    "    neighbourhood = data_matrix[similar_list].loc[similar_list]\n",
    "    \n",
    "    fenotipos_probables = data_bipartita_test_1.loc[alelo_prueba_index].loc[similar_list]\n",
    "    score = neighbourhood.dot(fenotipos_probables).div(neighbourhood.sum(axis=1))\n",
    "    score.sort_values(ascending = False, inplace = True)\n",
    "#     print(score.nlargest(5))\n",
    "\n",
    "    \n",
    "    fenotipos_recomendados = list(score.index)\n",
    "    fenotipos_usados_para_recomendar = known_alelo_fenotipos\n",
    "    fenotipos_conocidos = fenotipos_reportados_alelo\n",
    "    \n",
    "    n_0 = len(fenotipos_usados_para_recomendar)\n",
    "    fenotipos_recomendados = fenotipos_recomendados[n_0:n_0+n]\n",
    "    fenotipos_a_evaluar = [x for x in fenotipos_conocidos if x not in fenotipos_usados_para_recomendar]\n",
    "    \n",
    "    idxs = indices_aciertos(fenotipos_recomendados, fenotipos_a_evaluar)\n",
    "    \n",
    "    resultados_alelo = dict(zip(fenotipos_a_evaluar, idxs))\n",
    "    resultados_alelo['alelo'] = alelo_prueba\n",
    "    resultados_alelo['indice_alelo'] = alelo_prueba_index\n",
    "    resultados.append(resultados_alelo)\n",
    "    \n",
    "#     print(idxs)\n"
   ]
  },
  {
   "cell_type": "code",
   "execution_count": null,
   "metadata": {},
   "outputs": [],
   "source": [
    "resultados_df = pd.DataFrame(resultados).set_index('indice_alelo')\n",
    "resultados_df.head()"
   ]
  },
  {
   "cell_type": "code",
   "execution_count": null,
   "metadata": {},
   "outputs": [],
   "source": [
    "indices = resultados_df.drop(columns = 'alelo').values\n",
    "indices = indices[~np.isnan(indices)]\n",
    "plt.hist(indices, bins = np.arange(-1.5,9.5))"
   ]
  },
  {
   "cell_type": "code",
   "execution_count": null,
   "metadata": {},
   "outputs": [],
   "source": [
    "print(f'Porcentaje aciertos: {(indices>-1).sum()/indices.size}')\n",
    "print(f'Porcentaje no aciertos: {(indices==-1).sum()/indices.size}')"
   ]
  },
  {
   "cell_type": "code",
   "execution_count": null,
   "metadata": {},
   "outputs": [],
   "source": []
  },
  {
   "cell_type": "markdown",
   "metadata": {},
   "source": [
    "### Cosas para hacer\n",
    "\n",
    "1. Chequear sobre `categoria_fenotipo` que no sea trivial\n",
    "1. Agregar segunda forma de evaluación: borrando '1' de la matriz de train\n",
    "1. Chequear que al separar train y test no se rompa la red\n",
    "1. Metodizar la evaluación para obtener una métrica\n",
    "1. Chequear que no estemos cayendo en la parte \"fácil\" de la red --> ¿pregunta biológica?"
   ]
  },
  {
   "cell_type": "code",
   "execution_count": null,
   "metadata": {},
   "outputs": [],
   "source": []
  },
  {
   "cell_type": "code",
   "execution_count": null,
   "metadata": {},
   "outputs": [],
   "source": []
  },
  {
   "cell_type": "code",
   "execution_count": null,
   "metadata": {},
   "outputs": [],
   "source": []
  }
 ],
 "metadata": {
  "kernelspec": {
   "display_name": "Python 3",
   "language": "python",
   "name": "python3"
  },
  "language_info": {
   "codemirror_mode": {
    "name": "ipython",
    "version": 3
   },
   "file_extension": ".py",
   "mimetype": "text/x-python",
   "name": "python",
   "nbconvert_exporter": "python",
   "pygments_lexer": "ipython3",
   "version": "3.8.2"
  }
 },
 "nbformat": 4,
 "nbformat_minor": 4
}
