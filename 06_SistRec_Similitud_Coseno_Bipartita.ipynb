{
 "cells": [
  {
   "cell_type": "markdown",
   "metadata": {},
   "source": [
    "## 1. Carga de datos y limpieza inicial"
   ]
  },
  {
   "cell_type": "code",
   "execution_count": 1,
   "metadata": {},
   "outputs": [],
   "source": [
    "import pandas as pd\n",
    "import numpy as np\n",
    "import matplotlib.pyplot as plt\n",
    "import seaborn as sns\n",
    "from leer_red import leer_red_df, leer_subred_df\n",
    "\n",
    "sns.set()"
   ]
  },
  {
   "cell_type": "code",
   "execution_count": 2,
   "metadata": {},
   "outputs": [],
   "source": [
    "#data = pd.read_csv(data_dir + 'GwasCat_associations.r2020-05-03.parsed.csv.gz')\n",
    "# data = pd.read_table(data_dir + 'gwas_cat.filtrado.tsv.gz')\n",
    "# data = leer_red_df()\n",
    "data = leer_subred_df()"
   ]
  },
  {
   "cell_type": "markdown",
   "metadata": {},
   "source": [
    "#### PASAR A NOTEBOOK DE EDA ####"
   ]
  },
  {
   "cell_type": "code",
   "execution_count": null,
   "metadata": {},
   "outputs": [],
   "source": [
    "n_categoria_fenotipo = data[['alelo_riesgo','categoria_fenotipo']].groupby(by = 'alelo_riesgo').agg(pd.Series.nunique)"
   ]
  },
  {
   "cell_type": "code",
   "execution_count": null,
   "metadata": {},
   "outputs": [],
   "source": [
    "n_categoria_fenotipo.nlargest(50, columns = 'categoria_fenotipo')[:5].index"
   ]
  },
  {
   "cell_type": "code",
   "execution_count": null,
   "metadata": {},
   "outputs": [],
   "source": [
    "mask = data.alelo_riesgo.isin(n_categoria_fenotipo.nlargest(50, columns = 'categoria_fenotipo')[1:3].index)\n",
    "data[mask].sort_values(by = ['alelo_riesgo', 'categoria_fenotipo'])"
   ]
  },
  {
   "cell_type": "code",
   "execution_count": null,
   "metadata": {},
   "outputs": [],
   "source": [
    "aux = pd.DataFrame(aux).drop(columns = 'categoria_fenotipo').reset_index()"
   ]
  },
  {
   "cell_type": "code",
   "execution_count": null,
   "metadata": {},
   "outputs": [],
   "source": [
    "data.shape"
   ]
  },
  {
   "cell_type": "code",
   "execution_count": null,
   "metadata": {},
   "outputs": [],
   "source": []
  },
  {
   "cell_type": "code",
   "execution_count": null,
   "metadata": {},
   "outputs": [],
   "source": []
  },
  {
   "cell_type": "markdown",
   "metadata": {},
   "source": [
    "Seleccionamos aquellas instancias que tienen en la columna `alelo_riesgo` un SNP."
   ]
  },
  {
   "cell_type": "code",
   "execution_count": 3,
   "metadata": {},
   "outputs": [
    {
     "data": {
      "text/plain": [
       "(21990, 4)"
      ]
     },
     "execution_count": 3,
     "metadata": {},
     "output_type": "execute_result"
    }
   ],
   "source": [
    "mask_snps = data.alelo_riesgo.str.match(\"^rs[0-9]+-[ATCG\\?]$\")\n",
    "data = data[mask_snps]\n",
    "data.shape"
   ]
  },
  {
   "cell_type": "markdown",
   "metadata": {},
   "source": [
    "Miramos y descartamos valores faltantes"
   ]
  },
  {
   "cell_type": "code",
   "execution_count": 4,
   "metadata": {},
   "outputs": [
    {
     "data": {
      "text/plain": [
       "gen_mapeado_elegido    9471\n",
       "alelo_riesgo              0\n",
       "fenotipo                  0\n",
       "categoria_fenotipo        0\n",
       "dtype: int64"
      ]
     },
     "execution_count": 4,
     "metadata": {},
     "output_type": "execute_result"
    }
   ],
   "source": [
    "data.isna().sum()"
   ]
  },
  {
   "cell_type": "markdown",
   "metadata": {},
   "source": [
    "No nos interesan aquellas instancias que tienen valore faltantes en la columna `categoria_fenotipo`"
   ]
  },
  {
   "cell_type": "code",
   "execution_count": 5,
   "metadata": {},
   "outputs": [
    {
     "data": {
      "text/plain": [
       "(21990, 4)"
      ]
     },
     "execution_count": 5,
     "metadata": {},
     "output_type": "execute_result"
    }
   ],
   "source": [
    "data.dropna(subset = ['categoria_fenotipo'], inplace = True)\n",
    "data.shape"
   ]
  },
  {
   "cell_type": "code",
   "execution_count": 6,
   "metadata": {},
   "outputs": [
    {
     "data": {
      "text/plain": [
       "gen_mapeado_elegido    9471\n",
       "alelo_riesgo              0\n",
       "fenotipo                  0\n",
       "categoria_fenotipo        0\n",
       "dtype: int64"
      ]
     },
     "execution_count": 6,
     "metadata": {},
     "output_type": "execute_result"
    }
   ],
   "source": [
    "data.isna().sum()"
   ]
  },
  {
   "cell_type": "markdown",
   "metadata": {},
   "source": [
    "**Opcional 1**: sacamos aquellos alelos que aparezcan una sola vez. Sirve más que nada para achicar la base de datos."
   ]
  },
  {
   "cell_type": "code",
   "execution_count": null,
   "metadata": {},
   "outputs": [],
   "source": [
    "if False:\n",
    "    umbral = 1\n",
    "    mask_alelos_poca_frecuencia = data.alelo_riesgo.value_counts() <=1\n",
    "    mask_alelos_poca_frecuencia.head()\n",
    "\n",
    "    alelos_poca_frecuencia = list(mask_alelos_poca_frecuencia.index[mask_alelos_poca_frecuencia.values])\n",
    "    print(len(alelos_poca_frecuencia))\n",
    "\n",
    "    mask_descartables = data.alelo_riesgo.isin(alelos_poca_frecuencia)\n",
    "    mask_descartables\n",
    "\n",
    "    print(data.shape)\n",
    "    data = data[~mask_descartables]\n",
    "    print(data.shape)"
   ]
  },
  {
   "cell_type": "markdown",
   "metadata": {},
   "source": [
    "**Opcional 2:** Sacamos aquellos fenotipos que aparecen una sola vez:"
   ]
  },
  {
   "cell_type": "code",
   "execution_count": null,
   "metadata": {},
   "outputs": [],
   "source": [
    "if False:\n",
    "    umbral = 1\n",
    "    mask_fenotipos_poca_frecuencia = data.fenotipo.value_counts() <=1\n",
    "    mask_fenotipos_poca_frecuencia.head()\n",
    "    fenotipos_poca_frecuencia = list(mask_fenotipos_poca_frecuencia.index[mask_fenotipos_poca_frecuencia.values])\n",
    "    print(len(fenotipos_poca_frecuencia))\n",
    "    mask_descartables = data.fenotipo.isin(fenotipos_poca_frecuencia)\n",
    "    # mask_descartables\n",
    "    print(data.shape)\n",
    "    data = data[~mask_descartables]\n",
    "    print(data.shape)"
   ]
  },
  {
   "cell_type": "markdown",
   "metadata": {},
   "source": [
    "## 3. Train test split y componente gigante\n",
    "\n",
    "Hay más de una forma de hacer una separación de datos de entrenamiento y testeo. Vamos a tomar algunos elementos de la matriz de incidencia al azar y sacarlos, asegurándonos que:\n",
    "1. La red resultante tenga una única componente gigante.\n",
    "2. Cada fenotipo y alelo separado en el conjunto de test siga apareciendo en el conjunto de train.\n",
    "\n",
    "Primero chequeamos que la red así como está tenga una única componente gigante. Sino, seleccionamos la componente gigante."
   ]
  },
  {
   "cell_type": "code",
   "execution_count": 7,
   "metadata": {},
   "outputs": [],
   "source": [
    "import networkx as nx"
   ]
  },
  {
   "cell_type": "code",
   "execution_count": 8,
   "metadata": {},
   "outputs": [
    {
     "name": "stdout",
     "output_type": "stream",
     "text": [
      "Tiene una unica componente gigante: False\n"
     ]
    }
   ],
   "source": [
    "red = nx.Graph()\n",
    "red.add_edges_from(data[['alelo_riesgo', 'fenotipo']].values)\n",
    "print(f'Tiene una unica componente gigante: {nx.is_connected(red)}')"
   ]
  },
  {
   "cell_type": "markdown",
   "metadata": {},
   "source": [
    "Veamos cómo son las componentes:"
   ]
  },
  {
   "cell_type": "code",
   "execution_count": 9,
   "metadata": {},
   "outputs": [
    {
     "name": "stdout",
     "output_type": "stream",
     "text": [
      "En total hay 534 componentes en la red\n"
     ]
    }
   ],
   "source": [
    "# Devuelve conjuntos de nodos, agrupados por componente\n",
    "Componentes = nx.connected_components(red)\n",
    "print(f'En total hay {len(list(Componentes))} componentes en la red')"
   ]
  },
  {
   "cell_type": "code",
   "execution_count": 10,
   "metadata": {},
   "outputs": [
    {
     "name": "stdout",
     "output_type": "stream",
     "text": [
      "[16903, 205, 143, 137, 150, 96, 81, 74, 70, 68, 64, 62, 64, 57, 50, 50, 47, 45, 45, 44]\n"
     ]
    }
   ],
   "source": [
    "# Armo una lista de componentes, ordenadas por tamaño\n",
    "lista_redes_componentes=[red.subgraph(componente) for componente in sorted(nx.connected_components(red), key=len, reverse=True)]\n",
    "n_elementos_redes_componentes=[componente.number_of_edges() for componente in lista_redes_componentes]\n",
    "print(n_elementos_redes_componentes[:20])\n",
    "componente_gigante = lista_redes_componentes[0]\n",
    "nodos_componente_gigante = list(componente_gigante.nodes())"
   ]
  },
  {
   "cell_type": "markdown",
   "metadata": {},
   "source": [
    "Chusmeamos cómo son las redes que no están en la componente gigante:"
   ]
  },
  {
   "cell_type": "code",
   "execution_count": 11,
   "metadata": {},
   "outputs": [],
   "source": [
    "if False:\n",
    "    print(lista_redes_componentes[6].nodes())"
   ]
  },
  {
   "cell_type": "markdown",
   "metadata": {},
   "source": [
    "Descartamos de `data` los enlaces que no estén en la componente gigante."
   ]
  },
  {
   "cell_type": "code",
   "execution_count": 12,
   "metadata": {},
   "outputs": [
    {
     "name": "stdout",
     "output_type": "stream",
     "text": [
      "(21990, 4)\n",
      "(16903, 4)\n"
     ]
    }
   ],
   "source": [
    "mask_componente_gigante = data.fenotipo.isin(nodos_componente_gigante)\n",
    "print(data.shape)\n",
    "data = data[mask_componente_gigante]\n",
    "print(data.shape)"
   ]
  },
  {
   "cell_type": "code",
   "execution_count": 13,
   "metadata": {},
   "outputs": [
    {
     "data": {
      "text/html": [
       "<div>\n",
       "<style scoped>\n",
       "    .dataframe tbody tr th:only-of-type {\n",
       "        vertical-align: middle;\n",
       "    }\n",
       "\n",
       "    .dataframe tbody tr th {\n",
       "        vertical-align: top;\n",
       "    }\n",
       "\n",
       "    .dataframe thead th {\n",
       "        text-align: right;\n",
       "    }\n",
       "</style>\n",
       "<table border=\"1\" class=\"dataframe\">\n",
       "  <thead>\n",
       "    <tr style=\"text-align: right;\">\n",
       "      <th></th>\n",
       "      <th>gen_mapeado_elegido</th>\n",
       "      <th>alelo_riesgo</th>\n",
       "      <th>fenotipo</th>\n",
       "      <th>categoria_fenotipo</th>\n",
       "    </tr>\n",
       "  </thead>\n",
       "  <tbody>\n",
       "    <tr>\n",
       "      <th>0</th>\n",
       "      <td>ADAM15</td>\n",
       "      <td>rs11589479-A</td>\n",
       "      <td>Adventurousness</td>\n",
       "      <td>Neuro/Cogni/Emo</td>\n",
       "    </tr>\n",
       "    <tr>\n",
       "      <th>1</th>\n",
       "      <td>ADGRL3</td>\n",
       "      <td>rs6858066-A</td>\n",
       "      <td>Adventurousness</td>\n",
       "      <td>Neuro/Cogni/Emo</td>\n",
       "    </tr>\n",
       "    <tr>\n",
       "      <th>2</th>\n",
       "      <td>ALDOA</td>\n",
       "      <td>rs2071390-T</td>\n",
       "      <td>Adventurousness</td>\n",
       "      <td>Neuro/Cogni/Emo</td>\n",
       "    </tr>\n",
       "    <tr>\n",
       "      <th>3</th>\n",
       "      <td>ALKAL2</td>\n",
       "      <td>rs60843830-C</td>\n",
       "      <td>Adventurousness</td>\n",
       "      <td>Neuro/Cogni/Emo</td>\n",
       "    </tr>\n",
       "    <tr>\n",
       "      <th>4</th>\n",
       "      <td>ARHGAP19</td>\n",
       "      <td>rs8181326-A</td>\n",
       "      <td>Adventurousness</td>\n",
       "      <td>Neuro/Cogni/Emo</td>\n",
       "    </tr>\n",
       "  </tbody>\n",
       "</table>\n",
       "</div>"
      ],
      "text/plain": [
       "  gen_mapeado_elegido  alelo_riesgo         fenotipo categoria_fenotipo\n",
       "0              ADAM15  rs11589479-A  Adventurousness    Neuro/Cogni/Emo\n",
       "1              ADGRL3   rs6858066-A  Adventurousness    Neuro/Cogni/Emo\n",
       "2               ALDOA   rs2071390-T  Adventurousness    Neuro/Cogni/Emo\n",
       "3              ALKAL2  rs60843830-C  Adventurousness    Neuro/Cogni/Emo\n",
       "4            ARHGAP19   rs8181326-A  Adventurousness    Neuro/Cogni/Emo"
      ]
     },
     "execution_count": 13,
     "metadata": {},
     "output_type": "execute_result"
    }
   ],
   "source": [
    "data.reset_index(inplace = True, drop = True)\n",
    "data.head()"
   ]
  },
  {
   "cell_type": "code",
   "execution_count": 14,
   "metadata": {},
   "outputs": [
    {
     "name": "stdout",
     "output_type": "stream",
     "text": [
      "Hay 15429 alelos unicos y 278 fenotipos unicos\n"
     ]
    }
   ],
   "source": [
    "n_alelos = data.alelo_riesgo.nunique()\n",
    "n_fenotipos = data.fenotipo.nunique()\n",
    "print(f'Hay {n_alelos} alelos unicos y {n_fenotipos} fenotipos unicos')"
   ]
  },
  {
   "cell_type": "markdown",
   "metadata": {},
   "source": [
    "#### Train/Test split\n",
    "\n",
    "~Vamos a seleccionar `n_test` filas al azar de `data_enlaces` y ver si se cumple lo que pedimos más arriba.~\n",
    "\n",
    "~Sacar al azar sin tener en cuenta el grado de cada nodo no funcionó, por lo que debemos hacerlo de forma más ordenada.~\n",
    "\n",
    "~Primero seleccionamos aquellos alelos que aparezcan más de `umbral_alelo` veces.~\n",
    "\n",
    "Vamos a sacar enlaces no triviales y mandarlos a conjunto de test.\n"
   ]
  },
  {
   "cell_type": "code",
   "execution_count": 15,
   "metadata": {},
   "outputs": [],
   "source": [
    "categorias_fenotipo_por_alelo = data[['alelo_riesgo','categoria_fenotipo']].groupby(by = 'alelo_riesgo').agg(pd.Series.nunique)\n",
    "categorias_fenotipo_por_alelo = categorias_fenotipo_por_alelo.categoria_fenotipo.sort_values(ascending = False).to_dict()\n",
    "# categorias_fenotipo_por_alelo"
   ]
  },
  {
   "cell_type": "code",
   "execution_count": null,
   "metadata": {},
   "outputs": [],
   "source": [
    "# len(set([value for value in categorias_fenotipo_por_alelo.values() if value > 1]))\n",
    "\n",
    "# set_a = set([key for key,value in categorias_fenotipo_por_alelo.items() if value > 1])\n",
    "# # set_b = [value for value in categorias_fenotipo_por_alelo.values() if value > 1]\n",
    "\n",
    "# set_b = set(alelos_a_considerar)\n",
    "\n",
    "# set_a - set_b\n",
    "\n",
    "# categorias_fenotipo_por_alelo['rs10009124-?']\n",
    "\n",
    "# data[data.alelo_riesgo == 'rs10009124-?']\n",
    "\n",
    "# data_enlaces[data_enlaces.alelo_riesgo == 'rs10009124-?']"
   ]
  },
  {
   "cell_type": "code",
   "execution_count": 16,
   "metadata": {},
   "outputs": [
    {
     "name": "stdout",
     "output_type": "stream",
     "text": [
      "295\n"
     ]
    }
   ],
   "source": [
    "umbral_alelo = 1\n",
    "mask_alelos = data.alelo_riesgo.map(categorias_fenotipo_por_alelo) > umbral_alelo\n",
    "alelos_a_considerar = data.alelo_riesgo[mask_alelos].unique()\n",
    "print(len(alelos_a_considerar))"
   ]
  },
  {
   "cell_type": "code",
   "execution_count": null,
   "metadata": {},
   "outputs": [],
   "source": [
    "# umbral_fenotipo = 1\n",
    "# mask_fenotipos = data.fenotipo.value_counts() > umbral_fenotipo\n",
    "# fenotipos_a_considerar = list((data.fenotipo.value_counts()[mask_fenotipos]).index)\n",
    "# print(len(fenotipos_a_considerar))"
   ]
  },
  {
   "cell_type": "code",
   "execution_count": 17,
   "metadata": {},
   "outputs": [],
   "source": [
    "def chequear_si_componente_unica(df):\n",
    "    '''Cheque si hay componente unica gigante'''\n",
    "    red_train = nx.Graph()\n",
    "    red_train.add_edges_from(df[['alelo_riesgo', 'fenotipo']].values)\n",
    "    lista_redes_componentes_train=[red_train.subgraph(componente) for componente in sorted(nx.connected_components(red_train), key=len, reverse=True)]\n",
    "    print(len(lista_redes_componentes_train))\n",
    "    return len(lista_redes_componentes_train) == 1"
   ]
  },
  {
   "cell_type": "code",
   "execution_count": 18,
   "metadata": {},
   "outputs": [],
   "source": [
    "def chequear_fenotipos_test_en_train(df_train, df_test):\n",
    "    fenotipos_test = df_test.fenotipo\n",
    "    fenotipos_train = df_train.fenotipo.unique()\n",
    "    mask = fenotipos_test.isin(fenotipos_train)\n",
    "    return mask.all()\n",
    "\n",
    "# data_test = data.iloc[0:2,:]\n",
    "# data_train = data.iloc[2:,:]\n",
    "# chequear_fenotipos_test_en_train(data_train, data_test)\n",
    "\n",
    "def chequear_alelos_test_en_train(df_train, df_test):\n",
    "    alelos_test = df_test.alelo_riesgo\n",
    "    alelos_train = df_train.alelo_riesgo.unique()\n",
    "    mask = alelos_test.isin(alelos_train)\n",
    "    return mask.all()"
   ]
  },
  {
   "cell_type": "code",
   "execution_count": 29,
   "metadata": {},
   "outputs": [
    {
     "name": "stdout",
     "output_type": "stream",
     "text": [
      "10:2\n",
      "Semilla 10 fallo en componente unica\n",
      "11:1\n",
      "Exito: 11\n"
     ]
    }
   ],
   "source": [
    "# Cuantos enlaces vamos a sacar\n",
    "n_alelos_test = 30\n",
    "\n",
    "# mask_alelos_y_fenotipos = (data.alelo_riesgo.isin(alelos_a_considerar)) & \\\n",
    "#                                          (data.fenotipo.isin(fenotipos_a_considerar))\n",
    "# indices_a_considerar = list(data[mask_alelos_y_fenotipos].index)\n",
    "# todos_indices = list(data.index)\n",
    "for i in range(10,30):\n",
    "    print(i, end = ':')\n",
    "    np.random.seed(i)\n",
    "    alelos_a_remover_una_categoria = np.random.choice(alelos_a_considerar, size = n_alelos_test, replace = False)\n",
    "\n",
    "    indices_test = []\n",
    "    for alelo in alelos_a_remover_una_categoria:\n",
    "        mask_alelo = data.alelo_riesgo == alelo\n",
    "        categorias_alelo = data[data.alelo_riesgo == alelo].categoria_fenotipo.unique()\n",
    "        categoria_a_remover = np.random.choice(categorias_alelo,size = 1)[0]\n",
    "        mask_categoria = data.categoria_fenotipo == categoria_a_remover\n",
    "        indices = list(data[mask_alelo & mask_categoria].index)\n",
    "        indices_test += indices\n",
    "    \n",
    "    indices_train = list(set(data.index) - set(indices_test))\n",
    "    data_test = data.iloc[indices_test]\n",
    "    data_train = data.iloc[indices_train]\n",
    "\n",
    "    if not chequear_si_componente_unica(data_train):\n",
    "        print(f'Semilla {i} fallo en componente unica')\n",
    "        continue\n",
    "    if not chequear_fenotipos_test_en_train(data_train, data_test):\n",
    "        print(f'Semilla {i} fallo en fenotipos')\n",
    "        continue\n",
    "    if not chequear_alelos_test_en_train(data_train, data_test):\n",
    "        print(f'Semilla {i} fallo en alelos')\n",
    "        continue\n",
    "    print(f'Exito: {i}')\n",
    "    break\n",
    "        \n",
    "#             red_train = nx.Graph()\n",
    "#             red_train.add_edges_from(data_tripletes_train[['alelo_riesgo', 'fenotipo']].values)\n",
    "#             lista_redes_componentes_train=[red_train.subgraph(componente) for componente in sorted(nx.connected_components(red_train), key=len, reverse=True)]\n",
    "#             print(len(lista_redes_componentes_train))\n",
    "#             if len(lista_redes_componentes_train) == 1:\n",
    "#                 print(f'Exito: {i}')\n",
    "#                 break"
   ]
  },
  {
   "cell_type": "code",
   "execution_count": 30,
   "metadata": {},
   "outputs": [
    {
     "data": {
      "text/plain": [
       "35"
      ]
     },
     "execution_count": 30,
     "metadata": {},
     "output_type": "execute_result"
    }
   ],
   "source": [
    "len(indices_test)"
   ]
  },
  {
   "cell_type": "code",
   "execution_count": 31,
   "metadata": {},
   "outputs": [
    {
     "name": "stdout",
     "output_type": "stream",
     "text": [
      "15429\n",
      "278\n"
     ]
    }
   ],
   "source": [
    "print(data_train.alelo_riesgo.nunique())\n",
    "print(data_train.fenotipo.nunique())"
   ]
  },
  {
   "cell_type": "code",
   "execution_count": 32,
   "metadata": {},
   "outputs": [
    {
     "name": "stdout",
     "output_type": "stream",
     "text": [
      "30\n",
      "22\n"
     ]
    }
   ],
   "source": [
    "print(data_test.alelo_riesgo.nunique())\n",
    "print(data_test.fenotipo.nunique())"
   ]
  },
  {
   "cell_type": "markdown",
   "metadata": {},
   "source": [
    "#### Otra Separación 1 - Alelos \"nuevos\"\n",
    "\n",
    "Tomamos alelos al azar y los sacamos de la matriz de utilidad. De esta forma, no aportarán a las similitudes de los fenotipos.\n",
    "\n",
    "Vamos a sacar alelos que tengan al menos grado 3 y como máximo grado 5 "
   ]
  },
  {
   "cell_type": "code",
   "execution_count": null,
   "metadata": {},
   "outputs": [],
   "source": [
    "if False:\n",
    "    np.random.seed(42)\n",
    "    n_alelos_a_sacar = 100\n",
    "    alelos_a_sacar = []\n",
    "\n",
    "    lista_alelos_desordenada = list(dict_id_to_alelo.keys())\n",
    "    lista_alelos_desordenada = np.random.choice(lista_alelos_desordenada,len(lista_alelos_desordenada), replace = False)\n",
    "\n",
    "    grados = data_bipartita.sum(axis = 1)\n",
    "    for alelo in lista_alelos_desordenada:\n",
    "    #     pass\n",
    "        grado = grados.iloc[alelo]\n",
    "\n",
    "        if grado >=3 and grado <=5:\n",
    "            alelos_a_sacar.append(alelo)\n",
    "\n",
    "        if len(alelos_a_sacar) == n_alelos_a_sacar:\n",
    "            break\n",
    "\n",
    "    data_bipartita_test_1 = data_bipartita.iloc[alelos_a_sacar,:]\n",
    "    print(data_bipartita_test_1.shape)\n",
    "    print(data_bipartita_test_1.sum().sum())\n",
    "\n",
    "    data_bipartita_train = data_bipartita.drop(alelos_a_sacar)\n",
    "    print(data_bipartita_train.shape)\n",
    "\n",
    "    #### ESTO SE PUEDE MEJORAR, PERO POR AHORA CHEQUEAMOS QUE NO QUEDE UN FENOTIPO DE GRADO 1\n",
    "#     Nuevamente, lo mejor sería que el conjunto de train tenga una única componente.\n",
    "\n",
    "    data_bipartita_train.sum().min()\n",
    "\n",
    "#     Sacamos del conjunto de test algunos fenotipos conocidos, hasta que quede un solo fenotipo conocido. ¿ESTUDIAR EN FUNCION DE ESTE HIPERPARÁMETRO?\n",
    "\n",
    "    np.random.seed(42)\n",
    "    n_fenotipos_a_dejar = 1\n",
    "\n",
    "    for idx, row in data_bipartita_test_1.iterrows():\n",
    "\n",
    "        fenotipos_asociados = list(row[row == 1].index)\n",
    "        fenotipos_asociados = np.random.choice(fenotipos_asociados, len(fenotipos_asociados), replace = False)\n",
    "        contador = 0\n",
    "        for fenotipo in fenotipos_asociados:\n",
    "            data_bipartita_test_1.loc[idx, fenotipo] = 0\n",
    "            contador +=1\n",
    "            if contador == len(fenotipos_asociados) - n_fenotipos_a_dejar:\n",
    "                break\n",
    "                \n",
    "    data_bipartita_test_1.sum().sum()"
   ]
  },
  {
   "cell_type": "markdown",
   "metadata": {},
   "source": [
    "## 3. Tripletes `alelo_riesgo`, `fenotipo` y `OR_or_beta`"
   ]
  },
  {
   "cell_type": "code",
   "execution_count": 33,
   "metadata": {},
   "outputs": [
    {
     "name": "stdout",
     "output_type": "stream",
     "text": [
      "(16868, 2)\n",
      "(35, 2)\n"
     ]
    }
   ],
   "source": [
    "data_tripletes_train = data_train[['alelo_riesgo', 'fenotipo']]\n",
    "data_tripletes_test = data_test[['alelo_riesgo', 'fenotipo']]\n",
    "\n",
    "print(data_tripletes_train.shape)\n",
    "print(data_tripletes_test.shape)\n",
    "\n",
    "# data_tripletes.head()"
   ]
  },
  {
   "cell_type": "markdown",
   "metadata": {},
   "source": [
    "## 4. Matriz de Incidencia\n",
    "\n",
    "\n",
    "MEJORAR PARA QUE EN EL INDICE APAREZCA EL ALELO Y SCARASE DE ENCIMA EL DICCIONARIO"
   ]
  },
  {
   "cell_type": "code",
   "execution_count": 34,
   "metadata": {},
   "outputs": [],
   "source": [
    "def crear_matriz_de_incidencia(data_tripletes):\n",
    "    alelos = data_tripletes.alelo_riesgo.unique()\n",
    "    fenotipos = data_tripletes.fenotipo.unique()\n",
    "    n_alelos = data_tripletes.alelo_riesgo.nunique()\n",
    "    n_fenotipos = data_tripletes.fenotipo.nunique()\n",
    "    \n",
    "    matriz_incidencia = pd.DataFrame(np.zeros((n_alelos, n_fenotipos)), columns = fenotipos, index = alelos, dtype = np.int8)\n",
    "    \n",
    "    for _, row in data_tripletes.iterrows():\n",
    "        alelo_row = row.alelo_riesgo\n",
    "        fenotipo_row = row.fenotipo\n",
    "#         id_alelo = dict_alelo_to_id[alelo_row]\n",
    "        matriz_incidencia.loc[alelo_row, fenotipo_row] = 1\n",
    "        \n",
    "    return matriz_incidencia"
   ]
  },
  {
   "cell_type": "code",
   "execution_count": 35,
   "metadata": {},
   "outputs": [
    {
     "data": {
      "text/html": [
       "<div>\n",
       "<style scoped>\n",
       "    .dataframe tbody tr th:only-of-type {\n",
       "        vertical-align: middle;\n",
       "    }\n",
       "\n",
       "    .dataframe tbody tr th {\n",
       "        vertical-align: top;\n",
       "    }\n",
       "\n",
       "    .dataframe thead th {\n",
       "        text-align: right;\n",
       "    }\n",
       "</style>\n",
       "<table border=\"1\" class=\"dataframe\">\n",
       "  <thead>\n",
       "    <tr style=\"text-align: right;\">\n",
       "      <th></th>\n",
       "      <th>Adventurousness</th>\n",
       "      <th>Automobile speeding propensity</th>\n",
       "      <th>Extremely high intelligence</th>\n",
       "      <th>General cognitive ability</th>\n",
       "      <th>Intelligence (MTAG)</th>\n",
       "      <th>Morning vs. evening chronotype</th>\n",
       "      <th>Adenocarcinoma</th>\n",
       "      <th>Adenocarcinoma in never smokers</th>\n",
       "      <th>BRCA1/2-negative high-risk breast cancer</th>\n",
       "      <th>Basal cell carcinoma</th>\n",
       "      <th>...</th>\n",
       "      <th>Parkinson's disease</th>\n",
       "      <th>Parkinson's disease or first degree relation to individual with Parkinson's disease</th>\n",
       "      <th>Polymyositis</th>\n",
       "      <th>Progressive supranuclear palsy</th>\n",
       "      <th>Recurrent major depressive disorder</th>\n",
       "      <th>Response to anti-retroviral therapy (ddI/d4T) in HIV-1 infection (Grade 1 peripheral neuropathy)</th>\n",
       "      <th>Response to anti-retroviral therapy (ddI/d4T) in HIV-1 infection (Grade 2 peripheral neuropathy)</th>\n",
       "      <th>Response to olanzapine in schizophrenia</th>\n",
       "      <th>Schizophrenia</th>\n",
       "      <th>Subjective response to lithium treatment</th>\n",
       "    </tr>\n",
       "  </thead>\n",
       "  <tbody>\n",
       "    <tr>\n",
       "      <th>rs11589479-A</th>\n",
       "      <td>1</td>\n",
       "      <td>0</td>\n",
       "      <td>0</td>\n",
       "      <td>0</td>\n",
       "      <td>0</td>\n",
       "      <td>0</td>\n",
       "      <td>0</td>\n",
       "      <td>0</td>\n",
       "      <td>0</td>\n",
       "      <td>0</td>\n",
       "      <td>...</td>\n",
       "      <td>0</td>\n",
       "      <td>0</td>\n",
       "      <td>0</td>\n",
       "      <td>0</td>\n",
       "      <td>0</td>\n",
       "      <td>0</td>\n",
       "      <td>0</td>\n",
       "      <td>0</td>\n",
       "      <td>0</td>\n",
       "      <td>0</td>\n",
       "    </tr>\n",
       "    <tr>\n",
       "      <th>rs6858066-A</th>\n",
       "      <td>1</td>\n",
       "      <td>0</td>\n",
       "      <td>0</td>\n",
       "      <td>0</td>\n",
       "      <td>0</td>\n",
       "      <td>0</td>\n",
       "      <td>0</td>\n",
       "      <td>0</td>\n",
       "      <td>0</td>\n",
       "      <td>0</td>\n",
       "      <td>...</td>\n",
       "      <td>0</td>\n",
       "      <td>0</td>\n",
       "      <td>0</td>\n",
       "      <td>0</td>\n",
       "      <td>0</td>\n",
       "      <td>0</td>\n",
       "      <td>0</td>\n",
       "      <td>0</td>\n",
       "      <td>0</td>\n",
       "      <td>0</td>\n",
       "    </tr>\n",
       "    <tr>\n",
       "      <th>rs2071390-T</th>\n",
       "      <td>1</td>\n",
       "      <td>0</td>\n",
       "      <td>0</td>\n",
       "      <td>0</td>\n",
       "      <td>0</td>\n",
       "      <td>0</td>\n",
       "      <td>0</td>\n",
       "      <td>0</td>\n",
       "      <td>0</td>\n",
       "      <td>0</td>\n",
       "      <td>...</td>\n",
       "      <td>0</td>\n",
       "      <td>0</td>\n",
       "      <td>0</td>\n",
       "      <td>0</td>\n",
       "      <td>0</td>\n",
       "      <td>0</td>\n",
       "      <td>0</td>\n",
       "      <td>0</td>\n",
       "      <td>0</td>\n",
       "      <td>0</td>\n",
       "    </tr>\n",
       "    <tr>\n",
       "      <th>rs60843830-C</th>\n",
       "      <td>1</td>\n",
       "      <td>0</td>\n",
       "      <td>0</td>\n",
       "      <td>0</td>\n",
       "      <td>0</td>\n",
       "      <td>0</td>\n",
       "      <td>0</td>\n",
       "      <td>0</td>\n",
       "      <td>0</td>\n",
       "      <td>0</td>\n",
       "      <td>...</td>\n",
       "      <td>0</td>\n",
       "      <td>0</td>\n",
       "      <td>0</td>\n",
       "      <td>0</td>\n",
       "      <td>0</td>\n",
       "      <td>0</td>\n",
       "      <td>0</td>\n",
       "      <td>0</td>\n",
       "      <td>0</td>\n",
       "      <td>0</td>\n",
       "    </tr>\n",
       "    <tr>\n",
       "      <th>rs8181326-A</th>\n",
       "      <td>1</td>\n",
       "      <td>0</td>\n",
       "      <td>0</td>\n",
       "      <td>0</td>\n",
       "      <td>0</td>\n",
       "      <td>0</td>\n",
       "      <td>0</td>\n",
       "      <td>0</td>\n",
       "      <td>0</td>\n",
       "      <td>0</td>\n",
       "      <td>...</td>\n",
       "      <td>0</td>\n",
       "      <td>0</td>\n",
       "      <td>0</td>\n",
       "      <td>0</td>\n",
       "      <td>0</td>\n",
       "      <td>0</td>\n",
       "      <td>0</td>\n",
       "      <td>0</td>\n",
       "      <td>0</td>\n",
       "      <td>0</td>\n",
       "    </tr>\n",
       "  </tbody>\n",
       "</table>\n",
       "<p>5 rows × 278 columns</p>\n",
       "</div>"
      ],
      "text/plain": [
       "              Adventurousness  Automobile speeding propensity  \\\n",
       "rs11589479-A                1                               0   \n",
       "rs6858066-A                 1                               0   \n",
       "rs2071390-T                 1                               0   \n",
       "rs60843830-C                1                               0   \n",
       "rs8181326-A                 1                               0   \n",
       "\n",
       "              Extremely high intelligence  General cognitive ability  \\\n",
       "rs11589479-A                            0                          0   \n",
       "rs6858066-A                             0                          0   \n",
       "rs2071390-T                             0                          0   \n",
       "rs60843830-C                            0                          0   \n",
       "rs8181326-A                             0                          0   \n",
       "\n",
       "              Intelligence (MTAG)  Morning vs. evening chronotype  \\\n",
       "rs11589479-A                    0                               0   \n",
       "rs6858066-A                     0                               0   \n",
       "rs2071390-T                     0                               0   \n",
       "rs60843830-C                    0                               0   \n",
       "rs8181326-A                     0                               0   \n",
       "\n",
       "              Adenocarcinoma  Adenocarcinoma in never smokers  \\\n",
       "rs11589479-A               0                                0   \n",
       "rs6858066-A                0                                0   \n",
       "rs2071390-T                0                                0   \n",
       "rs60843830-C               0                                0   \n",
       "rs8181326-A                0                                0   \n",
       "\n",
       "              BRCA1/2-negative high-risk breast cancer  Basal cell carcinoma  \\\n",
       "rs11589479-A                                         0                     0   \n",
       "rs6858066-A                                          0                     0   \n",
       "rs2071390-T                                          0                     0   \n",
       "rs60843830-C                                         0                     0   \n",
       "rs8181326-A                                          0                     0   \n",
       "\n",
       "              ...  Parkinson's disease  \\\n",
       "rs11589479-A  ...                    0   \n",
       "rs6858066-A   ...                    0   \n",
       "rs2071390-T   ...                    0   \n",
       "rs60843830-C  ...                    0   \n",
       "rs8181326-A   ...                    0   \n",
       "\n",
       "              Parkinson's disease or first degree relation to individual with Parkinson's disease  \\\n",
       "rs11589479-A                                                  0                                     \n",
       "rs6858066-A                                                   0                                     \n",
       "rs2071390-T                                                   0                                     \n",
       "rs60843830-C                                                  0                                     \n",
       "rs8181326-A                                                   0                                     \n",
       "\n",
       "              Polymyositis  Progressive supranuclear palsy  \\\n",
       "rs11589479-A             0                               0   \n",
       "rs6858066-A              0                               0   \n",
       "rs2071390-T              0                               0   \n",
       "rs60843830-C             0                               0   \n",
       "rs8181326-A              0                               0   \n",
       "\n",
       "              Recurrent major depressive disorder  \\\n",
       "rs11589479-A                                    0   \n",
       "rs6858066-A                                     0   \n",
       "rs2071390-T                                     0   \n",
       "rs60843830-C                                    0   \n",
       "rs8181326-A                                     0   \n",
       "\n",
       "              Response to anti-retroviral therapy (ddI/d4T) in HIV-1 infection (Grade 1 peripheral neuropathy)  \\\n",
       "rs11589479-A                                                  0                                                  \n",
       "rs6858066-A                                                   0                                                  \n",
       "rs2071390-T                                                   0                                                  \n",
       "rs60843830-C                                                  0                                                  \n",
       "rs8181326-A                                                   0                                                  \n",
       "\n",
       "              Response to anti-retroviral therapy (ddI/d4T) in HIV-1 infection (Grade 2 peripheral neuropathy)  \\\n",
       "rs11589479-A                                                  0                                                  \n",
       "rs6858066-A                                                   0                                                  \n",
       "rs2071390-T                                                   0                                                  \n",
       "rs60843830-C                                                  0                                                  \n",
       "rs8181326-A                                                   0                                                  \n",
       "\n",
       "              Response to olanzapine in schizophrenia  Schizophrenia  \\\n",
       "rs11589479-A                                        0              0   \n",
       "rs6858066-A                                         0              0   \n",
       "rs2071390-T                                         0              0   \n",
       "rs60843830-C                                        0              0   \n",
       "rs8181326-A                                         0              0   \n",
       "\n",
       "              Subjective response to lithium treatment  \n",
       "rs11589479-A                                         0  \n",
       "rs6858066-A                                          0  \n",
       "rs2071390-T                                          0  \n",
       "rs60843830-C                                         0  \n",
       "rs8181326-A                                          0  \n",
       "\n",
       "[5 rows x 278 columns]"
      ]
     },
     "execution_count": 35,
     "metadata": {},
     "output_type": "execute_result"
    }
   ],
   "source": [
    "matriz_incidencia_train = crear_matriz_de_incidencia(data_tripletes_train)\n",
    "matriz_incidencia_train.head()"
   ]
  },
  {
   "cell_type": "markdown",
   "metadata": {},
   "source": [
    "**Chequeos**\n",
    "\n",
    "La suma de todos los elementos de `matriz_incidencia` debe dar la cantidad de filas en `data_tripletes`"
   ]
  },
  {
   "cell_type": "code",
   "execution_count": 36,
   "metadata": {},
   "outputs": [
    {
     "data": {
      "text/plain": [
       "True"
      ]
     },
     "execution_count": 36,
     "metadata": {},
     "output_type": "execute_result"
    }
   ],
   "source": [
    "matriz_incidencia_train.sum().sum() == data_tripletes_train.shape[0]"
   ]
  },
  {
   "cell_type": "markdown",
   "metadata": {},
   "source": [
    "La suma por columnas del `value_counts()` de `data_tripletes.fenotipo`"
   ]
  },
  {
   "cell_type": "code",
   "execution_count": 37,
   "metadata": {},
   "outputs": [
    {
     "data": {
      "text/plain": [
       "True"
      ]
     },
     "execution_count": 37,
     "metadata": {},
     "output_type": "execute_result"
    }
   ],
   "source": [
    "(data_tripletes_train.fenotipo.value_counts().values == matriz_incidencia_train.sum().sort_values(ascending = False).values).all()"
   ]
  },
  {
   "cell_type": "markdown",
   "metadata": {},
   "source": [
    "La suma por filas el `value_counts()` de `data_tripletes.alelo_riesgo`"
   ]
  },
  {
   "cell_type": "code",
   "execution_count": 38,
   "metadata": {},
   "outputs": [
    {
     "data": {
      "text/plain": [
       "True"
      ]
     },
     "execution_count": 38,
     "metadata": {},
     "output_type": "execute_result"
    }
   ],
   "source": [
    "(data_tripletes_train.alelo_riesgo.value_counts().values == matriz_incidencia_train.sum(axis = 1).sort_values(ascending = False).values).all()"
   ]
  },
  {
   "cell_type": "markdown",
   "metadata": {},
   "source": [
    "**Distribución de grado para fenotipos**"
   ]
  },
  {
   "cell_type": "code",
   "execution_count": 39,
   "metadata": {},
   "outputs": [
    {
     "data": {
      "text/plain": [
       "(array([32., 27., 30., 49., 53., 32., 28., 17.,  5.,  5.]),\n",
       " array([0.        , 0.7133296 , 1.42665919, 2.13998879, 2.85331838,\n",
       "        3.56664798, 4.27997757, 4.99330717, 5.70663676, 6.41996636,\n",
       "        7.13329595]),\n",
       " <a list of 10 Patch objects>)"
      ]
     },
     "execution_count": 39,
     "metadata": {},
     "output_type": "execute_result"
    },
    {
     "data": {
      "image/png": "[encoded data removed]",
      "text/plain": [
       "<Figure size 432x288 with 1 Axes>"
      ]
     },
     "metadata": {},
     "output_type": "display_data"
    }
   ],
   "source": [
    "plt.hist(np.log(matriz_incidencia_train.sum()))"
   ]
  },
  {
   "cell_type": "markdown",
   "metadata": {},
   "source": [
    "**Distribución de grado para alelos**"
   ]
  },
  {
   "cell_type": "code",
   "execution_count": 40,
   "metadata": {},
   "outputs": [
    {
     "data": {
      "text/plain": [
       "(array([1.4286e+04, 9.5400e+02, 1.3300e+02, 3.0000e+01, 0.0000e+00,\n",
       "        1.2000e+01, 8.0000e+00, 3.0000e+00, 1.0000e+00, 2.0000e+00]),\n",
       " array([1. , 1.8, 2.6, 3.4, 4.2, 5. , 5.8, 6.6, 7.4, 8.2, 9. ]),\n",
       " <a list of 10 Patch objects>)"
      ]
     },
     "execution_count": 40,
     "metadata": {},
     "output_type": "execute_result"
    },
    {
     "data": {
      "image/png": "[encoded data removed]",
      "text/plain": [
       "<Figure size 432x288 with 1 Axes>"
      ]
     },
     "metadata": {},
     "output_type": "display_data"
    }
   ],
   "source": [
    "plt.hist(matriz_incidencia_train.sum(axis = 1), log=True)"
   ]
  },
  {
   "cell_type": "markdown",
   "metadata": {},
   "source": [
    "¿VALE LA PENA ESTUDIAR ESTAS DISTRIBUCIONES?"
   ]
  },
  {
   "cell_type": "markdown",
   "metadata": {},
   "source": [
    "### 4. Filtro Colaborativo Implícito\n",
    "\n",
    "https://medium.com/radon-dev/item-item-collaborative-filtering-with-binary-or-unary-data-e8f0b465b2c3"
   ]
  },
  {
   "cell_type": "code",
   "execution_count": 41,
   "metadata": {},
   "outputs": [],
   "source": [
    "from sklearn.metrics.pairwise import cosine_similarity\n",
    "from scipy import sparse"
   ]
  },
  {
   "cell_type": "markdown",
   "metadata": {},
   "source": [
    "En primer lugar, normalizamos con respecto a la cantidad de enlaces que tiene cada alelo. En las películas, esto se justifica como \n",
    "\n",
    "> *This is the idea of normalizing the user vectors so that a user with many ratings contributes less to any individual rating. This is to say that a like from a user who has only liked 10 items is more valuable to us than a like from someone who likes everything she comes across.*"
   ]
  },
  {
   "cell_type": "code",
   "execution_count": 42,
   "metadata": {},
   "outputs": [
    {
     "data": {
      "text/html": [
       "<div>\n",
       "<style scoped>\n",
       "    .dataframe tbody tr th:only-of-type {\n",
       "        vertical-align: middle;\n",
       "    }\n",
       "\n",
       "    .dataframe tbody tr th {\n",
       "        vertical-align: top;\n",
       "    }\n",
       "\n",
       "    .dataframe thead th {\n",
       "        text-align: right;\n",
       "    }\n",
       "</style>\n",
       "<table border=\"1\" class=\"dataframe\">\n",
       "  <thead>\n",
       "    <tr style=\"text-align: right;\">\n",
       "      <th></th>\n",
       "      <th>Adventurousness</th>\n",
       "      <th>Automobile speeding propensity</th>\n",
       "      <th>Extremely high intelligence</th>\n",
       "      <th>General cognitive ability</th>\n",
       "      <th>Intelligence (MTAG)</th>\n",
       "      <th>Morning vs. evening chronotype</th>\n",
       "      <th>Adenocarcinoma</th>\n",
       "      <th>Adenocarcinoma in never smokers</th>\n",
       "      <th>BRCA1/2-negative high-risk breast cancer</th>\n",
       "      <th>Basal cell carcinoma</th>\n",
       "      <th>...</th>\n",
       "      <th>Parkinson's disease</th>\n",
       "      <th>Parkinson's disease or first degree relation to individual with Parkinson's disease</th>\n",
       "      <th>Polymyositis</th>\n",
       "      <th>Progressive supranuclear palsy</th>\n",
       "      <th>Recurrent major depressive disorder</th>\n",
       "      <th>Response to anti-retroviral therapy (ddI/d4T) in HIV-1 infection (Grade 1 peripheral neuropathy)</th>\n",
       "      <th>Response to anti-retroviral therapy (ddI/d4T) in HIV-1 infection (Grade 2 peripheral neuropathy)</th>\n",
       "      <th>Response to olanzapine in schizophrenia</th>\n",
       "      <th>Schizophrenia</th>\n",
       "      <th>Subjective response to lithium treatment</th>\n",
       "    </tr>\n",
       "  </thead>\n",
       "  <tbody>\n",
       "    <tr>\n",
       "      <th>rs11589479-A</th>\n",
       "      <td>1.0</td>\n",
       "      <td>0.0</td>\n",
       "      <td>0.0</td>\n",
       "      <td>0.0</td>\n",
       "      <td>0.0</td>\n",
       "      <td>0.0</td>\n",
       "      <td>0.0</td>\n",
       "      <td>0.0</td>\n",
       "      <td>0.0</td>\n",
       "      <td>0.0</td>\n",
       "      <td>...</td>\n",
       "      <td>0.0</td>\n",
       "      <td>0.0</td>\n",
       "      <td>0.0</td>\n",
       "      <td>0.0</td>\n",
       "      <td>0.0</td>\n",
       "      <td>0.0</td>\n",
       "      <td>0.0</td>\n",
       "      <td>0.0</td>\n",
       "      <td>0.0</td>\n",
       "      <td>0.0</td>\n",
       "    </tr>\n",
       "    <tr>\n",
       "      <th>rs6858066-A</th>\n",
       "      <td>1.0</td>\n",
       "      <td>0.0</td>\n",
       "      <td>0.0</td>\n",
       "      <td>0.0</td>\n",
       "      <td>0.0</td>\n",
       "      <td>0.0</td>\n",
       "      <td>0.0</td>\n",
       "      <td>0.0</td>\n",
       "      <td>0.0</td>\n",
       "      <td>0.0</td>\n",
       "      <td>...</td>\n",
       "      <td>0.0</td>\n",
       "      <td>0.0</td>\n",
       "      <td>0.0</td>\n",
       "      <td>0.0</td>\n",
       "      <td>0.0</td>\n",
       "      <td>0.0</td>\n",
       "      <td>0.0</td>\n",
       "      <td>0.0</td>\n",
       "      <td>0.0</td>\n",
       "      <td>0.0</td>\n",
       "    </tr>\n",
       "    <tr>\n",
       "      <th>rs2071390-T</th>\n",
       "      <td>1.0</td>\n",
       "      <td>0.0</td>\n",
       "      <td>0.0</td>\n",
       "      <td>0.0</td>\n",
       "      <td>0.0</td>\n",
       "      <td>0.0</td>\n",
       "      <td>0.0</td>\n",
       "      <td>0.0</td>\n",
       "      <td>0.0</td>\n",
       "      <td>0.0</td>\n",
       "      <td>...</td>\n",
       "      <td>0.0</td>\n",
       "      <td>0.0</td>\n",
       "      <td>0.0</td>\n",
       "      <td>0.0</td>\n",
       "      <td>0.0</td>\n",
       "      <td>0.0</td>\n",
       "      <td>0.0</td>\n",
       "      <td>0.0</td>\n",
       "      <td>0.0</td>\n",
       "      <td>0.0</td>\n",
       "    </tr>\n",
       "    <tr>\n",
       "      <th>rs60843830-C</th>\n",
       "      <td>1.0</td>\n",
       "      <td>0.0</td>\n",
       "      <td>0.0</td>\n",
       "      <td>0.0</td>\n",
       "      <td>0.0</td>\n",
       "      <td>0.0</td>\n",
       "      <td>0.0</td>\n",
       "      <td>0.0</td>\n",
       "      <td>0.0</td>\n",
       "      <td>0.0</td>\n",
       "      <td>...</td>\n",
       "      <td>0.0</td>\n",
       "      <td>0.0</td>\n",
       "      <td>0.0</td>\n",
       "      <td>0.0</td>\n",
       "      <td>0.0</td>\n",
       "      <td>0.0</td>\n",
       "      <td>0.0</td>\n",
       "      <td>0.0</td>\n",
       "      <td>0.0</td>\n",
       "      <td>0.0</td>\n",
       "    </tr>\n",
       "    <tr>\n",
       "      <th>rs8181326-A</th>\n",
       "      <td>1.0</td>\n",
       "      <td>0.0</td>\n",
       "      <td>0.0</td>\n",
       "      <td>0.0</td>\n",
       "      <td>0.0</td>\n",
       "      <td>0.0</td>\n",
       "      <td>0.0</td>\n",
       "      <td>0.0</td>\n",
       "      <td>0.0</td>\n",
       "      <td>0.0</td>\n",
       "      <td>...</td>\n",
       "      <td>0.0</td>\n",
       "      <td>0.0</td>\n",
       "      <td>0.0</td>\n",
       "      <td>0.0</td>\n",
       "      <td>0.0</td>\n",
       "      <td>0.0</td>\n",
       "      <td>0.0</td>\n",
       "      <td>0.0</td>\n",
       "      <td>0.0</td>\n",
       "      <td>0.0</td>\n",
       "    </tr>\n",
       "    <tr>\n",
       "      <th>...</th>\n",
       "      <td>...</td>\n",
       "      <td>...</td>\n",
       "      <td>...</td>\n",
       "      <td>...</td>\n",
       "      <td>...</td>\n",
       "      <td>...</td>\n",
       "      <td>...</td>\n",
       "      <td>...</td>\n",
       "      <td>...</td>\n",
       "      <td>...</td>\n",
       "      <td>...</td>\n",
       "      <td>...</td>\n",
       "      <td>...</td>\n",
       "      <td>...</td>\n",
       "      <td>...</td>\n",
       "      <td>...</td>\n",
       "      <td>...</td>\n",
       "      <td>...</td>\n",
       "      <td>...</td>\n",
       "      <td>...</td>\n",
       "      <td>...</td>\n",
       "    </tr>\n",
       "    <tr>\n",
       "      <th>rs2414718-A</th>\n",
       "      <td>0.0</td>\n",
       "      <td>0.0</td>\n",
       "      <td>0.0</td>\n",
       "      <td>0.0</td>\n",
       "      <td>0.0</td>\n",
       "      <td>0.0</td>\n",
       "      <td>0.0</td>\n",
       "      <td>0.0</td>\n",
       "      <td>0.0</td>\n",
       "      <td>0.0</td>\n",
       "      <td>...</td>\n",
       "      <td>0.0</td>\n",
       "      <td>0.0</td>\n",
       "      <td>0.0</td>\n",
       "      <td>0.0</td>\n",
       "      <td>0.0</td>\n",
       "      <td>0.0</td>\n",
       "      <td>0.0</td>\n",
       "      <td>0.0</td>\n",
       "      <td>1.0</td>\n",
       "      <td>0.0</td>\n",
       "    </tr>\n",
       "    <tr>\n",
       "      <th>rs61990820-A</th>\n",
       "      <td>0.0</td>\n",
       "      <td>0.0</td>\n",
       "      <td>0.0</td>\n",
       "      <td>0.0</td>\n",
       "      <td>0.0</td>\n",
       "      <td>0.0</td>\n",
       "      <td>0.0</td>\n",
       "      <td>0.0</td>\n",
       "      <td>0.0</td>\n",
       "      <td>0.0</td>\n",
       "      <td>...</td>\n",
       "      <td>0.0</td>\n",
       "      <td>0.0</td>\n",
       "      <td>0.0</td>\n",
       "      <td>0.0</td>\n",
       "      <td>0.0</td>\n",
       "      <td>0.0</td>\n",
       "      <td>0.0</td>\n",
       "      <td>0.0</td>\n",
       "      <td>1.0</td>\n",
       "      <td>0.0</td>\n",
       "    </tr>\n",
       "    <tr>\n",
       "      <th>rs12493050-G</th>\n",
       "      <td>0.0</td>\n",
       "      <td>0.0</td>\n",
       "      <td>0.0</td>\n",
       "      <td>0.0</td>\n",
       "      <td>0.0</td>\n",
       "      <td>0.0</td>\n",
       "      <td>0.0</td>\n",
       "      <td>0.0</td>\n",
       "      <td>0.0</td>\n",
       "      <td>0.0</td>\n",
       "      <td>...</td>\n",
       "      <td>0.0</td>\n",
       "      <td>0.0</td>\n",
       "      <td>0.0</td>\n",
       "      <td>0.0</td>\n",
       "      <td>0.0</td>\n",
       "      <td>0.0</td>\n",
       "      <td>0.0</td>\n",
       "      <td>0.0</td>\n",
       "      <td>0.0</td>\n",
       "      <td>1.0</td>\n",
       "    </tr>\n",
       "    <tr>\n",
       "      <th>rs12144699-A</th>\n",
       "      <td>0.0</td>\n",
       "      <td>0.0</td>\n",
       "      <td>0.0</td>\n",
       "      <td>0.0</td>\n",
       "      <td>0.0</td>\n",
       "      <td>0.0</td>\n",
       "      <td>0.0</td>\n",
       "      <td>0.0</td>\n",
       "      <td>0.0</td>\n",
       "      <td>0.0</td>\n",
       "      <td>...</td>\n",
       "      <td>0.0</td>\n",
       "      <td>0.0</td>\n",
       "      <td>0.0</td>\n",
       "      <td>0.0</td>\n",
       "      <td>0.0</td>\n",
       "      <td>0.0</td>\n",
       "      <td>0.0</td>\n",
       "      <td>0.0</td>\n",
       "      <td>0.0</td>\n",
       "      <td>1.0</td>\n",
       "    </tr>\n",
       "    <tr>\n",
       "      <th>rs4947962-G</th>\n",
       "      <td>0.0</td>\n",
       "      <td>0.0</td>\n",
       "      <td>0.0</td>\n",
       "      <td>0.0</td>\n",
       "      <td>0.0</td>\n",
       "      <td>0.0</td>\n",
       "      <td>0.0</td>\n",
       "      <td>0.0</td>\n",
       "      <td>0.0</td>\n",
       "      <td>0.0</td>\n",
       "      <td>...</td>\n",
       "      <td>0.0</td>\n",
       "      <td>0.0</td>\n",
       "      <td>0.0</td>\n",
       "      <td>0.0</td>\n",
       "      <td>0.0</td>\n",
       "      <td>0.0</td>\n",
       "      <td>0.0</td>\n",
       "      <td>0.0</td>\n",
       "      <td>0.0</td>\n",
       "      <td>1.0</td>\n",
       "    </tr>\n",
       "  </tbody>\n",
       "</table>\n",
       "<p>15429 rows × 278 columns</p>\n",
       "</div>"
      ],
      "text/plain": [
       "              Adventurousness  Automobile speeding propensity  \\\n",
       "rs11589479-A              1.0                             0.0   \n",
       "rs6858066-A               1.0                             0.0   \n",
       "rs2071390-T               1.0                             0.0   \n",
       "rs60843830-C              1.0                             0.0   \n",
       "rs8181326-A               1.0                             0.0   \n",
       "...                       ...                             ...   \n",
       "rs2414718-A               0.0                             0.0   \n",
       "rs61990820-A              0.0                             0.0   \n",
       "rs12493050-G              0.0                             0.0   \n",
       "rs12144699-A              0.0                             0.0   \n",
       "rs4947962-G               0.0                             0.0   \n",
       "\n",
       "              Extremely high intelligence  General cognitive ability  \\\n",
       "rs11589479-A                          0.0                        0.0   \n",
       "rs6858066-A                           0.0                        0.0   \n",
       "rs2071390-T                           0.0                        0.0   \n",
       "rs60843830-C                          0.0                        0.0   \n",
       "rs8181326-A                           0.0                        0.0   \n",
       "...                                   ...                        ...   \n",
       "rs2414718-A                           0.0                        0.0   \n",
       "rs61990820-A                          0.0                        0.0   \n",
       "rs12493050-G                          0.0                        0.0   \n",
       "rs12144699-A                          0.0                        0.0   \n",
       "rs4947962-G                           0.0                        0.0   \n",
       "\n",
       "              Intelligence (MTAG)  Morning vs. evening chronotype  \\\n",
       "rs11589479-A                  0.0                             0.0   \n",
       "rs6858066-A                   0.0                             0.0   \n",
       "rs2071390-T                   0.0                             0.0   \n",
       "rs60843830-C                  0.0                             0.0   \n",
       "rs8181326-A                   0.0                             0.0   \n",
       "...                           ...                             ...   \n",
       "rs2414718-A                   0.0                             0.0   \n",
       "rs61990820-A                  0.0                             0.0   \n",
       "rs12493050-G                  0.0                             0.0   \n",
       "rs12144699-A                  0.0                             0.0   \n",
       "rs4947962-G                   0.0                             0.0   \n",
       "\n",
       "              Adenocarcinoma  Adenocarcinoma in never smokers  \\\n",
       "rs11589479-A             0.0                              0.0   \n",
       "rs6858066-A              0.0                              0.0   \n",
       "rs2071390-T              0.0                              0.0   \n",
       "rs60843830-C             0.0                              0.0   \n",
       "rs8181326-A              0.0                              0.0   \n",
       "...                      ...                              ...   \n",
       "rs2414718-A              0.0                              0.0   \n",
       "rs61990820-A             0.0                              0.0   \n",
       "rs12493050-G             0.0                              0.0   \n",
       "rs12144699-A             0.0                              0.0   \n",
       "rs4947962-G              0.0                              0.0   \n",
       "\n",
       "              BRCA1/2-negative high-risk breast cancer  Basal cell carcinoma  \\\n",
       "rs11589479-A                                       0.0                   0.0   \n",
       "rs6858066-A                                        0.0                   0.0   \n",
       "rs2071390-T                                        0.0                   0.0   \n",
       "rs60843830-C                                       0.0                   0.0   \n",
       "rs8181326-A                                        0.0                   0.0   \n",
       "...                                                ...                   ...   \n",
       "rs2414718-A                                        0.0                   0.0   \n",
       "rs61990820-A                                       0.0                   0.0   \n",
       "rs12493050-G                                       0.0                   0.0   \n",
       "rs12144699-A                                       0.0                   0.0   \n",
       "rs4947962-G                                        0.0                   0.0   \n",
       "\n",
       "              ...  Parkinson's disease  \\\n",
       "rs11589479-A  ...                  0.0   \n",
       "rs6858066-A   ...                  0.0   \n",
       "rs2071390-T   ...                  0.0   \n",
       "rs60843830-C  ...                  0.0   \n",
       "rs8181326-A   ...                  0.0   \n",
       "...           ...                  ...   \n",
       "rs2414718-A   ...                  0.0   \n",
       "rs61990820-A  ...                  0.0   \n",
       "rs12493050-G  ...                  0.0   \n",
       "rs12144699-A  ...                  0.0   \n",
       "rs4947962-G   ...                  0.0   \n",
       "\n",
       "              Parkinson's disease or first degree relation to individual with Parkinson's disease  \\\n",
       "rs11589479-A                                                0.0                                     \n",
       "rs6858066-A                                                 0.0                                     \n",
       "rs2071390-T                                                 0.0                                     \n",
       "rs60843830-C                                                0.0                                     \n",
       "rs8181326-A                                                 0.0                                     \n",
       "...                                                         ...                                     \n",
       "rs2414718-A                                                 0.0                                     \n",
       "rs61990820-A                                                0.0                                     \n",
       "rs12493050-G                                                0.0                                     \n",
       "rs12144699-A                                                0.0                                     \n",
       "rs4947962-G                                                 0.0                                     \n",
       "\n",
       "              Polymyositis  Progressive supranuclear palsy  \\\n",
       "rs11589479-A           0.0                             0.0   \n",
       "rs6858066-A            0.0                             0.0   \n",
       "rs2071390-T            0.0                             0.0   \n",
       "rs60843830-C           0.0                             0.0   \n",
       "rs8181326-A            0.0                             0.0   \n",
       "...                    ...                             ...   \n",
       "rs2414718-A            0.0                             0.0   \n",
       "rs61990820-A           0.0                             0.0   \n",
       "rs12493050-G           0.0                             0.0   \n",
       "rs12144699-A           0.0                             0.0   \n",
       "rs4947962-G            0.0                             0.0   \n",
       "\n",
       "              Recurrent major depressive disorder  \\\n",
       "rs11589479-A                                  0.0   \n",
       "rs6858066-A                                   0.0   \n",
       "rs2071390-T                                   0.0   \n",
       "rs60843830-C                                  0.0   \n",
       "rs8181326-A                                   0.0   \n",
       "...                                           ...   \n",
       "rs2414718-A                                   0.0   \n",
       "rs61990820-A                                  0.0   \n",
       "rs12493050-G                                  0.0   \n",
       "rs12144699-A                                  0.0   \n",
       "rs4947962-G                                   0.0   \n",
       "\n",
       "              Response to anti-retroviral therapy (ddI/d4T) in HIV-1 infection (Grade 1 peripheral neuropathy)  \\\n",
       "rs11589479-A                                                0.0                                                  \n",
       "rs6858066-A                                                 0.0                                                  \n",
       "rs2071390-T                                                 0.0                                                  \n",
       "rs60843830-C                                                0.0                                                  \n",
       "rs8181326-A                                                 0.0                                                  \n",
       "...                                                         ...                                                  \n",
       "rs2414718-A                                                 0.0                                                  \n",
       "rs61990820-A                                                0.0                                                  \n",
       "rs12493050-G                                                0.0                                                  \n",
       "rs12144699-A                                                0.0                                                  \n",
       "rs4947962-G                                                 0.0                                                  \n",
       "\n",
       "              Response to anti-retroviral therapy (ddI/d4T) in HIV-1 infection (Grade 2 peripheral neuropathy)  \\\n",
       "rs11589479-A                                                0.0                                                  \n",
       "rs6858066-A                                                 0.0                                                  \n",
       "rs2071390-T                                                 0.0                                                  \n",
       "rs60843830-C                                                0.0                                                  \n",
       "rs8181326-A                                                 0.0                                                  \n",
       "...                                                         ...                                                  \n",
       "rs2414718-A                                                 0.0                                                  \n",
       "rs61990820-A                                                0.0                                                  \n",
       "rs12493050-G                                                0.0                                                  \n",
       "rs12144699-A                                                0.0                                                  \n",
       "rs4947962-G                                                 0.0                                                  \n",
       "\n",
       "              Response to olanzapine in schizophrenia  Schizophrenia  \\\n",
       "rs11589479-A                                      0.0            0.0   \n",
       "rs6858066-A                                       0.0            0.0   \n",
       "rs2071390-T                                       0.0            0.0   \n",
       "rs60843830-C                                      0.0            0.0   \n",
       "rs8181326-A                                       0.0            0.0   \n",
       "...                                               ...            ...   \n",
       "rs2414718-A                                       0.0            1.0   \n",
       "rs61990820-A                                      0.0            1.0   \n",
       "rs12493050-G                                      0.0            0.0   \n",
       "rs12144699-A                                      0.0            0.0   \n",
       "rs4947962-G                                       0.0            0.0   \n",
       "\n",
       "              Subjective response to lithium treatment  \n",
       "rs11589479-A                                       0.0  \n",
       "rs6858066-A                                        0.0  \n",
       "rs2071390-T                                        0.0  \n",
       "rs60843830-C                                       0.0  \n",
       "rs8181326-A                                        0.0  \n",
       "...                                                ...  \n",
       "rs2414718-A                                        0.0  \n",
       "rs61990820-A                                       0.0  \n",
       "rs12493050-G                                       1.0  \n",
       "rs12144699-A                                       1.0  \n",
       "rs4947962-G                                        1.0  \n",
       "\n",
       "[15429 rows x 278 columns]"
      ]
     },
     "execution_count": 42,
     "metadata": {},
     "output_type": "execute_result"
    }
   ],
   "source": [
    "#------------------------\n",
    "# ITEM-ITEM CALCULATIONS\n",
    "#------------------------\n",
    "\n",
    "# As a first step we normalize the user vectors to unit vectors.\n",
    "\n",
    "# magnitude = sqrt(x2 + y2 + z2 + ...)\n",
    "magnitude = np.sqrt(np.square(matriz_incidencia_train).sum(axis=1))\n",
    "\n",
    "# # unitvector = (x / magnitude, y / magnitude, z / magnitude, ...)\n",
    "data_bipartita_normalizada = matriz_incidencia_train.divide(magnitude, axis='index')\n",
    "data_bipartita_normalizada"
   ]
  },
  {
   "cell_type": "markdown",
   "metadata": {},
   "source": [
    "Luego,calculamos la similaridad coseno para cada columna, obteniendo así qué fenotipos son parecidos."
   ]
  },
  {
   "cell_type": "code",
   "execution_count": 43,
   "metadata": {},
   "outputs": [
    {
     "data": {
      "text/html": [
       "<div>\n",
       "<style scoped>\n",
       "    .dataframe tbody tr th:only-of-type {\n",
       "        vertical-align: middle;\n",
       "    }\n",
       "\n",
       "    .dataframe tbody tr th {\n",
       "        vertical-align: top;\n",
       "    }\n",
       "\n",
       "    .dataframe thead th {\n",
       "        text-align: right;\n",
       "    }\n",
       "</style>\n",
       "<table border=\"1\" class=\"dataframe\">\n",
       "  <thead>\n",
       "    <tr style=\"text-align: right;\">\n",
       "      <th></th>\n",
       "      <th>Adventurousness</th>\n",
       "      <th>Automobile speeding propensity</th>\n",
       "      <th>Extremely high intelligence</th>\n",
       "      <th>General cognitive ability</th>\n",
       "      <th>Intelligence (MTAG)</th>\n",
       "      <th>Morning vs. evening chronotype</th>\n",
       "      <th>Adenocarcinoma</th>\n",
       "      <th>Adenocarcinoma in never smokers</th>\n",
       "      <th>BRCA1/2-negative high-risk breast cancer</th>\n",
       "      <th>Basal cell carcinoma</th>\n",
       "      <th>...</th>\n",
       "      <th>Parkinson's disease</th>\n",
       "      <th>Parkinson's disease or first degree relation to individual with Parkinson's disease</th>\n",
       "      <th>Polymyositis</th>\n",
       "      <th>Progressive supranuclear palsy</th>\n",
       "      <th>Recurrent major depressive disorder</th>\n",
       "      <th>Response to anti-retroviral therapy (ddI/d4T) in HIV-1 infection (Grade 1 peripheral neuropathy)</th>\n",
       "      <th>Response to anti-retroviral therapy (ddI/d4T) in HIV-1 infection (Grade 2 peripheral neuropathy)</th>\n",
       "      <th>Response to olanzapine in schizophrenia</th>\n",
       "      <th>Schizophrenia</th>\n",
       "      <th>Subjective response to lithium treatment</th>\n",
       "    </tr>\n",
       "  </thead>\n",
       "  <tbody>\n",
       "    <tr>\n",
       "      <th>Adventurousness</th>\n",
       "      <td>1.000000</td>\n",
       "      <td>0.0</td>\n",
       "      <td>0.000000</td>\n",
       "      <td>0.000000</td>\n",
       "      <td>0.001587</td>\n",
       "      <td>0.0</td>\n",
       "      <td>0.0</td>\n",
       "      <td>0.0</td>\n",
       "      <td>0.0</td>\n",
       "      <td>0.0</td>\n",
       "      <td>...</td>\n",
       "      <td>0.0</td>\n",
       "      <td>0.000000</td>\n",
       "      <td>0.0</td>\n",
       "      <td>0.0</td>\n",
       "      <td>0.0</td>\n",
       "      <td>0.0</td>\n",
       "      <td>0.0</td>\n",
       "      <td>0.0</td>\n",
       "      <td>0.000000</td>\n",
       "      <td>0.0</td>\n",
       "    </tr>\n",
       "    <tr>\n",
       "      <th>Automobile speeding propensity</th>\n",
       "      <td>0.000000</td>\n",
       "      <td>1.0</td>\n",
       "      <td>0.000000</td>\n",
       "      <td>0.000000</td>\n",
       "      <td>0.000000</td>\n",
       "      <td>0.0</td>\n",
       "      <td>0.0</td>\n",
       "      <td>0.0</td>\n",
       "      <td>0.0</td>\n",
       "      <td>0.0</td>\n",
       "      <td>...</td>\n",
       "      <td>0.0</td>\n",
       "      <td>0.000000</td>\n",
       "      <td>0.0</td>\n",
       "      <td>0.0</td>\n",
       "      <td>0.0</td>\n",
       "      <td>0.0</td>\n",
       "      <td>0.0</td>\n",
       "      <td>0.0</td>\n",
       "      <td>0.000000</td>\n",
       "      <td>0.0</td>\n",
       "    </tr>\n",
       "    <tr>\n",
       "      <th>Extremely high intelligence</th>\n",
       "      <td>0.000000</td>\n",
       "      <td>0.0</td>\n",
       "      <td>1.000000</td>\n",
       "      <td>0.002083</td>\n",
       "      <td>0.037085</td>\n",
       "      <td>0.0</td>\n",
       "      <td>0.0</td>\n",
       "      <td>0.0</td>\n",
       "      <td>0.0</td>\n",
       "      <td>0.0</td>\n",
       "      <td>...</td>\n",
       "      <td>0.0</td>\n",
       "      <td>0.000000</td>\n",
       "      <td>0.0</td>\n",
       "      <td>0.0</td>\n",
       "      <td>0.0</td>\n",
       "      <td>0.0</td>\n",
       "      <td>0.0</td>\n",
       "      <td>0.0</td>\n",
       "      <td>0.000000</td>\n",
       "      <td>0.0</td>\n",
       "    </tr>\n",
       "    <tr>\n",
       "      <th>General cognitive ability</th>\n",
       "      <td>0.000000</td>\n",
       "      <td>0.0</td>\n",
       "      <td>0.002083</td>\n",
       "      <td>1.000000</td>\n",
       "      <td>0.044572</td>\n",
       "      <td>0.0</td>\n",
       "      <td>0.0</td>\n",
       "      <td>0.0</td>\n",
       "      <td>0.0</td>\n",
       "      <td>0.0</td>\n",
       "      <td>...</td>\n",
       "      <td>0.0</td>\n",
       "      <td>0.000000</td>\n",
       "      <td>0.0</td>\n",
       "      <td>0.0</td>\n",
       "      <td>0.0</td>\n",
       "      <td>0.0</td>\n",
       "      <td>0.0</td>\n",
       "      <td>0.0</td>\n",
       "      <td>0.001063</td>\n",
       "      <td>0.0</td>\n",
       "    </tr>\n",
       "    <tr>\n",
       "      <th>Intelligence (MTAG)</th>\n",
       "      <td>0.001587</td>\n",
       "      <td>0.0</td>\n",
       "      <td>0.037085</td>\n",
       "      <td>0.044572</td>\n",
       "      <td>1.000000</td>\n",
       "      <td>0.0</td>\n",
       "      <td>0.0</td>\n",
       "      <td>0.0</td>\n",
       "      <td>0.0</td>\n",
       "      <td>0.0</td>\n",
       "      <td>...</td>\n",
       "      <td>0.0</td>\n",
       "      <td>0.002022</td>\n",
       "      <td>0.0</td>\n",
       "      <td>0.0</td>\n",
       "      <td>0.0</td>\n",
       "      <td>0.0</td>\n",
       "      <td>0.0</td>\n",
       "      <td>0.0</td>\n",
       "      <td>0.000884</td>\n",
       "      <td>0.0</td>\n",
       "    </tr>\n",
       "  </tbody>\n",
       "</table>\n",
       "<p>5 rows × 278 columns</p>\n",
       "</div>"
      ],
      "text/plain": [
       "                                Adventurousness  \\\n",
       "Adventurousness                        1.000000   \n",
       "Automobile speeding propensity         0.000000   \n",
       "Extremely high intelligence            0.000000   \n",
       "General cognitive ability              0.000000   \n",
       "Intelligence (MTAG)                    0.001587   \n",
       "\n",
       "                                Automobile speeding propensity  \\\n",
       "Adventurousness                                            0.0   \n",
       "Automobile speeding propensity                             1.0   \n",
       "Extremely high intelligence                                0.0   \n",
       "General cognitive ability                                  0.0   \n",
       "Intelligence (MTAG)                                        0.0   \n",
       "\n",
       "                                Extremely high intelligence  \\\n",
       "Adventurousness                                    0.000000   \n",
       "Automobile speeding propensity                     0.000000   \n",
       "Extremely high intelligence                        1.000000   \n",
       "General cognitive ability                          0.002083   \n",
       "Intelligence (MTAG)                                0.037085   \n",
       "\n",
       "                                General cognitive ability  \\\n",
       "Adventurousness                                  0.000000   \n",
       "Automobile speeding propensity                   0.000000   \n",
       "Extremely high intelligence                      0.002083   \n",
       "General cognitive ability                        1.000000   \n",
       "Intelligence (MTAG)                              0.044572   \n",
       "\n",
       "                                Intelligence (MTAG)  \\\n",
       "Adventurousness                            0.001587   \n",
       "Automobile speeding propensity             0.000000   \n",
       "Extremely high intelligence                0.037085   \n",
       "General cognitive ability                  0.044572   \n",
       "Intelligence (MTAG)                        1.000000   \n",
       "\n",
       "                                Morning vs. evening chronotype  \\\n",
       "Adventurousness                                            0.0   \n",
       "Automobile speeding propensity                             0.0   \n",
       "Extremely high intelligence                                0.0   \n",
       "General cognitive ability                                  0.0   \n",
       "Intelligence (MTAG)                                        0.0   \n",
       "\n",
       "                                Adenocarcinoma  \\\n",
       "Adventurousness                            0.0   \n",
       "Automobile speeding propensity             0.0   \n",
       "Extremely high intelligence                0.0   \n",
       "General cognitive ability                  0.0   \n",
       "Intelligence (MTAG)                        0.0   \n",
       "\n",
       "                                Adenocarcinoma in never smokers  \\\n",
       "Adventurousness                                             0.0   \n",
       "Automobile speeding propensity                              0.0   \n",
       "Extremely high intelligence                                 0.0   \n",
       "General cognitive ability                                   0.0   \n",
       "Intelligence (MTAG)                                         0.0   \n",
       "\n",
       "                                BRCA1/2-negative high-risk breast cancer  \\\n",
       "Adventurousness                                                      0.0   \n",
       "Automobile speeding propensity                                       0.0   \n",
       "Extremely high intelligence                                          0.0   \n",
       "General cognitive ability                                            0.0   \n",
       "Intelligence (MTAG)                                                  0.0   \n",
       "\n",
       "                                Basal cell carcinoma  ...  \\\n",
       "Adventurousness                                  0.0  ...   \n",
       "Automobile speeding propensity                   0.0  ...   \n",
       "Extremely high intelligence                      0.0  ...   \n",
       "General cognitive ability                        0.0  ...   \n",
       "Intelligence (MTAG)                              0.0  ...   \n",
       "\n",
       "                                Parkinson's disease  \\\n",
       "Adventurousness                                 0.0   \n",
       "Automobile speeding propensity                  0.0   \n",
       "Extremely high intelligence                     0.0   \n",
       "General cognitive ability                       0.0   \n",
       "Intelligence (MTAG)                             0.0   \n",
       "\n",
       "                                Parkinson's disease or first degree relation to individual with Parkinson's disease  \\\n",
       "Adventurousness                                                          0.000000                                     \n",
       "Automobile speeding propensity                                           0.000000                                     \n",
       "Extremely high intelligence                                              0.000000                                     \n",
       "General cognitive ability                                                0.000000                                     \n",
       "Intelligence (MTAG)                                                      0.002022                                     \n",
       "\n",
       "                                Polymyositis  Progressive supranuclear palsy  \\\n",
       "Adventurousness                          0.0                             0.0   \n",
       "Automobile speeding propensity           0.0                             0.0   \n",
       "Extremely high intelligence              0.0                             0.0   \n",
       "General cognitive ability                0.0                             0.0   \n",
       "Intelligence (MTAG)                      0.0                             0.0   \n",
       "\n",
       "                                Recurrent major depressive disorder  \\\n",
       "Adventurousness                                                 0.0   \n",
       "Automobile speeding propensity                                  0.0   \n",
       "Extremely high intelligence                                     0.0   \n",
       "General cognitive ability                                       0.0   \n",
       "Intelligence (MTAG)                                             0.0   \n",
       "\n",
       "                                Response to anti-retroviral therapy (ddI/d4T) in HIV-1 infection (Grade 1 peripheral neuropathy)  \\\n",
       "Adventurousness                                                               0.0                                                  \n",
       "Automobile speeding propensity                                                0.0                                                  \n",
       "Extremely high intelligence                                                   0.0                                                  \n",
       "General cognitive ability                                                     0.0                                                  \n",
       "Intelligence (MTAG)                                                           0.0                                                  \n",
       "\n",
       "                                Response to anti-retroviral therapy (ddI/d4T) in HIV-1 infection (Grade 2 peripheral neuropathy)  \\\n",
       "Adventurousness                                                               0.0                                                  \n",
       "Automobile speeding propensity                                                0.0                                                  \n",
       "Extremely high intelligence                                                   0.0                                                  \n",
       "General cognitive ability                                                     0.0                                                  \n",
       "Intelligence (MTAG)                                                           0.0                                                  \n",
       "\n",
       "                                Response to olanzapine in schizophrenia  \\\n",
       "Adventurousness                                                     0.0   \n",
       "Automobile speeding propensity                                      0.0   \n",
       "Extremely high intelligence                                         0.0   \n",
       "General cognitive ability                                           0.0   \n",
       "Intelligence (MTAG)                                                 0.0   \n",
       "\n",
       "                                Schizophrenia  \\\n",
       "Adventurousness                      0.000000   \n",
       "Automobile speeding propensity       0.000000   \n",
       "Extremely high intelligence          0.000000   \n",
       "General cognitive ability            0.001063   \n",
       "Intelligence (MTAG)                  0.000884   \n",
       "\n",
       "                                Subjective response to lithium treatment  \n",
       "Adventurousness                                                      0.0  \n",
       "Automobile speeding propensity                                       0.0  \n",
       "Extremely high intelligence                                          0.0  \n",
       "General cognitive ability                                            0.0  \n",
       "Intelligence (MTAG)                                                  0.0  \n",
       "\n",
       "[5 rows x 278 columns]"
      ]
     },
     "execution_count": 43,
     "metadata": {},
     "output_type": "execute_result"
    }
   ],
   "source": [
    "def calculate_similarity(data_items):\n",
    "    \"\"\"Calculate the column-wise cosine similarity for a sparse\n",
    "    matrix. Return a new dataframe matrix with similarities.\n",
    "    \"\"\"\n",
    "    data_sparse = sparse.csr_matrix(data_items)\n",
    "    similarities = cosine_similarity(data_sparse.transpose())\n",
    "    sim = pd.DataFrame(data=similarities, index= data_items.columns, columns= data_items.columns)\n",
    "    return sim\n",
    "\n",
    "# Build the similarity matrix\n",
    "data_matrix = calculate_similarity(data_bipartita_normalizada)\n",
    "data_matrix.head()"
   ]
  },
  {
   "cell_type": "markdown",
   "metadata": {},
   "source": [
    "Veamos similaridades"
   ]
  },
  {
   "cell_type": "code",
   "execution_count": 119,
   "metadata": {},
   "outputs": [
    {
     "name": "stdout",
     "output_type": "stream",
     "text": [
      "General cognitive ability                                                                                                          1.000000\n",
      "Intelligence (MTAG)                                                                                                                0.044572\n",
      "Autism and major depressive disorder (MTAG)                                                                                        0.003859\n",
      "Allergy                                                                                                                            0.002934\n",
      "Bipolar disorder or body mass index                                                                                                0.002785\n",
      "Extremely high intelligence                                                                                                        0.002083\n",
      "Gastroesophageal reflux disease                                                                                                    0.001984\n",
      "Cognitive ability, years of educational attainment or schizophrenia (pleiotropy)                                                   0.001927\n",
      "Schizophrenia                                                                                                                      0.001063\n",
      "Breast cancer                                                                                                                      0.000546\n",
      "Metabolic syndrome                                                                                                                 0.000545\n",
      "Hypertension                                                                                                                       0.000407\n",
      "Adventurousness                                                                                                                    0.000000\n",
      "Automobile speeding propensity                                                                                                     0.000000\n",
      "Morning vs. evening chronotype                                                                                                     0.000000\n",
      "Adenocarcinoma                                                                                                                     0.000000\n",
      "Adenocarcinoma in never smokers                                                                                                    0.000000\n",
      "BRCA1/2-negative high-risk breast cancer                                                                                           0.000000\n",
      "Basal cell carcinoma                                                                                                               0.000000\n",
      "Bladder cancer                                                                                                                     0.000000\n",
      "Breast cancer (estrogen-receptor negative)                                                                                         0.000000\n",
      "Breast cancer (estrogen-receptor negative, progesterone-receptor negative, and human epidermal growth factor-receptor negative)    0.000000\n",
      "Breast cancer (estrogen-receptor positive)                                                                                         0.000000\n",
      "Breast cancer (progesterone-receptor positive)                                                                                     0.000000\n",
      "Cancer                                                                                                                             0.000000\n",
      "Cardia gastric cancer                                                                                                              0.000000\n",
      "Chronic lymphocytic leukemia                                                                                                       0.000000\n",
      "Chronic lymphocytic leukemia or systemic lupus erythematosus                                                                       0.000000\n",
      "Cirrhosis                                                                                                                          0.000000\n",
      "Colorectal adenoma (advanced)                                                                                                      0.000000\n",
      "Name: General cognitive ability, dtype: float64\n"
     ]
    }
   ],
   "source": [
    "# print(data_matrix.loc['Drinking behavior'].nlargest(25))\n",
    "print(data_matrix.loc['General cognitive ability'].nlargest(30))"
   ]
  },
  {
   "cell_type": "markdown",
   "metadata": {},
   "source": [
    "Construimos una nueva matriz, con los `n_neighbours` de cada fenotipo. Vendrían a ser los `n_neighbours` fenotipos más cercanos a cada fenotipos."
   ]
  },
  {
   "cell_type": "code",
   "execution_count": 76,
   "metadata": {},
   "outputs": [
    {
     "data": {
      "text/html": [
       "<div>\n",
       "<style scoped>\n",
       "    .dataframe tbody tr th:only-of-type {\n",
       "        vertical-align: middle;\n",
       "    }\n",
       "\n",
       "    .dataframe tbody tr th {\n",
       "        vertical-align: top;\n",
       "    }\n",
       "\n",
       "    .dataframe thead th {\n",
       "        text-align: right;\n",
       "    }\n",
       "</style>\n",
       "<table border=\"1\" class=\"dataframe\">\n",
       "  <thead>\n",
       "    <tr style=\"text-align: right;\">\n",
       "      <th></th>\n",
       "      <th>1</th>\n",
       "      <th>2</th>\n",
       "      <th>3</th>\n",
       "      <th>4</th>\n",
       "      <th>5</th>\n",
       "      <th>6</th>\n",
       "      <th>7</th>\n",
       "      <th>8</th>\n",
       "      <th>9</th>\n",
       "      <th>10</th>\n",
       "      <th>...</th>\n",
       "      <th>91</th>\n",
       "      <th>92</th>\n",
       "      <th>93</th>\n",
       "      <th>94</th>\n",
       "      <th>95</th>\n",
       "      <th>96</th>\n",
       "      <th>97</th>\n",
       "      <th>98</th>\n",
       "      <th>99</th>\n",
       "      <th>100</th>\n",
       "    </tr>\n",
       "  </thead>\n",
       "  <tbody>\n",
       "    <tr>\n",
       "      <th>Adventurousness</th>\n",
       "      <td>Adventurousness</td>\n",
       "      <td>Intelligence (MTAG)</td>\n",
       "      <td>Squamous cell lung carcinoma</td>\n",
       "      <td>Response to gemcitabine in pancreatic cancer</td>\n",
       "      <td>Serous borderline ovarian cancer</td>\n",
       "      <td>Serous invasive ovarian cancer</td>\n",
       "      <td>Small cell lung carcinoma</td>\n",
       "      <td>Sporadic neuroblastoma</td>\n",
       "      <td>Squamous cell carcinoma</td>\n",
       "      <td>Survival in pancreatic cancer</td>\n",
       "      <td>...</td>\n",
       "      <td>Breast cancer (progesterone-receptor positive)</td>\n",
       "      <td>Breast cancer (estrogen-receptor positive)</td>\n",
       "      <td>Breast cancer (estrogen-receptor negative, pro...</td>\n",
       "      <td>Breast cancer (estrogen-receptor negative)</td>\n",
       "      <td>Breast cancer</td>\n",
       "      <td>Bladder cancer</td>\n",
       "      <td>Basal cell carcinoma</td>\n",
       "      <td>BRCA1/2-negative high-risk breast cancer</td>\n",
       "      <td>Adenocarcinoma in never smokers</td>\n",
       "      <td>Adenocarcinoma</td>\n",
       "    </tr>\n",
       "    <tr>\n",
       "      <th>Automobile speeding propensity</th>\n",
       "      <td>Automobile speeding propensity</td>\n",
       "      <td>Type 2 diabetes</td>\n",
       "      <td>Subjective response to lithium treatment</td>\n",
       "      <td>Squamous cell lung carcinoma</td>\n",
       "      <td>Response to gemcitabine in pancreatic cancer</td>\n",
       "      <td>Serous borderline ovarian cancer</td>\n",
       "      <td>Serous invasive ovarian cancer</td>\n",
       "      <td>Small cell lung carcinoma</td>\n",
       "      <td>Sporadic neuroblastoma</td>\n",
       "      <td>Squamous cell carcinoma</td>\n",
       "      <td>...</td>\n",
       "      <td>Breast cancer (progesterone-receptor positive)</td>\n",
       "      <td>Breast cancer (estrogen-receptor positive)</td>\n",
       "      <td>Breast cancer (estrogen-receptor negative, pro...</td>\n",
       "      <td>Breast cancer (estrogen-receptor negative)</td>\n",
       "      <td>Breast cancer</td>\n",
       "      <td>Bladder cancer</td>\n",
       "      <td>Basal cell carcinoma</td>\n",
       "      <td>BRCA1/2-negative high-risk breast cancer</td>\n",
       "      <td>Adenocarcinoma in never smokers</td>\n",
       "      <td>Adenocarcinoma</td>\n",
       "    </tr>\n",
       "    <tr>\n",
       "      <th>Extremely high intelligence</th>\n",
       "      <td>Extremely high intelligence</td>\n",
       "      <td>Intelligence (MTAG)</td>\n",
       "      <td>Autism and major depressive disorder (MTAG)</td>\n",
       "      <td>General cognitive ability</td>\n",
       "      <td>Subjective response to lithium treatment</td>\n",
       "      <td>Survival in pancreatic cancer</td>\n",
       "      <td>Serous borderline ovarian cancer</td>\n",
       "      <td>Serous invasive ovarian cancer</td>\n",
       "      <td>Small cell lung carcinoma</td>\n",
       "      <td>Sporadic neuroblastoma</td>\n",
       "      <td>...</td>\n",
       "      <td>Cardia gastric cancer</td>\n",
       "      <td>Cancer</td>\n",
       "      <td>Breast cancer (progesterone-receptor positive)</td>\n",
       "      <td>Breast cancer (estrogen-receptor positive)</td>\n",
       "      <td>Breast cancer (estrogen-receptor negative, pro...</td>\n",
       "      <td>Breast cancer (estrogen-receptor negative)</td>\n",
       "      <td>Breast cancer</td>\n",
       "      <td>Bladder cancer</td>\n",
       "      <td>Basal cell carcinoma</td>\n",
       "      <td>BRCA1/2-negative high-risk breast cancer</td>\n",
       "    </tr>\n",
       "    <tr>\n",
       "      <th>General cognitive ability</th>\n",
       "      <td>General cognitive ability</td>\n",
       "      <td>Intelligence (MTAG)</td>\n",
       "      <td>Autism and major depressive disorder (MTAG)</td>\n",
       "      <td>Allergy</td>\n",
       "      <td>Bipolar disorder or body mass index</td>\n",
       "      <td>Extremely high intelligence</td>\n",
       "      <td>Gastroesophageal reflux disease</td>\n",
       "      <td>Cognitive ability, years of educational attain...</td>\n",
       "      <td>Schizophrenia</td>\n",
       "      <td>Breast cancer</td>\n",
       "      <td>...</td>\n",
       "      <td>Colorectal cancer</td>\n",
       "      <td>Colorectal adenoma (advanced)</td>\n",
       "      <td>Chronic lymphocytic leukemia or systemic lupus...</td>\n",
       "      <td>Non-glioblastoma glioma</td>\n",
       "      <td>Chronic lymphocytic leukemia</td>\n",
       "      <td>Cardia gastric cancer</td>\n",
       "      <td>Cancer</td>\n",
       "      <td>Breast cancer (progesterone-receptor positive)</td>\n",
       "      <td>Breast cancer (estrogen-receptor positive)</td>\n",
       "      <td>Breast cancer (estrogen-receptor negative, pro...</td>\n",
       "    </tr>\n",
       "    <tr>\n",
       "      <th>Intelligence (MTAG)</th>\n",
       "      <td>Intelligence (MTAG)</td>\n",
       "      <td>General cognitive ability</td>\n",
       "      <td>Extremely high intelligence</td>\n",
       "      <td>Autism and major depressive disorder (MTAG)</td>\n",
       "      <td>Multiple system atrophy</td>\n",
       "      <td>Gastroesophageal reflux disease</td>\n",
       "      <td>Metabolic syndrome</td>\n",
       "      <td>Lung cancer</td>\n",
       "      <td>Parkinson's disease or first degree relation t...</td>\n",
       "      <td>Adventurousness</td>\n",
       "      <td>...</td>\n",
       "      <td>Colorectal cancer</td>\n",
       "      <td>Colorectal adenoma (advanced)</td>\n",
       "      <td>Cirrhosis</td>\n",
       "      <td>Chronic lymphocytic leukemia or systemic lupus...</td>\n",
       "      <td>Chronic lymphocytic leukemia</td>\n",
       "      <td>Cardia gastric cancer</td>\n",
       "      <td>Cancer</td>\n",
       "      <td>Breast cancer (progesterone-receptor positive)</td>\n",
       "      <td>Breast cancer (estrogen-receptor positive)</td>\n",
       "      <td>Breast cancer (estrogen-receptor negative, pro...</td>\n",
       "    </tr>\n",
       "  </tbody>\n",
       "</table>\n",
       "<p>5 rows × 100 columns</p>\n",
       "</div>"
      ],
      "text/plain": [
       "                                                           1    \\\n",
       "Adventurousness                                Adventurousness   \n",
       "Automobile speeding propensity  Automobile speeding propensity   \n",
       "Extremely high intelligence        Extremely high intelligence   \n",
       "General cognitive ability            General cognitive ability   \n",
       "Intelligence (MTAG)                        Intelligence (MTAG)   \n",
       "\n",
       "                                                      2    \\\n",
       "Adventurousness                       Intelligence (MTAG)   \n",
       "Automobile speeding propensity            Type 2 diabetes   \n",
       "Extremely high intelligence           Intelligence (MTAG)   \n",
       "General cognitive ability             Intelligence (MTAG)   \n",
       "Intelligence (MTAG)             General cognitive ability   \n",
       "\n",
       "                                                                        3    \\\n",
       "Adventurousness                                Squamous cell lung carcinoma   \n",
       "Automobile speeding propensity     Subjective response to lithium treatment   \n",
       "Extremely high intelligence     Autism and major depressive disorder (MTAG)   \n",
       "General cognitive ability       Autism and major depressive disorder (MTAG)   \n",
       "Intelligence (MTAG)                             Extremely high intelligence   \n",
       "\n",
       "                                                                         4    \\\n",
       "Adventurousness                 Response to gemcitabine in pancreatic cancer   \n",
       "Automobile speeding propensity                  Squamous cell lung carcinoma   \n",
       "Extremely high intelligence                        General cognitive ability   \n",
       "General cognitive ability                                            Allergy   \n",
       "Intelligence (MTAG)              Autism and major depressive disorder (MTAG)   \n",
       "\n",
       "                                                                         5    \\\n",
       "Adventurousness                             Serous borderline ovarian cancer   \n",
       "Automobile speeding propensity  Response to gemcitabine in pancreatic cancer   \n",
       "Extremely high intelligence         Subjective response to lithium treatment   \n",
       "General cognitive ability                Bipolar disorder or body mass index   \n",
       "Intelligence (MTAG)                                  Multiple system atrophy   \n",
       "\n",
       "                                                             6    \\\n",
       "Adventurousness                   Serous invasive ovarian cancer   \n",
       "Automobile speeding propensity  Serous borderline ovarian cancer   \n",
       "Extremely high intelligence        Survival in pancreatic cancer   \n",
       "General cognitive ability            Extremely high intelligence   \n",
       "Intelligence (MTAG)              Gastroesophageal reflux disease   \n",
       "\n",
       "                                                             7    \\\n",
       "Adventurousness                        Small cell lung carcinoma   \n",
       "Automobile speeding propensity    Serous invasive ovarian cancer   \n",
       "Extremely high intelligence     Serous borderline ovarian cancer   \n",
       "General cognitive ability        Gastroesophageal reflux disease   \n",
       "Intelligence (MTAG)                           Metabolic syndrome   \n",
       "\n",
       "                                                                              8    \\\n",
       "Adventurousness                                            Sporadic neuroblastoma   \n",
       "Automobile speeding propensity                          Small cell lung carcinoma   \n",
       "Extremely high intelligence                        Serous invasive ovarian cancer   \n",
       "General cognitive ability       Cognitive ability, years of educational attain...   \n",
       "Intelligence (MTAG)                                                   Lung cancer   \n",
       "\n",
       "                                                                              9    \\\n",
       "Adventurousness                                           Squamous cell carcinoma   \n",
       "Automobile speeding propensity                             Sporadic neuroblastoma   \n",
       "Extremely high intelligence                             Small cell lung carcinoma   \n",
       "General cognitive ability                                           Schizophrenia   \n",
       "Intelligence (MTAG)             Parkinson's disease or first degree relation t...   \n",
       "\n",
       "                                                          10   ...  \\\n",
       "Adventurousness                 Survival in pancreatic cancer  ...   \n",
       "Automobile speeding propensity        Squamous cell carcinoma  ...   \n",
       "Extremely high intelligence            Sporadic neuroblastoma  ...   \n",
       "General cognitive ability                       Breast cancer  ...   \n",
       "Intelligence (MTAG)                           Adventurousness  ...   \n",
       "\n",
       "                                                                           91   \\\n",
       "Adventurousness                 Breast cancer (progesterone-receptor positive)   \n",
       "Automobile speeding propensity  Breast cancer (progesterone-receptor positive)   \n",
       "Extremely high intelligence                              Cardia gastric cancer   \n",
       "General cognitive ability                                    Colorectal cancer   \n",
       "Intelligence (MTAG)                                          Colorectal cancer   \n",
       "\n",
       "                                                                       92   \\\n",
       "Adventurousness                 Breast cancer (estrogen-receptor positive)   \n",
       "Automobile speeding propensity  Breast cancer (estrogen-receptor positive)   \n",
       "Extremely high intelligence                                         Cancer   \n",
       "General cognitive ability                    Colorectal adenoma (advanced)   \n",
       "Intelligence (MTAG)                          Colorectal adenoma (advanced)   \n",
       "\n",
       "                                                                              93   \\\n",
       "Adventurousness                 Breast cancer (estrogen-receptor negative, pro...   \n",
       "Automobile speeding propensity  Breast cancer (estrogen-receptor negative, pro...   \n",
       "Extremely high intelligence        Breast cancer (progesterone-receptor positive)   \n",
       "General cognitive ability       Chronic lymphocytic leukemia or systemic lupus...   \n",
       "Intelligence (MTAG)                                                     Cirrhosis   \n",
       "\n",
       "                                                                              94   \\\n",
       "Adventurousness                        Breast cancer (estrogen-receptor negative)   \n",
       "Automobile speeding propensity         Breast cancer (estrogen-receptor negative)   \n",
       "Extremely high intelligence            Breast cancer (estrogen-receptor positive)   \n",
       "General cognitive ability                                 Non-glioblastoma glioma   \n",
       "Intelligence (MTAG)             Chronic lymphocytic leukemia or systemic lupus...   \n",
       "\n",
       "                                                                              95   \\\n",
       "Adventurousness                                                     Breast cancer   \n",
       "Automobile speeding propensity                                      Breast cancer   \n",
       "Extremely high intelligence     Breast cancer (estrogen-receptor negative, pro...   \n",
       "General cognitive ability                            Chronic lymphocytic leukemia   \n",
       "Intelligence (MTAG)                                  Chronic lymphocytic leukemia   \n",
       "\n",
       "                                                                       96   \\\n",
       "Adventurousness                                             Bladder cancer   \n",
       "Automobile speeding propensity                              Bladder cancer   \n",
       "Extremely high intelligence     Breast cancer (estrogen-receptor negative)   \n",
       "General cognitive ability                            Cardia gastric cancer   \n",
       "Intelligence (MTAG)                                  Cardia gastric cancer   \n",
       "\n",
       "                                                 97   \\\n",
       "Adventurousness                 Basal cell carcinoma   \n",
       "Automobile speeding propensity  Basal cell carcinoma   \n",
       "Extremely high intelligence            Breast cancer   \n",
       "General cognitive ability                     Cancer   \n",
       "Intelligence (MTAG)                           Cancer   \n",
       "\n",
       "                                                                           98   \\\n",
       "Adventurousness                       BRCA1/2-negative high-risk breast cancer   \n",
       "Automobile speeding propensity        BRCA1/2-negative high-risk breast cancer   \n",
       "Extremely high intelligence                                     Bladder cancer   \n",
       "General cognitive ability       Breast cancer (progesterone-receptor positive)   \n",
       "Intelligence (MTAG)             Breast cancer (progesterone-receptor positive)   \n",
       "\n",
       "                                                                       99   \\\n",
       "Adventurousness                            Adenocarcinoma in never smokers   \n",
       "Automobile speeding propensity             Adenocarcinoma in never smokers   \n",
       "Extremely high intelligence                           Basal cell carcinoma   \n",
       "General cognitive ability       Breast cancer (estrogen-receptor positive)   \n",
       "Intelligence (MTAG)             Breast cancer (estrogen-receptor positive)   \n",
       "\n",
       "                                                                              100  \n",
       "Adventurousness                                                    Adenocarcinoma  \n",
       "Automobile speeding propensity                                     Adenocarcinoma  \n",
       "Extremely high intelligence              BRCA1/2-negative high-risk breast cancer  \n",
       "General cognitive ability       Breast cancer (estrogen-receptor negative, pro...  \n",
       "Intelligence (MTAG)             Breast cancer (estrogen-receptor negative, pro...  \n",
       "\n",
       "[5 rows x 100 columns]"
      ]
     },
     "execution_count": 76,
     "metadata": {},
     "output_type": "execute_result"
    }
   ],
   "source": [
    "n_neighbours = 100\n",
    "data_neighbours = pd.DataFrame(index=data_matrix.columns, columns=range(1,n_neighbours+1))\n",
    "for i in range(0, len(data_matrix.columns)):\n",
    "    data_neighbours.iloc[i,:n_neighbours] = data_matrix.iloc[0:,i].sort_values(ascending=False)[:n_neighbours].index\n",
    "data_neighbours.head()"
   ]
  },
  {
   "cell_type": "markdown",
   "metadata": {},
   "source": [
    "Elegimos un alelo dentro del conjunto de entrenamiento"
   ]
  },
  {
   "cell_type": "code",
   "execution_count": 77,
   "metadata": {},
   "outputs": [
    {
     "name": "stdout",
     "output_type": "stream",
     "text": [
      "Alelo de prueba: rs11231824-C\n",
      "Fenotipos asociados al alelo: ['Systemic lupus erythematosus']\n"
     ]
    }
   ],
   "source": [
    "# np.random.seed(43)\n",
    "alelo_prueba = np.random.choice(data_tripletes_train.alelo_riesgo.unique())\n",
    "# alelo_prueba = 'rs6739779-C'\n",
    "# alelo_prueba = 'rs4549631-C'\n",
    "print(f'Alelo de prueba: {alelo_prueba}')\n",
    "\n",
    "\n",
    "known_alelo_fenotipos = data_bipartita_normalizada.loc[alelo_prueba,:]\n",
    "known_alelo_fenotipos = known_alelo_fenotipos[known_alelo_fenotipos >0].index.values\n",
    "print(f'Fenotipos asociados al alelo: {known_alelo_fenotipos}')"
   ]
  },
  {
   "cell_type": "markdown",
   "metadata": {},
   "source": [
    "Dado esos fenotipos, seleccionamos los similares a partir de `data_neighbours`"
   ]
  },
  {
   "cell_type": "code",
   "execution_count": 78,
   "metadata": {},
   "outputs": [
    {
     "name": "stdout",
     "output_type": "stream",
     "text": [
      "Fenotipos similares, sin rankear: ['Cancer', 'Large artery stroke', 'Coronary heart disease', 'Diffuse cutaneous systemic sclerosis', 'Heart failure', 'Oral cavity cancer', 'Migraine with aura', 'Diffuse large B cell lymphoma', 'Giant cell arteritis', 'Systemic seropositive rheumatic diseases (Systemic sclerosis or systemic lupus erythematosus or rheumatoid arthritis or idiopathic inflammatory myopathies)', 'Colorectal adenoma (advanced)', 'Ulcerative colitis', 'Hypertension', 'Colorectal or endometrial cancer', 'Adenocarcinoma in never smokers', \"Crohn's disease\", 'Colorectal cancer', 'Endometrial endometrioid carcinoma', 'Lipoprotein phospholipase A2 activity in cardiovascular disease', 'Cutaneous squamous cell carcinoma', 'Carotid intima media thickness', 'Atrial fibrillation', 'Ovarian clear cell cancer', 'Hepatocellular carcinoma', 'Celiac disease', 'Renal cell carcinoma', 'Migraine - clinic-based', \"Sjögren's syndrome\", \"Behcet's disease\", 'Eosinophilic granulomatosis with polyangiitis', 'Kawasaki disease', 'Survival in pancreatic cancer', 'Systemic lupus erythematosus or rheumatoid arthritis', 'Response to gemcitabine in pancreatic cancer', 'Aortic valve stenosis', 'Coronary artery disease', 'Sporadic neuroblastoma', 'Serous borderline ovarian cancer', 'Coronary artery disease (myocardial infarction, percutaneous transluminal coronary angioplasty, coronary artery bypass grafting, angina or chromic ischemic heart disease)', 'Neuromyelitis optica (AQP4-IgG-positive)', 'Primary central nervous system lymphoma', 'Pancreatic ductal adenocarcinoma', 'Diffuse large B-cell lymphoma or rheumatoid arthritis', 'Psoriasis vulgaris', 'Uterine fibroids (multi-trait analysis)', 'Endometrial cancer', 'Response to anti-retroviral therapy (ddI/d4T) in HIV-1 infection (Grade 2 peripheral neuropathy)', 'Migraine', 'Primary biliary cholangitis', 'Chronic lymphocytic leukemia', 'Myocardial infarction', 'Type 1 diabetes and autoimmune thyroid diseases', 'Oropharynx cancer', 'Calcific aortic valve stenosis', 'Colorectal cancer or advanced adenoma', 'Prostate cancer (early onset)', 'Waldenström macroglobulinemia / lymphoplasmacytic lymphoma', 'Cirrhosis', 'Subjective response to lithium treatment', 'Psoriasis', 'Type 1 diabetes', 'Lipoprotein (a) levels in coronary artery disease (percutaneous coronary intervention)', 'Endometrial cancer (endometrioid histology)', 'Chronic lymphocytic leukemia or systemic lupus erythematosus', 'Ovarian cancer in BRCA2 mutation carriers', 'Squamous cell carcinoma', 'Abdominal aortic aneurysm', 'Serous invasive ovarian cancer', 'Thyroid cancer', 'Multiple sclerosis', 'Rheumatoid arthritis', 'Cutaneous malignant melanoma', 'Small cell lung carcinoma', 'Endometrial cancer (multi-trait analysis)', 'Ovarian cancer', 'Latent autoimmune diabetes vs. type 2 diabetes', 'Limited cutaneous systemic scleroderma', 'Early onset atrial fibrillation', 'Pancreatic cancer', 'Diffuse large B-cell lymphoma or systemic lupus erythematosus', 'Prostate cancer (advanced)', 'Cervical artery dissection', 'Cognitive ability, years of educational attainment or schizophrenia (pleiotropy)', 'Primary biliary cirrhosis', 'Inflammatory bowel disease', 'Squamous cell lung carcinoma', 'EGFR mutation-positive lung adenocarcinoma', 'Peripheral artery disease', 'Systemic sclerosis', 'Ovarian cancer (multi-trait analysis)', 'Neuromyelitis optica', 'Prostate cancer', 'Aortic-valve calcification', 'Migraine without aura', 'Cardia gastric cancer', 'Systemic lupus erythematosus', 'Uterine fibroids', 'Intracranial aneurysm', 'Oral cavity and pharyngeal cancer', 'Ovarian cancer in BRCA1 mutation carriers']\n"
     ]
    }
   ],
   "source": [
    "# Construct the neighbourhood from the most similar items to the\n",
    "# ones our alelo it's related\n",
    "most_similar_fenotipos = data_neighbours.loc[known_alelo_fenotipos]\n",
    "# most_similar_fenotipos\n",
    "similar_list = most_similar_fenotipos.values.tolist()\n",
    "similar_list = list(set([item for sublist in similar_list for item in sublist]))\n",
    "print(f'Fenotipos similares, sin rankear: {similar_list}')"
   ]
  },
  {
   "cell_type": "markdown",
   "metadata": {},
   "source": [
    "Seleccionamos, dentro de la matriz de similaridades, los valores para los fenotipos similares"
   ]
  },
  {
   "cell_type": "code",
   "execution_count": 79,
   "metadata": {},
   "outputs": [
    {
     "data": {
      "text/plain": [
       "(100, 100)"
      ]
     },
     "execution_count": 79,
     "metadata": {},
     "output_type": "execute_result"
    }
   ],
   "source": [
    "neighbourhood = data_matrix[similar_list].loc[similar_list]\n",
    "neighbourhood.shape"
   ]
  },
  {
   "cell_type": "markdown",
   "metadata": {},
   "source": [
    "Creamos un vector que tiene los fenotipos similares, incluyendo los conocidos, y su *rating* (1 o 0)."
   ]
  },
  {
   "cell_type": "code",
   "execution_count": 80,
   "metadata": {},
   "outputs": [
    {
     "data": {
      "text/plain": [
       "Cancer                                       0.0\n",
       "Large artery stroke                          0.0\n",
       "Coronary heart disease                       0.0\n",
       "Diffuse cutaneous systemic sclerosis         0.0\n",
       "Heart failure                                0.0\n",
       "                                            ... \n",
       "Systemic lupus erythematosus                 1.0\n",
       "Uterine fibroids                             0.0\n",
       "Intracranial aneurysm                        0.0\n",
       "Oral cavity and pharyngeal cancer            0.0\n",
       "Ovarian cancer in BRCA1 mutation carriers    0.0\n",
       "Name: rs11231824-C, Length: 100, dtype: float64"
      ]
     },
     "execution_count": 80,
     "metadata": {},
     "output_type": "execute_result"
    }
   ],
   "source": [
    "# A user vector containing only the neighbourhood items and\n",
    "# the known user likes.\n",
    "fenotipos_probables = data_bipartita_normalizada.loc[alelo_prueba,:].loc[similar_list]\n",
    "fenotipos_probables"
   ]
  },
  {
   "cell_type": "markdown",
   "metadata": {},
   "source": [
    "Calculamos los scores y ordenamos."
   ]
  },
  {
   "cell_type": "code",
   "execution_count": 81,
   "metadata": {},
   "outputs": [],
   "source": [
    "# Calculate the score.\n",
    "score = neighbourhood.dot(fenotipos_probables).div(neighbourhood.sum(axis=1))\n",
    "# score\n",
    "score.sort_values(ascending = False, inplace = True)\n",
    "# score"
   ]
  },
  {
   "cell_type": "markdown",
   "metadata": {},
   "source": [
    "E imprimimos los fenotipos conocidos y el ranking"
   ]
  },
  {
   "cell_type": "code",
   "execution_count": 82,
   "metadata": {},
   "outputs": [
    {
     "name": "stdout",
     "output_type": "stream",
     "text": [
      "['Systemic lupus erythematosus']\n",
      "Systemic lupus erythematosus                                                                                                                                   0.831770\n",
      "Limited cutaneous systemic scleroderma                                                                                                                         0.026667\n",
      "Chronic lymphocytic leukemia or systemic lupus erythematosus                                                                                                   0.014809\n",
      "Systemic seropositive rheumatic diseases (Systemic sclerosis or systemic lupus erythematosus or rheumatoid arthritis or idiopathic inflammatory myopathies)    0.012724\n",
      "Neuromyelitis optica (AQP4-IgG-positive)                                                                                                                       0.008790\n",
      "                                                                                                                                                                 ...   \n",
      "Lipoprotein (a) levels in coronary artery disease (percutaneous coronary intervention)                                                                         0.000000\n",
      "Endometrial cancer (endometrioid histology)                                                                                                                    0.000000\n",
      "Ovarian cancer in BRCA2 mutation carriers                                                                                                                      0.000000\n",
      "Squamous cell carcinoma                                                                                                                                        0.000000\n",
      "Cancer                                                                                                                                                         0.000000\n",
      "Length: 100, dtype: float64\n"
     ]
    }
   ],
   "source": [
    "print(known_alelo_fenotipos)\n",
    "print(score)"
   ]
  },
  {
   "cell_type": "code",
   "execution_count": 83,
   "metadata": {},
   "outputs": [
    {
     "data": {
      "image/png": "[encoded data removed]",
      "text/plain": [
       "<Figure size 720x288 with 1 Axes>"
      ]
     },
     "metadata": {},
     "output_type": "display_data"
    }
   ],
   "source": [
    "# sns.barplot(score.index, score.values)\n",
    "plt.figure(figsize = (10,4))\n",
    "plt.scatter(score.index, score.values)\n",
    "plt.xticks(rotation = 90)\n",
    "plt.show()"
   ]
  },
  {
   "cell_type": "code",
   "execution_count": null,
   "metadata": {},
   "outputs": [],
   "source": [
    "# def recomendaciones_alelo(alelo_index, data_bipartita_normalizada, data_neighbours, data_matrix):\n",
    "#     known_alelo_fenotipos = data_bipartita_normalizada.iloc[alelo_index]\n",
    "#     known_alelo_fenotipos = known_alelo_fenotipos[known_alelo_fenotipos >0].index.values\n",
    "\n",
    "#     most_similar_fenotipos = data_neighbours.loc[known_alelo_fenotipos]\n",
    "\n",
    "#     similar_list = most_similar_fenotipos.values.tolist()\n",
    "#     similar_list = list(set([item for sublist in similar_list for item in sublist]))\n",
    "\n",
    "#     neighbourhood = data_matrix[similar_list].loc[similar_list]\n",
    "\n",
    "#     fenotipos_probables = data_bipartita_normalizada.iloc[alelo_prueba_index].loc[similar_list]\n",
    "\n",
    "#     score = neighbourhood.dot(fenotipos_probables).div(neighbourhood.sum(axis=1))\n",
    "#     score.sort_values(ascending = False, inplace = True)\n",
    "\n",
    "#     return score"
   ]
  },
  {
   "cell_type": "code",
   "execution_count": null,
   "metadata": {},
   "outputs": [],
   "source": [
    "# score = recomendaciones_alelo(alelo_prueba_index, data_bipartita_normalizada, data_neighbours, data_matrix)"
   ]
  },
  {
   "cell_type": "code",
   "execution_count": null,
   "metadata": {},
   "outputs": [],
   "source": [
    "# plt.scatter(score.index, score.values)\n",
    "# plt.xticks(rotation = 90)"
   ]
  },
  {
   "cell_type": "markdown",
   "metadata": {},
   "source": [
    "### Sobre Conjunto de Test\n",
    "\n",
    "\"A mano\" por ahora"
   ]
  },
  {
   "cell_type": "code",
   "execution_count": 110,
   "metadata": {},
   "outputs": [
    {
     "name": "stdout",
     "output_type": "stream",
     "text": [
      "Alelo a probar: rs561722-G\n",
      "Todos fenotipos asociados al alelo: ['Inflammatory bowel disease' 'Ulcerative colitis']\n",
      "Fenotipos en Test: ['Inflammatory bowel disease']\n",
      "Fenotipos en Train: ['Ulcerative colitis']\n"
     ]
    }
   ],
   "source": [
    "# np.random.seed(50)\n",
    "alelo_prueba = np.random.choice(data_tripletes_test.alelo_riesgo)\n",
    "print(f'Alelo a probar: {alelo_prueba}')\n",
    "\n",
    "todos_fenotipos_asociados = data[data.alelo_riesgo == alelo_prueba].fenotipo.values\n",
    "fenotipos_en_test = data_tripletes_test[data_tripletes_test.alelo_riesgo == alelo_prueba].fenotipo.values\n",
    "# known_alelo_fenotipos = known_alelo_fenotipos[known_alelo_fenotipos >0].index.values\n",
    "print(f'Todos fenotipos asociados al alelo: {todos_fenotipos_asociados}')\n",
    "print(f'Fenotipos en Test: {fenotipos_en_test}')\n",
    "\n",
    "fenotipos_en_train = data_bipartita_normalizada.loc[alelo_prueba]\n",
    "fenotipos_en_train = fenotipos_en_train[fenotipos_en_train >0].index.values\n",
    "print(f'Fenotipos en Train: {fenotipos_en_train}')"
   ]
  },
  {
   "cell_type": "code",
   "execution_count": 111,
   "metadata": {},
   "outputs": [],
   "source": [
    "most_similar_fenotipos = data_neighbours.loc[fenotipos_en_test]\n",
    "similar_list = most_similar_fenotipos.values.tolist()\n",
    "similar_list = list(set([item for sublist in similar_list for item in sublist]))\n",
    "neighbourhood = data_matrix[similar_list].loc[similar_list]"
   ]
  },
  {
   "cell_type": "code",
   "execution_count": 112,
   "metadata": {},
   "outputs": [],
   "source": [
    "fenotipos_probables = data_bipartita_normalizada.loc[alelo_prueba].loc[similar_list]\n",
    "# fenotipos_probables"
   ]
  },
  {
   "cell_type": "code",
   "execution_count": 113,
   "metadata": {},
   "outputs": [],
   "source": [
    "score = neighbourhood.dot(fenotipos_probables).div(neighbourhood.sum(axis=1))\n",
    "score.sort_values(ascending = False, inplace = True)\n",
    "# print(f'Fenotipos en Train: {fenotipos_en_train}')\n",
    "# print(f'Fenotipos en Test: {fenotipos_en_test}')\n",
    "# print(score.nlargest(50))"
   ]
  },
  {
   "cell_type": "code",
   "execution_count": 114,
   "metadata": {},
   "outputs": [
    {
     "data": {
      "text/plain": [
       "array([2, 1, 0, 0, 0, 0, 0, 0, 0, 0, 0, 0, 0, 0, 0, 0, 0, 0, 0, 0, 0, 0,\n",
       "       0, 0, 0, 0, 0, 0, 0, 0, 0, 0, 0, 0, 0, 0, 0, 0, 0, 0, 0, 0, 0, 0,\n",
       "       0, 0, 0, 0, 0, 0])"
      ]
     },
     "execution_count": 114,
     "metadata": {},
     "output_type": "execute_result"
    }
   ],
   "source": [
    "mascara_colores = 2*score.nlargest(50).index.isin(fenotipos_en_train) + 1*score.nlargest(50).index.isin(fenotipos_en_test)\n",
    "mascara_colores"
   ]
  },
  {
   "cell_type": "code",
   "execution_count": 115,
   "metadata": {},
   "outputs": [
    {
     "name": "stderr",
     "output_type": "stream",
     "text": [
      "<ipython-input-115-e49443476aa0>:3: RuntimeWarning: divide by zero encountered in log\n",
      "  plt.scatter(score.nlargest(50).index, np.log(score.nlargest(50).values), c = mascara_colores, cmap = 'Set2')\n"
     ]
    },
    {
     "data": {
      "image/png": "[encoded data removed]",
      "text/plain": [
       "<Figure size 1080x360 with 1 Axes>"
      ]
     },
     "metadata": {},
     "output_type": "display_data"
    }
   ],
   "source": [
    "mascara_colores = 2*score.nlargest(50).index.isin(fenotipos_en_train) + 1*score.nlargest(50).index.isin(fenotipos_en_test)\n",
    "plt.figure(figsize = (15,5))\n",
    "plt.scatter(score.nlargest(50).index, np.log(score.nlargest(50).values), c = mascara_colores, cmap = 'Set2')\n",
    "plt.xticks(rotation = 90)\n",
    "plt.show()"
   ]
  },
  {
   "cell_type": "markdown",
   "metadata": {},
   "source": [
    "1. grafico de fenotipos vs score\n",
    "1. capacidad de priorizar dado \n",
    "1. Usar el paper de zhou\n",
    "\n",
    "\n",
    "MARTES - 5 min\n",
    "dimensión de los datos\n",
    "encuadrar el problema biológico o metodológico\n",
    "\n"
   ]
  },
  {
   "cell_type": "code",
   "execution_count": null,
   "metadata": {},
   "outputs": [],
   "source": [
    "def indices_aciertos(fenotipos_recomendados, fenotipos_a_evaluar):\n",
    "    indices = []\n",
    "    for fenotipo in fenotipos_a_evaluar:\n",
    "        if fenotipo in fenotipos_recomendados:\n",
    "            indices.append(fenotipos_recomendados.index(fenotipo))\n",
    "        else:\n",
    "            indices.append(-1)\n",
    "    return indices"
   ]
  },
  {
   "cell_type": "code",
   "execution_count": null,
   "metadata": {},
   "outputs": [],
   "source": [
    "n = 100\n",
    "fenotipos_recomendados = list(score.index)\n",
    "# fenotipos_recomendados = [x for x in fenotipos_recomendados if x not in fenotipos_train]\n",
    "\n",
    "\n",
    "\n",
    "indices_aciertos(fenotipos_recomendados, todos_fenotipos_asociados)"
   ]
  },
  {
   "cell_type": "code",
   "execution_count": null,
   "metadata": {},
   "outputs": [],
   "source": []
  },
  {
   "cell_type": "code",
   "execution_count": null,
   "metadata": {},
   "outputs": [],
   "source": [
    "n = 10\n",
    "\n",
    "resultados = []\n",
    "\n",
    "for alelo_prueba_index in data_bipartita_test_1.index:\n",
    "#     print(alelo_prueba_index)\n",
    "    alelo_prueba = dict_id_to_alelo[alelo_prueba_index]\n",
    "    known_alelo_fenotipos = data_bipartita_test_1.loc[alelo_prueba_index]\n",
    "    known_alelo_fenotipos = known_alelo_fenotipos[known_alelo_fenotipos >0].index.values\n",
    "#     print(f'Fenotipos asociados al alelo para generar recomendaciones: {known_alelo_fenotipos}')\n",
    "    \n",
    "    fenotipos_reportados_alelo = data_bipartita.loc[alelo_prueba_index]\n",
    "    fenotipos_reportados_alelo = fenotipos_reportados_alelo[fenotipos_reportados_alelo >0].index.values\n",
    "#     print(f'Todos fenotipos asociados al alelo: {fenotipos_reportados_alelo}')\n",
    "    \n",
    "    most_similar_fenotipos = data_neighbours.loc[known_alelo_fenotipos]\n",
    "    similar_list = most_similar_fenotipos.values.tolist()\n",
    "    similar_list = list(set([item for sublist in similar_list for item in sublist]))\n",
    "    neighbourhood = data_matrix[similar_list].loc[similar_list]\n",
    "    \n",
    "    fenotipos_probables = data_bipartita_test_1.loc[alelo_prueba_index].loc[similar_list]\n",
    "    score = neighbourhood.dot(fenotipos_probables).div(neighbourhood.sum(axis=1))\n",
    "    score.sort_values(ascending = False, inplace = True)\n",
    "#     print(score.nlargest(5))\n",
    "\n",
    "    \n",
    "    fenotipos_recomendados = list(score.index)\n",
    "    fenotipos_usados_para_recomendar = known_alelo_fenotipos\n",
    "    fenotipos_conocidos = fenotipos_reportados_alelo\n",
    "    \n",
    "    n_0 = len(fenotipos_usados_para_recomendar)\n",
    "    fenotipos_recomendados = fenotipos_recomendados[n_0:n_0+n]\n",
    "    fenotipos_a_evaluar = [x for x in fenotipos_conocidos if x not in fenotipos_usados_para_recomendar]\n",
    "    \n",
    "    idxs = indices_aciertos(fenotipos_recomendados, fenotipos_a_evaluar)\n",
    "    \n",
    "    resultados_alelo = dict(zip(fenotipos_a_evaluar, idxs))\n",
    "    resultados_alelo['alelo'] = alelo_prueba\n",
    "    resultados_alelo['indice_alelo'] = alelo_prueba_index\n",
    "    resultados.append(resultados_alelo)\n",
    "    \n",
    "#     print(idxs)\n"
   ]
  },
  {
   "cell_type": "code",
   "execution_count": null,
   "metadata": {},
   "outputs": [],
   "source": [
    "resultados_df = pd.DataFrame(resultados).set_index('indice_alelo')\n",
    "resultados_df.head()"
   ]
  },
  {
   "cell_type": "code",
   "execution_count": null,
   "metadata": {},
   "outputs": [],
   "source": [
    "indices = resultados_df.drop(columns = 'alelo').values\n",
    "indices = indices[~np.isnan(indices)]\n",
    "plt.hist(indices, bins = np.arange(-1.5,9.5))"
   ]
  },
  {
   "cell_type": "code",
   "execution_count": null,
   "metadata": {},
   "outputs": [],
   "source": [
    "print(f'Porcentaje aciertos: {(indices>-1).sum()/indices.size}')\n",
    "print(f'Porcentaje no aciertos: {(indices==-1).sum()/indices.size}')"
   ]
  },
  {
   "cell_type": "code",
   "execution_count": null,
   "metadata": {},
   "outputs": [],
   "source": []
  },
  {
   "cell_type": "markdown",
   "metadata": {},
   "source": [
    "### Cosas para hacer\n",
    "\n",
    "1. Chequear sobre `categoria_fenotipo` que no sea trivial\n",
    "1. Agregar segunda forma de evaluación: borrando '1' de la matriz de train\n",
    "1. Chequear que al separar train y test no se rompa la red\n",
    "1. Metodizar la evaluación para obtener una métrica\n",
    "1. Chequear que no estemos cayendo en la parte \"fácil\" de la red --> ¿pregunta biológica?"
   ]
  },
  {
   "cell_type": "code",
   "execution_count": null,
   "metadata": {},
   "outputs": [],
   "source": []
  },
  {
   "cell_type": "code",
   "execution_count": null,
   "metadata": {},
   "outputs": [],
   "source": []
  },
  {
   "cell_type": "code",
   "execution_count": null,
   "metadata": {},
   "outputs": [],
   "source": []
  }
 ],
 "metadata": {
  "kernelspec": {
   "display_name": "Python 3",
   "language": "python",
   "name": "python3"
  },
  "language_info": {
   "codemirror_mode": {
    "name": "ipython",
    "version": 3
   },
   "file_extension": ".py",
   "mimetype": "text/x-python",
   "name": "python",
   "nbconvert_exporter": "python",
   "pygments_lexer": "ipython3",
   "version": "3.8.2"
  }
 },
 "nbformat": 4,
 "nbformat_minor": 4
}
