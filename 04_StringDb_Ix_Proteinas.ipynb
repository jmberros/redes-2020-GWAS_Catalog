{
 "cells": [
  {
   "cell_type": "markdown",
   "metadata": {},
   "source": [
    "# String Db de interacción de proteínas\n",
    "\n",
    "  * Origen de los datos: https://string-db.org/cgi/download.pl?sessionId=emyQzkygzVar&species_text=Homo+sapiens\n",
    "  * Leemos las interacciones entre proteínas de StringDb\n",
    "  * Las expresamos en nombres de genes\n",
    "  * Conservamos las interacciones donde al menos un gen de los dos están en GWAS Catalog"
   ]
  },
  {
   "cell_type": "code",
   "execution_count": 34,
   "metadata": {},
   "outputs": [],
   "source": [
    "%run imports.py\n",
    "\n",
    "prot_info = pd.read_table(\"data/9606.protein.info.v11.0.txt.gz\")\n",
    "prot_links = pd.read_table(\"data/9606.protein.links.v11.0.txt.gz\", sep=\"\\s+\")\n",
    "prot_links = prot_links.rename(columns={\"protein1\": \"ensembl_id_1\", \"protein2\": \"ensembl_id_2\"})\n",
    "\n",
    "ensemble_id_to_gene_symbol = dict(zip(prot_info.protein_external_id, prot_info.preferred_name))\n",
    "\n",
    "prot_links[\"protein_1\"] = prot_links.ensembl_id_1.map(ensemble_id_to_gene_symbol)\n",
    "prot_links[\"protein_2\"] = prot_links.ensembl_id_2.map(ensemble_id_to_gene_symbol)\n",
    "\n",
    "still_ensembl_ids = (\n",
    "    prot_links.protein_1.str.contains(\"ENS\") |\n",
    "    prot_links.protein_2.str.contains(\"ENS\")\n",
    ")\n",
    "\n",
    "prot_links = prot_links[~still_ensembl_ids].reset_index(drop=True)\n",
    "\n",
    "prot_links = prot_links.drop([\"ensembl_id_1\", \"ensembl_id_2\"], axis=1)\n"
   ]
  },
  {
   "cell_type": "code",
   "execution_count": 43,
   "metadata": {},
   "outputs": [
    {
     "name": "stdout",
     "output_type": "stream",
     "text": [
      "protein_1  protein_2\n",
      "0          FKBP4      CLPB\n",
      "1          FKBP4      CALM2\n",
      "2          FKBP4      PDZD7\n",
      "3          FKBP4      ERN1\n",
      "\n",
      "gzip: stdout: Broken pipe\n"
     ]
    }
   ],
   "source": [
    "gwas_cat = pd.read_table(\"results/gwas_cat.filtrado.tsv.gz\")\n",
    "\n",
    "genes_de_gwas = set(gwas_cat.gen_mapeado_elegido)\n",
    "\n",
    "prot_links[\"protein_1_in_gwas\"] = prot_links.protein_1.isin(genes_de_gwas)\n",
    "prot_links[\"protein_2_in_gwas\"] = prot_links.protein_2.isin(genes_de_gwas)\n",
    "\n",
    "prot_links = prot_links.query(\"protein_1_in_gwas | protein_2_in_gwas\").reset_index(drop=True)\n",
    "\n",
    "fp = \"results/prot_links.stringdb.tsv.gz\"\n",
    "cols_to_export = [\"protein_1\", \"protein_2\"]\n",
    "prot_links[cols_to_export].to_csv(fp, sep=\"\\t\")\n",
    "\n",
    "!zcat $fp | head -n5 | column -t"
   ]
  },
  {
   "cell_type": "code",
   "execution_count": 49,
   "metadata": {},
   "outputs": [
    {
     "data": {
      "text/html": [
       "<div>\n",
       "<style scoped>\n",
       "    .dataframe tbody tr th:only-of-type {\n",
       "        vertical-align: middle;\n",
       "    }\n",
       "\n",
       "    .dataframe tbody tr th {\n",
       "        vertical-align: top;\n",
       "    }\n",
       "\n",
       "    .dataframe thead th {\n",
       "        text-align: right;\n",
       "    }\n",
       "</style>\n",
       "<table border=\"1\" class=\"dataframe\">\n",
       "  <thead>\n",
       "    <tr style=\"text-align: right;\">\n",
       "      <th></th>\n",
       "      <th>protein_1</th>\n",
       "      <th>protein_2</th>\n",
       "    </tr>\n",
       "  </thead>\n",
       "  <tbody>\n",
       "    <tr>\n",
       "      <th>0</th>\n",
       "      <td>FKBP4</td>\n",
       "      <td>CLPB</td>\n",
       "    </tr>\n",
       "    <tr>\n",
       "      <th>1</th>\n",
       "      <td>FKBP4</td>\n",
       "      <td>CALM2</td>\n",
       "    </tr>\n",
       "    <tr>\n",
       "      <th>2</th>\n",
       "      <td>FKBP4</td>\n",
       "      <td>PDZD7</td>\n",
       "    </tr>\n",
       "    <tr>\n",
       "      <th>3</th>\n",
       "      <td>FKBP4</td>\n",
       "      <td>ERN1</td>\n",
       "    </tr>\n",
       "    <tr>\n",
       "      <th>4</th>\n",
       "      <td>FKBP4</td>\n",
       "      <td>KIAA1522</td>\n",
       "    </tr>\n",
       "    <tr>\n",
       "      <th>...</th>\n",
       "      <td>...</td>\n",
       "      <td>...</td>\n",
       "    </tr>\n",
       "    <tr>\n",
       "      <th>3643577</th>\n",
       "      <td>ZNF518A</td>\n",
       "      <td>PPARG</td>\n",
       "    </tr>\n",
       "    <tr>\n",
       "      <th>3643578</th>\n",
       "      <td>ZNF518A</td>\n",
       "      <td>PRIM2</td>\n",
       "    </tr>\n",
       "    <tr>\n",
       "      <th>3643579</th>\n",
       "      <td>ZNF518A</td>\n",
       "      <td>AGAP1</td>\n",
       "    </tr>\n",
       "    <tr>\n",
       "      <th>3643580</th>\n",
       "      <td>ZNF518A</td>\n",
       "      <td>VPS11</td>\n",
       "    </tr>\n",
       "    <tr>\n",
       "      <th>3643581</th>\n",
       "      <td>ZNF518A</td>\n",
       "      <td>RAI1</td>\n",
       "    </tr>\n",
       "  </tbody>\n",
       "</table>\n",
       "<p>3643582 rows × 2 columns</p>\n",
       "</div>"
      ],
      "text/plain": [
       "        protein_1 protein_2\n",
       "0           FKBP4      CLPB\n",
       "1           FKBP4     CALM2\n",
       "2           FKBP4     PDZD7\n",
       "3           FKBP4      ERN1\n",
       "4           FKBP4  KIAA1522\n",
       "...           ...       ...\n",
       "3643577   ZNF518A     PPARG\n",
       "3643578   ZNF518A     PRIM2\n",
       "3643579   ZNF518A     AGAP1\n",
       "3643580   ZNF518A     VPS11\n",
       "3643581   ZNF518A      RAI1\n",
       "\n",
       "[3643582 rows x 2 columns]"
      ]
     },
     "execution_count": 49,
     "metadata": {},
     "output_type": "execute_result"
    }
   ],
   "source": [
    "len(set(prot_links.protein_1) & set(prot_links.protein_2))\n",
    "prot_links[cols_to_export]"
   ]
  }
 ],
 "metadata": {
  "kernelspec": {
   "display_name": "Python 3",
   "language": "python",
   "name": "python3"
  },
  "language_info": {
   "codemirror_mode": {
    "name": "ipython",
    "version": 3
   },
   "file_extension": ".py",
   "mimetype": "text/x-python",
   "name": "python",
   "nbconvert_exporter": "python",
   "pygments_lexer": "ipython3",
   "version": "3.6.5"
  }
 },
 "nbformat": 4,
 "nbformat_minor": 2
}
