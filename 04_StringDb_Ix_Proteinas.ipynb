{
 "cells": [
  {
   "cell_type": "markdown",
   "metadata": {},
   "source": [
    "# String Db de interacción de proteínas\n",
    "\n",
    "  * Origen de los datos: https://string-db.org/cgi/download.pl?sessionId=emyQzkygzVar&species_text=Homo+sapiens\n",
    "  * Leemos las interacciones entre proteínas de StringDb\n",
    "  * Las expresamos en nombres de genes\n",
    "  * Conservamos las interacciones donde al menos un gen de los dos están en GWAS Catalog\n",
    "  * Conservamos las interacciones de score alto (ojo que el score [viene multiplicado * 1000](http://version10.string-db.org/help/faq/#in-the-file-proteinlinkstxt-are-the-scores-multiplied-by-1000))"
   ]
  },
  {
   "cell_type": "code",
   "execution_count": 1,
   "metadata": {},
   "outputs": [],
   "source": [
    "# !wget -c -P data https://stringdb-static.org/download/protein.links.v11.0/9606.protein.links.v11.0.txt.gz\n",
    "# !wget -c -P data https://stringdb-static.org/download/protein.links.detailed.v11.0/9606.protein.links.detailed.v11.0.txt.gz\n",
    "# !wget -c -P data https://stringdb-static.org/download/protein.links.full.v11.0/9606.protein.links.full.v11.0.txt.gz\n",
    "# !wget -c -P data https://stringdb-static.org/download/protein.actions.v11.0/9606.protein.actions.v11.0.txt.gz\n",
    "# !wget -c -P data https://stringdb-static.org/download/protein.info.v11.0/9606.protein.info.v11.0.txt.gz"
   ]
  },
  {
   "cell_type": "code",
   "execution_count": 2,
   "metadata": {},
   "outputs": [
    {
     "name": "stdout",
     "output_type": "stream",
     "text": [
      "11,759,454 enlaces descriptos (sin filtrar)\n"
     ]
    },
    {
     "data": {
      "text/plain": [
       "<matplotlib.axes._subplots.AxesSubplot at 0x7f08006a64a8>"
      ]
     },
     "execution_count": 2,
     "metadata": {},
     "output_type": "execute_result"
    }
   ],
   "source": [
    "%run imports.py\n",
    "\n",
    "prot_info = pd.read_table(\"data/9606.protein.info.v11.0.txt.gz\")\n",
    "\n",
    "prot_links = pd.read_table(\"data/9606.protein.links.v11.0.txt.gz\", sep=\"\\s+\")\n",
    "prot_links = prot_links.rename(columns={\"protein1\": \"ensembl_id_1\", \"protein2\": \"ensembl_id_2\"})\n",
    "prot_links[\"combined_score\"] = prot_links.combined_score/1_000 # Viene * 1000 pero es una probabilidad (!)\n",
    "\n",
    "ensemble_id_to_gene_symbol = dict(zip(prot_info.protein_external_id, prot_info.preferred_name))\n",
    "\n",
    "print(f\"{len(prot_links):,} enlaces descriptos (sin filtrar)\")\n",
    "prot_links.combined_score.plot.hist()"
   ]
  },
  {
   "cell_type": "code",
   "execution_count": 3,
   "metadata": {},
   "outputs": [
    {
     "name": "stderr",
     "output_type": "stream",
     "text": [
      "  9%|▉         | 65254/725882 [00:00<00:01, 652537.51it/s]"
     ]
    },
    {
     "name": "stdout",
     "output_type": "stream",
     "text": [
      "725,882 enlaces descriptos INFO > 0.8\n"
     ]
    },
    {
     "name": "stderr",
     "output_type": "stream",
     "text": [
      "100%|██████████| 725882/725882 [00:00<00:00, 771878.50it/s]\n",
      "100%|██████████| 725882/725882 [00:00<00:00, 731727.02it/s]\n"
     ]
    },
    {
     "name": "stdout",
     "output_type": "stream",
     "text": [
      "722,144 enlaces descriptos con nombre de gen que no sea Ensembl ID\n"
     ]
    },
    {
     "data": {
      "text/plain": [
       "<matplotlib.axes._subplots.AxesSubplot at 0x7f08006ea630>"
      ]
     },
     "execution_count": 3,
     "metadata": {},
     "output_type": "execute_result"
    },
    {
     "data": {
      "image/png": "[encoded data removed]",
      "text/plain": [
       "<Figure size 432x288 with 1 Axes>"
      ]
     },
     "metadata": {
      "needs_background": "light"
     },
     "output_type": "display_data"
    }
   ],
   "source": [
    "prot_links = prot_links.query(\"combined_score > 0.8\")\n",
    "print(f\"{len(prot_links):,} enlaces descriptos INFO > 0.8\")\n",
    "\n",
    "prot_links[\"protein_1\"] = prot_links.ensembl_id_1.progress_map(ensemble_id_to_gene_symbol.get)\n",
    "prot_links[\"protein_2\"] = prot_links.ensembl_id_2.progress_map(ensemble_id_to_gene_symbol.get)\n",
    "\n",
    "still_ensembl_ids = (\n",
    "    prot_links.protein_1.str.contains(\"ENS\") |\n",
    "    prot_links.protein_2.str.contains(\"ENS\")\n",
    ")\n",
    "\n",
    "prot_links = prot_links[~still_ensembl_ids]\n",
    "print(f\"{len(prot_links):,} enlaces descriptos con nombre de gen que no sea Ensembl ID\")\n",
    "\n",
    "prot_links = prot_links.drop([\"ensembl_id_1\", \"ensembl_id_2\"], axis=1)\n",
    "\n",
    "prot_links.combined_score.plot.hist()"
   ]
  },
  {
   "cell_type": "code",
   "execution_count": 4,
   "metadata": {},
   "outputs": [
    {
     "name": "stdout",
     "output_type": "stream",
     "text": [
      "548,206 enlaces de genes que estén en GWAS Catalog\n",
      "results/prot_links.stringdb.tsv.gz\n",
      "protein_1  protein_2\n",
      "0          ARF5       SPTBN2\n",
      "1          ARF5       KIF13B\n",
      "2          ARF5       TMED7\n",
      "3          ARF5       ANK2\n",
      "\n",
      "gzip: stdout: Broken pipe\n"
     ]
    }
   ],
   "source": [
    "gwas_cat = pd.read_table(\"results/gwas_cat.filtrado.tsv.gz\")\n",
    "\n",
    "genes_de_gwas = set(gwas_cat.gen_mapeado_elegido)\n",
    "\n",
    "prot_links[\"protein_1_in_gwas\"] = prot_links.protein_1.isin(genes_de_gwas)\n",
    "prot_links[\"protein_2_in_gwas\"] = prot_links.protein_2.isin(genes_de_gwas)\n",
    "\n",
    "prot_links = prot_links.query(\"protein_1_in_gwas | protein_2_in_gwas\")\n",
    "print(f\"{len(prot_links):,} enlaces de genes que estén en GWAS Catalog\")\n",
    "\n",
    "prot_links = prot_links.reset_index(drop=True)\n",
    "\n",
    "fp = \"results/prot_links.stringdb.tsv.gz\"\n",
    "cols_to_export = [\"protein_1\", \"protein_2\"]\n",
    "prot_links[cols_to_export].to_csv(fp, sep=\"\\t\")\n",
    "\n",
    "print(fp)\n",
    "!zcat $fp | head -n5 | column -t"
   ]
  }
 ],
 "metadata": {
  "kernelspec": {
   "display_name": "Python 3",
   "language": "python",
   "name": "python3"
  },
  "language_info": {
   "codemirror_mode": {
    "name": "ipython",
    "version": 3
   },
   "file_extension": ".py",
   "mimetype": "text/x-python",
   "name": "python",
   "nbconvert_exporter": "python",
   "pygments_lexer": "ipython3",
   "version": "3.6.5"
  }
 },
 "nbformat": 4,
 "nbformat_minor": 2
}
