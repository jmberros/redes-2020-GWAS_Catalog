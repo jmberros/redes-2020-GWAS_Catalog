{
 "cells": [
  {
   "cell_type": "markdown",
   "metadata": {},
   "source": [
    "## 1. Carga de datos y limpieza inicial"
   ]
  },
  {
   "cell_type": "code",
   "execution_count": 1,
   "metadata": {},
   "outputs": [],
   "source": [
    "import pandas as pd\n",
    "import numpy as np\n",
    "import matplotlib.pyplot as plt\n",
    "import seaborn as sns\n",
    "sns.set()"
   ]
  },
  {
   "cell_type": "code",
   "execution_count": 2,
   "metadata": {},
   "outputs": [],
   "source": [
    "data_dir = 'results/'"
   ]
  },
  {
   "cell_type": "code",
   "execution_count": 3,
   "metadata": {},
   "outputs": [],
   "source": [
    "#data = pd.read_csv(data_dir + 'GwasCat_associations.r2020-05-03.parsed.csv.gz')\n",
    "data = pd.read_table(data_dir + 'gwas_cat.filtrado.tsv.gz')"
   ]
  },
  {
   "cell_type": "code",
   "execution_count": 4,
   "metadata": {},
   "outputs": [
    {
     "data": {
      "text/html": [
       "<div>\n",
       "<style scoped>\n",
       "    .dataframe tbody tr th:only-of-type {\n",
       "        vertical-align: middle;\n",
       "    }\n",
       "\n",
       "    .dataframe tbody tr th {\n",
       "        vertical-align: top;\n",
       "    }\n",
       "\n",
       "    .dataframe thead th {\n",
       "        text-align: right;\n",
       "    }\n",
       "</style>\n",
       "<table border=\"1\" class=\"dataframe\">\n",
       "  <thead>\n",
       "    <tr style=\"text-align: right;\">\n",
       "      <th></th>\n",
       "      <th>fenotipo</th>\n",
       "      <th>alelo_riesgo</th>\n",
       "      <th>categoria_fenotipo</th>\n",
       "      <th>genes_reportados</th>\n",
       "      <th>genes_mapeados</th>\n",
       "      <th>contexto</th>\n",
       "      <th>OR_or_beta</th>\n",
       "      <th>gen_mapeado_elegido</th>\n",
       "      <th>EFO_URI</th>\n",
       "    </tr>\n",
       "  </thead>\n",
       "  <tbody>\n",
       "    <tr>\n",
       "      <th>0</th>\n",
       "      <td>Crohn's disease</td>\n",
       "      <td>rs12722489-C</td>\n",
       "      <td>Digestive system disorder</td>\n",
       "      <td>IL2RA</td>\n",
       "      <td>IL2RA</td>\n",
       "      <td>intron</td>\n",
       "      <td>1.11</td>\n",
       "      <td>IL2RA</td>\n",
       "      <td>http://www.ebi.ac.uk/efo/EFO_0000384</td>\n",
       "    </tr>\n",
       "    <tr>\n",
       "      <th>1</th>\n",
       "      <td>Crohn's disease</td>\n",
       "      <td>rs151181-G</td>\n",
       "      <td>Digestive system disorder</td>\n",
       "      <td>IL27 | SH2B1 | EIF3C | LAT | CD19</td>\n",
       "      <td>CLN3 | AC138894.1</td>\n",
       "      <td>intron</td>\n",
       "      <td>1.07</td>\n",
       "      <td>CLN3</td>\n",
       "      <td>http://www.ebi.ac.uk/efo/EFO_0000384</td>\n",
       "    </tr>\n",
       "    <tr>\n",
       "      <th>2</th>\n",
       "      <td>Crohn's disease</td>\n",
       "      <td>rs2058660-G</td>\n",
       "      <td>Digestive system disorder</td>\n",
       "      <td>IL12RL2 | IL18R1 | IL1RL1 | IL18RAP</td>\n",
       "      <td>IL18RAP</td>\n",
       "      <td>intron</td>\n",
       "      <td>1.19</td>\n",
       "      <td>IL18RAP</td>\n",
       "      <td>http://www.ebi.ac.uk/efo/EFO_0000384</td>\n",
       "    </tr>\n",
       "    <tr>\n",
       "      <th>3</th>\n",
       "      <td>Crohn's disease</td>\n",
       "      <td>rs6556412-A</td>\n",
       "      <td>Digestive system disorder</td>\n",
       "      <td>IL12B</td>\n",
       "      <td>AC008691.1</td>\n",
       "      <td>intron</td>\n",
       "      <td>1.18</td>\n",
       "      <td>NaN</td>\n",
       "      <td>http://www.ebi.ac.uk/efo/EFO_0000384</td>\n",
       "    </tr>\n",
       "    <tr>\n",
       "      <th>4</th>\n",
       "      <td>Crohn's disease</td>\n",
       "      <td>rs2797685-A</td>\n",
       "      <td>Digestive system disorder</td>\n",
       "      <td>VAMP3</td>\n",
       "      <td>PER3 | Z98884.1</td>\n",
       "      <td>intron</td>\n",
       "      <td>1.05</td>\n",
       "      <td>PER3</td>\n",
       "      <td>http://www.ebi.ac.uk/efo/EFO_0000384</td>\n",
       "    </tr>\n",
       "  </tbody>\n",
       "</table>\n",
       "</div>"
      ],
      "text/plain": [
       "          fenotipo  alelo_riesgo         categoria_fenotipo  \\\n",
       "0  Crohn's disease  rs12722489-C  Digestive system disorder   \n",
       "1  Crohn's disease    rs151181-G  Digestive system disorder   \n",
       "2  Crohn's disease   rs2058660-G  Digestive system disorder   \n",
       "3  Crohn's disease   rs6556412-A  Digestive system disorder   \n",
       "4  Crohn's disease   rs2797685-A  Digestive system disorder   \n",
       "\n",
       "                      genes_reportados     genes_mapeados contexto  \\\n",
       "0                                IL2RA              IL2RA   intron   \n",
       "1    IL27 | SH2B1 | EIF3C | LAT | CD19  CLN3 | AC138894.1   intron   \n",
       "2  IL12RL2 | IL18R1 | IL1RL1 | IL18RAP            IL18RAP   intron   \n",
       "3                                IL12B         AC008691.1   intron   \n",
       "4                                VAMP3    PER3 | Z98884.1   intron   \n",
       "\n",
       "   OR_or_beta gen_mapeado_elegido                               EFO_URI  \n",
       "0        1.11               IL2RA  http://www.ebi.ac.uk/efo/EFO_0000384  \n",
       "1        1.07                CLN3  http://www.ebi.ac.uk/efo/EFO_0000384  \n",
       "2        1.19             IL18RAP  http://www.ebi.ac.uk/efo/EFO_0000384  \n",
       "3        1.18                 NaN  http://www.ebi.ac.uk/efo/EFO_0000384  \n",
       "4        1.05                PER3  http://www.ebi.ac.uk/efo/EFO_0000384  "
      ]
     },
     "execution_count": 4,
     "metadata": {},
     "output_type": "execute_result"
    }
   ],
   "source": [
    "data.head()"
   ]
  },
  {
   "cell_type": "code",
   "execution_count": 5,
   "metadata": {},
   "outputs": [
    {
     "data": {
      "text/plain": [
       "(112626, 9)"
      ]
     },
     "execution_count": 5,
     "metadata": {},
     "output_type": "execute_result"
    }
   ],
   "source": [
    "data.shape"
   ]
  },
  {
   "cell_type": "markdown",
   "metadata": {},
   "source": [
    "Seleccionamos aquellas instancias que tienen en la columna `alelo_riesgo` un SNP."
   ]
  },
  {
   "cell_type": "code",
   "execution_count": 7,
   "metadata": {},
   "outputs": [
    {
     "data": {
      "text/plain": [
       "(108556, 9)"
      ]
     },
     "execution_count": 7,
     "metadata": {},
     "output_type": "execute_result"
    }
   ],
   "source": [
    "mask_snps = data.alelo_riesgo.str.match(\"^rs[0-9]+-[ATCG\\?]$\")\n",
    "data = data[mask_snps]\n",
    "data.shape"
   ]
  },
  {
   "cell_type": "markdown",
   "metadata": {},
   "source": [
    "Miramos y descartamos valores faltantes"
   ]
  },
  {
   "cell_type": "code",
   "execution_count": 8,
   "metadata": {},
   "outputs": [
    {
     "data": {
      "text/plain": [
       "fenotipo                   0\n",
       "alelo_riesgo               0\n",
       "categoria_fenotipo        65\n",
       "genes_reportados       42935\n",
       "genes_mapeados          1727\n",
       "contexto                1722\n",
       "OR_or_beta                 0\n",
       "gen_mapeado_elegido    46056\n",
       "EFO_URI                   65\n",
       "dtype: int64"
      ]
     },
     "execution_count": 8,
     "metadata": {},
     "output_type": "execute_result"
    }
   ],
   "source": [
    "data.isna().sum()"
   ]
  },
  {
   "cell_type": "markdown",
   "metadata": {},
   "source": [
    "No nos interesan aquellas instancias que tienen valore faltantes en la columna `OR_or_beta`"
   ]
  },
  {
   "cell_type": "code",
   "execution_count": 9,
   "metadata": {},
   "outputs": [
    {
     "data": {
      "text/plain": [
       "(108556, 9)"
      ]
     },
     "execution_count": 9,
     "metadata": {},
     "output_type": "execute_result"
    }
   ],
   "source": [
    "data.dropna(subset = ['OR_or_beta'], inplace = True)\n",
    "data.shape"
   ]
  },
  {
   "cell_type": "code",
   "execution_count": 10,
   "metadata": {},
   "outputs": [
    {
     "data": {
      "text/plain": [
       "fenotipo                   0\n",
       "alelo_riesgo               0\n",
       "categoria_fenotipo        65\n",
       "genes_reportados       42935\n",
       "genes_mapeados          1727\n",
       "contexto                1722\n",
       "OR_or_beta                 0\n",
       "gen_mapeado_elegido    46056\n",
       "EFO_URI                   65\n",
       "dtype: int64"
      ]
     },
     "execution_count": 10,
     "metadata": {},
     "output_type": "execute_result"
    }
   ],
   "source": [
    "data.isna().sum()"
   ]
  },
  {
   "cell_type": "markdown",
   "metadata": {},
   "source": [
    "#### ESTO SE PUEDE MEJORAR: tiene que haber una única componente gigante"
   ]
  },
  {
   "cell_type": "markdown",
   "metadata": {},
   "source": [
    "**Opcional 1**: sacamos aquellos alelos que aparezcan una sola vez. Sirve más que nada para achicar la base de datos."
   ]
  },
  {
   "cell_type": "code",
   "execution_count": 11,
   "metadata": {},
   "outputs": [],
   "source": [
    "if False:\n",
    "    umbral = 1\n",
    "    mask_alelos_poca_frecuencia = data.alelo_riesgo.value_counts() <=1\n",
    "    mask_alelos_poca_frecuencia.head()\n",
    "\n",
    "    alelos_poca_frecuencia = list(mask_alelos_poca_frecuencia.index[mask_alelos_poca_frecuencia.values])\n",
    "    print(len(alelos_poca_frecuencia))\n",
    "\n",
    "    mask_descartables = data.alelo_riesgo.isin(alelos_poca_frecuencia)\n",
    "    mask_descartables\n",
    "\n",
    "    print(data.shape)\n",
    "    data = data[~mask_descartables]\n",
    "    print(data.shape)"
   ]
  },
  {
   "cell_type": "markdown",
   "metadata": {},
   "source": [
    "**Opcional 2:** Sacamos aquellos fenotipos que aparecen una sola vez:"
   ]
  },
  {
   "cell_type": "code",
   "execution_count": 12,
   "metadata": {},
   "outputs": [
    {
     "data": {
      "text/plain": [
       "Blood protein levels                           False\n",
       "Heel bone mineral density                      False\n",
       "Height                                         False\n",
       "Metabolite levels                              False\n",
       "Educational attainment (years of education)    False\n",
       "Name: fenotipo, dtype: bool"
      ]
     },
     "execution_count": 12,
     "metadata": {},
     "output_type": "execute_result"
    }
   ],
   "source": [
    "umbral = 1\n",
    "mask_fenotipos_poca_frecuencia = data.fenotipo.value_counts() <=1\n",
    "mask_fenotipos_poca_frecuencia.head()"
   ]
  },
  {
   "cell_type": "code",
   "execution_count": 13,
   "metadata": {},
   "outputs": [
    {
     "name": "stdout",
     "output_type": "stream",
     "text": [
      "587\n"
     ]
    }
   ],
   "source": [
    "fenotipos_poca_frecuencia = list(mask_fenotipos_poca_frecuencia.index[mask_fenotipos_poca_frecuencia.values])\n",
    "print(len(fenotipos_poca_frecuencia))"
   ]
  },
  {
   "cell_type": "code",
   "execution_count": 14,
   "metadata": {},
   "outputs": [
    {
     "data": {
      "text/plain": [
       "0         False\n",
       "1         False\n",
       "2         False\n",
       "3         False\n",
       "4         False\n",
       "          ...  \n",
       "112621    False\n",
       "112622    False\n",
       "112623    False\n",
       "112624    False\n",
       "112625    False\n",
       "Name: fenotipo, Length: 108556, dtype: bool"
      ]
     },
     "execution_count": 14,
     "metadata": {},
     "output_type": "execute_result"
    }
   ],
   "source": [
    "mask_descartables = data.fenotipo.isin(fenotipos_poca_frecuencia)\n",
    "mask_descartables"
   ]
  },
  {
   "cell_type": "code",
   "execution_count": 15,
   "metadata": {},
   "outputs": [
    {
     "name": "stdout",
     "output_type": "stream",
     "text": [
      "(108556, 9)\n",
      "(107969, 9)\n"
     ]
    }
   ],
   "source": [
    "print(data.shape)\n",
    "data = data[~mask_descartables]\n",
    "print(data.shape)"
   ]
  },
  {
   "cell_type": "markdown",
   "metadata": {},
   "source": [
    "### 2. Tripletes `alelo_riesgo`, `fenotipo` y `OR_or_beta` - Matriz de utilidad/¿incidencia?"
   ]
  },
  {
   "cell_type": "code",
   "execution_count": 16,
   "metadata": {},
   "outputs": [
    {
     "data": {
      "text/plain": [
       "(107969, 3)"
      ]
     },
     "execution_count": 16,
     "metadata": {},
     "output_type": "execute_result"
    }
   ],
   "source": [
    "data_tripletes = data[['alelo_riesgo', 'fenotipo', 'OR_or_beta']]\n",
    "data_tripletes.shape"
   ]
  },
  {
   "cell_type": "code",
   "execution_count": 17,
   "metadata": {},
   "outputs": [
    {
     "data": {
      "text/html": [
       "<div>\n",
       "<style scoped>\n",
       "    .dataframe tbody tr th:only-of-type {\n",
       "        vertical-align: middle;\n",
       "    }\n",
       "\n",
       "    .dataframe tbody tr th {\n",
       "        vertical-align: top;\n",
       "    }\n",
       "\n",
       "    .dataframe thead th {\n",
       "        text-align: right;\n",
       "    }\n",
       "</style>\n",
       "<table border=\"1\" class=\"dataframe\">\n",
       "  <thead>\n",
       "    <tr style=\"text-align: right;\">\n",
       "      <th></th>\n",
       "      <th>alelo_riesgo</th>\n",
       "      <th>fenotipo</th>\n",
       "      <th>OR_or_beta</th>\n",
       "    </tr>\n",
       "  </thead>\n",
       "  <tbody>\n",
       "    <tr>\n",
       "      <th>0</th>\n",
       "      <td>rs12722489-C</td>\n",
       "      <td>Crohn's disease</td>\n",
       "      <td>1.1100</td>\n",
       "    </tr>\n",
       "    <tr>\n",
       "      <th>1</th>\n",
       "      <td>rs151181-G</td>\n",
       "      <td>Crohn's disease</td>\n",
       "      <td>1.0700</td>\n",
       "    </tr>\n",
       "    <tr>\n",
       "      <th>2</th>\n",
       "      <td>rs2058660-G</td>\n",
       "      <td>Crohn's disease</td>\n",
       "      <td>1.1900</td>\n",
       "    </tr>\n",
       "    <tr>\n",
       "      <th>3</th>\n",
       "      <td>rs6556412-A</td>\n",
       "      <td>Crohn's disease</td>\n",
       "      <td>1.1800</td>\n",
       "    </tr>\n",
       "    <tr>\n",
       "      <th>4</th>\n",
       "      <td>rs2797685-A</td>\n",
       "      <td>Crohn's disease</td>\n",
       "      <td>1.0500</td>\n",
       "    </tr>\n",
       "    <tr>\n",
       "      <th>...</th>\n",
       "      <td>...</td>\n",
       "      <td>...</td>\n",
       "      <td>...</td>\n",
       "    </tr>\n",
       "    <tr>\n",
       "      <th>112621</th>\n",
       "      <td>rs902627-A</td>\n",
       "      <td>Highest math class taken (MTAG)</td>\n",
       "      <td>0.0095</td>\n",
       "    </tr>\n",
       "    <tr>\n",
       "      <th>112622</th>\n",
       "      <td>rs3117582-C</td>\n",
       "      <td>Lung adenocarcinoma</td>\n",
       "      <td>1.2200</td>\n",
       "    </tr>\n",
       "    <tr>\n",
       "      <th>112623</th>\n",
       "      <td>rs1051730-T</td>\n",
       "      <td>Lung adenocarcinoma</td>\n",
       "      <td>1.3100</td>\n",
       "    </tr>\n",
       "    <tr>\n",
       "      <th>112624</th>\n",
       "      <td>rs31489-C</td>\n",
       "      <td>Lung adenocarcinoma</td>\n",
       "      <td>1.1200</td>\n",
       "    </tr>\n",
       "    <tr>\n",
       "      <th>112625</th>\n",
       "      <td>rs4324798-A</td>\n",
       "      <td>Lung adenocarcinoma</td>\n",
       "      <td>1.1600</td>\n",
       "    </tr>\n",
       "  </tbody>\n",
       "</table>\n",
       "<p>107969 rows × 3 columns</p>\n",
       "</div>"
      ],
      "text/plain": [
       "        alelo_riesgo                         fenotipo  OR_or_beta\n",
       "0       rs12722489-C                  Crohn's disease      1.1100\n",
       "1         rs151181-G                  Crohn's disease      1.0700\n",
       "2        rs2058660-G                  Crohn's disease      1.1900\n",
       "3        rs6556412-A                  Crohn's disease      1.1800\n",
       "4        rs2797685-A                  Crohn's disease      1.0500\n",
       "...              ...                              ...         ...\n",
       "112621    rs902627-A  Highest math class taken (MTAG)      0.0095\n",
       "112622   rs3117582-C              Lung adenocarcinoma      1.2200\n",
       "112623   rs1051730-T              Lung adenocarcinoma      1.3100\n",
       "112624     rs31489-C              Lung adenocarcinoma      1.1200\n",
       "112625   rs4324798-A              Lung adenocarcinoma      1.1600\n",
       "\n",
       "[107969 rows x 3 columns]"
      ]
     },
     "execution_count": 17,
     "metadata": {},
     "output_type": "execute_result"
    }
   ],
   "source": [
    "data_tripletes"
   ]
  },
  {
   "cell_type": "markdown",
   "metadata": {},
   "source": [
    "**Matriz de Utilidad/¿incidencia?**"
   ]
  },
  {
   "cell_type": "code",
   "execution_count": 18,
   "metadata": {},
   "outputs": [
    {
     "data": {
      "text/html": [
       "<div>\n",
       "<style scoped>\n",
       "    .dataframe tbody tr th:only-of-type {\n",
       "        vertical-align: middle;\n",
       "    }\n",
       "\n",
       "    .dataframe tbody tr th {\n",
       "        vertical-align: top;\n",
       "    }\n",
       "\n",
       "    .dataframe thead th {\n",
       "        text-align: right;\n",
       "    }\n",
       "</style>\n",
       "<table border=\"1\" class=\"dataframe\">\n",
       "  <thead>\n",
       "    <tr style=\"text-align: right;\">\n",
       "      <th></th>\n",
       "      <th>Blood protein levels</th>\n",
       "      <th>Heel bone mineral density</th>\n",
       "      <th>Height</th>\n",
       "      <th>Metabolite levels</th>\n",
       "      <th>Educational attainment (years of education)</th>\n",
       "      <th>Body mass index</th>\n",
       "      <th>Post bronchodilator FEV1/FVC ratio</th>\n",
       "      <th>Educational attainment (MTAG)</th>\n",
       "      <th>General cognitive ability</th>\n",
       "      <th>Post bronchodilator FEV1</th>\n",
       "      <th>...</th>\n",
       "      <th>Paediatric migraine</th>\n",
       "      <th>Oligoclonal band status in multiple sclerosis</th>\n",
       "      <th>IgE levels in asthmatics (D.f. specific)</th>\n",
       "      <th>Immunoglobulin G index levels in multiple sclerosis</th>\n",
       "      <th>Menstruation quality of life impact (fever)</th>\n",
       "      <th>Cleft lip</th>\n",
       "      <th>Waist-to-hip ratio adjusted for BMI (additive genetic model)</th>\n",
       "      <th>Drug-induced liver injury (amoxicillin-clavulanate)</th>\n",
       "      <th>Cortical brain region measurements (area, volume and thickness)</th>\n",
       "      <th>Spontaneous preterm birth (preterm delivery)</th>\n",
       "    </tr>\n",
       "  </thead>\n",
       "  <tbody>\n",
       "    <tr>\n",
       "      <th>0</th>\n",
       "      <td>0</td>\n",
       "      <td>0</td>\n",
       "      <td>0</td>\n",
       "      <td>0</td>\n",
       "      <td>0</td>\n",
       "      <td>0</td>\n",
       "      <td>0</td>\n",
       "      <td>0</td>\n",
       "      <td>0</td>\n",
       "      <td>0</td>\n",
       "      <td>...</td>\n",
       "      <td>0</td>\n",
       "      <td>0</td>\n",
       "      <td>0</td>\n",
       "      <td>0</td>\n",
       "      <td>0</td>\n",
       "      <td>0</td>\n",
       "      <td>0</td>\n",
       "      <td>0</td>\n",
       "      <td>0</td>\n",
       "      <td>0</td>\n",
       "    </tr>\n",
       "    <tr>\n",
       "      <th>1</th>\n",
       "      <td>0</td>\n",
       "      <td>0</td>\n",
       "      <td>0</td>\n",
       "      <td>0</td>\n",
       "      <td>0</td>\n",
       "      <td>0</td>\n",
       "      <td>0</td>\n",
       "      <td>0</td>\n",
       "      <td>0</td>\n",
       "      <td>0</td>\n",
       "      <td>...</td>\n",
       "      <td>0</td>\n",
       "      <td>0</td>\n",
       "      <td>0</td>\n",
       "      <td>0</td>\n",
       "      <td>0</td>\n",
       "      <td>0</td>\n",
       "      <td>0</td>\n",
       "      <td>0</td>\n",
       "      <td>0</td>\n",
       "      <td>0</td>\n",
       "    </tr>\n",
       "    <tr>\n",
       "      <th>2</th>\n",
       "      <td>0</td>\n",
       "      <td>0</td>\n",
       "      <td>0</td>\n",
       "      <td>0</td>\n",
       "      <td>0</td>\n",
       "      <td>0</td>\n",
       "      <td>0</td>\n",
       "      <td>0</td>\n",
       "      <td>0</td>\n",
       "      <td>0</td>\n",
       "      <td>...</td>\n",
       "      <td>0</td>\n",
       "      <td>0</td>\n",
       "      <td>0</td>\n",
       "      <td>0</td>\n",
       "      <td>0</td>\n",
       "      <td>0</td>\n",
       "      <td>0</td>\n",
       "      <td>0</td>\n",
       "      <td>0</td>\n",
       "      <td>0</td>\n",
       "    </tr>\n",
       "    <tr>\n",
       "      <th>3</th>\n",
       "      <td>0</td>\n",
       "      <td>0</td>\n",
       "      <td>0</td>\n",
       "      <td>0</td>\n",
       "      <td>0</td>\n",
       "      <td>0</td>\n",
       "      <td>0</td>\n",
       "      <td>0</td>\n",
       "      <td>0</td>\n",
       "      <td>0</td>\n",
       "      <td>...</td>\n",
       "      <td>0</td>\n",
       "      <td>0</td>\n",
       "      <td>0</td>\n",
       "      <td>0</td>\n",
       "      <td>0</td>\n",
       "      <td>0</td>\n",
       "      <td>0</td>\n",
       "      <td>0</td>\n",
       "      <td>0</td>\n",
       "      <td>0</td>\n",
       "    </tr>\n",
       "    <tr>\n",
       "      <th>4</th>\n",
       "      <td>0</td>\n",
       "      <td>0</td>\n",
       "      <td>0</td>\n",
       "      <td>0</td>\n",
       "      <td>0</td>\n",
       "      <td>0</td>\n",
       "      <td>0</td>\n",
       "      <td>0</td>\n",
       "      <td>0</td>\n",
       "      <td>0</td>\n",
       "      <td>...</td>\n",
       "      <td>0</td>\n",
       "      <td>0</td>\n",
       "      <td>0</td>\n",
       "      <td>0</td>\n",
       "      <td>0</td>\n",
       "      <td>0</td>\n",
       "      <td>0</td>\n",
       "      <td>0</td>\n",
       "      <td>0</td>\n",
       "      <td>0</td>\n",
       "    </tr>\n",
       "  </tbody>\n",
       "</table>\n",
       "<p>5 rows × 2957 columns</p>\n",
       "</div>"
      ],
      "text/plain": [
       "   Blood protein levels  Heel bone mineral density  Height  Metabolite levels  \\\n",
       "0                     0                          0       0                  0   \n",
       "1                     0                          0       0                  0   \n",
       "2                     0                          0       0                  0   \n",
       "3                     0                          0       0                  0   \n",
       "4                     0                          0       0                  0   \n",
       "\n",
       "   Educational attainment (years of education)  Body mass index  \\\n",
       "0                                            0                0   \n",
       "1                                            0                0   \n",
       "2                                            0                0   \n",
       "3                                            0                0   \n",
       "4                                            0                0   \n",
       "\n",
       "   Post bronchodilator FEV1/FVC ratio  Educational attainment (MTAG)  \\\n",
       "0                                   0                              0   \n",
       "1                                   0                              0   \n",
       "2                                   0                              0   \n",
       "3                                   0                              0   \n",
       "4                                   0                              0   \n",
       "\n",
       "   General cognitive ability  Post bronchodilator FEV1  ...  \\\n",
       "0                          0                         0  ...   \n",
       "1                          0                         0  ...   \n",
       "2                          0                         0  ...   \n",
       "3                          0                         0  ...   \n",
       "4                          0                         0  ...   \n",
       "\n",
       "   Paediatric migraine  Oligoclonal band status in multiple sclerosis  \\\n",
       "0                    0                                              0   \n",
       "1                    0                                              0   \n",
       "2                    0                                              0   \n",
       "3                    0                                              0   \n",
       "4                    0                                              0   \n",
       "\n",
       "   IgE levels in asthmatics (D.f. specific)  \\\n",
       "0                                         0   \n",
       "1                                         0   \n",
       "2                                         0   \n",
       "3                                         0   \n",
       "4                                         0   \n",
       "\n",
       "   Immunoglobulin G index levels in multiple sclerosis  \\\n",
       "0                                                  0     \n",
       "1                                                  0     \n",
       "2                                                  0     \n",
       "3                                                  0     \n",
       "4                                                  0     \n",
       "\n",
       "   Menstruation quality of life impact (fever)  Cleft lip  \\\n",
       "0                                            0          0   \n",
       "1                                            0          0   \n",
       "2                                            0          0   \n",
       "3                                            0          0   \n",
       "4                                            0          0   \n",
       "\n",
       "   Waist-to-hip ratio adjusted for BMI (additive genetic model)  \\\n",
       "0                                                  0              \n",
       "1                                                  0              \n",
       "2                                                  0              \n",
       "3                                                  0              \n",
       "4                                                  0              \n",
       "\n",
       "   Drug-induced liver injury (amoxicillin-clavulanate)  \\\n",
       "0                                                  0     \n",
       "1                                                  0     \n",
       "2                                                  0     \n",
       "3                                                  0     \n",
       "4                                                  0     \n",
       "\n",
       "   Cortical brain region measurements (area, volume and thickness)  \\\n",
       "0                                                  0                 \n",
       "1                                                  0                 \n",
       "2                                                  0                 \n",
       "3                                                  0                 \n",
       "4                                                  0                 \n",
       "\n",
       "   Spontaneous preterm birth (preterm delivery)  \n",
       "0                                             0  \n",
       "1                                             0  \n",
       "2                                             0  \n",
       "3                                             0  \n",
       "4                                             0  \n",
       "\n",
       "[5 rows x 2957 columns]"
      ]
     },
     "execution_count": 18,
     "metadata": {},
     "output_type": "execute_result"
    }
   ],
   "source": [
    "n_alelos = data_tripletes.alelo_riesgo.nunique()\n",
    "n_fenotipos = data_tripletes.fenotipo.nunique()\n",
    "\n",
    "data_bipartita = pd.DataFrame(np.zeros((n_alelos, n_fenotipos)), columns = data_tripletes.fenotipo.value_counts().index, dtype = np.int8)\n",
    "data_bipartita.head()"
   ]
  },
  {
   "cell_type": "code",
   "execution_count": 19,
   "metadata": {},
   "outputs": [],
   "source": [
    "### EN EL DICCIONARIO APARECEN ORDENADOS POR FRECUENCIA\n",
    "dict_id_to_alelo = {}\n",
    "for i,alelo in enumerate(data_tripletes.alelo_riesgo.value_counts().index):\n",
    "    dict_id_to_alelo[i] = alelo\n",
    "    \n",
    "dict_alelo_to_id = {v: k for k, v in dict_id_to_alelo.items()}"
   ]
  },
  {
   "cell_type": "code",
   "execution_count": 20,
   "metadata": {
    "scrolled": true
   },
   "outputs": [],
   "source": [
    "for _, row in data_tripletes.iterrows():\n",
    "    alelo_row = row.alelo_riesgo\n",
    "    fenotipo_row = row.fenotipo\n",
    "    id_alelo = dict_alelo_to_id[alelo_row]\n",
    "    data_bipartita.loc[id_alelo, fenotipo_row] = 1"
   ]
  },
  {
   "cell_type": "markdown",
   "metadata": {},
   "source": [
    "**Chequeos**\n",
    "\n",
    "La suma de todos los elementos de `data_bipartita` debe dar la cantidad de filas en `data_tripletes`"
   ]
  },
  {
   "cell_type": "code",
   "execution_count": 21,
   "metadata": {},
   "outputs": [
    {
     "data": {
      "text/plain": [
       "True"
      ]
     },
     "execution_count": 21,
     "metadata": {},
     "output_type": "execute_result"
    }
   ],
   "source": [
    "data_bipartita.sum().sum() == data_tripletes.shape[0]"
   ]
  },
  {
   "cell_type": "markdown",
   "metadata": {},
   "source": [
    "La suma por columnas el `value_counts()` de `data_tripletes.fenotipo`"
   ]
  },
  {
   "cell_type": "code",
   "execution_count": 22,
   "metadata": {},
   "outputs": [
    {
     "data": {
      "text/plain": [
       "True"
      ]
     },
     "execution_count": 22,
     "metadata": {},
     "output_type": "execute_result"
    }
   ],
   "source": [
    "(data_tripletes.fenotipo.value_counts().values == data_bipartita.sum().values).all()"
   ]
  },
  {
   "cell_type": "markdown",
   "metadata": {},
   "source": [
    "La suma por filas el `value_counts()` de `data_tripletes.alelo_riesgo`"
   ]
  },
  {
   "cell_type": "code",
   "execution_count": 23,
   "metadata": {},
   "outputs": [
    {
     "data": {
      "text/plain": [
       "True"
      ]
     },
     "execution_count": 23,
     "metadata": {},
     "output_type": "execute_result"
    }
   ],
   "source": [
    "(data_tripletes.alelo_riesgo.value_counts().values == data_bipartita.sum(axis = 1).values).all()"
   ]
  },
  {
   "cell_type": "code",
   "execution_count": 24,
   "metadata": {},
   "outputs": [
    {
     "data": {
      "text/html": [
       "<div>\n",
       "<style scoped>\n",
       "    .dataframe tbody tr th:only-of-type {\n",
       "        vertical-align: middle;\n",
       "    }\n",
       "\n",
       "    .dataframe tbody tr th {\n",
       "        vertical-align: top;\n",
       "    }\n",
       "\n",
       "    .dataframe thead th {\n",
       "        text-align: right;\n",
       "    }\n",
       "</style>\n",
       "<table border=\"1\" class=\"dataframe\">\n",
       "  <thead>\n",
       "    <tr style=\"text-align: right;\">\n",
       "      <th></th>\n",
       "      <th>Blood protein levels</th>\n",
       "      <th>Heel bone mineral density</th>\n",
       "      <th>Height</th>\n",
       "      <th>Metabolite levels</th>\n",
       "      <th>Educational attainment (years of education)</th>\n",
       "      <th>Body mass index</th>\n",
       "      <th>Post bronchodilator FEV1/FVC ratio</th>\n",
       "      <th>Educational attainment (MTAG)</th>\n",
       "      <th>General cognitive ability</th>\n",
       "      <th>Post bronchodilator FEV1</th>\n",
       "      <th>...</th>\n",
       "      <th>Paediatric migraine</th>\n",
       "      <th>Oligoclonal band status in multiple sclerosis</th>\n",
       "      <th>IgE levels in asthmatics (D.f. specific)</th>\n",
       "      <th>Immunoglobulin G index levels in multiple sclerosis</th>\n",
       "      <th>Menstruation quality of life impact (fever)</th>\n",
       "      <th>Cleft lip</th>\n",
       "      <th>Waist-to-hip ratio adjusted for BMI (additive genetic model)</th>\n",
       "      <th>Drug-induced liver injury (amoxicillin-clavulanate)</th>\n",
       "      <th>Cortical brain region measurements (area, volume and thickness)</th>\n",
       "      <th>Spontaneous preterm birth (preterm delivery)</th>\n",
       "    </tr>\n",
       "  </thead>\n",
       "  <tbody>\n",
       "    <tr>\n",
       "      <th>0</th>\n",
       "      <td>0</td>\n",
       "      <td>0</td>\n",
       "      <td>0</td>\n",
       "      <td>0</td>\n",
       "      <td>0</td>\n",
       "      <td>1</td>\n",
       "      <td>0</td>\n",
       "      <td>0</td>\n",
       "      <td>0</td>\n",
       "      <td>0</td>\n",
       "      <td>...</td>\n",
       "      <td>0</td>\n",
       "      <td>0</td>\n",
       "      <td>0</td>\n",
       "      <td>0</td>\n",
       "      <td>0</td>\n",
       "      <td>0</td>\n",
       "      <td>0</td>\n",
       "      <td>0</td>\n",
       "      <td>0</td>\n",
       "      <td>0</td>\n",
       "    </tr>\n",
       "    <tr>\n",
       "      <th>1</th>\n",
       "      <td>0</td>\n",
       "      <td>0</td>\n",
       "      <td>0</td>\n",
       "      <td>0</td>\n",
       "      <td>0</td>\n",
       "      <td>0</td>\n",
       "      <td>0</td>\n",
       "      <td>0</td>\n",
       "      <td>0</td>\n",
       "      <td>0</td>\n",
       "      <td>...</td>\n",
       "      <td>0</td>\n",
       "      <td>0</td>\n",
       "      <td>0</td>\n",
       "      <td>0</td>\n",
       "      <td>0</td>\n",
       "      <td>0</td>\n",
       "      <td>0</td>\n",
       "      <td>0</td>\n",
       "      <td>0</td>\n",
       "      <td>0</td>\n",
       "    </tr>\n",
       "    <tr>\n",
       "      <th>2</th>\n",
       "      <td>1</td>\n",
       "      <td>0</td>\n",
       "      <td>0</td>\n",
       "      <td>0</td>\n",
       "      <td>0</td>\n",
       "      <td>1</td>\n",
       "      <td>0</td>\n",
       "      <td>0</td>\n",
       "      <td>0</td>\n",
       "      <td>0</td>\n",
       "      <td>...</td>\n",
       "      <td>0</td>\n",
       "      <td>0</td>\n",
       "      <td>0</td>\n",
       "      <td>0</td>\n",
       "      <td>0</td>\n",
       "      <td>0</td>\n",
       "      <td>0</td>\n",
       "      <td>0</td>\n",
       "      <td>0</td>\n",
       "      <td>0</td>\n",
       "    </tr>\n",
       "    <tr>\n",
       "      <th>3</th>\n",
       "      <td>0</td>\n",
       "      <td>0</td>\n",
       "      <td>0</td>\n",
       "      <td>0</td>\n",
       "      <td>1</td>\n",
       "      <td>0</td>\n",
       "      <td>0</td>\n",
       "      <td>1</td>\n",
       "      <td>1</td>\n",
       "      <td>0</td>\n",
       "      <td>...</td>\n",
       "      <td>0</td>\n",
       "      <td>0</td>\n",
       "      <td>0</td>\n",
       "      <td>0</td>\n",
       "      <td>0</td>\n",
       "      <td>0</td>\n",
       "      <td>0</td>\n",
       "      <td>0</td>\n",
       "      <td>0</td>\n",
       "      <td>0</td>\n",
       "    </tr>\n",
       "    <tr>\n",
       "      <th>4</th>\n",
       "      <td>0</td>\n",
       "      <td>0</td>\n",
       "      <td>0</td>\n",
       "      <td>0</td>\n",
       "      <td>0</td>\n",
       "      <td>0</td>\n",
       "      <td>0</td>\n",
       "      <td>0</td>\n",
       "      <td>0</td>\n",
       "      <td>0</td>\n",
       "      <td>...</td>\n",
       "      <td>0</td>\n",
       "      <td>0</td>\n",
       "      <td>0</td>\n",
       "      <td>0</td>\n",
       "      <td>0</td>\n",
       "      <td>0</td>\n",
       "      <td>0</td>\n",
       "      <td>0</td>\n",
       "      <td>0</td>\n",
       "      <td>0</td>\n",
       "    </tr>\n",
       "    <tr>\n",
       "      <th>...</th>\n",
       "      <td>...</td>\n",
       "      <td>...</td>\n",
       "      <td>...</td>\n",
       "      <td>...</td>\n",
       "      <td>...</td>\n",
       "      <td>...</td>\n",
       "      <td>...</td>\n",
       "      <td>...</td>\n",
       "      <td>...</td>\n",
       "      <td>...</td>\n",
       "      <td>...</td>\n",
       "      <td>...</td>\n",
       "      <td>...</td>\n",
       "      <td>...</td>\n",
       "      <td>...</td>\n",
       "      <td>...</td>\n",
       "      <td>...</td>\n",
       "      <td>...</td>\n",
       "      <td>...</td>\n",
       "      <td>...</td>\n",
       "      <td>...</td>\n",
       "    </tr>\n",
       "    <tr>\n",
       "      <th>89454</th>\n",
       "      <td>0</td>\n",
       "      <td>0</td>\n",
       "      <td>0</td>\n",
       "      <td>0</td>\n",
       "      <td>0</td>\n",
       "      <td>0</td>\n",
       "      <td>0</td>\n",
       "      <td>0</td>\n",
       "      <td>0</td>\n",
       "      <td>0</td>\n",
       "      <td>...</td>\n",
       "      <td>0</td>\n",
       "      <td>0</td>\n",
       "      <td>0</td>\n",
       "      <td>0</td>\n",
       "      <td>0</td>\n",
       "      <td>0</td>\n",
       "      <td>0</td>\n",
       "      <td>0</td>\n",
       "      <td>0</td>\n",
       "      <td>0</td>\n",
       "    </tr>\n",
       "    <tr>\n",
       "      <th>89455</th>\n",
       "      <td>0</td>\n",
       "      <td>0</td>\n",
       "      <td>0</td>\n",
       "      <td>0</td>\n",
       "      <td>0</td>\n",
       "      <td>0</td>\n",
       "      <td>0</td>\n",
       "      <td>0</td>\n",
       "      <td>0</td>\n",
       "      <td>0</td>\n",
       "      <td>...</td>\n",
       "      <td>0</td>\n",
       "      <td>0</td>\n",
       "      <td>0</td>\n",
       "      <td>0</td>\n",
       "      <td>0</td>\n",
       "      <td>0</td>\n",
       "      <td>0</td>\n",
       "      <td>0</td>\n",
       "      <td>0</td>\n",
       "      <td>0</td>\n",
       "    </tr>\n",
       "    <tr>\n",
       "      <th>89456</th>\n",
       "      <td>0</td>\n",
       "      <td>0</td>\n",
       "      <td>0</td>\n",
       "      <td>0</td>\n",
       "      <td>0</td>\n",
       "      <td>0</td>\n",
       "      <td>0</td>\n",
       "      <td>0</td>\n",
       "      <td>0</td>\n",
       "      <td>0</td>\n",
       "      <td>...</td>\n",
       "      <td>0</td>\n",
       "      <td>0</td>\n",
       "      <td>0</td>\n",
       "      <td>0</td>\n",
       "      <td>0</td>\n",
       "      <td>0</td>\n",
       "      <td>0</td>\n",
       "      <td>0</td>\n",
       "      <td>0</td>\n",
       "      <td>0</td>\n",
       "    </tr>\n",
       "    <tr>\n",
       "      <th>89457</th>\n",
       "      <td>0</td>\n",
       "      <td>0</td>\n",
       "      <td>0</td>\n",
       "      <td>0</td>\n",
       "      <td>0</td>\n",
       "      <td>0</td>\n",
       "      <td>0</td>\n",
       "      <td>0</td>\n",
       "      <td>0</td>\n",
       "      <td>0</td>\n",
       "      <td>...</td>\n",
       "      <td>0</td>\n",
       "      <td>0</td>\n",
       "      <td>0</td>\n",
       "      <td>0</td>\n",
       "      <td>0</td>\n",
       "      <td>0</td>\n",
       "      <td>0</td>\n",
       "      <td>0</td>\n",
       "      <td>0</td>\n",
       "      <td>0</td>\n",
       "    </tr>\n",
       "    <tr>\n",
       "      <th>89458</th>\n",
       "      <td>0</td>\n",
       "      <td>0</td>\n",
       "      <td>0</td>\n",
       "      <td>0</td>\n",
       "      <td>0</td>\n",
       "      <td>0</td>\n",
       "      <td>0</td>\n",
       "      <td>0</td>\n",
       "      <td>0</td>\n",
       "      <td>0</td>\n",
       "      <td>...</td>\n",
       "      <td>0</td>\n",
       "      <td>0</td>\n",
       "      <td>0</td>\n",
       "      <td>0</td>\n",
       "      <td>0</td>\n",
       "      <td>0</td>\n",
       "      <td>0</td>\n",
       "      <td>0</td>\n",
       "      <td>0</td>\n",
       "      <td>0</td>\n",
       "    </tr>\n",
       "  </tbody>\n",
       "</table>\n",
       "<p>89459 rows × 2957 columns</p>\n",
       "</div>"
      ],
      "text/plain": [
       "       Blood protein levels  Heel bone mineral density  Height  \\\n",
       "0                         0                          0       0   \n",
       "1                         0                          0       0   \n",
       "2                         1                          0       0   \n",
       "3                         0                          0       0   \n",
       "4                         0                          0       0   \n",
       "...                     ...                        ...     ...   \n",
       "89454                     0                          0       0   \n",
       "89455                     0                          0       0   \n",
       "89456                     0                          0       0   \n",
       "89457                     0                          0       0   \n",
       "89458                     0                          0       0   \n",
       "\n",
       "       Metabolite levels  Educational attainment (years of education)  \\\n",
       "0                      0                                            0   \n",
       "1                      0                                            0   \n",
       "2                      0                                            0   \n",
       "3                      0                                            1   \n",
       "4                      0                                            0   \n",
       "...                  ...                                          ...   \n",
       "89454                  0                                            0   \n",
       "89455                  0                                            0   \n",
       "89456                  0                                            0   \n",
       "89457                  0                                            0   \n",
       "89458                  0                                            0   \n",
       "\n",
       "       Body mass index  Post bronchodilator FEV1/FVC ratio  \\\n",
       "0                    1                                   0   \n",
       "1                    0                                   0   \n",
       "2                    1                                   0   \n",
       "3                    0                                   0   \n",
       "4                    0                                   0   \n",
       "...                ...                                 ...   \n",
       "89454                0                                   0   \n",
       "89455                0                                   0   \n",
       "89456                0                                   0   \n",
       "89457                0                                   0   \n",
       "89458                0                                   0   \n",
       "\n",
       "       Educational attainment (MTAG)  General cognitive ability  \\\n",
       "0                                  0                          0   \n",
       "1                                  0                          0   \n",
       "2                                  0                          0   \n",
       "3                                  1                          1   \n",
       "4                                  0                          0   \n",
       "...                              ...                        ...   \n",
       "89454                              0                          0   \n",
       "89455                              0                          0   \n",
       "89456                              0                          0   \n",
       "89457                              0                          0   \n",
       "89458                              0                          0   \n",
       "\n",
       "       Post bronchodilator FEV1  ...  Paediatric migraine  \\\n",
       "0                             0  ...                    0   \n",
       "1                             0  ...                    0   \n",
       "2                             0  ...                    0   \n",
       "3                             0  ...                    0   \n",
       "4                             0  ...                    0   \n",
       "...                         ...  ...                  ...   \n",
       "89454                         0  ...                    0   \n",
       "89455                         0  ...                    0   \n",
       "89456                         0  ...                    0   \n",
       "89457                         0  ...                    0   \n",
       "89458                         0  ...                    0   \n",
       "\n",
       "       Oligoclonal band status in multiple sclerosis  \\\n",
       "0                                                  0   \n",
       "1                                                  0   \n",
       "2                                                  0   \n",
       "3                                                  0   \n",
       "4                                                  0   \n",
       "...                                              ...   \n",
       "89454                                              0   \n",
       "89455                                              0   \n",
       "89456                                              0   \n",
       "89457                                              0   \n",
       "89458                                              0   \n",
       "\n",
       "       IgE levels in asthmatics (D.f. specific)  \\\n",
       "0                                             0   \n",
       "1                                             0   \n",
       "2                                             0   \n",
       "3                                             0   \n",
       "4                                             0   \n",
       "...                                         ...   \n",
       "89454                                         0   \n",
       "89455                                         0   \n",
       "89456                                         0   \n",
       "89457                                         0   \n",
       "89458                                         0   \n",
       "\n",
       "       Immunoglobulin G index levels in multiple sclerosis  \\\n",
       "0                                                      0     \n",
       "1                                                      0     \n",
       "2                                                      0     \n",
       "3                                                      0     \n",
       "4                                                      0     \n",
       "...                                                  ...     \n",
       "89454                                                  0     \n",
       "89455                                                  0     \n",
       "89456                                                  0     \n",
       "89457                                                  0     \n",
       "89458                                                  0     \n",
       "\n",
       "       Menstruation quality of life impact (fever)  Cleft lip  \\\n",
       "0                                                0          0   \n",
       "1                                                0          0   \n",
       "2                                                0          0   \n",
       "3                                                0          0   \n",
       "4                                                0          0   \n",
       "...                                            ...        ...   \n",
       "89454                                            0          0   \n",
       "89455                                            0          0   \n",
       "89456                                            0          0   \n",
       "89457                                            0          0   \n",
       "89458                                            0          0   \n",
       "\n",
       "       Waist-to-hip ratio adjusted for BMI (additive genetic model)  \\\n",
       "0                                                      0              \n",
       "1                                                      0              \n",
       "2                                                      0              \n",
       "3                                                      0              \n",
       "4                                                      0              \n",
       "...                                                  ...              \n",
       "89454                                                  0              \n",
       "89455                                                  0              \n",
       "89456                                                  0              \n",
       "89457                                                  0              \n",
       "89458                                                  0              \n",
       "\n",
       "       Drug-induced liver injury (amoxicillin-clavulanate)  \\\n",
       "0                                                      0     \n",
       "1                                                      0     \n",
       "2                                                      0     \n",
       "3                                                      0     \n",
       "4                                                      0     \n",
       "...                                                  ...     \n",
       "89454                                                  0     \n",
       "89455                                                  0     \n",
       "89456                                                  0     \n",
       "89457                                                  0     \n",
       "89458                                                  0     \n",
       "\n",
       "       Cortical brain region measurements (area, volume and thickness)  \\\n",
       "0                                                      0                 \n",
       "1                                                      0                 \n",
       "2                                                      0                 \n",
       "3                                                      0                 \n",
       "4                                                      0                 \n",
       "...                                                  ...                 \n",
       "89454                                                  0                 \n",
       "89455                                                  0                 \n",
       "89456                                                  0                 \n",
       "89457                                                  0                 \n",
       "89458                                                  0                 \n",
       "\n",
       "       Spontaneous preterm birth (preterm delivery)  \n",
       "0                                                 0  \n",
       "1                                                 0  \n",
       "2                                                 0  \n",
       "3                                                 0  \n",
       "4                                                 0  \n",
       "...                                             ...  \n",
       "89454                                             0  \n",
       "89455                                             0  \n",
       "89456                                             0  \n",
       "89457                                             0  \n",
       "89458                                             0  \n",
       "\n",
       "[89459 rows x 2957 columns]"
      ]
     },
     "execution_count": 24,
     "metadata": {},
     "output_type": "execute_result"
    }
   ],
   "source": [
    "data_bipartita"
   ]
  },
  {
   "cell_type": "markdown",
   "metadata": {},
   "source": [
    "**Distribución de grado para fenotipos**"
   ]
  },
  {
   "cell_type": "code",
   "execution_count": 27,
   "metadata": {},
   "outputs": [
    {
     "data": {
      "text/plain": [
       "(array([920., 569., 573., 421., 216., 119.,  88.,  26.,  17.,   8.]),\n",
       " array([0.69314718, 1.41489152, 2.13663587, 2.85838021, 3.58012455,\n",
       "        4.3018689 , 5.02361324, 5.74535758, 6.46710193, 7.18884627,\n",
       "        7.91059061]),\n",
       " <a list of 10 Patch objects>)"
      ]
     },
     "execution_count": 27,
     "metadata": {},
     "output_type": "execute_result"
    },
    {
     "data": {
      "image/png": "[encoded data removed]",
      "text/plain": [
       "<Figure size 432x288 with 1 Axes>"
      ]
     },
     "metadata": {},
     "output_type": "display_data"
    }
   ],
   "source": [
    "plt.hist(np.log(data_bipartita.sum()))"
   ]
  },
  {
   "cell_type": "markdown",
   "metadata": {},
   "source": [
    "**Distribución de grado para alelos**"
   ]
  },
  {
   "cell_type": "code",
   "execution_count": 32,
   "metadata": {},
   "outputs": [
    {
     "data": {
      "text/plain": [
       "(array([8.8714e+04, 5.9400e+02, 9.9000e+01, 3.4000e+01, 1.0000e+01,\n",
       "        2.0000e+00, 4.0000e+00, 1.0000e+00, 0.0000e+00, 1.0000e+00]),\n",
       " array([ 1. ,  4.5,  8. , 11.5, 15. , 18.5, 22. , 25.5, 29. , 32.5, 36. ]),\n",
       " <a list of 10 Patch objects>)"
      ]
     },
     "execution_count": 32,
     "metadata": {},
     "output_type": "execute_result"
    },
    {
     "data": {
      "image/png": "[encoded data removed]",
      "text/plain": [
       "<Figure size 432x288 with 1 Axes>"
      ]
     },
     "metadata": {},
     "output_type": "display_data"
    }
   ],
   "source": [
    "plt.hist(data_bipartita.sum(axis = 1), log=True)"
   ]
  },
  {
   "cell_type": "markdown",
   "metadata": {},
   "source": [
    "¿VALE LA PENA ESTUDIAR ESTAS DISTRIBUCIONES?"
   ]
  },
  {
   "cell_type": "markdown",
   "metadata": {},
   "source": [
    "### Separación de datos para testeo\n",
    "\n",
    "#### Separación 1 - Alelos \"nuevos\"\n",
    "\n",
    "Tomamos alelos al azar y los sacamos de la matriz de utilidad. De esta forma, no aportarán a las similitudes de los fenotipos.\n",
    "\n",
    "Vamos a sacar alelos que tengan al menos grado 3 y como máximo grado 5 "
   ]
  },
  {
   "cell_type": "code",
   "execution_count": 52,
   "metadata": {},
   "outputs": [],
   "source": [
    "np.random.seed(42)\n",
    "n_alelos_a_sacar = 100\n",
    "alelos_a_sacar = []\n",
    "\n",
    "lista_alelos_desordenada = list(dict_id_to_alelo.keys())\n",
    "lista_alelos_desordenada = np.random.choice(lista_alelos_desordenada,len(lista_alelos_desordenada), replace = False)\n",
    "\n",
    "grados = data_bipartita.sum(axis = 1)\n",
    "for alelo in lista_alelos_desordenada:\n",
    "#     pass\n",
    "    grado = grados.iloc[alelo]\n",
    "    \n",
    "    if grado >=3 and grado <=5:\n",
    "        alelos_a_sacar.append(alelo)\n",
    "        \n",
    "    if len(alelos_a_sacar) == n_alelos_a_sacar:\n",
    "        break"
   ]
  },
  {
   "cell_type": "code",
   "execution_count": 53,
   "metadata": {},
   "outputs": [
    {
     "name": "stdout",
     "output_type": "stream",
     "text": [
      "(100, 2957)\n",
      "345\n"
     ]
    }
   ],
   "source": [
    "data_bipartita_test_1 = data_bipartita.iloc[alelos_a_sacar,:]\n",
    "print(data_bipartita_test_1.shape)\n",
    "print(data_bipartita_test_1.sum().sum())"
   ]
  },
  {
   "cell_type": "code",
   "execution_count": 54,
   "metadata": {},
   "outputs": [
    {
     "name": "stdout",
     "output_type": "stream",
     "text": [
      "(89359, 2957)\n"
     ]
    }
   ],
   "source": [
    "data_bipartita_train = data_bipartita.drop(alelos_a_sacar)\n",
    "print(data_bipartita_train.shape)"
   ]
  },
  {
   "cell_type": "markdown",
   "metadata": {},
   "source": [
    "#### ESTO SE PUEDE MEJORAR, PERO POR AHORA CHEQUEAMOS QUE NO QUEDE UN FENOTIPO DE GRADO 1\n",
    "Nuevamente, lo mejor sería que el conjunto de train tenga una única componente."
   ]
  },
  {
   "cell_type": "code",
   "execution_count": 55,
   "metadata": {},
   "outputs": [
    {
     "data": {
      "text/plain": [
       "2"
      ]
     },
     "execution_count": 55,
     "metadata": {},
     "output_type": "execute_result"
    }
   ],
   "source": [
    "data_bipartita_train.sum().min()"
   ]
  },
  {
   "cell_type": "markdown",
   "metadata": {},
   "source": [
    "Sacamos del conjunto de test algunos fenotipos conocidos, hasta que quede un solo fenotipo conocido. ¿ESTUDIAR EN FUNCION DE ESTE HIPERPARÁMETRO?"
   ]
  },
  {
   "cell_type": "code",
   "execution_count": 56,
   "metadata": {},
   "outputs": [
    {
     "name": "stderr",
     "output_type": "stream",
     "text": [
      "<ipython-input-56-ff9eddc036ac>:10: SettingWithCopyWarning: \n",
      "A value is trying to be set on a copy of a slice from a DataFrame\n",
      "\n",
      "See the caveats in the documentation: https://pandas.pydata.org/pandas-docs/stable/user_guide/indexing.html#returning-a-view-versus-a-copy\n",
      "  data_bipartita_test_1.loc[idx, fenotipo] = 0\n"
     ]
    }
   ],
   "source": [
    "np.random.seed(42)\n",
    "n_fenotipos_a_dejar = 1\n",
    "\n",
    "for idx, row in data_bipartita_test_1.iterrows():\n",
    "    \n",
    "    fenotipos_asociados = list(row[row == 1].index)\n",
    "    fenotipos_asociados = np.random.choice(fenotipos_asociados, len(fenotipos_asociados), replace = False)\n",
    "    contador = 0\n",
    "    for fenotipo in fenotipos_asociados:\n",
    "        data_bipartita_test_1.loc[idx, fenotipo] = 0\n",
    "        contador +=1\n",
    "        if contador == len(fenotipos_asociados) - n_fenotipos_a_dejar:\n",
    "            break"
   ]
  },
  {
   "cell_type": "code",
   "execution_count": 57,
   "metadata": {},
   "outputs": [
    {
     "data": {
      "text/plain": [
       "100"
      ]
     },
     "execution_count": 57,
     "metadata": {},
     "output_type": "execute_result"
    }
   ],
   "source": [
    "data_bipartita_test_1.sum().sum()"
   ]
  },
  {
   "cell_type": "markdown",
   "metadata": {},
   "source": [
    "### 3. Armamos la red --> ¿Pasar a Gephy la visualización?\n",
    "\n",
    "Se puede saltear por ahora, no lo usamos"
   ]
  },
  {
   "cell_type": "code",
   "execution_count": null,
   "metadata": {},
   "outputs": [],
   "source": [
    "import networkx as nx"
   ]
  },
  {
   "cell_type": "code",
   "execution_count": null,
   "metadata": {},
   "outputs": [],
   "source": [
    "red = nx.Graph()"
   ]
  },
  {
   "cell_type": "code",
   "execution_count": null,
   "metadata": {},
   "outputs": [],
   "source": [
    "red.add_edges_from(data_tripletes[['alelo_riesgo', 'fenotipo']].values)"
   ]
  },
  {
   "cell_type": "code",
   "execution_count": null,
   "metadata": {},
   "outputs": [],
   "source": [
    "### MUY PESADO EN MEMORIA\n",
    "matriz_adyacencia = nx.to_pandas_adjacency(red, dtype = np.int8)"
   ]
  },
  {
   "cell_type": "code",
   "execution_count": null,
   "metadata": {},
   "outputs": [],
   "source": [
    "# prueba = np.ones((99365, 99365), dtype = np.uint8)\n",
    "# del prueba"
   ]
  },
  {
   "cell_type": "code",
   "execution_count": null,
   "metadata": {},
   "outputs": [],
   "source": [
    "matriz_adyacencia"
   ]
  },
  {
   "cell_type": "code",
   "execution_count": null,
   "metadata": {},
   "outputs": [],
   "source": []
  },
  {
   "cell_type": "code",
   "execution_count": null,
   "metadata": {},
   "outputs": [],
   "source": []
  },
  {
   "cell_type": "code",
   "execution_count": null,
   "metadata": {},
   "outputs": [],
   "source": [
    "data_bipartita"
   ]
  },
  {
   "cell_type": "markdown",
   "metadata": {},
   "source": [
    "### 4. Filtro Colaborativo Implícito\n",
    "\n",
    "https://medium.com/radon-dev/item-item-collaborative-filtering-with-binary-or-unary-data-e8f0b465b2c3"
   ]
  },
  {
   "cell_type": "code",
   "execution_count": 58,
   "metadata": {},
   "outputs": [],
   "source": [
    "from sklearn.metrics.pairwise import cosine_similarity\n",
    "from scipy import sparse"
   ]
  },
  {
   "cell_type": "markdown",
   "metadata": {},
   "source": [
    "En primer lugar, normalizamos con respecto a la cantidad de enlaces que tiene cada alelo. En las películas, esto se justifica como \n",
    "\n",
    "> *This is the idea of normalizing the user vectors so that a user with many ratings contributes less to any individual rating. This is to say that a like from a user who has only liked 10 items is more valuable to us than a like from someone who likes everything she comes across.*"
   ]
  },
  {
   "cell_type": "code",
   "execution_count": 59,
   "metadata": {},
   "outputs": [
    {
     "data": {
      "text/html": [
       "<div>\n",
       "<style scoped>\n",
       "    .dataframe tbody tr th:only-of-type {\n",
       "        vertical-align: middle;\n",
       "    }\n",
       "\n",
       "    .dataframe tbody tr th {\n",
       "        vertical-align: top;\n",
       "    }\n",
       "\n",
       "    .dataframe thead th {\n",
       "        text-align: right;\n",
       "    }\n",
       "</style>\n",
       "<table border=\"1\" class=\"dataframe\">\n",
       "  <thead>\n",
       "    <tr style=\"text-align: right;\">\n",
       "      <th></th>\n",
       "      <th>Blood protein levels</th>\n",
       "      <th>Heel bone mineral density</th>\n",
       "      <th>Height</th>\n",
       "      <th>Metabolite levels</th>\n",
       "      <th>Educational attainment (years of education)</th>\n",
       "      <th>Body mass index</th>\n",
       "      <th>Post bronchodilator FEV1/FVC ratio</th>\n",
       "      <th>Educational attainment (MTAG)</th>\n",
       "      <th>General cognitive ability</th>\n",
       "      <th>Post bronchodilator FEV1</th>\n",
       "      <th>...</th>\n",
       "      <th>Paediatric migraine</th>\n",
       "      <th>Oligoclonal band status in multiple sclerosis</th>\n",
       "      <th>IgE levels in asthmatics (D.f. specific)</th>\n",
       "      <th>Immunoglobulin G index levels in multiple sclerosis</th>\n",
       "      <th>Menstruation quality of life impact (fever)</th>\n",
       "      <th>Cleft lip</th>\n",
       "      <th>Waist-to-hip ratio adjusted for BMI (additive genetic model)</th>\n",
       "      <th>Drug-induced liver injury (amoxicillin-clavulanate)</th>\n",
       "      <th>Cortical brain region measurements (area, volume and thickness)</th>\n",
       "      <th>Spontaneous preterm birth (preterm delivery)</th>\n",
       "    </tr>\n",
       "  </thead>\n",
       "  <tbody>\n",
       "    <tr>\n",
       "      <th>0</th>\n",
       "      <td>0.0</td>\n",
       "      <td>0.0</td>\n",
       "      <td>0.0</td>\n",
       "      <td>0.0</td>\n",
       "      <td>0.0</td>\n",
       "      <td>0.166667</td>\n",
       "      <td>0.0</td>\n",
       "      <td>0.0</td>\n",
       "      <td>0.0</td>\n",
       "      <td>0.0</td>\n",
       "      <td>...</td>\n",
       "      <td>0.0</td>\n",
       "      <td>0.0</td>\n",
       "      <td>0.0</td>\n",
       "      <td>0.0</td>\n",
       "      <td>0.0</td>\n",
       "      <td>0.0</td>\n",
       "      <td>0.0</td>\n",
       "      <td>0.0</td>\n",
       "      <td>0.0</td>\n",
       "      <td>0.0</td>\n",
       "    </tr>\n",
       "    <tr>\n",
       "      <th>1</th>\n",
       "      <td>0.0</td>\n",
       "      <td>0.0</td>\n",
       "      <td>0.0</td>\n",
       "      <td>0.0</td>\n",
       "      <td>0.0</td>\n",
       "      <td>0.000000</td>\n",
       "      <td>0.0</td>\n",
       "      <td>0.0</td>\n",
       "      <td>0.0</td>\n",
       "      <td>0.0</td>\n",
       "      <td>...</td>\n",
       "      <td>0.0</td>\n",
       "      <td>0.0</td>\n",
       "      <td>0.0</td>\n",
       "      <td>0.0</td>\n",
       "      <td>0.0</td>\n",
       "      <td>0.0</td>\n",
       "      <td>0.0</td>\n",
       "      <td>0.0</td>\n",
       "      <td>0.0</td>\n",
       "      <td>0.0</td>\n",
       "    </tr>\n",
       "    <tr>\n",
       "      <th>2</th>\n",
       "      <td>0.2</td>\n",
       "      <td>0.0</td>\n",
       "      <td>0.0</td>\n",
       "      <td>0.0</td>\n",
       "      <td>0.0</td>\n",
       "      <td>0.200000</td>\n",
       "      <td>0.0</td>\n",
       "      <td>0.0</td>\n",
       "      <td>0.0</td>\n",
       "      <td>0.0</td>\n",
       "      <td>...</td>\n",
       "      <td>0.0</td>\n",
       "      <td>0.0</td>\n",
       "      <td>0.0</td>\n",
       "      <td>0.0</td>\n",
       "      <td>0.0</td>\n",
       "      <td>0.0</td>\n",
       "      <td>0.0</td>\n",
       "      <td>0.0</td>\n",
       "      <td>0.0</td>\n",
       "      <td>0.0</td>\n",
       "    </tr>\n",
       "    <tr>\n",
       "      <th>3</th>\n",
       "      <td>0.0</td>\n",
       "      <td>0.0</td>\n",
       "      <td>0.0</td>\n",
       "      <td>0.0</td>\n",
       "      <td>0.2</td>\n",
       "      <td>0.000000</td>\n",
       "      <td>0.0</td>\n",
       "      <td>0.2</td>\n",
       "      <td>0.2</td>\n",
       "      <td>0.0</td>\n",
       "      <td>...</td>\n",
       "      <td>0.0</td>\n",
       "      <td>0.0</td>\n",
       "      <td>0.0</td>\n",
       "      <td>0.0</td>\n",
       "      <td>0.0</td>\n",
       "      <td>0.0</td>\n",
       "      <td>0.0</td>\n",
       "      <td>0.0</td>\n",
       "      <td>0.0</td>\n",
       "      <td>0.0</td>\n",
       "    </tr>\n",
       "    <tr>\n",
       "      <th>4</th>\n",
       "      <td>0.0</td>\n",
       "      <td>0.0</td>\n",
       "      <td>0.0</td>\n",
       "      <td>0.0</td>\n",
       "      <td>0.0</td>\n",
       "      <td>0.000000</td>\n",
       "      <td>0.0</td>\n",
       "      <td>0.0</td>\n",
       "      <td>0.0</td>\n",
       "      <td>0.0</td>\n",
       "      <td>...</td>\n",
       "      <td>0.0</td>\n",
       "      <td>0.0</td>\n",
       "      <td>0.0</td>\n",
       "      <td>0.0</td>\n",
       "      <td>0.0</td>\n",
       "      <td>0.0</td>\n",
       "      <td>0.0</td>\n",
       "      <td>0.0</td>\n",
       "      <td>0.0</td>\n",
       "      <td>0.0</td>\n",
       "    </tr>\n",
       "    <tr>\n",
       "      <th>...</th>\n",
       "      <td>...</td>\n",
       "      <td>...</td>\n",
       "      <td>...</td>\n",
       "      <td>...</td>\n",
       "      <td>...</td>\n",
       "      <td>...</td>\n",
       "      <td>...</td>\n",
       "      <td>...</td>\n",
       "      <td>...</td>\n",
       "      <td>...</td>\n",
       "      <td>...</td>\n",
       "      <td>...</td>\n",
       "      <td>...</td>\n",
       "      <td>...</td>\n",
       "      <td>...</td>\n",
       "      <td>...</td>\n",
       "      <td>...</td>\n",
       "      <td>...</td>\n",
       "      <td>...</td>\n",
       "      <td>...</td>\n",
       "      <td>...</td>\n",
       "    </tr>\n",
       "    <tr>\n",
       "      <th>89454</th>\n",
       "      <td>0.0</td>\n",
       "      <td>0.0</td>\n",
       "      <td>0.0</td>\n",
       "      <td>0.0</td>\n",
       "      <td>0.0</td>\n",
       "      <td>0.000000</td>\n",
       "      <td>0.0</td>\n",
       "      <td>0.0</td>\n",
       "      <td>0.0</td>\n",
       "      <td>0.0</td>\n",
       "      <td>...</td>\n",
       "      <td>0.0</td>\n",
       "      <td>0.0</td>\n",
       "      <td>0.0</td>\n",
       "      <td>0.0</td>\n",
       "      <td>0.0</td>\n",
       "      <td>0.0</td>\n",
       "      <td>0.0</td>\n",
       "      <td>0.0</td>\n",
       "      <td>0.0</td>\n",
       "      <td>0.0</td>\n",
       "    </tr>\n",
       "    <tr>\n",
       "      <th>89455</th>\n",
       "      <td>0.0</td>\n",
       "      <td>0.0</td>\n",
       "      <td>0.0</td>\n",
       "      <td>0.0</td>\n",
       "      <td>0.0</td>\n",
       "      <td>0.000000</td>\n",
       "      <td>0.0</td>\n",
       "      <td>0.0</td>\n",
       "      <td>0.0</td>\n",
       "      <td>0.0</td>\n",
       "      <td>...</td>\n",
       "      <td>0.0</td>\n",
       "      <td>0.0</td>\n",
       "      <td>0.0</td>\n",
       "      <td>0.0</td>\n",
       "      <td>0.0</td>\n",
       "      <td>0.0</td>\n",
       "      <td>0.0</td>\n",
       "      <td>0.0</td>\n",
       "      <td>0.0</td>\n",
       "      <td>0.0</td>\n",
       "    </tr>\n",
       "    <tr>\n",
       "      <th>89456</th>\n",
       "      <td>0.0</td>\n",
       "      <td>0.0</td>\n",
       "      <td>0.0</td>\n",
       "      <td>0.0</td>\n",
       "      <td>0.0</td>\n",
       "      <td>0.000000</td>\n",
       "      <td>0.0</td>\n",
       "      <td>0.0</td>\n",
       "      <td>0.0</td>\n",
       "      <td>0.0</td>\n",
       "      <td>...</td>\n",
       "      <td>0.0</td>\n",
       "      <td>0.0</td>\n",
       "      <td>0.0</td>\n",
       "      <td>0.0</td>\n",
       "      <td>0.0</td>\n",
       "      <td>0.0</td>\n",
       "      <td>0.0</td>\n",
       "      <td>0.0</td>\n",
       "      <td>0.0</td>\n",
       "      <td>0.0</td>\n",
       "    </tr>\n",
       "    <tr>\n",
       "      <th>89457</th>\n",
       "      <td>0.0</td>\n",
       "      <td>0.0</td>\n",
       "      <td>0.0</td>\n",
       "      <td>0.0</td>\n",
       "      <td>0.0</td>\n",
       "      <td>0.000000</td>\n",
       "      <td>0.0</td>\n",
       "      <td>0.0</td>\n",
       "      <td>0.0</td>\n",
       "      <td>0.0</td>\n",
       "      <td>...</td>\n",
       "      <td>0.0</td>\n",
       "      <td>0.0</td>\n",
       "      <td>0.0</td>\n",
       "      <td>0.0</td>\n",
       "      <td>0.0</td>\n",
       "      <td>0.0</td>\n",
       "      <td>0.0</td>\n",
       "      <td>0.0</td>\n",
       "      <td>0.0</td>\n",
       "      <td>0.0</td>\n",
       "    </tr>\n",
       "    <tr>\n",
       "      <th>89458</th>\n",
       "      <td>0.0</td>\n",
       "      <td>0.0</td>\n",
       "      <td>0.0</td>\n",
       "      <td>0.0</td>\n",
       "      <td>0.0</td>\n",
       "      <td>0.000000</td>\n",
       "      <td>0.0</td>\n",
       "      <td>0.0</td>\n",
       "      <td>0.0</td>\n",
       "      <td>0.0</td>\n",
       "      <td>...</td>\n",
       "      <td>0.0</td>\n",
       "      <td>0.0</td>\n",
       "      <td>0.0</td>\n",
       "      <td>0.0</td>\n",
       "      <td>0.0</td>\n",
       "      <td>0.0</td>\n",
       "      <td>0.0</td>\n",
       "      <td>0.0</td>\n",
       "      <td>0.0</td>\n",
       "      <td>0.0</td>\n",
       "    </tr>\n",
       "  </tbody>\n",
       "</table>\n",
       "<p>89359 rows × 2957 columns</p>\n",
       "</div>"
      ],
      "text/plain": [
       "       Blood protein levels  Heel bone mineral density  Height  \\\n",
       "0                       0.0                        0.0     0.0   \n",
       "1                       0.0                        0.0     0.0   \n",
       "2                       0.2                        0.0     0.0   \n",
       "3                       0.0                        0.0     0.0   \n",
       "4                       0.0                        0.0     0.0   \n",
       "...                     ...                        ...     ...   \n",
       "89454                   0.0                        0.0     0.0   \n",
       "89455                   0.0                        0.0     0.0   \n",
       "89456                   0.0                        0.0     0.0   \n",
       "89457                   0.0                        0.0     0.0   \n",
       "89458                   0.0                        0.0     0.0   \n",
       "\n",
       "       Metabolite levels  Educational attainment (years of education)  \\\n",
       "0                    0.0                                          0.0   \n",
       "1                    0.0                                          0.0   \n",
       "2                    0.0                                          0.0   \n",
       "3                    0.0                                          0.2   \n",
       "4                    0.0                                          0.0   \n",
       "...                  ...                                          ...   \n",
       "89454                0.0                                          0.0   \n",
       "89455                0.0                                          0.0   \n",
       "89456                0.0                                          0.0   \n",
       "89457                0.0                                          0.0   \n",
       "89458                0.0                                          0.0   \n",
       "\n",
       "       Body mass index  Post bronchodilator FEV1/FVC ratio  \\\n",
       "0             0.166667                                 0.0   \n",
       "1             0.000000                                 0.0   \n",
       "2             0.200000                                 0.0   \n",
       "3             0.000000                                 0.0   \n",
       "4             0.000000                                 0.0   \n",
       "...                ...                                 ...   \n",
       "89454         0.000000                                 0.0   \n",
       "89455         0.000000                                 0.0   \n",
       "89456         0.000000                                 0.0   \n",
       "89457         0.000000                                 0.0   \n",
       "89458         0.000000                                 0.0   \n",
       "\n",
       "       Educational attainment (MTAG)  General cognitive ability  \\\n",
       "0                                0.0                        0.0   \n",
       "1                                0.0                        0.0   \n",
       "2                                0.0                        0.0   \n",
       "3                                0.2                        0.2   \n",
       "4                                0.0                        0.0   \n",
       "...                              ...                        ...   \n",
       "89454                            0.0                        0.0   \n",
       "89455                            0.0                        0.0   \n",
       "89456                            0.0                        0.0   \n",
       "89457                            0.0                        0.0   \n",
       "89458                            0.0                        0.0   \n",
       "\n",
       "       Post bronchodilator FEV1  ...  Paediatric migraine  \\\n",
       "0                           0.0  ...                  0.0   \n",
       "1                           0.0  ...                  0.0   \n",
       "2                           0.0  ...                  0.0   \n",
       "3                           0.0  ...                  0.0   \n",
       "4                           0.0  ...                  0.0   \n",
       "...                         ...  ...                  ...   \n",
       "89454                       0.0  ...                  0.0   \n",
       "89455                       0.0  ...                  0.0   \n",
       "89456                       0.0  ...                  0.0   \n",
       "89457                       0.0  ...                  0.0   \n",
       "89458                       0.0  ...                  0.0   \n",
       "\n",
       "       Oligoclonal band status in multiple sclerosis  \\\n",
       "0                                                0.0   \n",
       "1                                                0.0   \n",
       "2                                                0.0   \n",
       "3                                                0.0   \n",
       "4                                                0.0   \n",
       "...                                              ...   \n",
       "89454                                            0.0   \n",
       "89455                                            0.0   \n",
       "89456                                            0.0   \n",
       "89457                                            0.0   \n",
       "89458                                            0.0   \n",
       "\n",
       "       IgE levels in asthmatics (D.f. specific)  \\\n",
       "0                                           0.0   \n",
       "1                                           0.0   \n",
       "2                                           0.0   \n",
       "3                                           0.0   \n",
       "4                                           0.0   \n",
       "...                                         ...   \n",
       "89454                                       0.0   \n",
       "89455                                       0.0   \n",
       "89456                                       0.0   \n",
       "89457                                       0.0   \n",
       "89458                                       0.0   \n",
       "\n",
       "       Immunoglobulin G index levels in multiple sclerosis  \\\n",
       "0                                                    0.0     \n",
       "1                                                    0.0     \n",
       "2                                                    0.0     \n",
       "3                                                    0.0     \n",
       "4                                                    0.0     \n",
       "...                                                  ...     \n",
       "89454                                                0.0     \n",
       "89455                                                0.0     \n",
       "89456                                                0.0     \n",
       "89457                                                0.0     \n",
       "89458                                                0.0     \n",
       "\n",
       "       Menstruation quality of life impact (fever)  Cleft lip  \\\n",
       "0                                              0.0        0.0   \n",
       "1                                              0.0        0.0   \n",
       "2                                              0.0        0.0   \n",
       "3                                              0.0        0.0   \n",
       "4                                              0.0        0.0   \n",
       "...                                            ...        ...   \n",
       "89454                                          0.0        0.0   \n",
       "89455                                          0.0        0.0   \n",
       "89456                                          0.0        0.0   \n",
       "89457                                          0.0        0.0   \n",
       "89458                                          0.0        0.0   \n",
       "\n",
       "       Waist-to-hip ratio adjusted for BMI (additive genetic model)  \\\n",
       "0                                                    0.0              \n",
       "1                                                    0.0              \n",
       "2                                                    0.0              \n",
       "3                                                    0.0              \n",
       "4                                                    0.0              \n",
       "...                                                  ...              \n",
       "89454                                                0.0              \n",
       "89455                                                0.0              \n",
       "89456                                                0.0              \n",
       "89457                                                0.0              \n",
       "89458                                                0.0              \n",
       "\n",
       "       Drug-induced liver injury (amoxicillin-clavulanate)  \\\n",
       "0                                                    0.0     \n",
       "1                                                    0.0     \n",
       "2                                                    0.0     \n",
       "3                                                    0.0     \n",
       "4                                                    0.0     \n",
       "...                                                  ...     \n",
       "89454                                                0.0     \n",
       "89455                                                0.0     \n",
       "89456                                                0.0     \n",
       "89457                                                0.0     \n",
       "89458                                                0.0     \n",
       "\n",
       "       Cortical brain region measurements (area, volume and thickness)  \\\n",
       "0                                                    0.0                 \n",
       "1                                                    0.0                 \n",
       "2                                                    0.0                 \n",
       "3                                                    0.0                 \n",
       "4                                                    0.0                 \n",
       "...                                                  ...                 \n",
       "89454                                                0.0                 \n",
       "89455                                                0.0                 \n",
       "89456                                                0.0                 \n",
       "89457                                                0.0                 \n",
       "89458                                                0.0                 \n",
       "\n",
       "       Spontaneous preterm birth (preterm delivery)  \n",
       "0                                               0.0  \n",
       "1                                               0.0  \n",
       "2                                               0.0  \n",
       "3                                               0.0  \n",
       "4                                               0.0  \n",
       "...                                             ...  \n",
       "89454                                           0.0  \n",
       "89455                                           0.0  \n",
       "89456                                           0.0  \n",
       "89457                                           0.0  \n",
       "89458                                           0.0  \n",
       "\n",
       "[89359 rows x 2957 columns]"
      ]
     },
     "execution_count": 59,
     "metadata": {},
     "output_type": "execute_result"
    }
   ],
   "source": [
    "#------------------------\n",
    "# ITEM-ITEM CALCULATIONS\n",
    "#------------------------\n",
    "\n",
    "# As a first step we normalize the user vectors to unit vectors.\n",
    "\n",
    "# magnitude = sqrt(x2 + y2 + z2 + ...)\n",
    "magnitude = np.sqrt(np.square(data_bipartita_train).sum(axis=1))\n",
    "\n",
    "# # unitvector = (x / magnitude, y / magnitude, z / magnitude, ...)\n",
    "data_bipartita_normalizada = data_bipartita_train.divide(magnitude, axis='index')\n",
    "data_bipartita_normalizada"
   ]
  },
  {
   "cell_type": "markdown",
   "metadata": {},
   "source": [
    "Luego,calculamos la similaridad coseno para cada columna, obteniendo así qué fenotipos son parecidos."
   ]
  },
  {
   "cell_type": "code",
   "execution_count": 60,
   "metadata": {},
   "outputs": [
    {
     "data": {
      "text/html": [
       "<div>\n",
       "<style scoped>\n",
       "    .dataframe tbody tr th:only-of-type {\n",
       "        vertical-align: middle;\n",
       "    }\n",
       "\n",
       "    .dataframe tbody tr th {\n",
       "        vertical-align: top;\n",
       "    }\n",
       "\n",
       "    .dataframe thead th {\n",
       "        text-align: right;\n",
       "    }\n",
       "</style>\n",
       "<table border=\"1\" class=\"dataframe\">\n",
       "  <thead>\n",
       "    <tr style=\"text-align: right;\">\n",
       "      <th></th>\n",
       "      <th>Blood protein levels</th>\n",
       "      <th>Heel bone mineral density</th>\n",
       "      <th>Height</th>\n",
       "      <th>Metabolite levels</th>\n",
       "      <th>Educational attainment (years of education)</th>\n",
       "      <th>Body mass index</th>\n",
       "      <th>Post bronchodilator FEV1/FVC ratio</th>\n",
       "      <th>Educational attainment (MTAG)</th>\n",
       "      <th>General cognitive ability</th>\n",
       "      <th>Post bronchodilator FEV1</th>\n",
       "      <th>...</th>\n",
       "      <th>Paediatric migraine</th>\n",
       "      <th>Oligoclonal band status in multiple sclerosis</th>\n",
       "      <th>IgE levels in asthmatics (D.f. specific)</th>\n",
       "      <th>Immunoglobulin G index levels in multiple sclerosis</th>\n",
       "      <th>Menstruation quality of life impact (fever)</th>\n",
       "      <th>Cleft lip</th>\n",
       "      <th>Waist-to-hip ratio adjusted for BMI (additive genetic model)</th>\n",
       "      <th>Drug-induced liver injury (amoxicillin-clavulanate)</th>\n",
       "      <th>Cortical brain region measurements (area, volume and thickness)</th>\n",
       "      <th>Spontaneous preterm birth (preterm delivery)</th>\n",
       "    </tr>\n",
       "  </thead>\n",
       "  <tbody>\n",
       "    <tr>\n",
       "      <th>Blood protein levels</th>\n",
       "      <td>1.000000</td>\n",
       "      <td>0.000000</td>\n",
       "      <td>0.000444</td>\n",
       "      <td>0.000000</td>\n",
       "      <td>0.000000</td>\n",
       "      <td>0.000685</td>\n",
       "      <td>0.00014</td>\n",
       "      <td>0.000000</td>\n",
       "      <td>0.000000</td>\n",
       "      <td>0.000522</td>\n",
       "      <td>...</td>\n",
       "      <td>0.0</td>\n",
       "      <td>0.0</td>\n",
       "      <td>0.0</td>\n",
       "      <td>0.0</td>\n",
       "      <td>0.0</td>\n",
       "      <td>0.0</td>\n",
       "      <td>0.0</td>\n",
       "      <td>0.0</td>\n",
       "      <td>0.0</td>\n",
       "      <td>0.0</td>\n",
       "    </tr>\n",
       "    <tr>\n",
       "      <th>Heel bone mineral density</th>\n",
       "      <td>0.000000</td>\n",
       "      <td>1.000000</td>\n",
       "      <td>0.002304</td>\n",
       "      <td>0.000240</td>\n",
       "      <td>0.000190</td>\n",
       "      <td>0.000173</td>\n",
       "      <td>0.00000</td>\n",
       "      <td>0.000586</td>\n",
       "      <td>0.000000</td>\n",
       "      <td>0.000000</td>\n",
       "      <td>...</td>\n",
       "      <td>0.0</td>\n",
       "      <td>0.0</td>\n",
       "      <td>0.0</td>\n",
       "      <td>0.0</td>\n",
       "      <td>0.0</td>\n",
       "      <td>0.0</td>\n",
       "      <td>0.0</td>\n",
       "      <td>0.0</td>\n",
       "      <td>0.0</td>\n",
       "      <td>0.0</td>\n",
       "    </tr>\n",
       "    <tr>\n",
       "      <th>Height</th>\n",
       "      <td>0.000444</td>\n",
       "      <td>0.002304</td>\n",
       "      <td>1.000000</td>\n",
       "      <td>0.000078</td>\n",
       "      <td>0.000323</td>\n",
       "      <td>0.000755</td>\n",
       "      <td>0.00022</td>\n",
       "      <td>0.000400</td>\n",
       "      <td>0.000000</td>\n",
       "      <td>0.000274</td>\n",
       "      <td>...</td>\n",
       "      <td>0.0</td>\n",
       "      <td>0.0</td>\n",
       "      <td>0.0</td>\n",
       "      <td>0.0</td>\n",
       "      <td>0.0</td>\n",
       "      <td>0.0</td>\n",
       "      <td>0.0</td>\n",
       "      <td>0.0</td>\n",
       "      <td>0.0</td>\n",
       "      <td>0.0</td>\n",
       "    </tr>\n",
       "    <tr>\n",
       "      <th>Metabolite levels</th>\n",
       "      <td>0.000000</td>\n",
       "      <td>0.000240</td>\n",
       "      <td>0.000078</td>\n",
       "      <td>1.000000</td>\n",
       "      <td>0.000336</td>\n",
       "      <td>0.000000</td>\n",
       "      <td>0.00000</td>\n",
       "      <td>0.000000</td>\n",
       "      <td>0.000352</td>\n",
       "      <td>0.000000</td>\n",
       "      <td>...</td>\n",
       "      <td>0.0</td>\n",
       "      <td>0.0</td>\n",
       "      <td>0.0</td>\n",
       "      <td>0.0</td>\n",
       "      <td>0.0</td>\n",
       "      <td>0.0</td>\n",
       "      <td>0.0</td>\n",
       "      <td>0.0</td>\n",
       "      <td>0.0</td>\n",
       "      <td>0.0</td>\n",
       "    </tr>\n",
       "    <tr>\n",
       "      <th>Educational attainment (years of education)</th>\n",
       "      <td>0.000000</td>\n",
       "      <td>0.000190</td>\n",
       "      <td>0.000323</td>\n",
       "      <td>0.000336</td>\n",
       "      <td>1.000000</td>\n",
       "      <td>0.001714</td>\n",
       "      <td>0.00000</td>\n",
       "      <td>0.281039</td>\n",
       "      <td>0.003334</td>\n",
       "      <td>0.000000</td>\n",
       "      <td>...</td>\n",
       "      <td>0.0</td>\n",
       "      <td>0.0</td>\n",
       "      <td>0.0</td>\n",
       "      <td>0.0</td>\n",
       "      <td>0.0</td>\n",
       "      <td>0.0</td>\n",
       "      <td>0.0</td>\n",
       "      <td>0.0</td>\n",
       "      <td>0.0</td>\n",
       "      <td>0.0</td>\n",
       "    </tr>\n",
       "  </tbody>\n",
       "</table>\n",
       "<p>5 rows × 2957 columns</p>\n",
       "</div>"
      ],
      "text/plain": [
       "                                             Blood protein levels  \\\n",
       "Blood protein levels                                     1.000000   \n",
       "Heel bone mineral density                                0.000000   \n",
       "Height                                                   0.000444   \n",
       "Metabolite levels                                        0.000000   \n",
       "Educational attainment (years of education)              0.000000   \n",
       "\n",
       "                                             Heel bone mineral density  \\\n",
       "Blood protein levels                                          0.000000   \n",
       "Heel bone mineral density                                     1.000000   \n",
       "Height                                                        0.002304   \n",
       "Metabolite levels                                             0.000240   \n",
       "Educational attainment (years of education)                   0.000190   \n",
       "\n",
       "                                               Height  Metabolite levels  \\\n",
       "Blood protein levels                         0.000444           0.000000   \n",
       "Heel bone mineral density                    0.002304           0.000240   \n",
       "Height                                       1.000000           0.000078   \n",
       "Metabolite levels                            0.000078           1.000000   \n",
       "Educational attainment (years of education)  0.000323           0.000336   \n",
       "\n",
       "                                             Educational attainment (years of education)  \\\n",
       "Blood protein levels                                                            0.000000   \n",
       "Heel bone mineral density                                                       0.000190   \n",
       "Height                                                                          0.000323   \n",
       "Metabolite levels                                                               0.000336   \n",
       "Educational attainment (years of education)                                     1.000000   \n",
       "\n",
       "                                             Body mass index  \\\n",
       "Blood protein levels                                0.000685   \n",
       "Heel bone mineral density                           0.000173   \n",
       "Height                                              0.000755   \n",
       "Metabolite levels                                   0.000000   \n",
       "Educational attainment (years of education)         0.001714   \n",
       "\n",
       "                                             Post bronchodilator FEV1/FVC ratio  \\\n",
       "Blood protein levels                                                    0.00014   \n",
       "Heel bone mineral density                                               0.00000   \n",
       "Height                                                                  0.00022   \n",
       "Metabolite levels                                                       0.00000   \n",
       "Educational attainment (years of education)                             0.00000   \n",
       "\n",
       "                                             Educational attainment (MTAG)  \\\n",
       "Blood protein levels                                              0.000000   \n",
       "Heel bone mineral density                                         0.000586   \n",
       "Height                                                            0.000400   \n",
       "Metabolite levels                                                 0.000000   \n",
       "Educational attainment (years of education)                       0.281039   \n",
       "\n",
       "                                             General cognitive ability  \\\n",
       "Blood protein levels                                          0.000000   \n",
       "Heel bone mineral density                                     0.000000   \n",
       "Height                                                        0.000000   \n",
       "Metabolite levels                                             0.000352   \n",
       "Educational attainment (years of education)                   0.003334   \n",
       "\n",
       "                                             Post bronchodilator FEV1  ...  \\\n",
       "Blood protein levels                                         0.000522  ...   \n",
       "Heel bone mineral density                                    0.000000  ...   \n",
       "Height                                                       0.000274  ...   \n",
       "Metabolite levels                                            0.000000  ...   \n",
       "Educational attainment (years of education)                  0.000000  ...   \n",
       "\n",
       "                                             Paediatric migraine  \\\n",
       "Blood protein levels                                         0.0   \n",
       "Heel bone mineral density                                    0.0   \n",
       "Height                                                       0.0   \n",
       "Metabolite levels                                            0.0   \n",
       "Educational attainment (years of education)                  0.0   \n",
       "\n",
       "                                             Oligoclonal band status in multiple sclerosis  \\\n",
       "Blood protein levels                                                                   0.0   \n",
       "Heel bone mineral density                                                              0.0   \n",
       "Height                                                                                 0.0   \n",
       "Metabolite levels                                                                      0.0   \n",
       "Educational attainment (years of education)                                            0.0   \n",
       "\n",
       "                                             IgE levels in asthmatics (D.f. specific)  \\\n",
       "Blood protein levels                                                              0.0   \n",
       "Heel bone mineral density                                                         0.0   \n",
       "Height                                                                            0.0   \n",
       "Metabolite levels                                                                 0.0   \n",
       "Educational attainment (years of education)                                       0.0   \n",
       "\n",
       "                                             Immunoglobulin G index levels in multiple sclerosis  \\\n",
       "Blood protein levels                                                                       0.0     \n",
       "Heel bone mineral density                                                                  0.0     \n",
       "Height                                                                                     0.0     \n",
       "Metabolite levels                                                                          0.0     \n",
       "Educational attainment (years of education)                                                0.0     \n",
       "\n",
       "                                             Menstruation quality of life impact (fever)  \\\n",
       "Blood protein levels                                                                 0.0   \n",
       "Heel bone mineral density                                                            0.0   \n",
       "Height                                                                               0.0   \n",
       "Metabolite levels                                                                    0.0   \n",
       "Educational attainment (years of education)                                          0.0   \n",
       "\n",
       "                                             Cleft lip  \\\n",
       "Blood protein levels                               0.0   \n",
       "Heel bone mineral density                          0.0   \n",
       "Height                                             0.0   \n",
       "Metabolite levels                                  0.0   \n",
       "Educational attainment (years of education)        0.0   \n",
       "\n",
       "                                             Waist-to-hip ratio adjusted for BMI (additive genetic model)  \\\n",
       "Blood protein levels                                                                       0.0              \n",
       "Heel bone mineral density                                                                  0.0              \n",
       "Height                                                                                     0.0              \n",
       "Metabolite levels                                                                          0.0              \n",
       "Educational attainment (years of education)                                                0.0              \n",
       "\n",
       "                                             Drug-induced liver injury (amoxicillin-clavulanate)  \\\n",
       "Blood protein levels                                                                       0.0     \n",
       "Heel bone mineral density                                                                  0.0     \n",
       "Height                                                                                     0.0     \n",
       "Metabolite levels                                                                          0.0     \n",
       "Educational attainment (years of education)                                                0.0     \n",
       "\n",
       "                                             Cortical brain region measurements (area, volume and thickness)  \\\n",
       "Blood protein levels                                                                       0.0                 \n",
       "Heel bone mineral density                                                                  0.0                 \n",
       "Height                                                                                     0.0                 \n",
       "Metabolite levels                                                                          0.0                 \n",
       "Educational attainment (years of education)                                                0.0                 \n",
       "\n",
       "                                             Spontaneous preterm birth (preterm delivery)  \n",
       "Blood protein levels                                                                  0.0  \n",
       "Heel bone mineral density                                                             0.0  \n",
       "Height                                                                                0.0  \n",
       "Metabolite levels                                                                     0.0  \n",
       "Educational attainment (years of education)                                           0.0  \n",
       "\n",
       "[5 rows x 2957 columns]"
      ]
     },
     "execution_count": 60,
     "metadata": {},
     "output_type": "execute_result"
    }
   ],
   "source": [
    "def calculate_similarity(data_items):\n",
    "    \"\"\"Calculate the column-wise cosine similarity for a sparse\n",
    "    matrix. Return a new dataframe matrix with similarities.\n",
    "    \"\"\"\n",
    "    data_sparse = sparse.csr_matrix(data_items)\n",
    "    similarities = cosine_similarity(data_sparse.transpose())\n",
    "    sim = pd.DataFrame(data=similarities, index= data_items.columns, columns= data_items.columns)\n",
    "    return sim\n",
    "\n",
    "# Build the similarity matrix\n",
    "data_matrix = calculate_similarity(data_bipartita_normalizada)\n",
    "data_matrix.head()"
   ]
  },
  {
   "cell_type": "markdown",
   "metadata": {},
   "source": [
    "Veamos similaridades"
   ]
  },
  {
   "cell_type": "code",
   "execution_count": 61,
   "metadata": {},
   "outputs": [
    {
     "name": "stdout",
     "output_type": "stream",
     "text": [
      "Educational attainment (MTAG)                                                     1.000000\n",
      "Educational attainment (years of education)                                       0.281039\n",
      "Highest math class taken (MTAG)                                                   0.148034\n",
      "Cognitive performance (MTAG)                                                      0.061834\n",
      "Self-reported math ability (MTAG)                                                 0.020381\n",
      "Intelligence (MTAG)                                                               0.011061\n",
      "Household income (MTAG)                                                           0.009003\n",
      "Cognitive performance                                                             0.007239\n",
      "Highest math class taken                                                          0.006983\n",
      "Intelligence                                                                      0.006981\n",
      "Urea levels                                                                       0.004805\n",
      "Smoking initiation (ever regular vs never regular) (MTAG)                         0.004468\n",
      "General cognitive ability                                                         0.004344\n",
      "Self-reported math ability                                                        0.004187\n",
      "Age of smoking initiation (MTAG)                                                  0.003664\n",
      "Educational attainment (college completion)                                       0.003359\n",
      "Age-related cognitive decline (attention/processing speed) (slope of z-scores)    0.003187\n",
      "Smoking cessation (MTAG)                                                          0.003155\n",
      "Neuroticism (MTAG)                                                                0.003128\n",
      "Non-glioblastoma glioma                                                           0.003074\n",
      "Glioblastoma                                                                      0.002937\n",
      "Visceral fat                                                                      0.002632\n",
      "Smoking initiation (ever regular vs never regular)                                0.002454\n",
      "Parental longevity (father's age at death)                                        0.002283\n",
      "Multisite chronic pain                                                            0.002044\n",
      "BMI in non-smokers                                                                0.002034\n",
      "Medication use (glucocorticoids)                                                  0.002013\n",
      "Household income                                                                  0.001882\n",
      "Myopia (age of diagnosis)                                                         0.001881\n",
      "Morningness                                                                       0.001769\n",
      "Name: Educational attainment (MTAG), dtype: float64\n"
     ]
    }
   ],
   "source": [
    "# Lets get the top 11 similar artists for Beyonce\n",
    "# print(data_matrix.loc['Drinking behavior'].nlargest(25))\n",
    "\n",
    "print(data_matrix.loc['Educational attainment (MTAG)'].nlargest(30))"
   ]
  },
  {
   "cell_type": "markdown",
   "metadata": {},
   "source": [
    "Construimos una nueva matriz, con los `n_neighbours` de cada fenotipo. Vendrían a ser los `n_neighbours` fenotipos más cercanos a cada fenotipos."
   ]
  },
  {
   "cell_type": "code",
   "execution_count": 63,
   "metadata": {},
   "outputs": [
    {
     "data": {
      "text/html": [
       "<div>\n",
       "<style scoped>\n",
       "    .dataframe tbody tr th:only-of-type {\n",
       "        vertical-align: middle;\n",
       "    }\n",
       "\n",
       "    .dataframe tbody tr th {\n",
       "        vertical-align: top;\n",
       "    }\n",
       "\n",
       "    .dataframe thead th {\n",
       "        text-align: right;\n",
       "    }\n",
       "</style>\n",
       "<table border=\"1\" class=\"dataframe\">\n",
       "  <thead>\n",
       "    <tr style=\"text-align: right;\">\n",
       "      <th></th>\n",
       "      <th>1</th>\n",
       "      <th>2</th>\n",
       "      <th>3</th>\n",
       "      <th>4</th>\n",
       "      <th>5</th>\n",
       "      <th>6</th>\n",
       "      <th>7</th>\n",
       "      <th>8</th>\n",
       "      <th>9</th>\n",
       "      <th>10</th>\n",
       "      <th>11</th>\n",
       "      <th>12</th>\n",
       "      <th>13</th>\n",
       "      <th>14</th>\n",
       "      <th>15</th>\n",
       "      <th>16</th>\n",
       "      <th>17</th>\n",
       "      <th>18</th>\n",
       "      <th>19</th>\n",
       "      <th>20</th>\n",
       "    </tr>\n",
       "  </thead>\n",
       "  <tbody>\n",
       "    <tr>\n",
       "      <th>Blood protein levels</th>\n",
       "      <td>Blood protein levels</td>\n",
       "      <td>Planum temporale asymmetry index</td>\n",
       "      <td>Soluble levels of adhesion molecules</td>\n",
       "      <td>L-arginine levels</td>\n",
       "      <td>Insulinogenic index</td>\n",
       "      <td>Neovascular age-related macular degeneration</td>\n",
       "      <td>NT-proBNP levels in acute coronary syndrome</td>\n",
       "      <td>ADAMTS13 activity</td>\n",
       "      <td>B-type natriuretic peptide levels</td>\n",
       "      <td>Neonatal cytokine/chemokine levels (fetal gene...</td>\n",
       "      <td>Butyrylcholinesterase levels</td>\n",
       "      <td>Blood protein levels in cardiovascular risk</td>\n",
       "      <td>Expressive vocabulary in infants</td>\n",
       "      <td>Metabolic traits</td>\n",
       "      <td>Age-related macular degeneration (choroidal ne...</td>\n",
       "      <td>HIV-1 susceptibility</td>\n",
       "      <td>Composite immunoglobulin trait (IgA/IgG)</td>\n",
       "      <td>Serum cancer antigen 19.9 levels</td>\n",
       "      <td>Serum protein levels (sST2)</td>\n",
       "      <td>IgE levels</td>\n",
       "    </tr>\n",
       "    <tr>\n",
       "      <th>Heel bone mineral density</th>\n",
       "      <td>Heel bone mineral density</td>\n",
       "      <td>Serum sclerostin levels</td>\n",
       "      <td>Fractures</td>\n",
       "      <td>Thyroid function</td>\n",
       "      <td>Systolic blood pressure change trajectories</td>\n",
       "      <td>Multisite chronic pain</td>\n",
       "      <td>Cardiovascular disease risk factors</td>\n",
       "      <td>Total body bone mineral density</td>\n",
       "      <td>Systemic lupus erythematosus or rheumatoid art...</td>\n",
       "      <td>Height</td>\n",
       "      <td>Heel bone mineral density (MTAG)</td>\n",
       "      <td>Total body bone mineral density (MTAG)</td>\n",
       "      <td>Maternal nondisjunction of chromosome 21 (MI e...</td>\n",
       "      <td>Serum alkaline phosphatase levels</td>\n",
       "      <td>Stem cell factor levels</td>\n",
       "      <td>Lumbar spine bone mineral density (trabecular)</td>\n",
       "      <td>Femoral neck bone mineral density</td>\n",
       "      <td>Maternal nondisjunction of chromosome 21 (moth...</td>\n",
       "      <td>Educational attainment (college completion)</td>\n",
       "      <td>Pulmonary function</td>\n",
       "    </tr>\n",
       "    <tr>\n",
       "      <th>Height</th>\n",
       "      <td>Height</td>\n",
       "      <td>Infant length</td>\n",
       "      <td>Birth length</td>\n",
       "      <td>Hip circumference adjusted for BMI</td>\n",
       "      <td>Puberty onset (breast development)</td>\n",
       "      <td>Waist circumference adjusted for BMI in non-sm...</td>\n",
       "      <td>Glucagon levels in response to oral glucose to...</td>\n",
       "      <td>Waist circumference adjusted for BMI (adjusted...</td>\n",
       "      <td>Developmental dysplasia of the hip</td>\n",
       "      <td>Birth weight</td>\n",
       "      <td>Waist circumference adjusted for BMI in active...</td>\n",
       "      <td>Age at voice drop</td>\n",
       "      <td>Anthropometric traits</td>\n",
       "      <td>Head circumference (infant)</td>\n",
       "      <td>Infant head circumference (MTAG)</td>\n",
       "      <td>Weight</td>\n",
       "      <td>Waist circumference adjusted for body mass index</td>\n",
       "      <td>Body fat distribution (arm fat ratio)</td>\n",
       "      <td>Birth weight (MTAG)</td>\n",
       "      <td>Menarche and menopause (age at onset)</td>\n",
       "    </tr>\n",
       "    <tr>\n",
       "      <th>Metabolite levels</th>\n",
       "      <td>Metabolite levels</td>\n",
       "      <td>Parkinson's disease in GBA mutation carriers</td>\n",
       "      <td>Statin-induced myopathy (severe)</td>\n",
       "      <td>Red blood cell fatty acid levels</td>\n",
       "      <td>Serum urea levels</td>\n",
       "      <td>Fasting blood glucose</td>\n",
       "      <td>Acylcarnitine levels</td>\n",
       "      <td>Urinary sodium to creatinine ratio</td>\n",
       "      <td>Plasma factor V levels in venous thrombosis (c...</td>\n",
       "      <td>Lipoprotein-associated phospholipase A2 activi...</td>\n",
       "      <td>Plasma free amino acid levels (adjusted for tw...</td>\n",
       "      <td>Folate pathway vitamin levels</td>\n",
       "      <td>Change in serum metabolite levels</td>\n",
       "      <td>QRS interval (sulfonylurea treatment interaction)</td>\n",
       "      <td>Hematological and biochemical traits</td>\n",
       "      <td>Change in serum metabolite levels (CMS)</td>\n",
       "      <td>Serum metabolite levels</td>\n",
       "      <td>Alanine transaminase levels</td>\n",
       "      <td>Total bilirubin levels in HIV-1 infection</td>\n",
       "      <td>Low HDL-cholesterol levels</td>\n",
       "    </tr>\n",
       "    <tr>\n",
       "      <th>Educational attainment (years of education)</th>\n",
       "      <td>Educational attainment (years of education)</td>\n",
       "      <td>Educational attainment (MTAG)</td>\n",
       "      <td>Highest math class taken (MTAG)</td>\n",
       "      <td>Cognitive performance (MTAG)</td>\n",
       "      <td>Household income (MTAG)</td>\n",
       "      <td>Intelligence (MTAG)</td>\n",
       "      <td>Self-reported math ability (MTAG)</td>\n",
       "      <td>Educational attainment (college completion)</td>\n",
       "      <td>Autism and major depressive disorder (MTAG)</td>\n",
       "      <td>Risk-taking tendency (4-domain principal compo...</td>\n",
       "      <td>Intelligence</td>\n",
       "      <td>Smoking behaviour (cigarette pack-years)</td>\n",
       "      <td>Urea levels</td>\n",
       "      <td>Cigarettes smoked per day (MTAG)</td>\n",
       "      <td>Regular attendance at a gym or sports club</td>\n",
       "      <td>Eating disorders</td>\n",
       "      <td>Alcohol consumption</td>\n",
       "      <td>Educational attainment</td>\n",
       "      <td>Cognitive performance</td>\n",
       "      <td>General cognitive ability</td>\n",
       "    </tr>\n",
       "  </tbody>\n",
       "</table>\n",
       "</div>"
      ],
      "text/plain": [
       "                                                                                       1  \\\n",
       "Blood protein levels                                                Blood protein levels   \n",
       "Heel bone mineral density                                      Heel bone mineral density   \n",
       "Height                                                                            Height   \n",
       "Metabolite levels                                                      Metabolite levels   \n",
       "Educational attainment (years of education)  Educational attainment (years of education)   \n",
       "\n",
       "                                                                                        2  \\\n",
       "Blood protein levels                                     Planum temporale asymmetry index   \n",
       "Heel bone mineral density                                         Serum sclerostin levels   \n",
       "Height                                                                      Infant length   \n",
       "Metabolite levels                            Parkinson's disease in GBA mutation carriers   \n",
       "Educational attainment (years of education)                 Educational attainment (MTAG)   \n",
       "\n",
       "                                                                                3  \\\n",
       "Blood protein levels                         Soluble levels of adhesion molecules   \n",
       "Heel bone mineral density                                               Fractures   \n",
       "Height                                                               Birth length   \n",
       "Metabolite levels                                Statin-induced myopathy (severe)   \n",
       "Educational attainment (years of education)       Highest math class taken (MTAG)   \n",
       "\n",
       "                                                                              4  \\\n",
       "Blood protein levels                                          L-arginine levels   \n",
       "Heel bone mineral density                                      Thyroid function   \n",
       "Height                                       Hip circumference adjusted for BMI   \n",
       "Metabolite levels                              Red blood cell fatty acid levels   \n",
       "Educational attainment (years of education)        Cognitive performance (MTAG)   \n",
       "\n",
       "                                                                                       5  \\\n",
       "Blood protein levels                                                 Insulinogenic index   \n",
       "Heel bone mineral density                    Systolic blood pressure change trajectories   \n",
       "Height                                                Puberty onset (breast development)   \n",
       "Metabolite levels                                                      Serum urea levels   \n",
       "Educational attainment (years of education)                      Household income (MTAG)   \n",
       "\n",
       "                                                                                             6  \\\n",
       "Blood protein levels                              Neovascular age-related macular degeneration   \n",
       "Heel bone mineral density                                               Multisite chronic pain   \n",
       "Height                                       Waist circumference adjusted for BMI in non-sm...   \n",
       "Metabolite levels                                                        Fasting blood glucose   \n",
       "Educational attainment (years of education)                                Intelligence (MTAG)   \n",
       "\n",
       "                                                                                             7  \\\n",
       "Blood protein levels                               NT-proBNP levels in acute coronary syndrome   \n",
       "Heel bone mineral density                                  Cardiovascular disease risk factors   \n",
       "Height                                       Glucagon levels in response to oral glucose to...   \n",
       "Metabolite levels                                                         Acylcarnitine levels   \n",
       "Educational attainment (years of education)                  Self-reported math ability (MTAG)   \n",
       "\n",
       "                                                                                             8  \\\n",
       "Blood protein levels                                                         ADAMTS13 activity   \n",
       "Heel bone mineral density                                      Total body bone mineral density   \n",
       "Height                                       Waist circumference adjusted for BMI (adjusted...   \n",
       "Metabolite levels                                           Urinary sodium to creatinine ratio   \n",
       "Educational attainment (years of education)        Educational attainment (college completion)   \n",
       "\n",
       "                                                                                             9  \\\n",
       "Blood protein levels                                         B-type natriuretic peptide levels   \n",
       "Heel bone mineral density                    Systemic lupus erythematosus or rheumatoid art...   \n",
       "Height                                                      Developmental dysplasia of the hip   \n",
       "Metabolite levels                            Plasma factor V levels in venous thrombosis (c...   \n",
       "Educational attainment (years of education)        Autism and major depressive disorder (MTAG)   \n",
       "\n",
       "                                                                                            10  \\\n",
       "Blood protein levels                         Neonatal cytokine/chemokine levels (fetal gene...   \n",
       "Heel bone mineral density                                                               Height   \n",
       "Height                                                                            Birth weight   \n",
       "Metabolite levels                            Lipoprotein-associated phospholipase A2 activi...   \n",
       "Educational attainment (years of education)  Risk-taking tendency (4-domain principal compo...   \n",
       "\n",
       "                                                                                            11  \\\n",
       "Blood protein levels                                              Butyrylcholinesterase levels   \n",
       "Heel bone mineral density                                     Heel bone mineral density (MTAG)   \n",
       "Height                                       Waist circumference adjusted for BMI in active...   \n",
       "Metabolite levels                            Plasma free amino acid levels (adjusted for tw...   \n",
       "Educational attainment (years of education)                                       Intelligence   \n",
       "\n",
       "                                                                                      12  \\\n",
       "Blood protein levels                         Blood protein levels in cardiovascular risk   \n",
       "Heel bone mineral density                         Total body bone mineral density (MTAG)   \n",
       "Height                                                                 Age at voice drop   \n",
       "Metabolite levels                                          Folate pathway vitamin levels   \n",
       "Educational attainment (years of education)     Smoking behaviour (cigarette pack-years)   \n",
       "\n",
       "                                                                                            13  \\\n",
       "Blood protein levels                                          Expressive vocabulary in infants   \n",
       "Heel bone mineral density                    Maternal nondisjunction of chromosome 21 (MI e...   \n",
       "Height                                                                   Anthropometric traits   \n",
       "Metabolite levels                                            Change in serum metabolite levels   \n",
       "Educational attainment (years of education)                                        Urea levels   \n",
       "\n",
       "                                                                                            14  \\\n",
       "Blood protein levels                                                          Metabolic traits   \n",
       "Heel bone mineral density                                    Serum alkaline phosphatase levels   \n",
       "Height                                                             Head circumference (infant)   \n",
       "Metabolite levels                            QRS interval (sulfonylurea treatment interaction)   \n",
       "Educational attainment (years of education)                   Cigarettes smoked per day (MTAG)   \n",
       "\n",
       "                                                                                            15  \\\n",
       "Blood protein levels                         Age-related macular degeneration (choroidal ne...   \n",
       "Heel bone mineral density                                              Stem cell factor levels   \n",
       "Height                                                        Infant head circumference (MTAG)   \n",
       "Metabolite levels                                         Hematological and biochemical traits   \n",
       "Educational attainment (years of education)         Regular attendance at a gym or sports club   \n",
       "\n",
       "                                                                                         16  \\\n",
       "Blood protein levels                                                   HIV-1 susceptibility   \n",
       "Heel bone mineral density                    Lumbar spine bone mineral density (trabecular)   \n",
       "Height                                                                               Weight   \n",
       "Metabolite levels                                   Change in serum metabolite levels (CMS)   \n",
       "Educational attainment (years of education)                                Eating disorders   \n",
       "\n",
       "                                                                                           17  \\\n",
       "Blood protein levels                                 Composite immunoglobulin trait (IgA/IgG)   \n",
       "Heel bone mineral density                                   Femoral neck bone mineral density   \n",
       "Height                                       Waist circumference adjusted for body mass index   \n",
       "Metabolite levels                                                     Serum metabolite levels   \n",
       "Educational attainment (years of education)                               Alcohol consumption   \n",
       "\n",
       "                                                                                            18  \\\n",
       "Blood protein levels                                          Serum cancer antigen 19.9 levels   \n",
       "Heel bone mineral density                    Maternal nondisjunction of chromosome 21 (moth...   \n",
       "Height                                                   Body fat distribution (arm fat ratio)   \n",
       "Metabolite levels                                                  Alanine transaminase levels   \n",
       "Educational attainment (years of education)                             Educational attainment   \n",
       "\n",
       "                                                                                      19  \\\n",
       "Blood protein levels                                         Serum protein levels (sST2)   \n",
       "Heel bone mineral density                    Educational attainment (college completion)   \n",
       "Height                                                               Birth weight (MTAG)   \n",
       "Metabolite levels                              Total bilirubin levels in HIV-1 infection   \n",
       "Educational attainment (years of education)                        Cognitive performance   \n",
       "\n",
       "                                                                                20  \n",
       "Blood protein levels                                                    IgE levels  \n",
       "Heel bone mineral density                                       Pulmonary function  \n",
       "Height                                       Menarche and menopause (age at onset)  \n",
       "Metabolite levels                                       Low HDL-cholesterol levels  \n",
       "Educational attainment (years of education)              General cognitive ability  "
      ]
     },
     "execution_count": 63,
     "metadata": {},
     "output_type": "execute_result"
    }
   ],
   "source": [
    "n_neighbours = 20\n",
    "data_neighbours = pd.DataFrame(index=data_matrix.columns, columns=range(1,n_neighbours+1))\n",
    "for i in range(0, len(data_matrix.columns)):\n",
    "    data_neighbours.iloc[i,:n_neighbours] = data_matrix.iloc[0:,i].sort_values(ascending=False)[:n_neighbours].index\n",
    "data_neighbours.head()"
   ]
  },
  {
   "cell_type": "markdown",
   "metadata": {},
   "source": [
    "Elegimos un alelo dentro del conjunto de entrenamiento"
   ]
  },
  {
   "cell_type": "code",
   "execution_count": 99,
   "metadata": {},
   "outputs": [
    {
     "name": "stdout",
     "output_type": "stream",
     "text": [
      "Alelo de prueba: rs34276187-T\n",
      "Indice del alelo de prueba: 35292\n",
      "Fenotipos asociados al alelo: ['General cognitive ability']\n"
     ]
    }
   ],
   "source": [
    "# np.random.seed(43)\n",
    "alelo_prueba = np.random.choice(data_tripletes.alelo_riesgo.unique())\n",
    "# alelo_prueba = 'rs6739779-C'\n",
    "print(f'Alelo de prueba: {alelo_prueba}')\n",
    "\n",
    "alelo_prueba_index = dict_alelo_to_id[alelo_prueba]\n",
    "print(f'Indice del alelo de prueba: {alelo_prueba_index}')\n",
    "\n",
    "known_alelo_fenotipos = data_bipartita_normalizada.iloc[alelo_prueba_index]\n",
    "known_alelo_fenotipos = known_alelo_fenotipos[known_alelo_fenotipos >0].index.values\n",
    "print(f'Fenotipos asociados al alelo: {known_alelo_fenotipos}')"
   ]
  },
  {
   "cell_type": "markdown",
   "metadata": {},
   "source": [
    "Dado esos fenotipos, seleccionamos los similares a partir de `data_neighbours`"
   ]
  },
  {
   "cell_type": "code",
   "execution_count": 100,
   "metadata": {},
   "outputs": [
    {
     "name": "stdout",
     "output_type": "stream",
     "text": [
      "Fenotipos similares, sin rankear: ['Mental health study participation (provided email address)', 'Cognitive ability, years of educational attainment or schizophrenia (pleiotropy)', 'Brainstem volume', 'Cognitive performance', 'Cognitive performance (MTAG)', 'Allergy', 'Autism and educational attainment (MTAG)', 'Verbal-numerical reasoning', 'General factor of neuroticism', 'Waist circumference adjusted for BMI (adjusted for smoking behaviour)', 'General cognitive ability', 'Intelligence', 'Cognitive ability', 'Educational attainment (MTAG)', 'Educational attainment (years of education)', 'Intelligence (MTAG)', 'Regular attendance at a religious group', 'vWF levels', 'Household income (MTAG)', 'Self-reported math ability (MTAG)']\n"
     ]
    }
   ],
   "source": [
    "# Construct the neighbourhood from the most similar items to the\n",
    "# ones our alelo it's related\n",
    "most_similar_fenotipos = data_neighbours.loc[known_alelo_fenotipos]\n",
    "# most_similar_fenotipos\n",
    "similar_list = most_similar_fenotipos.values.tolist()\n",
    "similar_list = list(set([item for sublist in similar_list for item in sublist]))\n",
    "print(f'Fenotipos similares, sin rankear: {similar_list}')"
   ]
  },
  {
   "cell_type": "markdown",
   "metadata": {},
   "source": [
    "Seleccionamos, dentro de la matriz de similaridades, los valores para los fenotipos similares"
   ]
  },
  {
   "cell_type": "code",
   "execution_count": 101,
   "metadata": {},
   "outputs": [
    {
     "data": {
      "text/plain": [
       "(20, 20)"
      ]
     },
     "execution_count": 101,
     "metadata": {},
     "output_type": "execute_result"
    }
   ],
   "source": [
    "neighbourhood = data_matrix[similar_list].loc[similar_list]\n",
    "neighbourhood.shape"
   ]
  },
  {
   "cell_type": "markdown",
   "metadata": {},
   "source": [
    "Creamos un vector que tiene los fenotipos similares, incluyendo los conocidos, y su *rating* (1 o 0)."
   ]
  },
  {
   "cell_type": "code",
   "execution_count": 102,
   "metadata": {},
   "outputs": [
    {
     "data": {
      "text/plain": [
       "Mental health study participation (provided email address)                          0.0\n",
       "Cognitive ability, years of educational attainment or schizophrenia (pleiotropy)    0.0\n",
       "Brainstem volume                                                                    0.0\n",
       "Cognitive performance                                                               0.0\n",
       "Cognitive performance (MTAG)                                                        0.0\n",
       "Allergy                                                                             0.0\n",
       "Autism and educational attainment (MTAG)                                            0.0\n",
       "Verbal-numerical reasoning                                                          0.0\n",
       "General factor of neuroticism                                                       0.0\n",
       "Waist circumference adjusted for BMI (adjusted for smoking behaviour)               0.0\n",
       "General cognitive ability                                                           1.0\n",
       "Intelligence                                                                        0.0\n",
       "Cognitive ability                                                                   0.0\n",
       "Educational attainment (MTAG)                                                       0.0\n",
       "Educational attainment (years of education)                                         0.0\n",
       "Intelligence (MTAG)                                                                 0.0\n",
       "Regular attendance at a religious group                                             0.0\n",
       "vWF levels                                                                          0.0\n",
       "Household income (MTAG)                                                             0.0\n",
       "Self-reported math ability (MTAG)                                                   0.0\n",
       "Name: 35392, dtype: float64"
      ]
     },
     "execution_count": 102,
     "metadata": {},
     "output_type": "execute_result"
    }
   ],
   "source": [
    "# A user vector containing only the neighbourhood items and\n",
    "# the known user likes.\n",
    "fenotipos_probables = data_bipartita_normalizada.iloc[alelo_prueba_index].loc[similar_list]\n",
    "fenotipos_probables"
   ]
  },
  {
   "cell_type": "markdown",
   "metadata": {},
   "source": [
    "Calculamos los scores y ordenamos."
   ]
  },
  {
   "cell_type": "code",
   "execution_count": 103,
   "metadata": {},
   "outputs": [],
   "source": [
    "# Calculate the score.\n",
    "score = neighbourhood.dot(fenotipos_probables).div(neighbourhood.sum(axis=1))\n",
    "# score\n",
    "score.sort_values(ascending = False, inplace = True)\n",
    "# score"
   ]
  },
  {
   "cell_type": "markdown",
   "metadata": {},
   "source": [
    "E imprimimos los fenotipos conocidos y el ranking"
   ]
  },
  {
   "cell_type": "code",
   "execution_count": 104,
   "metadata": {},
   "outputs": [
    {
     "name": "stdout",
     "output_type": "stream",
     "text": [
      "['General cognitive ability']\n",
      "General cognitive ability                                                           0.853919\n",
      "Intelligence (MTAG)                                                                 0.029415\n",
      "Intelligence                                                                        0.028101\n",
      "Cognitive performance                                                               0.017461\n",
      "Cognitive performance (MTAG)                                                        0.008403\n",
      "Verbal-numerical reasoning                                                          0.008105\n",
      "Autism and educational attainment (MTAG)                                            0.006002\n",
      "General factor of neuroticism                                                       0.004965\n",
      "Cognitive ability                                                                   0.004251\n",
      "Mental health study participation (provided email address)                          0.004158\n",
      "Waist circumference adjusted for BMI (adjusted for smoking behaviour)               0.003896\n",
      "vWF levels                                                                          0.003870\n",
      "Brainstem volume                                                                    0.003684\n",
      "Regular attendance at a religious group                                             0.003610\n",
      "Household income (MTAG)                                                             0.003415\n",
      "Allergy                                                                             0.003134\n",
      "Educational attainment (MTAG)                                                       0.003097\n",
      "Cognitive ability, years of educational attainment or schizophrenia (pleiotropy)    0.002912\n",
      "Self-reported math ability (MTAG)                                                   0.002899\n",
      "Educational attainment (years of education)                                         0.002432\n",
      "dtype: float64\n"
     ]
    }
   ],
   "source": [
    "print(known_alelo_fenotipos)\n",
    "print(score)"
   ]
  },
  {
   "cell_type": "code",
   "execution_count": 98,
   "metadata": {},
   "outputs": [
    {
     "data": {
      "text/plain": [
       "([0, 1, 2, 3, 4, 5, 6, 7, 8, 9, 10, 11, 12, 13, 14, 15, 16, 17, 18, 19],\n",
       " <a list of 20 Text xticklabel objects>)"
      ]
     },
     "execution_count": 98,
     "metadata": {},
     "output_type": "execute_result"
    },
    {
     "data": {
      "image/png": "[encoded data removed]",
      "text/plain": [
       "<Figure size 432x288 with 1 Axes>"
      ]
     },
     "metadata": {},
     "output_type": "display_data"
    }
   ],
   "source": [
    "# sns.barplot(score.index, score.values)\n",
    "plt.scatter(score.index, score.values)\n",
    "plt.xticks(rotation = 90)"
   ]
  },
  {
   "cell_type": "code",
   "execution_count": 105,
   "metadata": {},
   "outputs": [],
   "source": [
    "def recomendaciones_alelo(alelo_index, data_bipartita_normalizada, data_neighbours, data_matrix):\n",
    "    known_alelo_fenotipos = data_bipartita_normalizada.iloc[alelo_index]\n",
    "    known_alelo_fenotipos = known_alelo_fenotipos[known_alelo_fenotipos >0].index.values\n",
    "\n",
    "    most_similar_fenotipos = data_neighbours.loc[known_alelo_fenotipos]\n",
    "\n",
    "    similar_list = most_similar_fenotipos.values.tolist()\n",
    "    similar_list = list(set([item for sublist in similar_list for item in sublist]))\n",
    "\n",
    "    neighbourhood = data_matrix[similar_list].loc[similar_list]\n",
    "\n",
    "    fenotipos_probables = data_bipartita_normalizada.iloc[alelo_prueba_index].loc[similar_list]\n",
    "\n",
    "    score = neighbourhood.dot(fenotipos_probables).div(neighbourhood.sum(axis=1))\n",
    "    score.sort_values(ascending = False, inplace = True)\n",
    "\n",
    "    return score"
   ]
  },
  {
   "cell_type": "code",
   "execution_count": 107,
   "metadata": {},
   "outputs": [],
   "source": [
    "score = recomendaciones_alelo(alelo_prueba_index, data_bipartita_normalizada, data_neighbours, data_matrix)"
   ]
  },
  {
   "cell_type": "code",
   "execution_count": 108,
   "metadata": {},
   "outputs": [
    {
     "data": {
      "text/plain": [
       "([0, 1, 2, 3, 4, 5, 6, 7, 8, 9, 10, 11, 12, 13, 14, 15, 16, 17, 18, 19],\n",
       " <a list of 20 Text xticklabel objects>)"
      ]
     },
     "execution_count": 108,
     "metadata": {},
     "output_type": "execute_result"
    },
    {
     "data": {
      "image/png": "[encoded data removed]",
      "text/plain": [
       "<Figure size 432x288 with 1 Axes>"
      ]
     },
     "metadata": {},
     "output_type": "display_data"
    }
   ],
   "source": [
    "plt.scatter(score.index, score.values)\n",
    "plt.xticks(rotation = 90)"
   ]
  },
  {
   "cell_type": "markdown",
   "metadata": {},
   "source": [
    "### Sobre Conjunto de Test\n",
    "\n",
    "\"A mano\" por ahora"
   ]
  },
  {
   "cell_type": "code",
   "execution_count": 268,
   "metadata": {},
   "outputs": [
    {
     "name": "stdout",
     "output_type": "stream",
     "text": [
      "Indice alelo a probar: 1841\n",
      "Alelo a probar: rs151305716-T\n",
      "Fenotipos asociados al alelo para generar recomendaciones: ['Red blood cell count']\n"
     ]
    }
   ],
   "source": [
    "# np.random.seed(50)\n",
    "alelo_prueba_index = np.random.choice(data_bipartita_test_1.index)\n",
    "print(f'Indice alelo a probar: {alelo_prueba_index}')\n",
    "\n",
    "alelo_prueba = dict_id_to_alelo[alelo_prueba_index]\n",
    "print(f'Alelo a probar: {alelo_prueba}')\n",
    "\n",
    "known_alelo_fenotipos = data_bipartita_test_1.loc[alelo_prueba_index]\n",
    "known_alelo_fenotipos = known_alelo_fenotipos[known_alelo_fenotipos >0].index.values\n",
    "print(f'Fenotipos asociados al alelo para generar recomendaciones: {known_alelo_fenotipos}')"
   ]
  },
  {
   "cell_type": "code",
   "execution_count": 269,
   "metadata": {},
   "outputs": [
    {
     "name": "stdout",
     "output_type": "stream",
     "text": [
      "Todos fenotipos asociados al alelo: ['Mean corpuscular volume' 'Mean corpuscular hemoglobin'\n",
      " 'Red blood cell count']\n"
     ]
    }
   ],
   "source": [
    "fenotipos_reportados_alelo = data_bipartita.loc[alelo_prueba_index]\n",
    "fenotipos_reportados_alelo = fenotipos_reportados_alelo[fenotipos_reportados_alelo >0].index.values\n",
    "print(f'Todos fenotipos asociados al alelo: {fenotipos_reportados_alelo}')"
   ]
  },
  {
   "cell_type": "code",
   "execution_count": 270,
   "metadata": {},
   "outputs": [],
   "source": [
    "most_similar_fenotipos = data_neighbours.loc[known_alelo_fenotipos]\n",
    "similar_list = most_similar_fenotipos.values.tolist()\n",
    "similar_list = list(set([item for sublist in similar_list for item in sublist]))\n",
    "neighbourhood = data_matrix[similar_list].loc[similar_list]"
   ]
  },
  {
   "cell_type": "code",
   "execution_count": 271,
   "metadata": {},
   "outputs": [],
   "source": [
    "fenotipos_probables = data_bipartita_test_1.loc[alelo_prueba_index].loc[similar_list]\n",
    "# fenotipos_probables"
   ]
  },
  {
   "cell_type": "code",
   "execution_count": 272,
   "metadata": {},
   "outputs": [
    {
     "name": "stdout",
     "output_type": "stream",
     "text": [
      "['Red blood cell count']\n",
      "['Mean corpuscular volume' 'Mean corpuscular hemoglobin'\n",
      " 'Red blood cell count']\n",
      "Red blood cell count                                  0.636010\n",
      "Hematocrit                                            0.074048\n",
      "Hemoglobin concentration                              0.056564\n",
      "Mean corpuscular volume                               0.055906\n",
      "Mean corpuscular hemoglobin                           0.053227\n",
      "Hemoglobin                                            0.019465\n",
      "Urea levels                                           0.016057\n",
      "Red blood cell traits                                 0.012593\n",
      "Iron status biomarkers (transferrin saturation)       0.012223\n",
      "EGFR mutation-positive lung adenocarcinoma            0.012114\n",
      "Hemoglobin levels                                     0.012089\n",
      "Serum creatinine levels                               0.011491\n",
      "Mean corpuscular hemoglobin concentration             0.011137\n",
      "Cardiometabolic and hematological traits              0.010476\n",
      "Glomerular filtration rate                            0.009519\n",
      "Homeostasis model assessment of insulin resistance    0.008463\n",
      "Reticulocyte count                                    0.008042\n",
      "Immature fraction of reticulocytes                    0.007337\n",
      "High light scatter reticulocyte count                 0.005009\n",
      "Reticulocyte fraction of red cells                    0.004539\n",
      "dtype: float64\n"
     ]
    }
   ],
   "source": [
    "score = neighbourhood.dot(fenotipos_probables).div(neighbourhood.sum(axis=1))\n",
    "score.sort_values(ascending = False, inplace = True)\n",
    "print(known_alelo_fenotipos)\n",
    "print(fenotipos_reportados_alelo)\n",
    "print(score.nlargest(50))"
   ]
  },
  {
   "cell_type": "code",
   "execution_count": 273,
   "metadata": {},
   "outputs": [
    {
     "data": {
      "text/plain": [
       "([0, 1, 2, 3, 4, 5, 6, 7, 8, 9, 10, 11, 12, 13, 14, 15, 16, 17, 18, 19],\n",
       " <a list of 20 Text xticklabel objects>)"
      ]
     },
     "execution_count": 273,
     "metadata": {},
     "output_type": "execute_result"
    },
    {
     "data": {
      "image/png": "[encoded data removed]",
      "text/plain": [
       "<Figure size 432x288 with 1 Axes>"
      ]
     },
     "metadata": {},
     "output_type": "display_data"
    }
   ],
   "source": [
    "plt.scatter(score.index, score.values)\n",
    "plt.xticks(rotation = 90)"
   ]
  },
  {
   "cell_type": "markdown",
   "metadata": {},
   "source": [
    "1. grafico de fenotipos vs score\n",
    "1. capacidad de priorizar dado \n",
    "1. Usar el paper de zhou\n",
    "\n",
    "\n",
    "MARTES - 5 min\n",
    "dimensión de los datos\n",
    "encuadrar el problema biológico o metodológico\n",
    "\n"
   ]
  },
  {
   "cell_type": "code",
   "execution_count": 274,
   "metadata": {},
   "outputs": [],
   "source": [
    "def indices_en_top_n(n, fenotipos_recomendados, fenotipos_usados_para_recomendar, fenotipos_conocidos):\n",
    "    n_0 = len(fenotipos_usados_para_recomendar)\n",
    "    fenotipos_recomendados = fenotipos_recomendados[n_0:n_0+n]\n",
    "    fenotipos_a_evaluar = [x for x in fenotipos_conocidos if x not in fenotipos_usados_para_recomendar]\n",
    "    indices = []\n",
    "    for fenotipo in fenotipos_a_evaluar:\n",
    "        print(fenotipo)\n",
    "        if fenotipo in fenotipos_recomendados:\n",
    "            indices.append(fenotipos_recomendados.index(fenotipo))\n",
    "        else:\n",
    "            indices.append(-1)\n",
    "    return indices"
   ]
  },
  {
   "cell_type": "code",
   "execution_count": 275,
   "metadata": {},
   "outputs": [
    {
     "name": "stdout",
     "output_type": "stream",
     "text": [
      "Mean corpuscular volume\n",
      "Mean corpuscular hemoglobin\n"
     ]
    },
    {
     "data": {
      "text/plain": [
       "[2, 3]"
      ]
     },
     "execution_count": 275,
     "metadata": {},
     "output_type": "execute_result"
    }
   ],
   "source": [
    "n = 20\n",
    "fenotipos_recomendados = list(score.index)\n",
    "fenotipos_usados_para_recomendar = known_alelo_fenotipos\n",
    "fenotipos_conocidos = fenotipos_reportados_alelo\n",
    "indices_en_top_n(n, fenotipos_recomendados, fenotipos_usados_para_recomendar, fenotipos_conocidos)"
   ]
  },
  {
   "cell_type": "code",
   "execution_count": null,
   "metadata": {},
   "outputs": [],
   "source": []
  },
  {
   "cell_type": "code",
   "execution_count": null,
   "metadata": {},
   "outputs": [],
   "source": []
  },
  {
   "cell_type": "code",
   "execution_count": null,
   "metadata": {},
   "outputs": [],
   "source": []
  },
  {
   "cell_type": "markdown",
   "metadata": {},
   "source": [
    "### Cosas para hacer\n",
    "\n",
    "1. Chequear sobre `categoria_fenotipo` que no sea trivial\n",
    "1. Agregar segunda forma de evaluación: borrando '1' de la matriz de train\n",
    "1. Chequear que al separar train y test no se rompa la red\n",
    "1. Metodizar la evaluación para obtener una métrica\n",
    "1. Chequear que no estemos cayendo en la parte \"fácil\" de la red --> ¿pregunta biológica?"
   ]
  },
  {
   "cell_type": "code",
   "execution_count": null,
   "metadata": {},
   "outputs": [],
   "source": []
  },
  {
   "cell_type": "code",
   "execution_count": null,
   "metadata": {},
   "outputs": [],
   "source": []
  },
  {
   "cell_type": "code",
   "execution_count": null,
   "metadata": {},
   "outputs": [],
   "source": []
  }
 ],
 "metadata": {
  "kernelspec": {
   "display_name": "Python 3",
   "language": "python",
   "name": "python3"
  },
  "language_info": {
   "codemirror_mode": {
    "name": "ipython",
    "version": 3
   },
   "file_extension": ".py",
   "mimetype": "text/x-python",
   "name": "python",
   "nbconvert_exporter": "python",
   "pygments_lexer": "ipython3",
   "version": "3.8.2"
  }
 },
 "nbformat": 4,
 "nbformat_minor": 4
}
