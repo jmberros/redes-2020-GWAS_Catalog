{
 "cells": [
  {
   "cell_type": "markdown",
   "metadata": {},
   "source": [
    "Vamos a armar la red completa con:\n",
    "    \n",
    "    * Genes y sus interacciones de StringDB (score > 0.8)\n",
    "    * Variantes y su mapeo en genes\n",
    "    * Fenotipos y sus asociaciones con variantes\n",
    "    * Categorías generales de fenotipos"
   ]
  },
  {
   "cell_type": "code",
   "execution_count": 86,
   "metadata": {},
   "outputs": [
    {
     "name": "stderr",
     "output_type": "stream",
     "text": [
      "/home/juan/miniconda3/lib/python3.7/site-packages/tqdm/std.py:658: FutureWarning: The Panel class is removed from pandas. Accessing it from the top-level namespace will also be removed in the next version\n",
      "  from pandas import Panel\n"
     ]
    },
    {
     "name": "stdout",
     "output_type": "stream",
     "text": [
      "112,626 asociaciones\n"
     ]
    },
    {
     "data": {
      "text/html": [
       "<div>\n",
       "<style scoped>\n",
       "    .dataframe tbody tr th:only-of-type {\n",
       "        vertical-align: middle;\n",
       "    }\n",
       "\n",
       "    .dataframe tbody tr th {\n",
       "        vertical-align: top;\n",
       "    }\n",
       "\n",
       "    .dataframe thead th {\n",
       "        text-align: right;\n",
       "    }\n",
       "</style>\n",
       "<table border=\"1\" class=\"dataframe\">\n",
       "  <thead>\n",
       "    <tr style=\"text-align: right;\">\n",
       "      <th></th>\n",
       "      <th>gen_mapeado_elegido</th>\n",
       "      <th>alelo_riesgo</th>\n",
       "      <th>fenotipo</th>\n",
       "      <th>categoria_fenotipo</th>\n",
       "    </tr>\n",
       "  </thead>\n",
       "  <tbody>\n",
       "    <tr>\n",
       "      <th>60359</th>\n",
       "      <td>NaN</td>\n",
       "      <td>rs61416196-A</td>\n",
       "      <td>Blood protein levels</td>\n",
       "      <td>Other measurement</td>\n",
       "    </tr>\n",
       "    <tr>\n",
       "      <th>92759</th>\n",
       "      <td>CEP350</td>\n",
       "      <td>rs7540856-C</td>\n",
       "      <td>Parental longevity (mother's age at death)</td>\n",
       "      <td>Other measurement</td>\n",
       "    </tr>\n",
       "    <tr>\n",
       "      <th>1537</th>\n",
       "      <td>SORCS3</td>\n",
       "      <td>rs1484246-?</td>\n",
       "      <td>General cognitive ability</td>\n",
       "      <td>Biological process</td>\n",
       "    </tr>\n",
       "    <tr>\n",
       "      <th>56063</th>\n",
       "      <td>NaN</td>\n",
       "      <td>rs72716801-G</td>\n",
       "      <td>Alcohol use disorder</td>\n",
       "      <td>Other measurement</td>\n",
       "    </tr>\n",
       "    <tr>\n",
       "      <th>82320</th>\n",
       "      <td>NaN</td>\n",
       "      <td>rs79757778-A</td>\n",
       "      <td>Lean body mass</td>\n",
       "      <td>Other measurement</td>\n",
       "    </tr>\n",
       "    <tr>\n",
       "      <th>34812</th>\n",
       "      <td>LINC01185</td>\n",
       "      <td>rs702873-G</td>\n",
       "      <td>Psoriasis</td>\n",
       "      <td>Immune system disorder</td>\n",
       "    </tr>\n",
       "    <tr>\n",
       "      <th>72963</th>\n",
       "      <td>NaN</td>\n",
       "      <td>rs36082259-T</td>\n",
       "      <td>Estimated glomerular filtration rate in non-diabetics</td>\n",
       "      <td>Other measurement</td>\n",
       "    </tr>\n",
       "    <tr>\n",
       "      <th>36566</th>\n",
       "      <td>HNF1A</td>\n",
       "      <td>rs2259816-?</td>\n",
       "      <td>C-reactive protein levels</td>\n",
       "      <td>Inflammatory measurement</td>\n",
       "    </tr>\n",
       "    <tr>\n",
       "      <th>4988</th>\n",
       "      <td>NaN</td>\n",
       "      <td>rs62422687-A</td>\n",
       "      <td>Intelligence (MTAG)</td>\n",
       "      <td>Biological process</td>\n",
       "    </tr>\n",
       "    <tr>\n",
       "      <th>81816</th>\n",
       "      <td>GRM8</td>\n",
       "      <td>rs73228917-T</td>\n",
       "      <td>Itch intensity from mosquito bite adjusted by bite size</td>\n",
       "      <td>Other measurement</td>\n",
       "    </tr>\n",
       "  </tbody>\n",
       "</table>\n",
       "</div>"
      ],
      "text/plain": [
       "      gen_mapeado_elegido  alelo_riesgo  \\\n",
       "60359                 NaN  rs61416196-A   \n",
       "92759              CEP350   rs7540856-C   \n",
       "1537               SORCS3   rs1484246-?   \n",
       "56063                 NaN  rs72716801-G   \n",
       "82320                 NaN  rs79757778-A   \n",
       "34812           LINC01185    rs702873-G   \n",
       "72963                 NaN  rs36082259-T   \n",
       "36566               HNF1A   rs2259816-?   \n",
       "4988                  NaN  rs62422687-A   \n",
       "81816                GRM8  rs73228917-T   \n",
       "\n",
       "                                                      fenotipo  \\\n",
       "60359                                     Blood protein levels   \n",
       "92759               Parental longevity (mother's age at death)   \n",
       "1537                                 General cognitive ability   \n",
       "56063                                     Alcohol use disorder   \n",
       "82320                                           Lean body mass   \n",
       "34812                                                Psoriasis   \n",
       "72963    Estimated glomerular filtration rate in non-diabetics   \n",
       "36566                                C-reactive protein levels   \n",
       "4988                                       Intelligence (MTAG)   \n",
       "81816  Itch intensity from mosquito bite adjusted by bite size   \n",
       "\n",
       "             categoria_fenotipo  \n",
       "60359         Other measurement  \n",
       "92759         Other measurement  \n",
       "1537         Biological process  \n",
       "56063         Other measurement  \n",
       "82320         Other measurement  \n",
       "34812    Immune system disorder  \n",
       "72963         Other measurement  \n",
       "36566  Inflammatory measurement  \n",
       "4988         Biological process  \n",
       "81816         Other measurement  "
      ]
     },
     "execution_count": 86,
     "metadata": {},
     "output_type": "execute_result"
    }
   ],
   "source": [
    "%run imports.py\n",
    "%run leer_red.py\n",
    "\n",
    "assoc = leer_red_df()\n",
    "print(f\"{len(assoc):,} asociaciones\")\n",
    "\n",
    "assoc.sample(10)"
   ]
  },
  {
   "cell_type": "code",
   "execution_count": 23,
   "metadata": {},
   "outputs": [
    {
     "name": "stdout",
     "output_type": "stream",
     "text": [
      "results/lista_de_fenotipos.csv\n",
      "-rw-r--r-- 1 juan juan 152K Jul 16 16:50 results/lista_de_fenotipos.csv\n"
     ]
    }
   ],
   "source": [
    "# Escribo un archivo de fenotipos para elegir a mano\n",
    "fp = \"results/lista_de_fenotipos.csv\"\n",
    "\n",
    "assoc.fenotipo.value_counts().to_csv(fp, index=True, header=False)\n",
    "print(fp)\n",
    "!ls -lh $fp"
   ]
  },
  {
   "cell_type": "code",
   "execution_count": 2,
   "metadata": {},
   "outputs": [
    {
     "name": "stdout",
     "output_type": "stream",
     "text": [
      "383,408 links entre proteínas\n"
     ]
    },
    {
     "data": {
      "text/html": [
       "<div>\n",
       "<style scoped>\n",
       "    .dataframe tbody tr th:only-of-type {\n",
       "        vertical-align: middle;\n",
       "    }\n",
       "\n",
       "    .dataframe tbody tr th {\n",
       "        vertical-align: top;\n",
       "    }\n",
       "\n",
       "    .dataframe thead th {\n",
       "        text-align: right;\n",
       "    }\n",
       "</style>\n",
       "<table border=\"1\" class=\"dataframe\">\n",
       "  <thead>\n",
       "    <tr style=\"text-align: right;\">\n",
       "      <th></th>\n",
       "      <th>protein_1</th>\n",
       "      <th>protein_2</th>\n",
       "    </tr>\n",
       "  </thead>\n",
       "  <tbody>\n",
       "    <tr>\n",
       "      <th>92011</th>\n",
       "      <td>PLA2G7</td>\n",
       "      <td>APOB</td>\n",
       "    </tr>\n",
       "    <tr>\n",
       "      <th>72570</th>\n",
       "      <td>COPS4</td>\n",
       "      <td>CUL3</td>\n",
       "    </tr>\n",
       "    <tr>\n",
       "      <th>64373</th>\n",
       "      <td>MAPK3</td>\n",
       "      <td>MPRIP</td>\n",
       "    </tr>\n",
       "    <tr>\n",
       "      <th>178445</th>\n",
       "      <td>PPP2R5E</td>\n",
       "      <td>PSMA3</td>\n",
       "    </tr>\n",
       "    <tr>\n",
       "      <th>261393</th>\n",
       "      <td>TPM2</td>\n",
       "      <td>MYLK</td>\n",
       "    </tr>\n",
       "  </tbody>\n",
       "</table>\n",
       "</div>"
      ],
      "text/plain": [
       "       protein_1 protein_2\n",
       "92011     PLA2G7      APOB\n",
       "72570      COPS4      CUL3\n",
       "64373      MAPK3     MPRIP\n",
       "178445   PPP2R5E     PSMA3\n",
       "261393      TPM2      MYLK"
      ]
     },
     "execution_count": 2,
     "metadata": {},
     "output_type": "execute_result"
    }
   ],
   "source": [
    "prot_links = pd.read_table(\"results/prot_links.stringdb.tsv.gz\")\n",
    "print(f\"{len(prot_links):,} links entre proteínas\")\n",
    "\n",
    "prot_links.sample(5)"
   ]
  },
  {
   "cell_type": "code",
   "execution_count": 3,
   "metadata": {},
   "outputs": [
    {
     "name": "stdout",
     "output_type": "stream",
     "text": [
      "113,010 nodos en la red\n"
     ]
    }
   ],
   "source": [
    "# * Genes y sus interacciones de StringDB (score > 0.8)\n",
    "enlaces_gen_gen = zip(prot_links.protein_1, prot_links.protein_2)\n",
    "\n",
    "# * Variantes y su mapeo en genes\n",
    "enlaces_variante_gen = (\n",
    "    assoc[[\"gen_mapeado_elegido\", \"alelo_riesgo\"]]   \n",
    "    .dropna()\n",
    "    .drop_duplicates()\n",
    "    .set_index(\"alelo_riesgo\")\n",
    "    .gen_mapeado_elegido\n",
    "    .items()\n",
    ")\n",
    "\n",
    "# * Fenotipos y sus asociaciones con variantes\n",
    "enlaces_variante_fenotipo = (\n",
    "    assoc[[\"alelo_riesgo\", \"fenotipo\"]]\n",
    "    .dropna()\n",
    "    .drop_duplicates()\n",
    "    .set_index(\"alelo_riesgo\")\n",
    "    .fenotipo\n",
    "    .items()\n",
    ")\n",
    "    \n",
    "# * Categorías generales de fenotipos\n",
    "enlaces_fenotipo_categoria = (\n",
    "    assoc[[\"fenotipo\", \"categoria_fenotipo\"]]\n",
    "    .dropna()\n",
    "    .drop_duplicates()\n",
    "    .set_index(\"fenotipo\")\n",
    "    .categoria_fenotipo\n",
    "    .items()\n",
    ")\n",
    "\n",
    "red = nx.Graph()\n",
    "\n",
    "red.add_edges_from(enlaces_gen_gen, tipo=\"PPI\")\n",
    "red.add_edges_from(enlaces_variante_gen, tipo=\"mapeo\")\n",
    "red.add_edges_from(enlaces_variante_fenotipo, tipo=\"asociacion\")\n",
    "red.add_edges_from(enlaces_fenotipo_categoria, tipo=\"ontologia\")\n",
    "\n",
    "print(f\"{len(red):,} nodos en la red\")"
   ]
  },
  {
   "cell_type": "code",
   "execution_count": 4,
   "metadata": {},
   "outputs": [
    {
     "name": "stdout",
     "output_type": "stream",
     "text": [
      "15,988 genes observados\n"
     ]
    }
   ],
   "source": [
    "genes_observados = set(prot_links.protein_1) | set(prot_links.protein_2) | set(assoc.gen_mapeado_elegido.dropna())\n",
    "print(f\"{len(genes_observados):,} genes observados\")\n",
    "\n",
    "tipos_de_nodo = dict(\n",
    "    [(item, \"gen\") for item in genes_observados] +\n",
    "    [(item, \"alelo\") for item in assoc.alelo_riesgo] +\n",
    "    [(item, \"fenotipo\") for item in assoc.fenotipo] +\n",
    "    [(item, \"categoria_fenotipo\") for item in assoc.categoria_fenotipo]\n",
    ")\n",
    "\n",
    "nx.set_node_attributes(red, tipos_de_nodo, name=\"tipo\")"
   ]
  },
  {
   "cell_type": "code",
   "execution_count": 72,
   "metadata": {},
   "outputs": [
    {
     "name": "stdout",
     "output_type": "stream",
     "text": [
      "results/red_completa.gml\n",
      "-rw-r--r-- 1 juan juan 29M Jul  7 19:50 results/red_completa.gml\n"
     ]
    }
   ],
   "source": [
    "fp = \"results/red_completa.gml\" \n",
    "nx.write_gml(red, fp)\n",
    "\n",
    "print(fp)\n",
    "!ls -lh $fp"
   ]
  },
  {
   "cell_type": "markdown",
   "metadata": {},
   "source": [
    "## Sub-redes más chicas para que el problema sea tratable\n",
    "\n",
    "La red completa ocupa decenas de gigas en RAM al transformarla en matriz. Vamos a generar unas subredes más tratables."
   ]
  },
  {
   "cell_type": "code",
   "execution_count": 90,
   "metadata": {},
   "outputs": [
    {
     "name": "stdout",
     "output_type": "stream",
     "text": [
      "\n",
      "--- TODAS ---\n",
      "\n",
      "Other measurement                   49746\n",
      "Hematological measurement            8297\n",
      "Neurological disorder                5653\n",
      "Biological process                   5634\n",
      "Cancer                               5070\n",
      "Body measurement                     4815\n",
      "Lipid or lipoprotein measurement     4655\n",
      "Other trait                          4599\n",
      "Other disease                        3923\n",
      "Response to drug                     3670\n",
      "Immune system disorder               2880\n",
      "Cardiovascular measurement           2799\n",
      "Cardiovascular disease               2782\n",
      "Neuro/Cogni/Emo                      2257\n",
      "Metabolic disorder                   2236\n",
      "Digestive system disorder            1725\n",
      "Inflammatory measurement             1499\n",
      "Liver enzyme measurement              321\n",
      "Name: categoria_fenotipo, dtype: int64\n",
      "\n",
      "--- ELEGIDAS ---\n",
      "\n",
      "Neurological disorder        5653\n",
      "Cancer                       5070\n",
      "Immune system disorder       2880\n",
      "Cardiovascular disease       2782\n",
      "Neuro/Cogni/Emo              2257\n",
      "Metabolic disorder           2236\n",
      "Digestive system disorder    1725\n",
      "Name: categoria_fenotipo, dtype: int64\n"
     ]
    }
   ],
   "source": [
    "# Estos fenos nos parecen interesantes pero estaban categorizados de manera\n",
    "# muy general, bajo \"Biological Process\" (bolsa de gatos). Los elegimos a mano:\n",
    "fenos_mentales = [\n",
    "    \"General cognitive ability\",\n",
    "    \"Intelligence (MTAG)\",\n",
    "    \"Adventurousness\",\n",
    "    \"Automobile speeding propensity\",\n",
    "    \"Morning vs. evening chronotype\",\n",
    "    \"Suicide attempts\",\n",
    "    \"Self-reported risk-taking behaviour\",\n",
    "    \"Word reading\",\n",
    "    \"Extremely high intelligence\",\n",
    "]\n",
    "\n",
    "es_feno_mental = assoc.fenotipo.isin(fenos_mentales)\n",
    "assoc.loc[es_feno_mental, \"categoria_fenotipo\"] = \"Neuro/Cogni/Emo\"\n",
    "\n",
    "categorias_interesantes = [\n",
    "    \"Neurological disorder\",\n",
    "    \"Cancer\",\n",
    "    \"Cardiovascular disease\",\n",
    "    \"Immune system disorder\",\n",
    "    \"Metabolic disorder\",\n",
    "    \"Digestive system disorder\",\n",
    "    \"Neuro/Cogni/Emo\"\n",
    "]\n",
    "\n",
    "es_categoria_interesante = assoc.categoria_fenotipo.isin(categorias_interesantes)\n",
    "assoc_elegidas = assoc[es_categoria_interesante]\n",
    "assoc_a_descartar = assoc[~assoc.index.isin(assoc_elegidas.index)]\n",
    "\n",
    "print(\"\\n\" + \"--- TODAS ---\" + \"\\n\")\n",
    "print(assoc.categoria_fenotipo.value_counts())\n",
    "print(\"\\n\" + \"--- ELEGIDAS ---\" + \"\\n\")\n",
    "print(assoc_elegidas.categoria_fenotipo.value_counts())"
   ]
  },
  {
   "cell_type": "code",
   "execution_count": 91,
   "metadata": {},
   "outputs": [
    {
     "name": "stdout",
     "output_type": "stream",
     "text": [
      "113,010 nodos en la red completa\n",
      "35,112 nodos en la subred\n",
      "results/subred.gml\n",
      "-rw-r--r-- 1 juan juan 16M Jul 19 18:49 results/subred.gml\n",
      "results/subred.tsv\n",
      "-rw-r--r-- 1 juan juan 1.4M Jul 19 18:49 results/subred.tsv\n"
     ]
    }
   ],
   "source": [
    "subred = red.copy()\n",
    "\n",
    "# Primero quitamos los fenotipos y categorías no elegidas.\n",
    "subred.remove_nodes_from(assoc_a_descartar.fenotipo)\n",
    "\n",
    "# Luego los alelos que no estén asociados a esos fenotipos.\n",
    "alelos_a_descartar = assoc.alelo_riesgo[~assoc.alelo_riesgo.isin(assoc_elegidas.alelo_riesgo)]\n",
    "subred.remove_nodes_from(alelos_a_descartar)\n",
    "\n",
    "# No descartamos genes porque forman parte de la red de PPI y pueden influir\n",
    "# indirectamente en el label spreading, aun sin estar conectados directamente\n",
    "# a un alelo con asociación.\n",
    "\n",
    "nodos_CG = max(nx.connected_components(subred), key=len)\n",
    "subred_CG = nx.subgraph(subred, nodos_CG)\n",
    "\n",
    "print(f\"{len(red):,} nodos en la red completa\")\n",
    "print(f\"{len(subred_CG):,} nodos en la subred\")\n",
    "\n",
    "fp = \"results/subred.gml\"\n",
    "nx.write_gml(subred, fp)\n",
    "print(fp)\n",
    "!ls -lh $fp\n",
    "\n",
    "fp = \"results/subred.tsv\"\n",
    "assoc_elegidas.to_csv(fp, sep=\"\\t\", index=False)\n",
    "print(fp)\n",
    "!ls -lh $fp"
   ]
  },
  {
   "cell_type": "code",
   "execution_count": null,
   "metadata": {},
   "outputs": [],
   "source": []
  },
  {
   "cell_type": "code",
   "execution_count": null,
   "metadata": {},
   "outputs": [],
   "source": []
  },
  {
   "cell_type": "code",
   "execution_count": null,
   "metadata": {},
   "outputs": [],
   "source": []
  },
  {
   "cell_type": "code",
   "execution_count": null,
   "metadata": {},
   "outputs": [],
   "source": []
  },
  {
   "cell_type": "code",
   "execution_count": null,
   "metadata": {},
   "outputs": [],
   "source": []
  },
  {
   "cell_type": "code",
   "execution_count": null,
   "metadata": {},
   "outputs": [],
   "source": []
  },
  {
   "cell_type": "code",
   "execution_count": null,
   "metadata": {},
   "outputs": [],
   "source": []
  },
  {
   "cell_type": "code",
   "execution_count": null,
   "metadata": {},
   "outputs": [],
   "source": []
  },
  {
   "cell_type": "code",
   "execution_count": null,
   "metadata": {},
   "outputs": [],
   "source": []
  },
  {
   "cell_type": "code",
   "execution_count": null,
   "metadata": {},
   "outputs": [],
   "source": []
  },
  {
   "cell_type": "code",
   "execution_count": null,
   "metadata": {},
   "outputs": [],
   "source": []
  },
  {
   "cell_type": "code",
   "execution_count": null,
   "metadata": {},
   "outputs": [],
   "source": []
  },
  {
   "cell_type": "code",
   "execution_count": null,
   "metadata": {},
   "outputs": [],
   "source": []
  },
  {
   "cell_type": "code",
   "execution_count": null,
   "metadata": {},
   "outputs": [],
   "source": []
  },
  {
   "cell_type": "code",
   "execution_count": null,
   "metadata": {},
   "outputs": [],
   "source": []
  },
  {
   "cell_type": "code",
   "execution_count": null,
   "metadata": {},
   "outputs": [],
   "source": []
  }
 ],
 "metadata": {
  "kernelspec": {
   "display_name": "Python 3",
   "language": "python",
   "name": "python3"
  },
  "language_info": {
   "codemirror_mode": {
    "name": "ipython",
    "version": 3
   },
   "file_extension": ".py",
   "mimetype": "text/x-python",
   "name": "python",
   "nbconvert_exporter": "python",
   "pygments_lexer": "ipython3",
   "version": "3.7.6"
  }
 },
 "nbformat": 4,
 "nbformat_minor": 4
}
