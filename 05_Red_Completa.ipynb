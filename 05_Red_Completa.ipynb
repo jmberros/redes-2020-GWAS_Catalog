{
 "cells": [
  {
   "cell_type": "markdown",
   "metadata": {},
   "source": [
    "Vamos a armar la red completa con:\n",
    "    \n",
    "    * Genes y sus interacciones de StringDB (score > 0.8)\n",
    "    * Variantes y su mapeo en genes\n",
    "    * Fenotipos y sus asociaciones con variantes\n",
    "    * Categorías generales de fenotipos"
   ]
  },
  {
   "cell_type": "code",
   "execution_count": 48,
   "metadata": {},
   "outputs": [
    {
     "name": "stdout",
     "output_type": "stream",
     "text": [
      "112,626 asociaciones\n"
     ]
    },
    {
     "data": {
      "text/html": [
       "<div>\n",
       "<style scoped>\n",
       "    .dataframe tbody tr th:only-of-type {\n",
       "        vertical-align: middle;\n",
       "    }\n",
       "\n",
       "    .dataframe tbody tr th {\n",
       "        vertical-align: top;\n",
       "    }\n",
       "\n",
       "    .dataframe thead th {\n",
       "        text-align: right;\n",
       "    }\n",
       "</style>\n",
       "<table border=\"1\" class=\"dataframe\">\n",
       "  <thead>\n",
       "    <tr style=\"text-align: right;\">\n",
       "      <th></th>\n",
       "      <th>gen_mapeado_elegido</th>\n",
       "      <th>alelo_riesgo</th>\n",
       "      <th>fenotipo</th>\n",
       "      <th>categoria_fenotipo</th>\n",
       "    </tr>\n",
       "  </thead>\n",
       "  <tbody>\n",
       "    <tr>\n",
       "      <th>72352</th>\n",
       "      <td>DEPTOR</td>\n",
       "      <td>rs79346194-A</td>\n",
       "      <td>Estimated glomerular filtration rate</td>\n",
       "      <td>Other measurement</td>\n",
       "    </tr>\n",
       "    <tr>\n",
       "      <th>74820</th>\n",
       "      <td>NaN</td>\n",
       "      <td>rs1366594-A</td>\n",
       "      <td>Femoral neck bone mineral density</td>\n",
       "      <td>Other measurement</td>\n",
       "    </tr>\n",
       "    <tr>\n",
       "      <th>6584</th>\n",
       "      <td>SDK1</td>\n",
       "      <td>rs959894-A</td>\n",
       "      <td>Self-reported math ability (MTAG)</td>\n",
       "      <td>Biological process</td>\n",
       "    </tr>\n",
       "    <tr>\n",
       "      <th>89096</th>\n",
       "      <td>VARS</td>\n",
       "      <td>rs3115670-T</td>\n",
       "      <td>Mosquito bite size</td>\n",
       "      <td>Other measurement</td>\n",
       "    </tr>\n",
       "    <tr>\n",
       "      <th>59002</th>\n",
       "      <td>MGAT5</td>\n",
       "      <td>rs62165726-A</td>\n",
       "      <td>Blood protein levels</td>\n",
       "      <td>Other measurement</td>\n",
       "    </tr>\n",
       "    <tr>\n",
       "      <th>7415</th>\n",
       "      <td>RUNX1T1</td>\n",
       "      <td>rs6986430-C</td>\n",
       "      <td>Smoking initiation (ever regular vs never regular)</td>\n",
       "      <td>Biological process</td>\n",
       "    </tr>\n",
       "    <tr>\n",
       "      <th>28043</th>\n",
       "      <td>STEAP1B</td>\n",
       "      <td>rs76659285-?</td>\n",
       "      <td>Mean corpuscular hemoglobin</td>\n",
       "      <td>Hematological measurement</td>\n",
       "    </tr>\n",
       "    <tr>\n",
       "      <th>83374</th>\n",
       "      <td>EEFSEC</td>\n",
       "      <td>rs2811415-G</td>\n",
       "      <td>Lung function (FEV1/FVC)</td>\n",
       "      <td>Other measurement</td>\n",
       "    </tr>\n",
       "    <tr>\n",
       "      <th>6948</th>\n",
       "      <td>NaN</td>\n",
       "      <td>rs7156431-C</td>\n",
       "      <td>Self-reported math ability (MTAG)</td>\n",
       "      <td>Biological process</td>\n",
       "    </tr>\n",
       "    <tr>\n",
       "      <th>81586</th>\n",
       "      <td>ARNTL</td>\n",
       "      <td>rs6486121-T</td>\n",
       "      <td>Iron status biomarkers (transferrin levels)</td>\n",
       "      <td>Other measurement</td>\n",
       "    </tr>\n",
       "  </tbody>\n",
       "</table>\n",
       "</div>"
      ],
      "text/plain": [
       "      gen_mapeado_elegido  alelo_riesgo  \\\n",
       "72352              DEPTOR  rs79346194-A   \n",
       "74820                 NaN   rs1366594-A   \n",
       "6584                 SDK1    rs959894-A   \n",
       "89096                VARS   rs3115670-T   \n",
       "59002               MGAT5  rs62165726-A   \n",
       "7415              RUNX1T1   rs6986430-C   \n",
       "28043             STEAP1B  rs76659285-?   \n",
       "83374              EEFSEC   rs2811415-G   \n",
       "6948                  NaN   rs7156431-C   \n",
       "81586               ARNTL   rs6486121-T   \n",
       "\n",
       "                                                 fenotipo  \\\n",
       "72352                Estimated glomerular filtration rate   \n",
       "74820                   Femoral neck bone mineral density   \n",
       "6584                    Self-reported math ability (MTAG)   \n",
       "89096                                  Mosquito bite size   \n",
       "59002                                Blood protein levels   \n",
       "7415   Smoking initiation (ever regular vs never regular)   \n",
       "28043                         Mean corpuscular hemoglobin   \n",
       "83374                            Lung function (FEV1/FVC)   \n",
       "6948                    Self-reported math ability (MTAG)   \n",
       "81586         Iron status biomarkers (transferrin levels)   \n",
       "\n",
       "              categoria_fenotipo  \n",
       "72352          Other measurement  \n",
       "74820          Other measurement  \n",
       "6584          Biological process  \n",
       "89096          Other measurement  \n",
       "59002          Other measurement  \n",
       "7415          Biological process  \n",
       "28043  Hematological measurement  \n",
       "83374          Other measurement  \n",
       "6948          Biological process  \n",
       "81586          Other measurement  "
      ]
     },
     "execution_count": 48,
     "metadata": {},
     "output_type": "execute_result"
    }
   ],
   "source": [
    "%run imports.py\n",
    "\n",
    "columnas = [\n",
    "    \"gen_mapeado_elegido\",\n",
    "    \"alelo_riesgo\",\n",
    "    # \"OR_or_beta\",\n",
    "    \"fenotipo\",\n",
    "    \"categoria_fenotipo\"\n",
    "]\n",
    "\n",
    "assoc = pd.read_table(\"results/gwas_cat.filtrado.tsv.gz\", usecols=columnas)[columnas]\n",
    "assoc = assoc.sort_values(by=[\"categoria_fenotipo\", \"fenotipo\", \"gen_mapeado_elegido\"])\n",
    "assoc = assoc.reset_index(drop=True)\n",
    "\n",
    "print(f\"{len(assoc):,} asociaciones\")\n",
    "\n",
    "assoc.sample(10)"
   ]
  },
  {
   "cell_type": "code",
   "execution_count": 49,
   "metadata": {},
   "outputs": [
    {
     "name": "stdout",
     "output_type": "stream",
     "text": [
      "383,408 links entre proteínas\n"
     ]
    },
    {
     "data": {
      "text/html": [
       "<div>\n",
       "<style scoped>\n",
       "    .dataframe tbody tr th:only-of-type {\n",
       "        vertical-align: middle;\n",
       "    }\n",
       "\n",
       "    .dataframe tbody tr th {\n",
       "        vertical-align: top;\n",
       "    }\n",
       "\n",
       "    .dataframe thead th {\n",
       "        text-align: right;\n",
       "    }\n",
       "</style>\n",
       "<table border=\"1\" class=\"dataframe\">\n",
       "  <thead>\n",
       "    <tr style=\"text-align: right;\">\n",
       "      <th></th>\n",
       "      <th>protein_1</th>\n",
       "      <th>protein_2</th>\n",
       "    </tr>\n",
       "  </thead>\n",
       "  <tbody>\n",
       "    <tr>\n",
       "      <th>374976</th>\n",
       "      <td>CLTC</td>\n",
       "      <td>PACSIN2</td>\n",
       "    </tr>\n",
       "    <tr>\n",
       "      <th>378210</th>\n",
       "      <td>DDX24</td>\n",
       "      <td>NSA2</td>\n",
       "    </tr>\n",
       "    <tr>\n",
       "      <th>162446</th>\n",
       "      <td>SRSF7</td>\n",
       "      <td>NUDT21</td>\n",
       "    </tr>\n",
       "    <tr>\n",
       "      <th>216853</th>\n",
       "      <td>PSMB5</td>\n",
       "      <td>PSMD14</td>\n",
       "    </tr>\n",
       "    <tr>\n",
       "      <th>265206</th>\n",
       "      <td>SIN3B</td>\n",
       "      <td>SAP30BP</td>\n",
       "    </tr>\n",
       "  </tbody>\n",
       "</table>\n",
       "</div>"
      ],
      "text/plain": [
       "       protein_1 protein_2\n",
       "374976      CLTC   PACSIN2\n",
       "378210     DDX24      NSA2\n",
       "162446     SRSF7    NUDT21\n",
       "216853     PSMB5    PSMD14\n",
       "265206     SIN3B   SAP30BP"
      ]
     },
     "execution_count": 49,
     "metadata": {},
     "output_type": "execute_result"
    }
   ],
   "source": [
    "prot_links = pd.read_table(\"results/prot_links.stringdb.tsv.gz\")\n",
    "print(f\"{len(prot_links):,} links entre proteínas\")\n",
    "\n",
    "prot_links.sample(5)"
   ]
  },
  {
   "cell_type": "code",
   "execution_count": 50,
   "metadata": {},
   "outputs": [
    {
     "name": "stdout",
     "output_type": "stream",
     "text": [
      "113,010 nodos en la red\n"
     ]
    }
   ],
   "source": [
    "# * Genes y sus interacciones de StringDB (score > 0.8)\n",
    "enlaces_gen_gen = zip(prot_links.protein_1, prot_links.protein_2)\n",
    "\n",
    "# * Variantes y su mapeo en genes\n",
    "enlaces_variante_gen = (\n",
    "    assoc[[\"gen_mapeado_elegido\", \"alelo_riesgo\"]]   \n",
    "    .dropna()\n",
    "    .drop_duplicates()\n",
    "    .set_index(\"alelo_riesgo\")\n",
    "    .gen_mapeado_elegido\n",
    "    .items()\n",
    ")\n",
    "\n",
    "# * Fenotipos y sus asociaciones con variantes\n",
    "enlaces_variante_fenotipo = (\n",
    "    assoc[[\"alelo_riesgo\", \"fenotipo\"]]\n",
    "    .dropna()\n",
    "    .drop_duplicates()\n",
    "    .set_index(\"alelo_riesgo\")\n",
    "    .fenotipo\n",
    "    .items()\n",
    ")\n",
    "    \n",
    "# * Categorías generales de fenotipos\n",
    "enlaces_fenotipo_categoria = (\n",
    "    assoc[[\"fenotipo\", \"categoria_fenotipo\"]]\n",
    "    .dropna()\n",
    "    .drop_duplicates()\n",
    "    .set_index(\"fenotipo\")\n",
    "    .categoria_fenotipo\n",
    "    .items()\n",
    ")\n",
    "\n",
    "red = nx.Graph()\n",
    "\n",
    "red.add_edges_from(enlaces_gen_gen, tipo=\"PPI\")\n",
    "red.add_edges_from(enlaces_variante_gen, tipo=\"mapeo\")\n",
    "red.add_edges_from(enlaces_variante_fenotipo, tipo=\"asociacion\")\n",
    "red.add_edges_from(enlaces_fenotipo_categoria, tipo=\"ontologia\")\n",
    "\n",
    "print(f\"{len(red):,} nodos en la red\")"
   ]
  },
  {
   "cell_type": "code",
   "execution_count": 70,
   "metadata": {},
   "outputs": [
    {
     "name": "stdout",
     "output_type": "stream",
     "text": [
      "15,988 genes observados\n"
     ]
    }
   ],
   "source": [
    "genes_observados = set(prot_links.protein_1) | set(prot_links.protein_2) | set(assoc.gen_mapeado_elegido.dropna())\n",
    "print(f\"{len(genes_observados):,} genes observados\")\n",
    "\n",
    "tipos_de_nodo = dict(\n",
    "    [(item, \"gen\") for item in genes_observados] +\n",
    "    [(item, \"alelo\") for item in assoc.alelo_riesgo] +\n",
    "    [(item, \"fenotipo\") for item in assoc.fenotipo] +\n",
    "    [(item, \"categoria_fenotipo\") for item in assoc.categoria_fenotipo]\n",
    ")\n",
    "\n",
    "nx.set_node_attributes(red, tipos_de_nodo, name=\"tipo\")"
   ]
  },
  {
   "cell_type": "code",
   "execution_count": 72,
   "metadata": {},
   "outputs": [
    {
     "name": "stdout",
     "output_type": "stream",
     "text": [
      "results/red_completa.gml\n",
      "-rw-r--r-- 1 juan juan 29M Jul  7 19:50 results/red_completa.gml\n"
     ]
    }
   ],
   "source": [
    "fp = \"results/red_completa.gml\" \n",
    "nx.write_gml(red, fp)\n",
    "\n",
    "print(fp)\n",
    "!ls -lh $fp"
   ]
  },
  {
   "cell_type": "code",
   "execution_count": null,
   "metadata": {},
   "outputs": [],
   "source": []
  },
  {
   "cell_type": "code",
   "execution_count": null,
   "metadata": {},
   "outputs": [],
   "source": []
  },
  {
   "cell_type": "code",
   "execution_count": null,
   "metadata": {},
   "outputs": [],
   "source": []
  },
  {
   "cell_type": "code",
   "execution_count": null,
   "metadata": {},
   "outputs": [],
   "source": []
  },
  {
   "cell_type": "code",
   "execution_count": null,
   "metadata": {},
   "outputs": [],
   "source": []
  },
  {
   "cell_type": "code",
   "execution_count": null,
   "metadata": {},
   "outputs": [],
   "source": []
  },
  {
   "cell_type": "code",
   "execution_count": null,
   "metadata": {},
   "outputs": [],
   "source": []
  },
  {
   "cell_type": "code",
   "execution_count": null,
   "metadata": {},
   "outputs": [],
   "source": []
  }
 ],
 "metadata": {
  "kernelspec": {
   "display_name": "Python 3",
   "language": "python",
   "name": "python3"
  },
  "language_info": {
   "codemirror_mode": {
    "name": "ipython",
    "version": 3
   },
   "file_extension": ".py",
   "mimetype": "text/x-python",
   "name": "python",
   "nbconvert_exporter": "python",
   "pygments_lexer": "ipython3",
   "version": "3.6.5"
  }
 },
 "nbformat": 4,
 "nbformat_minor": 2
}
